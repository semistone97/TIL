{
 "cells": [
  {
   "cell_type": "code",
   "execution_count": 2,
   "id": "8c8201ec",
   "metadata": {},
   "outputs": [
    {
     "name": "stdout",
     "output_type": "stream",
     "text": [
      "\n"
     ]
    }
   ],
   "source": [
    "# 사용자로부터 입력받은 문자열을 두 번 출력하라. 아래는 사용자가 \"안녕하세요\"를 입력한 경우의 출력 결과이다.\n",
    "doubleit = input(\"what you want: \")\n",
    "print(doubleit * 2)\n"
   ]
  },
  {
   "cell_type": "code",
   "execution_count": 4,
   "id": "a604b66c",
   "metadata": {},
   "outputs": [
    {
     "ename": "ValueError",
     "evalue": "invalid literal for int() with base 10: ''",
     "output_type": "error",
     "traceback": [
      "\u001b[31m---------------------------------------------------------------------------\u001b[39m",
      "\u001b[31mValueError\u001b[39m                                Traceback (most recent call last)",
      "\u001b[36mCell\u001b[39m\u001b[36m \u001b[39m\u001b[32mIn[4]\u001b[39m\u001b[32m, line 2\u001b[39m\n\u001b[32m      1\u001b[39m \u001b[38;5;66;03m# 사용자로부터 하나의 숫자를 입력받고, 입력 받은 숫자에 10을 더해 출력하라.\u001b[39;00m\n\u001b[32m----> \u001b[39m\u001b[32m2\u001b[39m num = \u001b[38;5;28;43mint\u001b[39;49m\u001b[43m(\u001b[49m\u001b[38;5;28;43minput\u001b[39;49m\u001b[43m(\u001b[49m\u001b[33;43m\"\u001b[39;49m\u001b[33;43mipryeok: \u001b[39;49m\u001b[33;43m\"\u001b[39;49m\u001b[43m)\u001b[49m\u001b[43m)\u001b[49m\n\u001b[32m      3\u001b[39m \u001b[38;5;28mprint\u001b[39m(num+\u001b[32m10\u001b[39m)\n",
      "\u001b[31mValueError\u001b[39m: invalid literal for int() with base 10: ''"
     ]
    }
   ],
   "source": [
    "# 사용자로부터 하나의 숫자를 입력받고, 입력 받은 숫자에 10을 더해 출력하라.\n",
    "num = int(input(\"ipryeok: \"))\n",
    "print(num+10)"
   ]
  },
  {
   "cell_type": "code",
   "execution_count": null,
   "id": "2d1780dc",
   "metadata": {},
   "outputs": [
    {
     "ename": "ValueError",
     "evalue": "invalid literal for int() with base 10: ''",
     "output_type": "error",
     "traceback": [
      "\u001b[31m---------------------------------------------------------------------------\u001b[39m",
      "\u001b[31mValueError\u001b[39m                                Traceback (most recent call last)",
      "\u001b[36mCell\u001b[39m\u001b[36m \u001b[39m\u001b[32mIn[7]\u001b[39m\u001b[32m, line 2\u001b[39m\n\u001b[32m      1\u001b[39m \u001b[38;5;66;03m# 사용자로부터 하나의 숫자를 입력 받고 짝수/홀수를 판별하라.\u001b[39;00m\n\u001b[32m----> \u001b[39m\u001b[32m2\u001b[39m num = \u001b[38;5;28;43mint\u001b[39;49m\u001b[43m(\u001b[49m\u001b[38;5;28;43minput\u001b[39;49m\u001b[43m(\u001b[49m\u001b[33;43m\"\u001b[39;49m\u001b[33;43mipryeok: \u001b[39;49m\u001b[33;43m\"\u001b[39;49m\u001b[43m)\u001b[49m\u001b[43m)\u001b[49m\n\u001b[32m      3\u001b[39m oe = \u001b[33m\"\u001b[39m\u001b[33mhorse\u001b[39m\u001b[33m\"\u001b[39m \u001b[38;5;28;01mif\u001b[39;00m num % \u001b[32m2\u001b[39m \u001b[38;5;28;01melse\u001b[39;00m \u001b[33m\"\u001b[39m\u001b[33mjax\u001b[39m\u001b[33m\"\u001b[39m\n\u001b[32m      4\u001b[39m \u001b[38;5;28mprint\u001b[39m(oe)\n",
      "\u001b[31mValueError\u001b[39m: invalid literal for int() with base 10: ''"
     ]
    }
   ],
   "source": [
    "# 사용자로부터 하나의 숫자를 입력 받고 짝수/홀수를 판별하라.\n",
    "num = int(input(\"ipryeok: \"))\n",
    "oe = \"horse\" if num % 2 else \"jax\"\n",
    "print(oe)"
   ]
  },
  {
   "cell_type": "code",
   "execution_count": 11,
   "id": "728bbac5",
   "metadata": {},
   "outputs": [
    {
     "ename": "ValueError",
     "evalue": "invalid literal for int() with base 10: ''",
     "output_type": "error",
     "traceback": [
      "\u001b[31m---------------------------------------------------------------------------\u001b[39m",
      "\u001b[31mValueError\u001b[39m                                Traceback (most recent call last)",
      "\u001b[36mCell\u001b[39m\u001b[36m \u001b[39m\u001b[32mIn[11]\u001b[39m\u001b[32m, line 2\u001b[39m\n\u001b[32m      1\u001b[39m \u001b[38;5;66;03m# 사용자로부터 값을 입력받은 후 해당 값에 20을 더한 값을 출력하라. 단 사용자가 입력한 값과 20을 더한 계산 값이 255를 초과하는 경우 255를 출력해야 한다.\u001b[39;00m\n\u001b[32m----> \u001b[39m\u001b[32m2\u001b[39m num = \u001b[38;5;28;43mint\u001b[39;49m\u001b[43m(\u001b[49m\u001b[38;5;28;43minput\u001b[39;49m\u001b[43m(\u001b[49m\u001b[33;43m\"\u001b[39;49m\u001b[33;43mipryeok: \u001b[39;49m\u001b[33;43m\"\u001b[39;49m\u001b[43m)\u001b[49m\u001b[43m)\u001b[49m\n\u001b[32m      3\u001b[39m \u001b[38;5;28;01mif\u001b[39;00m num + \u001b[32m20\u001b[39m > \u001b[32m255\u001b[39m:\n\u001b[32m      4\u001b[39m     \u001b[38;5;28mprint\u001b[39m(\u001b[32m255\u001b[39m)\n",
      "\u001b[31mValueError\u001b[39m: invalid literal for int() with base 10: ''"
     ]
    }
   ],
   "source": [
    "# 사용자로부터 값을 입력받은 후 해당 값에 20을 더한 값을 출력하라. 단 사용자가 입력한 값과 20을 더한 계산 값이 255를 초과하는 경우 255를 출력해야 한다.\n",
    "num = int(input(\"ipryeok: \"))\n",
    "if num + 20 > 255:\n",
    "    print(255)\n",
    "else:\n",
    "    print(num + 20)"
   ]
  },
  {
   "cell_type": "code",
   "execution_count": 19,
   "id": "4fcf9df3",
   "metadata": {},
   "outputs": [
    {
     "ename": "ValueError",
     "evalue": "invalid literal for int() with base 10: ''",
     "output_type": "error",
     "traceback": [
      "\u001b[31m---------------------------------------------------------------------------\u001b[39m",
      "\u001b[31mValueError\u001b[39m                                Traceback (most recent call last)",
      "\u001b[36mCell\u001b[39m\u001b[36m \u001b[39m\u001b[32mIn[19]\u001b[39m\u001b[32m, line 2\u001b[39m\n\u001b[32m      1\u001b[39m \u001b[38;5;66;03m# 사용자로부터 하나의 값을 입력받은 후 해당 값에 20을 뺀 값을 출력하라. 단 출력 값의 범위는 0~255이다. 예를 들어 결괏값이 0보다 작은 값이되는 경우 0을 출력하고 255보다 큰 값이 되는 경우 255를 출력해야 한다.\u001b[39;00m\n\u001b[32m----> \u001b[39m\u001b[32m2\u001b[39m num = \u001b[38;5;28;43mint\u001b[39;49m\u001b[43m(\u001b[49m\u001b[38;5;28;43minput\u001b[39;49m\u001b[43m(\u001b[49m\u001b[33;43m\"\u001b[39;49m\u001b[33;43mipryeok: \u001b[39;49m\u001b[33;43m\"\u001b[39;49m\u001b[43m)\u001b[49m\u001b[43m)\u001b[49m -\u001b[32m20\u001b[39m\n\u001b[32m      3\u001b[39m \u001b[38;5;28;01mif\u001b[39;00m num < \u001b[32m0\u001b[39m:\n\u001b[32m      4\u001b[39m     \u001b[38;5;28mprint\u001b[39m(\u001b[32m0\u001b[39m)\n",
      "\u001b[31mValueError\u001b[39m: invalid literal for int() with base 10: ''"
     ]
    }
   ],
   "source": [
    "# 사용자로부터 하나의 값을 입력받은 후 해당 값에 20을 뺀 값을 출력하라. 단 출력 값의 범위는 0~255이다. 예를 들어 결괏값이 0보다 작은 값이되는 경우 0을 출력하고 255보다 큰 값이 되는 경우 255를 출력해야 한다.\n",
    "num = int(input(\"ipryeok: \")) -20\n",
    "if num < 0:\n",
    "    print(0)\n",
    "elif num < 255:\n",
    "    print(num)\n",
    "else:\n",
    "    print(255)"
   ]
  },
  {
   "cell_type": "code",
   "execution_count": 30,
   "id": "2d6d2111",
   "metadata": {},
   "outputs": [
    {
     "name": "stdout",
     "output_type": "stream",
     "text": [
      "you got the jungkuk\n"
     ]
    }
   ],
   "source": [
    "# 사용자로부터 입력 받은 시간이 정각인지 판별하라.\n",
    "time = input(\"ipryeok(hh:mm): \")\n",
    "\n",
    "if time[3:5] == \"00\":\n",
    "    print(\"you got the jungkuk\")\n",
    "else:\n",
    "    print(f\"{time}is not jungkook\")"
   ]
  },
  {
   "cell_type": "code",
   "execution_count": null,
   "id": "d9339d9e",
   "metadata": {},
   "outputs": [],
   "source": []
  },
  {
   "cell_type": "code",
   "execution_count": 40,
   "id": "9a11a046",
   "metadata": {},
   "outputs": [
    {
     "name": "stdout",
     "output_type": "stream",
     "text": [
      "it's the 오답\n"
     ]
    }
   ],
   "source": [
    "\"\"\"\n",
    "사용자로 입력받은 단어가 아래 fruit 리스트에 포함되어 있는지를 확인하라. 포함되었다면 \"정답입니다\"를 아닐 경우 \"오답입니다\" 출력하라\n",
    "fruit = [\"사과\", \"포도\", \"홍시\"]\n",
    "\"\"\"\n",
    "fruit = [\"사과\", \"포도\", \"홍시\"]\n",
    "answer = input(\"ipryeok: \")\n",
    "if answer in fruit:\n",
    "    print(\"정답입니다!\")\n",
    "else:\n",
    "    print(\"it's the 오답\")\n"
   ]
  },
  {
   "cell_type": "code",
   "execution_count": 42,
   "id": "dabd1147",
   "metadata": {},
   "outputs": [
    {
     "name": "stdout",
     "output_type": "stream",
     "text": [
      "stay...\n"
     ]
    }
   ],
   "source": [
    "# 투자 경고 종목 리스트가 있을 때 사용자로부터 종목명을 입력 받은 후 해당 종목이 투자 경고 종목이라면 '투자 경고 종목입니다'를 아니면 \"투자 경고 종목이 아닙니다.\"를 출력하는 프로그램을 작성하라.\n",
    "warn_investment_list = [\"Microsoft\", \"Google\", \"Naver\", \"Kakao\", \"SAMSUNG\", \"LG\"]\n",
    "user_input = input()\n",
    "if user_input in warn_investment_list:\n",
    "    print(\"stay...\")\n",
    "else:\n",
    "    print(\"you can do it...\")"
   ]
  },
  {
   "cell_type": "code",
   "execution_count": 48,
   "id": "ed26c8fc",
   "metadata": {},
   "outputs": [
    {
     "name": "stdout",
     "output_type": "stream",
     "text": [
      "정답입니다!\n"
     ]
    }
   ],
   "source": [
    "# 아래와 같이 fruit 딕셔너리가 정의되어 있다. 사용자가 입력한 값이 딕셔너리 값 (value)에 포함되었다면 \"정답입니다\"를 아닐 경우 \"오답입니다\" 출력하라.\n",
    "\n",
    "fruit = {\"봄\" : \"딸기\", \"여름\" : \"토마토\", \"가을\" : \"사과\"}\n",
    "answer = input(\"ipryeok: \")\n",
    "if answer in fruit.values():\n",
    "    print(\"정답입니다!\")\n",
    "else:\n",
    "    print(\"it's the 오답\")\n"
   ]
  },
  {
   "cell_type": "code",
   "execution_count": 1,
   "id": "a7cf441f",
   "metadata": {},
   "outputs": [
    {
     "name": "stdout",
     "output_type": "stream",
     "text": [
      "H\n",
      "E\n",
      " \n",
      "i\n",
      "s\n",
      " \n",
      "G\n",
      "O\n",
      "O\n",
      "D\n"
     ]
    }
   ],
   "source": [
    "# 121 사용자로부터 문자 한 개를 입력 받고, 소문자일 경우 대문자로, 대문자 일 경우, 소문자로 변경해서 출력하라.\n",
    "# >> a\n",
    "# A\n",
    "# 힌트-1 : islower() 함수는 문자의 소문자 여부를 판별합니다. 만약 소문자일 경우 True, 대문자일 경우 False를 반환합니다. 힌트-2 : upper() 함수는 대문자로, lower() 함수는 소문자로 변경합니다.\n",
    "\n",
    "ui = input()\n",
    "for i in ui:\n",
    "    if i.islower():\n",
    "        print(i.upper())\n",
    "    else:\n",
    "        print(i.lower())"
   ]
  },
  {
   "cell_type": "code",
   "execution_count": 53,
   "id": "9abf9e54",
   "metadata": {},
   "outputs": [
    {
     "name": "stdout",
     "output_type": "stream",
     "text": [
      "30 D\n"
     ]
    }
   ],
   "source": [
    "score = int(input())\n",
    "if score > 80:\n",
    "    print(score, 'A')\n",
    "elif score > 60:\n",
    "    print(score, 'B')\n",
    "elif score > 40:\n",
    "    print(score, 'C')\n",
    "elif score > 20:\n",
    "    print(score, 'D')\n",
    "else:\n",
    "    print(score, 'E')"
   ]
  },
  {
   "cell_type": "code",
   "execution_count": 61,
   "id": "3242140d",
   "metadata": {},
   "outputs": [
    {
     "name": "stdout",
     "output_type": "stream",
     "text": [
      "55\n"
     ]
    }
   ],
   "source": [
    "# 사용자로부터 세 개의 숫자를 입력 받은 후 가장 큰 숫자를 출력하라.\n",
    "nums = [0,0,0]\n",
    "\n",
    "nums[0] = input(\"1st: \")\n",
    "nums[1] = input(\"2nd: \")\n",
    "nums[2] = input(\"3rd: \")\n",
    "max_num = nums[0]\n",
    "for i in range(len(nums)-1):\n",
    "    if nums[i+1] > nums[i]:\n",
    "        max_num = nums[i+1]\n",
    "    i += 1\n",
    "print(max_num)"
   ]
  },
  {
   "cell_type": "code",
   "execution_count": 70,
   "id": "facb7b7f",
   "metadata": {},
   "outputs": [
    {
     "name": "stdout",
     "output_type": "stream",
     "text": [
      "55\n"
     ]
    }
   ],
   "source": [
    "mylist = list()\n",
    "# print(mylist, type(mylist))\n",
    "\n",
    "while True:\n",
    "    new_data = input()\n",
    "    if new_data == '':\n",
    "        break\n",
    "    mylist.append(int(new_data))\n",
    "    \n",
    "for i in range(len(mylist)-1):\n",
    "    if mylist[i+1] > mylist[i]:\n",
    "        max_num = mylist[i+1]\n",
    "    i += 1\n",
    "print(max_num)\n",
    "    "
   ]
  },
  {
   "cell_type": "code",
   "execution_count": 77,
   "id": "cbb3000d",
   "metadata": {},
   "outputs": [
    {
     "data": {
      "text/plain": [
       "[2, 4, 8, 16]"
      ]
     },
     "execution_count": 77,
     "metadata": {},
     "output_type": "execute_result"
    }
   ],
   "source": [
    "qwer = [2 ** i for i in range(1, int(input()))]\n",
    "qwer\n"
   ]
  },
  {
   "cell_type": "code",
   "execution_count": 5,
   "id": "284be488",
   "metadata": {},
   "outputs": [
    {
     "data": {
      "text/plain": [
       "(5, 4)"
      ]
     },
     "execution_count": 5,
     "metadata": {},
     "output_type": "execute_result"
    }
   ],
   "source": [
    "arr = [[2, 0, 4, 2],[19, 498, 258, 587], [63, 93, 7, 754], [258, 7, 1000, 723], [587, 754, 723, 81]]\n",
    "len(arr), len(arr[0])"
   ]
  },
  {
   "cell_type": "code",
   "execution_count": null,
   "id": "b8bf56af",
   "metadata": {},
   "outputs": [],
   "source": [
    "def solution(arr):\n",
    "    height = len(arr)\n",
    "    width = len(arr[0])\n",
    "    for j in range(height):\n",
    "        for i in range(width):\n",
    "            if arr[i][j] != arr[j][i]:\n",
    "                return 0\n",
    "        else: \n",
    "            return 1\n",
    "\n",
    "\n"
   ]
  },
  {
   "cell_type": "markdown",
   "id": "ddd2d256",
   "metadata": {},
   "source": [
    "# Lotto"
   ]
  },
  {
   "cell_type": "code",
   "execution_count": null,
   "id": "2783a867",
   "metadata": {},
   "outputs": [
    {
     "data": {
      "text/plain": [
       "[27, 43, 10, 31, 17, 12]"
      ]
     },
     "execution_count": 25,
     "metadata": {},
     "output_type": "execute_result"
    }
   ],
   "source": [
    "import random\n",
    "my_numbers = random.sample(range(1, 46), 6)\n"
   ]
  },
  {
   "cell_type": "code",
   "execution_count": null,
   "id": "e68151e9",
   "metadata": {},
   "outputs": [
    {
     "data": {
      "text/plain": [
       "<Response [200]>"
      ]
     },
     "execution_count": 17,
     "metadata": {},
     "output_type": "execute_result"
    }
   ],
   "source": [
    "# 파이썬이 좋은 이유 : 다양한 라이브러리를 활용할 수 있어서.\n",
    "# URL(URI): Uniformed Resource Lacator/Indicator\n",
    "# 요청을 보내는 SW는 클라이언트, 받는 애는 서버(액션이 중요함)\n",
    "\n",
    "import requests\n",
    "URL = 'https://www.dhlottery.co.kr/common.do?method=getLottoNumber&drwNo=1'\n",
    "res = requests.get(URL)\n",
    "# API 뜻 : Application Programming Interface"
   ]
  },
  {
   "cell_type": "code",
   "execution_count": 23,
   "id": "a34f501f",
   "metadata": {},
   "outputs": [
    {
     "data": {
      "text/plain": [
       "{'totSellamnt': 3681782000,\n",
       " 'returnValue': 'success',\n",
       " 'drwNoDate': '2002-12-07',\n",
       " 'firstWinamnt': 0,\n",
       " 'drwtNo6': 40,\n",
       " 'drwtNo4': 33,\n",
       " 'firstPrzwnerCo': 0,\n",
       " 'drwtNo5': 37,\n",
       " 'bnusNo': 16,\n",
       " 'firstAccumamnt': 863604600,\n",
       " 'drwNo': 1,\n",
       " 'drwtNo2': 23,\n",
       " 'drwtNo3': 29,\n",
       " 'drwtNo1': 10}"
      ]
     },
     "execution_count": 23,
     "metadata": {},
     "output_type": "execute_result"
    }
   ],
   "source": [
    "data = res.json()\n",
    "data"
   ]
  },
  {
   "cell_type": "code",
   "execution_count": 39,
   "id": "0eb25ccf",
   "metadata": {},
   "outputs": [
    {
     "data": {
      "text/plain": [
       "(None, 1)"
      ]
     },
     "execution_count": 39,
     "metadata": {},
     "output_type": "execute_result"
    }
   ],
   "source": [
    "my_numbers, data\n",
    "# 1. data에서 real_numbers를 뽑는다.\n",
    "real_numbers = []\n",
    "for i in range(1, 7):\n",
    "    real_numbers.append(data[f'drwtNo{i}'])\n",
    "\n",
    "def dangchum(my_numbers, real_numbers):\n",
    "    counter = 0\n",
    "    for lucky in my_numbers:\n",
    "        if lucky in real_numbers:\n",
    "            counter += 1\n",
    "    if counter == 6:\n",
    "        return '1st'\n",
    "    elif counter == 5:\n",
    "        if data['bnusNo'] in my_numbers:\n",
    "            return '2nd'\n",
    "        return '3rd'\n",
    "    elif counter == 4:\n",
    "        return '4th'\n",
    "    elif counter == 3:\n",
    "        return '5th'\n",
    "    else:\n",
    "        return None\n",
    "\n",
    "dangchum(my_numbers, real_numbers), counter"
   ]
  },
  {
   "cell_type": "code",
   "execution_count": null,
   "id": "17a55c0d",
   "metadata": {},
   "outputs": [
    {
     "data": {
      "text/plain": [
       "1"
      ]
     },
     "execution_count": 41,
     "metadata": {},
     "output_type": "execute_result"
    }
   ],
   "source": [
    "# 이렇게 쉬운 방법을 두고... ㅎㅎㅎㅎㅎㅎ\n",
    "len(set(my_numbers) & set(real_numbers))"
   ]
  },
  {
   "cell_type": "code",
   "execution_count": 43,
   "id": "d430b399",
   "metadata": {},
   "outputs": [],
   "source": [
    "# 5 * 5 판에서 2 * 2ㅂ분 사각형 최댓값 구하기\n",
    "\n",
    "N, M = 5, 2\n",
    "\n",
    "board = [\n",
    "    [1, 3, 3, 6, 7],\n",
    "    [8, 13, 9, 12, 8],\n",
    "    [4, 16, 11, 12, 6],\n",
    "    [2, 4, 1, 23, 2],\n",
    "    [9, 13, 4, 7, 3]\n",
    "]\n"
   ]
  },
  {
   "cell_type": "code",
   "execution_count": null,
   "id": "9a7e403d",
   "metadata": {},
   "outputs": [
    {
     "data": {
      "text/plain": [
       "([25, 28, 30, 33, 41, 49, 44, 38, 26, 32, 47, 43, 28, 22, 35, 35],\n",
       " [[25, 28, 30, 33, 41, 49, 44, 38, 26, 32, 47, 43, 28, 22, 35, 35],\n",
       "  [25, 28, 30, 33, 41, 49, 44, 38, 26, 32, 47, 43, 28, 22, 35, 35],\n",
       "  [25, 28, 30, 33, 41, 49, 44, 38, 26, 32, 47, 43, 28, 22, 35, 35],\n",
       "  [25, 28, 30, 33, 41, 49, 44, 38, 26, 32, 47, 43, 28, 22, 35, 35],\n",
       "  [25, 28, 30, 33, 41, 49, 44, 38, 26, 32, 47, 43, 28, 22, 35, 35],\n",
       "  [25, 28, 30, 33, 41, 49, 44, 38, 26, 32, 47, 43, 28, 22, 35, 35],\n",
       "  [25, 28, 30, 33, 41, 49, 44, 38, 26, 32, 47, 43, 28, 22, 35, 35],\n",
       "  [25, 28, 30, 33, 41, 49, 44, 38, 26, 32, 47, 43, 28, 22, 35, 35],\n",
       "  [25, 28, 30, 33, 41, 49, 44, 38, 26, 32, 47, 43, 28, 22, 35, 35],\n",
       "  [25, 28, 30, 33, 41, 49, 44, 38, 26, 32, 47, 43, 28, 22, 35, 35],\n",
       "  [25, 28, 30, 33, 41, 49, 44, 38, 26, 32, 47, 43, 28, 22, 35, 35],\n",
       "  [25, 28, 30, 33, 41, 49, 44, 38, 26, 32, 47, 43, 28, 22, 35, 35],\n",
       "  [25, 28, 30, 33, 41, 49, 44, 38, 26, 32, 47, 43, 28, 22, 35, 35],\n",
       "  [25, 28, 30, 33, 41, 49, 44, 38, 26, 32, 47, 43, 28, 22, 35, 35],\n",
       "  [25, 28, 30, 33, 41, 49, 44, 38, 26, 32, 47, 43, 28, 22, 35, 35],\n",
       "  [25, 28, 30, 33, 41, 49, 44, 38, 26, 32, 47, 43, 28, 22, 35, 35]])"
      ]
     },
     "execution_count": 66,
     "metadata": {},
     "output_type": "execute_result"
    }
   ],
   "source": [
    "# matrix = []\n",
    "# row = []\n",
    "# total = 0\n",
    "# for i in range(len(board)-1):\n",
    "#     for j in range(len(board[0])-1):\n",
    "#         total = (board[i][j] + board[i+1][j] + board[i][j+1] + board[i+1][j+1])\n",
    "#         row.append(total)\n",
    "#     matrix.append(row)\n",
    "# row, matrix"
   ]
  },
  {
   "cell_type": "code",
   "execution_count": null,
   "id": "81c40b3a",
   "metadata": {},
   "outputs": [
    {
     "data": {
      "text/plain": [
       "([[1, 3, 3, 6, 7],\n",
       "  [8, 13, 9, 12, 8],\n",
       "  [4, 16, 11, 12, 6],\n",
       "  [2, 4, 1, 23, 2],\n",
       "  [9, 13, 4, 7, 3]],\n",
       " [(0, 0), (1, 0), (2, 0), (3, 0), (0, 1), (1, 1)],\n",
       " 49)"
      ]
     },
     "execution_count": 92,
     "metadata": {},
     "output_type": "execute_result"
    }
   ],
   "source": [
    "N, M = 5, 2\n",
    "max_total = 0\n",
    "maxt_id = []\n",
    "for i in range(N-M+1): # 아래도 이렇게 바뀌는 게 좋다(확장성)\n",
    "    for j in range(len(board[0])-1):\n",
    "        total = (board[i][j] + board[i+1][j] + board[i][j+1] + board[i+1][j+1])\n",
    "        if total > max_total:\n",
    "            max_total = total\n",
    "            maxt_id.append((j, i))\n",
    "\n",
    "board, maxt_id, max_total"
   ]
  },
  {
   "cell_type": "code",
   "execution_count": 95,
   "id": "451a17eb",
   "metadata": {},
   "outputs": [],
   "source": [
    "## 쌤 풀이 (1) 시작 idx 기준 M*M 총합 보여주는 함수\n",
    "def sum_flies(r, c):\n",
    "    total = 0\n",
    "    for i in range(M):\n",
    "        for j in range(M):\n",
    "            total += board[r+i][c+j]\n",
    "    return total"
   ]
  },
  {
   "cell_type": "code",
   "execution_count": 97,
   "id": "b8265df9",
   "metadata": {},
   "outputs": [
    {
     "data": {
      "text/plain": [
       "49"
      ]
     },
     "execution_count": 97,
     "metadata": {},
     "output_type": "execute_result"
    }
   ],
   "source": [
    "maximum = 0\n",
    "for row in range(N-M+1):\n",
    "    for col in range(N-M+1):\n",
    "        if maximum < sum_flies(row, col):\n",
    "            maximum = sum_flies(row,col)\n",
    "maximum"
   ]
  },
  {
   "cell_type": "code",
   "execution_count": 107,
   "id": "6361ed77",
   "metadata": {},
   "outputs": [],
   "source": [
    "board = [\n",
    "    [0, 0, 0, 0, 0],\n",
    "    [0, 0, 0, 0, 0],\n",
    "    [0, 0, 0, 0, 0],\n",
    "    [0, 0, 1, 0, 0],\n",
    "    [0, 0, 0, 0, 0]]"
   ]
  },
  {
   "cell_type": "code",
   "execution_count": 109,
   "id": "0c04ec1b",
   "metadata": {},
   "outputs": [
    {
     "data": {
      "text/plain": [
       "16"
      ]
     },
     "execution_count": 109,
     "metadata": {},
     "output_type": "execute_result"
    }
   ],
   "source": [
    "total = 0\n",
    "l = len(board)\n",
    "check = [[0] * l for _ in range(l)]\n",
    "for i in range(l-1): # 우하향검사\n",
    "    for j in range(l-1):\n",
    "        if board[i][j] == 1:\n",
    "            check[i][j] = 1\n",
    "            check[i+1][j] = 1\n",
    "            check[i][j+1] = 1\n",
    "            check[i+1][j+1] = 1\n",
    "for i in range(l-1): # 좌하향검사\n",
    "    for j in range(l-1, 0, -1):\n",
    "        if board[i][j] == 1:\n",
    "            check[i][j] = 1\n",
    "            check[i+1][j] = 1\n",
    "            check[i][j-1] = 1\n",
    "            check[i+1][j-1] = 1\n",
    "for i in range(l-1, 0, -1): # 우상향검사\n",
    "    for j in range(l-1):\n",
    "        if board[i][j] == 1:\n",
    "            check[i][j] = 1\n",
    "            check[i-1][j] = 1\n",
    "            check[i][j+1] = 1\n",
    "            check[i-1][j+1] = 1\n",
    "for i in range(l-1, 0, -1): # 좌상향검사\n",
    "    for j in range(l-1, 0, -1):\n",
    "        if board[i][j] == 1:\n",
    "            check[i][j] = 1\n",
    "            check[i-1][j] = 1\n",
    "            check[i][j-1] = 1\n",
    "            check[i-1][j-1] = 1\n",
    "for i in range(l):\n",
    "    total += check[i].count(0)\n",
    "total"
   ]
  },
  {
   "cell_type": "code",
   "execution_count": 111,
   "id": "b476f91b",
   "metadata": {},
   "outputs": [
    {
     "data": {
      "text/plain": [
       "[4, 5, 6]"
      ]
     },
     "execution_count": 111,
     "metadata": {},
     "output_type": "execute_result"
    }
   ],
   "source": [
    "numbers = list(range(10))\n",
    "ans = []\n",
    "for num in numbers:\n",
    "    if 3 < num < 7:\n",
    "        ans.append(num)\n",
    "ans"
   ]
  },
  {
   "cell_type": "code",
   "execution_count": 125,
   "id": "bc1df178",
   "metadata": {},
   "outputs": [
    {
     "data": {
      "text/plain": [
       "[['A', 'A', '-1', 'A', 'A', 'A', 'A', '-1'],\n",
       " ['A', 'A', '-1', 'A', 'A', 'A', 'A', '-1'],\n",
       " ['-1', '-1', '-1', '-1', '-1', '-1', '-1', '-1'],\n",
       " ['A', 'A', '-1', '-1', '-1', '-1', 'A', '-1'],\n",
       " ['A', 'A', '-1', '-1', '-1', '-1', '-1', 'A'],\n",
       " ['A', 'A', '-1', '-1', '-1', '-1', '-1', 'A']]"
      ]
     },
     "execution_count": 125,
     "metadata": {},
     "output_type": "execute_result"
    }
   ],
   "source": [
    "mats = [5,3,2]\n",
    "park = [['-1'] * 8 for _ in range(6)]\n",
    "park[0][0] = 'A'\n",
    "park[0][1] = 'A'\n",
    "park[1][0] = 'A'\n",
    "park[1][1] = 'A'\n",
    "park[0][3] = 'A'\n",
    "park[0][4] = 'A'\n",
    "park[0][5] = 'A'\n",
    "park[0][6] = 'A'\n",
    "park[1][3] = 'A'\n",
    "park[1][4] = 'A'\n",
    "park[1][5] = 'A'\n",
    "park[1][6] = 'A'\n",
    "park[3][0] = 'A'\n",
    "park[3][1] = 'A'\n",
    "park[4][0] = 'A'\n",
    "park[4][1] = 'A'\n",
    "park[5][0] = 'A'\n",
    "park[5][1] = 'A'\n",
    "park[3][6] = 'A'\n",
    "park[4][7] = 'A'\n",
    "park[5][7] = 'A'\n",
    "\n",
    "park"
   ]
  },
  {
   "cell_type": "code",
   "execution_count": 1,
   "id": "64e3c298",
   "metadata": {},
   "outputs": [],
   "source": [
    "def solution(mats, park):\n",
    "    h = len(park)\n",
    "    w = len(park[0])\n",
    "    able = []\n",
    "    # mats 분기\n",
    "    for l in mats:\n",
    "    # (1,1)부터 축소한 범위만큼 훑기\n",
    "        for j in range(h-l+1):\n",
    "            for i in range(w-l+1):\n",
    "            # 너 전부 다 -1이냐?\n",
    "                if nemo(i, j, l, park).count('-1') == l ** 2:\n",
    "                    # 넵. 그럼 숫자 후보에 추가\n",
    "                    able.append(l)\n",
    "    # 있으면 최댓값 반환\n",
    "    if len(able) > 0:\n",
    "        return max(able)\n",
    "    # 다 뒤져도 없음.\n",
    "    return -1\n",
    "\n",
    "# 2*2 행렬 내 값 리스트화 하기.\n",
    "def nemo(garo, sero, line, matrix):\n",
    "    check = []\n",
    "    for i in range(line):\n",
    "        for j in range(line):\n",
    "            check.append(matrix[sero+i][garo+j])\n",
    "    return check"
   ]
  },
  {
   "cell_type": "code",
   "execution_count": 47,
   "id": "3dbe0040",
   "metadata": {},
   "outputs": [],
   "source": [
    "input_string = \"edeaaabbccd\"\n",
    "# input_string = \"eeddee\"\n",
    "inst = input_string\n",
    "l = len(inst)"
   ]
  },
  {
   "cell_type": "code",
   "execution_count": null,
   "id": "e7f0b937",
   "metadata": {},
   "outputs": [
    {
     "data": {
      "text/plain": [
       "{'e': [2], 'd': [1, 10], 'a': [3], 'b': [6], 'c': [8]}"
      ]
     },
     "execution_count": 51,
     "metadata": {},
     "output_type": "execute_result"
    }
   ],
   "source": [
    "char_count = {}\n",
    "for char in inst:\n",
    "    dummy = []\n",
    "    if inst.count(char) > 1:\n",
    "        for i in range(1, l):\n",
    "            if inst[i] == char:\n",
    "                if inst[i-1] != char:\n",
    "                    dummy.append(i)\n",
    "    char_count[char] = dummy\n",
    "char_count\n",
    "for i in char_count:\n",
    "    if char_count[i] > 1"
   ]
  },
  {
   "cell_type": "code",
   "execution_count": null,
   "id": "b846f528",
   "metadata": {},
   "outputs": [
    {
     "name": "stdout",
     "output_type": "stream",
     "text": [
      "d [2, 3]\n",
      "e [0, 1, 4, 5]\n"
     ]
    }
   ],
   "source": [
    "charlist = list(set(input_string))  # 셋리스트 만듦.\n",
    "for char in sorted(charlist):       # 셋 안에 있는 글자들 확인\n",
    "    charcheck = []\n",
    "    if inst.count(char) > 1:\n",
    "        ; inst.find(char)\n",
    "        for i in range(l):\n",
    "            if inst[i] == char:\n",
    "                charcheck.append(i)\n",
    "    print(char, charcheck)\n"
   ]
  },
  {
   "cell_type": "code",
   "execution_count": 36,
   "id": "41ba0f73",
   "metadata": {},
   "outputs": [
    {
     "data": {
      "text/plain": [
       "[]"
      ]
     },
     "execution_count": 36,
     "metadata": {},
     "output_type": "execute_result"
    }
   ],
   "source": [
    "outsider = []\n",
    "\n",
    "for i in range(l-1):\n",
    "    chars = input_string\n",
    "    if input_string[i] != input_string[i+1]:\n",
    "        if chars.find(list(chars).pop(i)) != -1:\n",
    "            if input_string.find(chars[i]) >= i:\n",
    "                outsider.append(chars[i])\n",
    "# for char in input_string:\n",
    "#     if input_string.count(char) == 1:\n",
    "#         outsider.rem(char)\n",
    "outsider"
   ]
  },
  {
   "cell_type": "code",
   "execution_count": 2,
   "id": "ce680eff",
   "metadata": {},
   "outputs": [],
   "source": [
    "ability = [\n",
    "[40, 10, 10], \n",
    " [20, 5, 0], \n",
    " [30, 30, 30], \n",
    " [70, 0, 70], \n",
    " [100, 100, 100]\n",
    "]"
   ]
  },
  {
   "cell_type": "code",
   "execution_count": 7,
   "id": "3d8929d8",
   "metadata": {},
   "outputs": [
    {
     "data": {
      "text/plain": [
       "210"
      ]
     },
     "execution_count": 7,
     "metadata": {},
     "output_type": "execute_result"
    }
   ],
   "source": [
    "import itertools\n",
    "\n",
    "def solution(ability):\n",
    "    asum = []\n",
    "    idx = list(range(len(ability)))\n",
    "    col = len(ability[0])\n",
    "    combos = list(itertools.permutations(idx, col))\n",
    "    total = 0\n",
    "    for combo in combos:\n",
    "        total = 0\n",
    "        for j in range(col):\n",
    "            total += ability[combo[j]][j]\n",
    "        asum.append(total)\n",
    "   \n",
    "    return max(asum)\n",
    "\n",
    "solution(ability)"
   ]
  },
  {
   "cell_type": "code",
   "execution_count": null,
   "id": "f9ae7e0f",
   "metadata": {},
   "outputs": [
    {
     "ename": "NameError",
     "evalue": "name 'asum' is not defined",
     "output_type": "error",
     "traceback": [
      "\u001b[31m---------------------------------------------------------------------------\u001b[39m",
      "\u001b[31mNameError\u001b[39m                                 Traceback (most recent call last)",
      "\u001b[36mCell\u001b[39m\u001b[36m \u001b[39m\u001b[32mIn[4]\u001b[39m\u001b[32m, line 1\u001b[39m\n\u001b[32m----> \u001b[39m\u001b[32m1\u001b[39m \u001b[43masum\u001b[49m\n",
      "\u001b[31mNameError\u001b[39m: name 'asum' is not defined"
     ]
    }
   ],
   "source": []
  }
 ],
 "metadata": {
  "kernelspec": {
   "display_name": "3.13.2",
   "language": "python",
   "name": "python3"
  },
  "language_info": {
   "codemirror_mode": {
    "name": "ipython",
    "version": 3
   },
   "file_extension": ".py",
   "mimetype": "text/x-python",
   "name": "python",
   "nbconvert_exporter": "python",
   "pygments_lexer": "ipython3",
   "version": "3.13.2"
  }
 },
 "nbformat": 4,
 "nbformat_minor": 5
}
