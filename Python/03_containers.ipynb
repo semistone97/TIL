{
 "cells": [
  {
   "cell_type": "markdown",
   "metadata": {
    "id": "I-fCbN-MYaYt"
   },
   "source": [
    "# 컨테이너(Container)\n",
    "\n",
    "여러 개의 값을 저장할 수 있는 것(객체)을 의미하며, `서로 다른 자료형`을 저장 할 수 있습니다.\n",
    "\n",
    "### 컨테이너 분류\n",
    "- 시퀀스(Sequence)형 : 순서가 있는(ordered) 데이터\n",
    "- 비 시퀀스(Non-sequence)형 : 순서가 없는(unordered) 데이터\n",
    "\n",
    "<img width=\"712\" alt=\"container\" src=\"https://user-images.githubusercontent.com/45934087/148164052-3b12d3a2-a95e-4d4d-ae25-86ca1ba9657b.png\">"
   ]
  },
  {
   "cell_type": "markdown",
   "metadata": {
    "id": "lbXABYYDYaYu"
   },
   "source": [
    "## 시퀀스(sequence)형 컨테이너\n",
    "\n",
    "`시퀀스`는 데이터가 순서대로 나열된(ordered) 형식을 나타냅니다.\n",
    "\n",
    "* **주의! 순서대로 나열된 것이 `정렬되었다(sorted)`라는 뜻은 아닙니다.**\n",
    "\n",
    "### 특징\n",
    "1. 순서가 있습니다.\n",
    "\n",
    "2. **특정 위치의 데이터를 가리킬 수 있습니다.**\n",
    "\n",
    "### 종류\n",
    "파이썬에서 기본적인 시퀀스 타입은 다음과 같습니다.\n",
    "\n",
    "* 리스트(list)\n",
    "\n",
    "* 튜플(tuple)\n",
    "\n",
    "* 레인지(range)\n",
    "\n",
    "* *문자형(string)*\n",
    "\n",
    "* *바이너리(binary)* : 다루지 않습니다.\n"
   ]
  },
  {
   "cell_type": "markdown",
   "metadata": {
    "id": "N3kXbW2wYaYv"
   },
   "source": [
    "\n",
    "### 리스트 (List)\n",
    "\n",
    "<center><img src=\"https://user-images.githubusercontent.com/18046097/61180421-fe90ae80-a650-11e9-8211-d06f87756d05.png\", alt=\"list figure\"/></center>"
   ]
  },
  {
   "cell_type": "markdown",
   "metadata": {
    "id": "5Rj4EHUAYaYv"
   },
   "source": [
    "**생성과 접근**\n",
    "```python\n",
    "[value1, value2, value3]\n",
    "```\n",
    "\n",
    "리스트는 대괄호`[]` 및 `list()` 를 통해 만들 수 있습니다."
   ]
  },
  {
   "cell_type": "code",
   "execution_count": 4,
   "metadata": {
    "id": "X0-zn_7gYaYv"
   },
   "outputs": [
    {
     "name": "stdout",
     "output_type": "stream",
     "text": [
      "[] [] <class 'list'> <class 'list'> [[], [], <class 'list'>, <class 'list'>] <class 'list'>\n"
     ]
    }
   ],
   "source": [
    "# 빈 list를 만들어봅시다.\n",
    "# 변수명 my_list인 list를 대괄호로 만들어봅시다.\n",
    "# 변수명 another_list인 list를 list()로 만들어 봅시다.\n",
    "# 두 변수의 타입을 출력해 봅시다.\n",
    "\n",
    "l1 = []                             # 얘는 list 만들 때\n",
    "l2 = list()                         # 얘는 list로 바꿀 때.\n",
    "l_m = [l1, l2, type(l1), type(l2)]  # list엔 list를 담을 수 있다.\n",
    "print(l1, l2, type(l1), type(l2), l_m, type(l_m))"
   ]
  },
  {
   "cell_type": "code",
   "execution_count": 5,
   "metadata": {
    "id": "WeTht4L4YaYw"
   },
   "outputs": [],
   "source": [
    "# 원소를 포함한 list를 만들어 봅시다.\n",
    "# 변수명이 location인 list에 동네 5곳을 넣어봅시다\n",
    "# 변수 location을 출력해 봅시다.\n",
    "# location의 타입을 출력해 봅시다.\n",
    "\n",
    "locations = ['반포', '마포', '동탄', '상암', '교대']     # location은 틀린 닉네임이다. 변수가 리스트면 이름은 복수로 해라."
   ]
  },
  {
   "cell_type": "code",
   "execution_count": 8,
   "metadata": {
    "id": "QNqA_Tx9YaYw"
   },
   "outputs": [
    {
     "data": {
      "text/plain": [
       "'반포'"
      ]
     },
     "execution_count": 8,
     "metadata": {},
     "output_type": "execute_result"
    }
   ],
   "source": [
    "# location의 첫번째 값을 인덱스로 접근해 봅시다.\n",
    "locations[0]\n",
    "# 파이썬의 index는 SQL이랑 전혀 다름."
   ]
  },
  {
   "cell_type": "markdown",
   "metadata": {
    "id": "pv0MWPCgYaYx"
   },
   "source": [
    "\n",
    "순서가 있는 시퀀스로 인덱스를 통해 접근 가능합니다.\n",
    "- 값에 대한 접근은 `list[i]` 방식으로 접근합니다.\n",
    "\n",
    "![image](https://user-images.githubusercontent.com/45934087/148164331-f0ff4193-6b05-4d99-bbde-dd1eef13b0b1.png)\n"
   ]
  },
  {
   "cell_type": "code",
   "execution_count": 9,
   "metadata": {
    "id": "IGiv24JMYaYx"
   },
   "outputs": [],
   "source": [
    "# 변수 boxes에 문자열 'A', 'B', 리스트 ['apple', 'banana', 'cherry']를 할당합니다.\n",
    "boxes = ['A', 'B', ['apple', 'banana', 'cherry']]"
   ]
  },
  {
   "cell_type": "code",
   "execution_count": 10,
   "metadata": {
    "id": "O_bwR7GbYaYx"
   },
   "outputs": [
    {
     "data": {
      "text/plain": [
       "3"
      ]
     },
     "execution_count": 10,
     "metadata": {},
     "output_type": "execute_result"
    }
   ],
   "source": [
    "# boxes의 길이를 len 함수를 이용하여 출력해 봅시다.\n",
    "len(boxes)"
   ]
  },
  {
   "cell_type": "code",
   "execution_count": 11,
   "metadata": {
    "id": "TN2gKKKNYaYx"
   },
   "outputs": [
    {
     "data": {
      "text/plain": [
       "['apple', 'banana', 'cherry']"
      ]
     },
     "execution_count": 11,
     "metadata": {},
     "output_type": "execute_result"
    }
   ],
   "source": [
    "# boxes의 3번째 요소를 인덱스로 접근하여 출력해 봅시다.\n",
    "boxes[2]"
   ]
  },
  {
   "cell_type": "code",
   "execution_count": 12,
   "metadata": {
    "id": "9bXWgm0jYaYx"
   },
   "outputs": [
    {
     "data": {
      "text/plain": [
       "'cherry'"
      ]
     },
     "execution_count": 12,
     "metadata": {},
     "output_type": "execute_result"
    }
   ],
   "source": [
    "# boxes의 3번째 요소들 중, 마지막 요소를 negative index로 접근하여 출력해 봅시다.\n",
    "boxes[2][-1]\n",
    "# 코딩은 한 번에 할 게 아니라, 단계별로 분절해서 생각하기(굉장히 열내서 말씀하시네)"
   ]
  },
  {
   "cell_type": "code",
   "execution_count": 16,
   "metadata": {
    "id": "N9CCrCX1YaYx"
   },
   "outputs": [
    {
     "data": {
      "text/plain": [
       "'b'"
      ]
     },
     "execution_count": 16,
     "metadata": {},
     "output_type": "execute_result"
    }
   ],
   "source": [
    "# boxes의 마지막 요소들 중, 두번째 요소의 첫번째 문자열을 출력해 봅시다.\n",
    "boxes[len(boxes) - 1][1][0]"
   ]
  },
  {
   "cell_type": "markdown",
   "metadata": {
    "id": "hJqyyWEoYaYx"
   },
   "source": [
    "### 튜플 (Tuple)\n",
    "\n",
    "**생성과 접근**\n",
    "```python\n",
    "(value1, value2)\n",
    "```\n",
    "\n",
    "튜플은 리스트와 유사하지만, `()`로 묶어서 표현합니다.\n",
    "\n",
    "- tuple은 수정 불가능(불변, immutable)합니다.\n",
    "\n",
    "- 직접 사용하기 보다는 파이썬 내부에서 다양한 용도로 활용되고 있습니다."
   ]
  },
  {
   "cell_type": "code",
   "execution_count": 18,
   "metadata": {
    "id": "yqCu4ytOYaYx"
   },
   "outputs": [
    {
     "name": "stdout",
     "output_type": "stream",
     "text": [
      "(100, 150) <class 'tuple'>\n"
     ]
    }
   ],
   "source": [
    "# tuple을 만들어봅시다.\n",
    "# 변수명이 my_tuple인 tuple을 만들어 봅시다. 단, 무작위 정수 2개를 포함하여 만듭니다.\n",
    "# my_tuple의 타입을 출력해 봅시다.\n",
    "\n",
    "my_tuple = (100, 150)\n",
    "print(my_tuple, type(my_tuple))"
   ]
  },
  {
   "cell_type": "code",
   "execution_count": null,
   "metadata": {
    "id": "ZgPEyd2CYaYy"
   },
   "outputs": [],
   "source": [
    "# 아래와 같은 방식으로도 만들 수 있습니다.\n",
    "tuple()"
   ]
  },
  {
   "cell_type": "markdown",
   "metadata": {
    "id": "Gt5EJRsYYaYy"
   },
   "source": [
    "**튜플 생성 주의 사항**\n",
    "- 단일 항목의 경우"
   ]
  },
  {
   "cell_type": "code",
   "execution_count": 20,
   "metadata": {
    "id": "szA4WNEeYaYy"
   },
   "outputs": [
    {
     "name": "stdout",
     "output_type": "stream",
     "text": [
      "10 (10,) <class 'int'> <class 'tuple'>\n"
     ]
    }
   ],
   "source": [
    "# 하나의 항목으로 구성된 튜플은 생성 시 값 뒤에 쉼표를 붙여야 합니다.\n",
    "# 아래 코드를 실행하여 변수 a의 타입을 확인해 봅시다.\n",
    "not_tpl = (10)\n",
    "yes_tpl = (10,)\n",
    "print(not_tpl, yes_tpl, type(not_tpl), type(yes_tpl,))"
   ]
  },
  {
   "cell_type": "code",
   "execution_count": null,
   "metadata": {
    "id": "vl5pIVBDYaYy"
   },
   "outputs": [],
   "source": [
    "# 변수명이 single_tuple인 하나의 요소(값)로 구성된 tuple을 만들어 봅시다. (길이가 1)\n",
    "# 하나의 요소(값)로 구성된 tuple은 값 뒤에 쉼표를 붙여서 만듭니다.\n",
    "# single_tuple의 타입을 출력해 봅시다.\n",
    "# single_tuple의 길이를 출력해 봅시다."
   ]
  },
  {
   "cell_type": "code",
   "execution_count": null,
   "metadata": {
    "id": "jXZ0e1OQYaYy"
   },
   "outputs": [],
   "source": [
    "# 길이가 1인 tuple을 만들 때 쉼표가 없는 경우 어떻게 되는지 확인 해봅시다."
   ]
  },
  {
   "cell_type": "markdown",
   "metadata": {
    "id": "y1puSidKYaYy"
   },
   "source": [
    "- 복수 항목의 경우"
   ]
  },
  {
   "cell_type": "code",
   "execution_count": 21,
   "metadata": {
    "id": "Loy8ubEhYaYy"
   },
   "outputs": [
    {
     "data": {
      "text/plain": [
       "True"
      ]
     },
     "execution_count": 21,
     "metadata": {},
     "output_type": "execute_result"
    }
   ],
   "source": [
    "# 마지막 항목에 붙은 쉼표는 생략 할 수 있습니다.\n",
    "# 아래 코드를 실행하여 변수 b와 c의 타입을 확인해 봅시다.\n",
    "b = (1,2)\n",
    "c = (1,2,)\n",
    "b == c #tuple은 뒤에 콤마 찍음."
   ]
  },
  {
   "cell_type": "markdown",
   "metadata": {
    "id": "aHb0lNWQYaYy"
   },
   "source": [
    "**튜플 대입**\n",
    "- 우변의 값을 좌변의 변수에 한번에 할당하는 과정을 의미합니다.\n",
    "- 튜플은 일반적으로 파이썬 내부에서 활용됩니다.\n",
    "    - 추후 함수 파트에서 복수의 값을 반환하는 경우에도 확인할 수 있습니다."
   ]
  },
  {
   "cell_type": "code",
   "execution_count": 23,
   "metadata": {
    "id": "KZ3ilRyWYaYy"
   },
   "outputs": [
    {
     "data": {
      "text/plain": [
       "(1, 2)"
      ]
     },
     "execution_count": 23,
     "metadata": {},
     "output_type": "execute_result"
    }
   ],
   "source": [
    "# 파이썬 내부에서는 다음과 같이 활용됩니다. (변수 및 자료형 예제에서 사용된 코드입니다.)\n",
    "1, 2"
   ]
  },
  {
   "cell_type": "code",
   "execution_count": 24,
   "metadata": {},
   "outputs": [
    {
     "name": "stdout",
     "output_type": "stream",
     "text": [
      "(1, 2) <class 'tuple'>\n"
     ]
    }
   ],
   "source": [
    "x = 1, 2\n",
    "print(x, type(x))"
   ]
  },
  {
   "cell_type": "code",
   "execution_count": null,
   "metadata": {
    "id": "4_44d7IzYaYy"
   },
   "outputs": [],
   "source": [
    "# 실제로는 tuple로 처리됩니다."
   ]
  },
  {
   "cell_type": "code",
   "execution_count": 28,
   "metadata": {
    "id": "E5zzINpRYaYy"
   },
   "outputs": [
    {
     "data": {
      "text/plain": [
       "(int, int)"
      ]
     },
     "execution_count": 28,
     "metadata": {},
     "output_type": "execute_result"
    }
   ],
   "source": [
    "# 변수의 값을 swap하는 코드 역시 tuple을 활용하고 있습니다.\n",
    "(x, y) = (1, 2)\n",
    "type(x), type(y) # 이것도 지맘대로 tuple처리.\n",
    "# tuple 처리의 핵심은 콤마.\n"
   ]
  },
  {
   "cell_type": "code",
   "execution_count": 30,
   "metadata": {
    "id": "7VndpUxtYaYy"
   },
   "outputs": [
    {
     "data": {
      "text/plain": [
       "(tuple, 0)"
      ]
     },
     "execution_count": 30,
     "metadata": {},
     "output_type": "execute_result"
    }
   ],
   "source": [
    "# 변수명이 empty인 빈 tuple을 만들어 봅시다.\n",
    "# 빈 tuple은 빈 괄호 쌍으로 만들어집니다.\n",
    "# empty의 타입을 출력해 봅시다.\n",
    "# empty의 길이를 출력해 봅시다.\n",
    "empty = ()\n",
    "type(empty), len(empty) # 빈 거는 하나로 안 쳐주네."
   ]
  },
  {
   "cell_type": "markdown",
   "metadata": {
    "id": "Eq6ps9d3YaYy"
   },
   "source": [
    "### 레인지 (range())\n",
    "\n",
    "`range` 는 정수의 시퀀스를 나타내기 위해 사용됩니다.\n",
    "\n",
    "기본형 : `range(n)`\n",
    "\n",
    "\n",
    "> 0부터 n-1까지 값을 가짐\n",
    "\n",
    "\n",
    "범위 지정 : `range(n, m)`\n",
    "\n",
    "> n부터 m-1까지 값을 가짐\n",
    "\n",
    "범위 및 스텝 지정 : `range(n, m, s)`\n",
    "\n",
    "> n부터 m-1까지 +s만큼 증가한다"
   ]
  },
  {
   "cell_type": "code",
   "execution_count": 34,
   "metadata": {
    "id": "HrPFpyaqYaYy"
   },
   "outputs": [
    {
     "data": {
      "text/plain": [
       "range(0, 3)"
      ]
     },
     "execution_count": 34,
     "metadata": {},
     "output_type": "execute_result"
    }
   ],
   "source": [
    "# range를 만들어봅시다.\n",
    "# 0부터 2까지 값을 가지는 range를 만들고 타입을 출력해 봅시다.\n",
    "range(3)"
   ]
  },
  {
   "cell_type": "code",
   "execution_count": 35,
   "metadata": {
    "id": "ofdN3dwsYaYy"
   },
   "outputs": [
    {
     "data": {
      "text/plain": [
       "[0, 1, 2, 3, 4, 5, 6, 7, 8, 9]"
      ]
     },
     "execution_count": 35,
     "metadata": {},
     "output_type": "execute_result"
    }
   ],
   "source": [
    "# 0부터 9까지 값을 가지는 range를 만들고 list로 형 변환을 해 봅시다.\n",
    "# 작성한 range를 list()로 감싸 형 변환 할 수 있습니다.\n",
    "list(range(10))\n"
   ]
  },
  {
   "cell_type": "code",
   "execution_count": 37,
   "metadata": {
    "id": "ttty2tsiYaYy"
   },
   "outputs": [
    {
     "data": {
      "text/plain": [
       "[4, 5, 6, 7, 8]"
      ]
     },
     "execution_count": 37,
     "metadata": {},
     "output_type": "execute_result"
    }
   ],
   "source": [
    "# 4부터 8까지의 숫자를 담은 range를 만들고 list로 형 변환을 해 봅시다.\n",
    "list(range(4,9)) # 앞에는 포함. 뒤는 안 포함."
   ]
  },
  {
   "cell_type": "code",
   "execution_count": 39,
   "metadata": {
    "id": "rxYssiXuYaYy"
   },
   "outputs": [
    {
     "data": {
      "text/plain": [
       "[1, 3, 5, 7, 9]"
      ]
     },
     "execution_count": 39,
     "metadata": {},
     "output_type": "execute_result"
    }
   ],
   "source": [
    "# range(start, end, [step, ])을 활용합니다.\n",
    "# 0부터 -9까지 담긴 range를 만들고 list로 형 변환을 해 봅시다.\n",
    "# 출력 결과는 다음과 같습니다.\n",
    "# [0, -1, -2, -3, -4, -5, -6, -7, -8, -9]\n",
    "\n",
    "list(range(1, 11, 2))"
   ]
  },
  {
   "cell_type": "code",
   "execution_count": 46,
   "metadata": {},
   "outputs": [
    {
     "data": {
      "text/plain": [
       "[0, -1, -2, -3, -4, -5, -6, -7, -8, -9]"
      ]
     },
     "execution_count": 46,
     "metadata": {},
     "output_type": "execute_result"
    }
   ],
   "source": [
    "range(10)\n",
    "range(0, 10)\n",
    "range(0, 10, 1)\n",
    "# 모두 같다~\n",
    "list(range(-10, -1)) # 얘는 1번 2번만 있다고 판단된거구나.\n",
    "list(range(0,-10,-1))"
   ]
  },
  {
   "cell_type": "code",
   "execution_count": 85,
   "metadata": {},
   "outputs": [
    {
     "data": {
      "text/plain": [
       "[]"
      ]
     },
     "execution_count": 85,
     "metadata": {},
     "output_type": "execute_result"
    }
   ],
   "source": [
    "list(range(0, -10, 1)) # 얘가 안 된다는 걸 기억해"
   ]
  },
  {
   "cell_type": "code",
   "execution_count": 99,
   "metadata": {},
   "outputs": [
    {
     "data": {
      "text/plain": [
       "[0]"
      ]
     },
     "execution_count": 99,
     "metadata": {},
     "output_type": "execute_result"
    }
   ],
   "source": [
    "list(range(0, -1, -1))\n",
    "# list(range(0, 1, 10))\n",
    "# list(range(0, 1, 1))"
   ]
  },
  {
   "cell_type": "code",
   "execution_count": 74,
   "metadata": {},
   "outputs": [
    {
     "data": {
      "text/plain": [
       "[1, 11, 21, 31, 41, 51, 61, 'drawing', 81, 91]"
      ]
     },
     "execution_count": 74,
     "metadata": {},
     "output_type": "execute_result"
    }
   ],
   "source": [
    "howto = list(range(10))\n",
    "chi = range(1, 100, len(howto))\n",
    "shi = list(chi)\n",
    "shi[len(howto)-3] = 'drawing'\n",
    "list(shi)\n"
   ]
  },
  {
   "cell_type": "code",
   "execution_count": 80,
   "metadata": {},
   "outputs": [
    {
     "data": {
      "text/plain": [
       "[1, 'gae', 'w', 't', 'f', [1, 3, 5]]"
      ]
     },
     "execution_count": 80,
     "metadata": {},
     "output_type": "execute_result"
    }
   ],
   "source": [
    "x = [1, 'gae', 'sae', [1, 3, 5]]\n",
    "x[2:len(x)-1] = 'wtf'\n",
    "x\n"
   ]
  },
  {
   "cell_type": "code",
   "execution_count": 84,
   "metadata": {},
   "outputs": [
    {
     "data": {
      "text/plain": [
       "[1, 'gae', 'w', 'wtf', 'f', [1, 3, 5]]"
      ]
     },
     "execution_count": 84,
     "metadata": {},
     "output_type": "execute_result"
    }
   ],
   "source": [
    "x[3] = 'wtf'\n",
    "x"
   ]
  },
  {
   "cell_type": "markdown",
   "metadata": {
    "id": "qx-IF94cYaYy"
   },
   "source": [
    "### 패킹 / 언패킹 연산자 (Packing / Unpacking Operator)\n",
    "모든 시퀀스형(리스트, 튜플 등)은 패킹/언패킹 연산자 * 를 사용하여 객체의 패킹 또는 언패킹이 가능합니다.\n",
    "```python\n",
    "x, *y = i, j, k ...\n",
    "```"
   ]
  },
  {
   "cell_type": "markdown",
   "metadata": {
    "id": "ShWAoObPYaYy"
   },
   "source": [
    "**패킹**\n",
    "- 대입문의 좌변 변수에 위치합니다.\n",
    "- 우변의 객체 수가 좌변의 변수 수보다 많을 경우 객체를 순서대로 대입합니다.\n",
    "- 나머지 항목들은 모두 별 기호 표시된 변수에 리스트로 대입합니다."
   ]
  },
  {
   "cell_type": "code",
   "execution_count": 48,
   "metadata": {
    "id": "iMLAF6WlYaYz"
   },
   "outputs": [
    {
     "data": {
      "text/plain": [
       "(int, int)"
      ]
     },
     "execution_count": 48,
     "metadata": {},
     "output_type": "execute_result"
    }
   ],
   "source": [
    "# x 를 패킹을 통해 저장해 봅시다.\n",
    "x, y = [1, 2]\n",
    "type(x), type(y)"
   ]
  },
  {
   "cell_type": "code",
   "execution_count": 50,
   "metadata": {
    "id": "V2t21XnsYaYz"
   },
   "outputs": [
    {
     "data": {
      "text/plain": [
       "[2, 3]"
      ]
     },
     "execution_count": 50,
     "metadata": {},
     "output_type": "execute_result"
    }
   ],
   "source": [
    "x, *y = [1, 2, 3] # 오오오오옹.\n",
    "list(y)\n",
    "# * 붙은 건 항상 마지막에 와야 함.\n",
    "# 맨앞은 되긴 하는데 그래도 하지 말어라..."
   ]
  },
  {
   "cell_type": "markdown",
   "metadata": {
    "id": "r7kaInq0YaYz"
   },
   "source": [
    "**언패킹**\n",
    "- argument 이름이 *로 시작하는 경우, argument unpacking이라고 부릅니다.\n",
    "- 패킹의 경우, 리스트로 대입합니다."
   ]
  },
  {
   "cell_type": "code",
   "execution_count": null,
   "metadata": {
    "id": "WKgjyAmjYaYz"
   },
   "outputs": [],
   "source": [
    "def multiply(x, y, z):\n",
    "    return x * y * z"
   ]
  },
  {
   "cell_type": "markdown",
   "metadata": {
    "id": "MWZfIJTHYaYz"
   },
   "source": [
    "- 언패킹의 경우, 튜플 형태로 대입합니다."
   ]
  },
  {
   "cell_type": "code",
   "execution_count": null,
   "metadata": {
    "id": "MlgydDmxYaY2"
   },
   "outputs": [],
   "source": [
    "numbers = [1, 2, 3]\n",
    "multiply(numbers)  # multiply([1, 2, 3])\n",
    "multiply(*numbers)  # multiply(1, 2, 3)"
   ]
  },
  {
   "cell_type": "markdown",
   "metadata": {
    "id": "EmkFQK0DYaY2"
   },
   "source": [
    "**패킹/언패킹 연산자 주의사항**\n",
    "\n",
    "` * ` 연산자가 곱셈을 의미하는지 패킹/언패킹 연산자인지 구분하여야 합니다.\n",
    "- 패킹/언패킹 연산자의 경우\n",
    "    1. 연산자가 대입식의 좌측에 위치하는 경우\n",
    "    2. 연산자가 단항 연산자로 사용되는 경우\n",
    "        - 단항 연산자 : 하나의 항을 대상으로 연산이 이루어지는 연산자\n",
    "        \n",
    "        \n",
    "- 산술연산자의 경우\n",
    "    1. 연산자가 이항연산자로 사용되는 경우\n",
    "        - 이항 연산자 : 두 개의 항을 대상으로 연산이 이루어지는 연산자"
   ]
  },
  {
   "cell_type": "markdown",
   "metadata": {
    "id": "na3-yMY1YaY2"
   },
   "source": [
    "## 비 시퀀스형(Non-sequence) 컨테이너\n",
    "\n",
    "- 세트(set)\n",
    "\n",
    "- 딕셔너리(dictionary)"
   ]
  },
  {
   "cell_type": "markdown",
   "metadata": {
    "id": "llGwNqJiYaY2"
   },
   "source": [
    "### 세트 (Set)\n",
    "\n",
    "`set`은 순서가 없고 중복된 값이 없는 자료구조입니다.\n",
    "\n",
    "* `set`은 수학에서의 집합과 동일하게 처리됩니다.\n",
    "\n",
    "* `set`은 중괄호`{}`를 통해 만들며, 순서가 없고 중복된 값이 없습니다.\n",
    "\n",
    "* 담고있는 객체를 삽입 변경, 삭제 가능 (mutable) 합니다.\n",
    "\n",
    "* 빈 세트를 만들려면 `set()`을 사용해야 합니다. (`{}`로 사용 불가능)\n",
    "\n",
    "* 활용 가능한 연산자는 차집합(`-`), 합집합(`|`), 교집합(`&`)입니다.\n",
    "\n",
    "**생성과 접근**\n",
    "```python\n",
    "{value1, value2, value3}\n",
    "```"
   ]
  },
  {
   "cell_type": "code",
   "execution_count": 114,
   "metadata": {
    "id": "jn4-DsMBYaY2"
   },
   "outputs": [
    {
     "data": {
      "text/plain": [
       "(set, set, {1, 2, 3}, {3, 4, 5})"
      ]
     },
     "execution_count": 114,
     "metadata": {},
     "output_type": "execute_result"
    }
   ],
   "source": [
    "# set 두개를 만들어서 연산자들을 활용해봅시다.\n",
    "s1 = {3, 1, 2, 3, 1}\n",
    "s2 = {3, 4, 5}\n",
    "type(s1), type(s2), s1, s2"
   ]
  },
  {
   "cell_type": "markdown",
   "metadata": {
    "id": "O0QVeLyZYaY2"
   },
   "source": [
    "* 차집합은 연산자 `-`를 사용합니다."
   ]
  },
  {
   "cell_type": "code",
   "execution_count": 113,
   "metadata": {
    "id": "T6lt4nTxYaY3"
   },
   "outputs": [
    {
     "data": {
      "text/plain": [
       "{1, 2}"
      ]
     },
     "execution_count": 113,
     "metadata": {},
     "output_type": "execute_result"
    }
   ],
   "source": [
    "# set_a와 set_b의 차집합을 구해봅시다.\n",
    "s1 - s2"
   ]
  },
  {
   "cell_type": "markdown",
   "metadata": {
    "id": "DjQMkjgeYaY3"
   },
   "source": [
    "* 합집합은 연산자 `|`를 사용합니다."
   ]
  },
  {
   "cell_type": "code",
   "execution_count": 115,
   "metadata": {
    "id": "Sn1zS5w4YaY3"
   },
   "outputs": [
    {
     "data": {
      "text/plain": [
       "{1, 2, 3, 4, 5}"
      ]
     },
     "execution_count": 115,
     "metadata": {},
     "output_type": "execute_result"
    }
   ],
   "source": [
    "# set_a와 set_b의 합집합을 구해봅시다.\n",
    "\n",
    "s1 | s2"
   ]
  },
  {
   "cell_type": "markdown",
   "metadata": {
    "id": "V7CAwlCFYaY3"
   },
   "source": [
    "* 교집합은 연산자 `&`을 사용합니다."
   ]
  },
  {
   "cell_type": "code",
   "execution_count": 116,
   "metadata": {
    "id": "pviy1Yr2YaY3"
   },
   "outputs": [
    {
     "data": {
      "text/plain": [
       "{3}"
      ]
     },
     "execution_count": 116,
     "metadata": {},
     "output_type": "execute_result"
    }
   ],
   "source": [
    "# set_a와 set_b의 교집합을 구해봅시다.\n",
    "s1 & s2"
   ]
  },
  {
   "cell_type": "code",
   "execution_count": null,
   "metadata": {
    "id": "aP1RiqOwYaY3"
   },
   "outputs": [],
   "source": [
    "# set은 중복된 값이 있을 수 없습니다."
   ]
  },
  {
   "cell_type": "markdown",
   "metadata": {
    "id": "h8YG8UVsYaY3"
   },
   "source": [
    "* `set`을 활용하면 `list`의 중복된 값을 손쉽게 제거할 수 있습니다.\n",
    "* 단, `set`으로 변환하는 순간 순서를 보장할 수 없습니다."
   ]
  },
  {
   "cell_type": "code",
   "execution_count": 119,
   "metadata": {
    "id": "Zh-B5V3xYaY3"
   },
   "outputs": [
    {
     "data": {
      "text/plain": [
       "['부산', '대전', '광주', '서울']"
      ]
     },
     "execution_count": 119,
     "metadata": {},
     "output_type": "execute_result"
    }
   ],
   "source": [
    "# set으로 중복된 값을 제거해봅시다.\n",
    "# 문자열 서울, 서울, 대전, 광주, 서울, 대전, 부산, 부산를 원소로 가지는 set를 만듭니다.\n",
    "# 생성한 세트의 길이를 출력해 봅시다.\n",
    "\n",
    "locations = ['서울', '서울', '대전', '광주', '서울', '대전', '부산', '부산']\n",
    "locations = list(set(locations)) # 코딩의 구조를 기억하자...(졸려...)\n",
    "locations"
   ]
  },
  {
   "cell_type": "code",
   "execution_count": null,
   "metadata": {
    "id": "DrxiojqEYaY3"
   },
   "outputs": [],
   "source": [
    "# 생성한 세트를 출력해 봅시다.\n",
    "# 세트는 순서를 보장하지 않습니다."
   ]
  },
  {
   "cell_type": "markdown",
   "metadata": {
    "id": "dUTTww-1YaY3"
   },
   "source": [
    "### 딕셔너리 (dictionary)\n",
    "\n",
    "`dictionary`는 `key`와 `value`가 쌍으로 이뤄져있습니다.\n",
    "\n",
    "\n",
    "<center><img src=\"https://user-images.githubusercontent.com/18046097/61180427-1405d880-a651-11e9-94e1-1cc5c2a2ff34.png\"></center>"
   ]
  },
  {
   "cell_type": "markdown",
   "metadata": {
    "id": "Fc0L8ZjjYaY3"
   },
   "source": [
    "**생성과 접근**\n",
    "\n",
    "```python\n",
    "{Key1:Value1, Key2:Value2, Key3:Value3, ...}\n",
    "```\n",
    "\n",
    "* `{}`를 통해 만들며, `dict()`로 만들 수 있습니다.\n",
    "* 순서를 보장하지 않습니다.\n",
    "* `key`는 **변경 불가능(immutable)한 데이터**만 가능합니다. (immutable : string, integer, float, boolean, tuple, range)\n",
    "* `value`는 `list`, `dictionary`를 포함한 모든 것이 가능합니다."
   ]
  },
  {
   "cell_type": "code",
   "execution_count": 124,
   "metadata": {
    "id": "rEu3kYGnYaY3"
   },
   "outputs": [
    {
     "data": {
      "text/plain": [
       "dict"
      ]
     },
     "execution_count": 124,
     "metadata": {},
     "output_type": "execute_result"
    }
   ],
   "source": [
    "# 비어있는 dictionary를 두가지 방법으로 만들어봅시다.\n",
    "# {}와 dict()로 만들 수 있습니다.\n",
    "# 두 변수의 타입을 출력해 봅시다.\n",
    "dic_test = {} # set이랑 헷갈리지 말자. dict는 거의 다 이걸 쓴다.\n",
    "type(dic_test)"
   ]
  },
  {
   "cell_type": "code",
   "execution_count": 125,
   "metadata": {},
   "outputs": [
    {
     "data": {
      "text/plain": [
       "dict"
      ]
     },
     "execution_count": 125,
     "metadata": {},
     "output_type": "execute_result"
    }
   ],
   "source": [
    "hb_set = {}\n",
    "type(hb_set)"
   ]
  },
  {
   "cell_type": "code",
   "execution_count": 133,
   "metadata": {
    "id": "okhUrbMQYaY3"
   },
   "outputs": [
    {
     "data": {
      "text/plain": [
       "{'a': 3, 'b': 2}"
      ]
     },
     "execution_count": 133,
     "metadata": {},
     "output_type": "execute_result"
    }
   ],
   "source": [
    "# dictionary에 중복된 key는 존재할 수 없습니다.\n",
    "\n",
    "d1 = {'a': 1, 'b': 2, 'a': 3}\n",
    "d1"
   ]
  },
  {
   "cell_type": "code",
   "execution_count": 147,
   "metadata": {
    "id": "fSvKE107YaY3"
   },
   "outputs": [
    {
     "data": {
      "text/plain": [
       "'02'"
      ]
     },
     "execution_count": 147,
     "metadata": {},
     "output_type": "execute_result"
    }
   ],
   "source": [
    "# 지역번호가 담긴 전화번호부를 만들어봅시다.\n",
    "# 변수 phone_book에 key를 지역명, value를 지역번호로 가지는 원소를 작성합니다.\n",
    "# 예) 서울 - 02\n",
    "pb = {\n",
    "    '서울' : '02',\n",
    "    '경기도': '031',\n",
    "    '인천': '032', # 쉼표 써도 됨.\n",
    "}\n",
    "pb['서울']"
   ]
  },
  {
   "cell_type": "code",
   "execution_count": 148,
   "metadata": {
    "id": "GW2E8FidYaY3"
   },
   "outputs": [
    {
     "data": {
      "text/plain": [
       "dict_keys(['서울', '경기도', '인천'])"
      ]
     },
     "execution_count": 148,
     "metadata": {},
     "output_type": "execute_result"
    }
   ],
   "source": [
    "# 위에서 작성한 phone_book이 가지고 있는 key 목록을 확인 해 봅시다.\n",
    "# dictionary의 .keys() 메소드를 활용하여 key를 확인 해볼 수 있습니다.\n",
    "pb.keys()"
   ]
  },
  {
   "cell_type": "code",
   "execution_count": 149,
   "metadata": {
    "id": "m8N8ERnSYaY3"
   },
   "outputs": [
    {
     "data": {
      "text/plain": [
       "dict_values(['02', '031', '032'])"
      ]
     },
     "execution_count": 149,
     "metadata": {},
     "output_type": "execute_result"
    }
   ],
   "source": [
    "# 위에서 작성한 phone_book이 가지고 있는 value 목록을 확인 해 봅시다.\n",
    "# 딕셔너리의 .values() 메소드를 활용하여 value를 확인 해볼 수 있습니다.\n",
    "\n",
    "pb.values()"
   ]
  },
  {
   "cell_type": "code",
   "execution_count": 159,
   "metadata": {
    "id": "hK83ea7zYaY3"
   },
   "outputs": [
    {
     "data": {
      "text/plain": [
       "dict_items([('서울', '02'), ('경기도', '031'), ('인천', '032')])"
      ]
     },
     "execution_count": 159,
     "metadata": {},
     "output_type": "execute_result"
    }
   ],
   "source": [
    "# 위에서 작성한 phone_book이 가지고 있는 key와 value 목록을 확인 해 봅시다.\n",
    "# 딕셔너리의 .items() 메소드를 활용하여 key, value를 확인 해볼 수 있습니다.\n",
    "\n",
    "\"\"\"\n",
    "함수 중에 print()처럼 혼자 쓰는 게 있고\n",
    ".keys()처럼 어디에 붙여서 쓰는 애들이 있음.\n",
    "그런 친구들이 매서드.\"\"\"\n",
    "pb.items()\n",
    "# 엣. items()는 알아서 tuple로 만들어주네~?~?~?\n",
    "\n",
    "\n"
   ]
  },
  {
   "cell_type": "code",
   "execution_count": 162,
   "metadata": {},
   "outputs": [
    {
     "data": {
      "text/plain": [
       "3"
      ]
     },
     "execution_count": 162,
     "metadata": {},
     "output_type": "execute_result"
    }
   ],
   "source": [
    "len(list(pb.items()))"
   ]
  },
  {
   "cell_type": "markdown",
   "metadata": {
    "id": "oBC_UhHbYaY4"
   },
   "source": [
    "# 형변환(Type conversion, Typecasting)\n",
    "\n",
    "파이썬에서 데이터타입은 서로 변환할 수 있습니다.\n",
    "\n",
    "- 암시적 형변환\n",
    "- 명시적 형변환"
   ]
  },
  {
   "cell_type": "markdown",
   "metadata": {
    "id": "YldR4XeWYaY4"
   },
   "source": [
    "## 컨테이너형 형변환\n",
    "\n",
    "파이썬에서 컨테이너는 서로 변환할 수 있습니다.\n",
    "\n",
    "<img width=\"708\" alt=\"typecasting\" src=\"https://user-images.githubusercontent.com/18046097/61180466-a6a67780-a651-11e9-8c0a-adb9e1ee04de.png\">\n"
   ]
  },
  {
   "cell_type": "code",
   "execution_count": null,
   "metadata": {
    "id": "jc6EYRDEYaY4"
   },
   "outputs": [],
   "source": [
    "# 하나의 결과를 확인 한 후, 주석 `#` 을 활용하여 이전의 코드를 비활성화 합니다.\n",
    "# 형변환 후의 결과를 확인 합니다."
   ]
  },
  {
   "cell_type": "code",
   "execution_count": 171,
   "metadata": {
    "id": "UwiBkVWWYaY4"
   },
   "outputs": [],
   "source": [
    "# list를 형변환 해봅시다.\n",
    "l = [1,2,3]\n",
    "# str(l)\n",
    "# tuple(l)\n",
    "# range\n",
    "# set(l)\n",
    "# dict(l)\n"
   ]
  },
  {
   "cell_type": "code",
   "execution_count": 185,
   "metadata": {
    "id": "G_IvBEk0YaY4"
   },
   "outputs": [
    {
     "ename": "TypeError",
     "evalue": "cannot convert dictionary update sequence element #0 to a sequence",
     "output_type": "error",
     "traceback": [
      "\u001b[31m---------------------------------------------------------------------------\u001b[39m",
      "\u001b[31mTypeError\u001b[39m                                 Traceback (most recent call last)",
      "\u001b[36mCell\u001b[39m\u001b[36m \u001b[39m\u001b[32mIn[185]\u001b[39m\u001b[32m, line 10\u001b[39m\n\u001b[32m      2\u001b[39m t = (\u001b[32m1\u001b[39m,\u001b[32m2\u001b[39m,\u001b[32m3\u001b[39m,)\n\u001b[32m      3\u001b[39m \u001b[38;5;66;03m# t\u001b[39;00m\n\u001b[32m      4\u001b[39m \u001b[38;5;66;03m# # len(str(t))\u001b[39;00m\n\u001b[32m      5\u001b[39m \u001b[38;5;66;03m# tt = list(t)\u001b[39;00m\n\u001b[32m   (...)\u001b[39m\u001b[32m      8\u001b[39m \u001b[38;5;66;03m# st = set(t)\u001b[39;00m\n\u001b[32m      9\u001b[39m \u001b[38;5;66;03m# t[0]\u001b[39;00m\n\u001b[32m---> \u001b[39m\u001b[32m10\u001b[39m \u001b[38;5;28;43mdict\u001b[39;49m\u001b[43m(\u001b[49m\u001b[43mt\u001b[49m\u001b[43m)\u001b[49m\n",
      "\u001b[31mTypeError\u001b[39m: cannot convert dictionary update sequence element #0 to a sequence"
     ]
    }
   ],
   "source": [
    "# tuple을 형변환 해봅시다.\n",
    "t = (1,2,3,)\n",
    "# t\n",
    "# # len(str(t))\n",
    "# tt = list(t)\n",
    "# tt[0]=3\n",
    "# t, tt\n",
    "# st = set(t)\n",
    "# t[0]\n",
    "# dict(t)"
   ]
  },
  {
   "cell_type": "code",
   "execution_count": 201,
   "metadata": {
    "id": "aFhT_1EiYaY4"
   },
   "outputs": [
    {
     "ename": "TypeError",
     "evalue": "cannot convert dictionary update sequence element #0 to a sequence",
     "output_type": "error",
     "traceback": [
      "\u001b[31m---------------------------------------------------------------------------\u001b[39m",
      "\u001b[31mTypeError\u001b[39m                                 Traceback (most recent call last)",
      "\u001b[36mCell\u001b[39m\u001b[36m \u001b[39m\u001b[32mIn[201]\u001b[39m\u001b[32m, line 10\u001b[39m\n\u001b[32m      8\u001b[39m lsr\n\u001b[32m      9\u001b[39m \u001b[38;5;66;03m# lsr[0]\u001b[39;00m\n\u001b[32m---> \u001b[39m\u001b[32m10\u001b[39m \u001b[38;5;28;43mdict\u001b[39;49m\u001b[43m(\u001b[49m\u001b[43mr\u001b[49m\u001b[43m)\u001b[49m\n",
      "\u001b[31mTypeError\u001b[39m: cannot convert dictionary update sequence element #0 to a sequence"
     ]
    }
   ],
   "source": [
    "# range를 형변환 해봅시다.\n",
    "r = range(10, -5, -3)\n",
    "# list(r)\n",
    "# len(str(r))\n",
    "tuple(r)\n",
    "set(r)\n",
    "lsr = list(set(r))\n",
    "lsr\n",
    "# lsr[0]\n",
    "dict(r)"
   ]
  },
  {
   "cell_type": "code",
   "execution_count": 213,
   "metadata": {
    "id": "pow0RpinYaY4"
   },
   "outputs": [
    {
     "data": {
      "text/plain": [
       "2"
      ]
     },
     "execution_count": 213,
     "metadata": {},
     "output_type": "execute_result"
    }
   ],
   "source": [
    "# set을 형변환 해봅시다.\n",
    "s = {1,2,3,}\n",
    "s\n",
    "len(str(s))\n",
    "list(s)\n",
    "len(s) #순서는 없지만 길이는 있네.\n",
    "list(s)[len(s)-2]\n"
   ]
  },
  {
   "cell_type": "code",
   "execution_count": 218,
   "metadata": {},
   "outputs": [
    {
     "data": {
      "text/plain": [
       "[{1, 2, 3, 4, 5}, 's', 105, 5]"
      ]
     },
     "execution_count": 218,
     "metadata": {},
     "output_type": "execute_result"
    }
   ],
   "source": [
    "s = {1,2,3,3,4,5,}\n",
    "newlist = [s, 's', 105, len(s)]\n",
    "newlist"
   ]
  },
  {
   "cell_type": "code",
   "execution_count": 219,
   "metadata": {},
   "outputs": [
    {
     "ename": "TypeError",
     "evalue": "unhashable type: 'set'",
     "output_type": "error",
     "traceback": [
      "\u001b[31m---------------------------------------------------------------------------\u001b[39m",
      "\u001b[31mTypeError\u001b[39m                                 Traceback (most recent call last)",
      "\u001b[36mCell\u001b[39m\u001b[36m \u001b[39m\u001b[32mIn[219]\u001b[39m\u001b[32m, line 2\u001b[39m\n\u001b[32m      1\u001b[39m s = {\u001b[32m1\u001b[39m,\u001b[32m2\u001b[39m,\u001b[32m3\u001b[39m,\u001b[32m3\u001b[39m,\u001b[32m4\u001b[39m,\u001b[32m5\u001b[39m,}\n\u001b[32m----> \u001b[39m\u001b[32m2\u001b[39m new_set = {s, \u001b[33m'\u001b[39m\u001b[33ms\u001b[39m\u001b[33m'\u001b[39m, \u001b[32m105\u001b[39m, \u001b[38;5;28mlen\u001b[39m(s)}\n\u001b[32m      3\u001b[39m new_set\n",
      "\u001b[31mTypeError\u001b[39m: unhashable type: 'set'"
     ]
    }
   ],
   "source": [
    "s = {1,2,3,3,4,5,}\n",
    "new_set = {s, 's', 105, len(s)}\n",
    "new_set\n",
    "# immutable해야 hashable하다.\n",
    "# immutable이 할 수 있는 일 : (1) set에 들어가기, (2) dict의 key되기."
   ]
  },
  {
   "cell_type": "code",
   "execution_count": 224,
   "metadata": {
    "id": "FQPRtYQ3YaY4"
   },
   "outputs": [
    {
     "data": {
      "text/plain": [
       "{1: '아구몬', 2: 'papimon', 3: 'piyomon'}"
      ]
     },
     "execution_count": 224,
     "metadata": {},
     "output_type": "execute_result"
    }
   ],
   "source": [
    "# dictionary를 형변환 해봅시다.\n",
    "n = range(1, 6)\n",
    "d = {n[0]:'아구몬', n[1]:'papimon', n[2]:'piyomon'}\n",
    "d"
   ]
  },
  {
   "cell_type": "code",
   "execution_count": 232,
   "metadata": {},
   "outputs": [
    {
     "data": {
      "text/plain": [
       "[1, 'j', 'i', 'r', 'a', 'l', 2, 3, 4, 5]"
      ]
     },
     "execution_count": 232,
     "metadata": {},
     "output_type": "execute_result"
    }
   ],
   "source": [
    "list_a1 = [1, 2, 3, 4, 5,]\n",
    "list_a1[1:1:1] = 'jiral'\n",
    "list_a1"
   ]
  },
  {
   "cell_type": "code",
   "execution_count": 234,
   "metadata": {},
   "outputs": [
    {
     "name": "stdout",
     "output_type": "stream",
     "text": [
      "[100, 2, 3] [100, 2, 3]\n"
     ]
    }
   ],
   "source": [
    "\"\"\"\n",
    "매우 이상한 거 한 가지\n",
    "\"\"\"\n",
    "l1 = [1, 2, 3]\n",
    "l2 = l1\n",
    "l1[0] = 100\n",
    "                # l2는 안 바뀌었지만\n",
    "print(l1, l2)   # 바뀐 결과가 나왔다.\n",
    "# 이는 l2가 l1의 주소를 참고했기 때문."
   ]
  },
  {
   "cell_type": "code",
   "execution_count": 235,
   "metadata": {},
   "outputs": [],
   "source": [
    "l1 = [1, 2, 3]\n",
    "l2 = l1     # 얘는 같은 주소고\n",
    "l3 = l1[:]  # 얘는 카피임. 주소가 다름"
   ]
  },
  {
   "cell_type": "code",
   "execution_count": null,
   "metadata": {},
   "outputs": [],
   "source": [
    "l1 = [[1, 2], [3,4]] # 이렇게 하면 어떨까?\n",
    "l2 = l1     # 얘는 당연히 같은 주소고\n",
    "l3 = l1[:]  # 얘는 카피는 맞는데, 내부 요소의 주소는 레퍼런싱함. ㄷㄷ\n",
    "l4 = deepcopy(l1) # is the 진짜 카피..."
   ]
  },
  {
   "cell_type": "markdown",
   "metadata": {
    "id": "tRld7ET1YaY4"
   },
   "source": [
    "# 정리\n",
    "## 컨테이너(Container)\n",
    "<center><img src=\"https://user-images.githubusercontent.com/18046097/61180439-44e60d80-a651-11e9-9adc-e60fa57c2165.png\", alt=\"container\"/></center>"
   ]
  },
  {
   "cell_type": "markdown",
   "metadata": {
    "id": "AfA1txllYaY4"
   },
   "source": [
    "## 시퀀스형 연산자(Sqeuence Type Operator)\n",
    "\n",
    "### 산술 연산자 (+)\n",
    "시퀀스를 연결(concatenation)할 수 있습니다."
   ]
  },
  {
   "cell_type": "code",
   "execution_count": null,
   "metadata": {
    "id": "QFeoauC0YaY4"
   },
   "outputs": [],
   "source": [
    "# 두 list [1, 2] 와 ['a'] 를 + 를 이용하여 합쳐봅시다."
   ]
  },
  {
   "cell_type": "code",
   "execution_count": 100,
   "metadata": {
    "id": "vNE0z7G8YaY4"
   },
   "outputs": [
    {
     "data": {
      "text/plain": [
       "[1, 2, 'a']"
      ]
     },
     "execution_count": 100,
     "metadata": {},
     "output_type": "execute_result"
    }
   ],
   "source": [
    "[1, 2] + ['a']"
   ]
  },
  {
   "cell_type": "code",
   "execution_count": null,
   "metadata": {
    "id": "b2Ha6hkcYaY4"
   },
   "outputs": [],
   "source": [
    "# 두 튜플 (1, 2) 와 ('a',) 를 + 를 이용하여 합쳐봅시다."
   ]
  },
  {
   "cell_type": "code",
   "execution_count": 102,
   "metadata": {
    "id": "xWG_J9LMYaY4"
   },
   "outputs": [
    {
     "data": {
      "text/plain": [
       "(1, 2, 'a')"
      ]
     },
     "execution_count": 102,
     "metadata": {},
     "output_type": "execute_result"
    }
   ],
   "source": [
    "(1, 2) + ('a',)"
   ]
  },
  {
   "cell_type": "code",
   "execution_count": null,
   "metadata": {
    "id": "uPOM22X8YaY4"
   },
   "outputs": [],
   "source": [
    "# range에는 사용할 수 없습니다.\n",
    "# range(1), range(2, 5) 를 + 를 이용하여 합치고자 할 때 발생하는 오류를 확인해 봅시다."
   ]
  },
  {
   "cell_type": "code",
   "execution_count": null,
   "metadata": {
    "id": "ovwMXVgmYaY4"
   },
   "outputs": [],
   "source": [
    "range(1) + range(2,3)"
   ]
  },
  {
   "cell_type": "code",
   "execution_count": null,
   "metadata": {
    "id": "NoDl-0z3YaY4"
   },
   "outputs": [],
   "source": [
    "# 두 문자열 '12' 와 'a' 를 + 를 이용하여 합쳐봅시다."
   ]
  },
  {
   "cell_type": "code",
   "execution_count": 104,
   "metadata": {
    "id": "AncW4wJqYaY4"
   },
   "outputs": [
    {
     "data": {
      "text/plain": [
       "'12ㅁ'"
      ]
     },
     "execution_count": 104,
     "metadata": {},
     "output_type": "execute_result"
    }
   ],
   "source": [
    "'12' + 'ㅁ'"
   ]
  },
  {
   "cell_type": "markdown",
   "metadata": {
    "id": "pgNzJEoqYaY4"
   },
   "source": [
    "### 반복 연산자 (*)\n",
    "시퀀스를 반복할 수 있습니다."
   ]
  },
  {
   "cell_type": "code",
   "execution_count": null,
   "metadata": {
    "id": "9kqfbYlxYaY5"
   },
   "outputs": [],
   "source": [
    "# 리스트 [0] 을 *을 이용해 8번 반복해봅시다."
   ]
  },
  {
   "cell_type": "code",
   "execution_count": 105,
   "metadata": {
    "id": "xXqvPu-LYaY5"
   },
   "outputs": [
    {
     "data": {
      "text/plain": [
       "[0, 0, 0, 0, 0, 0, 0, 0]"
      ]
     },
     "execution_count": 105,
     "metadata": {},
     "output_type": "execute_result"
    }
   ],
   "source": [
    "[0] * 8"
   ]
  },
  {
   "cell_type": "code",
   "execution_count": null,
   "metadata": {
    "id": "yreAV8cWYaY5"
   },
   "outputs": [],
   "source": [
    "# 튜플 (1, 2) 를 * 을 활용해 3번 반복해봅시다."
   ]
  },
  {
   "cell_type": "code",
   "execution_count": 106,
   "metadata": {
    "id": "ReT1RI9hYaY5"
   },
   "outputs": [
    {
     "data": {
      "text/plain": [
       "'hihihihihihi'"
      ]
     },
     "execution_count": 106,
     "metadata": {},
     "output_type": "execute_result"
    }
   ],
   "source": [
    "'hi' * 6"
   ]
  },
  {
   "cell_type": "code",
   "execution_count": null,
   "metadata": {
    "id": "IISXWlvpYaY5"
   },
   "outputs": [],
   "source": [
    "# range에는 사용할 수 없습니다.\n",
    "# range(1) 을 * 연산자로 3번 반복하려고 할 때 발생하는 오류를 확인해 봅시다."
   ]
  },
  {
   "cell_type": "code",
   "execution_count": null,
   "metadata": {
    "id": "RZEnrzkNYaY5"
   },
   "outputs": [],
   "source": []
  },
  {
   "cell_type": "code",
   "execution_count": null,
   "metadata": {
    "id": "9mOO0YXXYaY5"
   },
   "outputs": [],
   "source": [
    "# 문자열 'hi' 를 * 을 활용해 3번 반복해봅시다."
   ]
  },
  {
   "cell_type": "code",
   "execution_count": null,
   "metadata": {
    "id": "fkz824zbYaY5"
   },
   "outputs": [],
   "source": []
  },
  {
   "cell_type": "markdown",
   "metadata": {
    "id": "utkDOdCcYaY5"
   },
   "source": [
    "## 기타 : 인덱싱/슬라이싱 (Indexing/Slicing)\n",
    "`[]`를 통한 값을 접근하고, `[:]`을 통해 슬라이싱할 수 있습니다. (data structure 챕터에서 자세하게 학습합니다.)"
   ]
  },
  {
   "cell_type": "markdown",
   "metadata": {
    "id": "I5iRMNxYYaY5"
   },
   "source": [
    "### 인덱싱\n",
    "시퀀스의 특정 인덱스 값에 접근 할 수 있습니다.\n",
    "- 해당 인덱스가 없는 경우 IndexError가 발생합니다."
   ]
  },
  {
   "cell_type": "code",
   "execution_count": null,
   "metadata": {
    "id": "MuBSvqmzYaY5"
   },
   "outputs": [],
   "source": [
    "# 리스트를 인덱싱을 통해 값에 접근해봅시다.\n",
    "# 리스트 [1, 2, 3]의 세번째 값을 인덱싱으로 확인해봅시다."
   ]
  },
  {
   "cell_type": "code",
   "execution_count": null,
   "metadata": {
    "id": "2twnlSvWYaY5"
   },
   "outputs": [],
   "source": []
  },
  {
   "cell_type": "code",
   "execution_count": null,
   "metadata": {
    "id": "gfNauslRYaY5"
   },
   "outputs": [],
   "source": [
    "# 튜플을 인덱싱을 통해 값에 접근해봅시다.\n",
    "# 튜플 (1, 2, 3)의 첫번째 값을 인덱싱으로 확인해봅시다."
   ]
  },
  {
   "cell_type": "code",
   "execution_count": null,
   "metadata": {
    "id": "H4r-F573YaY5"
   },
   "outputs": [],
   "source": []
  },
  {
   "cell_type": "code",
   "execution_count": null,
   "metadata": {
    "id": "lEdylk8RYaY5"
   },
   "outputs": [],
   "source": [
    "# range를 인덱싱을 통해 값에 접근해봅시다.\n",
    "# range(3)의 세번째 값을 인덱싱으로 확인해봅시다."
   ]
  },
  {
   "cell_type": "code",
   "execution_count": null,
   "metadata": {
    "id": "jAUkpsQfYaY5"
   },
   "outputs": [],
   "source": []
  },
  {
   "cell_type": "code",
   "execution_count": null,
   "metadata": {
    "id": "nxikhwTxYaY5"
   },
   "outputs": [],
   "source": [
    "# 문자열을 인덱싱을 통해 값에 접근해봅시다.\n",
    "# 문자열 'abc'의 첫번째 값을 인덱싱으로 확인해봅시다."
   ]
  },
  {
   "cell_type": "code",
   "execution_count": null,
   "metadata": {
    "id": "wspKTtceYaY5"
   },
   "outputs": [],
   "source": []
  },
  {
   "cell_type": "code",
   "execution_count": null,
   "metadata": {
    "id": "r0pHkQZbYaY5"
   },
   "outputs": [],
   "source": [
    "# 찾고자 하는 인덱스가 존재하지 않을때 오류가 발생합니다.\n",
    "# 문자열 apple의 100번째 값을 인덱싱으로 확인하고자 할 때 발생하는 오류를 확인해봅시다."
   ]
  },
  {
   "cell_type": "code",
   "execution_count": null,
   "metadata": {
    "id": "zxtdIfQlYaY5"
   },
   "outputs": [],
   "source": []
  },
  {
   "cell_type": "markdown",
   "metadata": {
    "id": "eH9B92myYaY6"
   },
   "source": [
    "### 슬라이싱\n",
    "- Sequence[start:end[:step]]\n",
    "\n",
    "시퀀스를 특정 단위로 슬라이싱 할 수 있습니다."
   ]
  },
  {
   "cell_type": "code",
   "execution_count": 107,
   "metadata": {
    "id": "W1HKY-CqYaY6"
   },
   "outputs": [
    {
     "name": "stdout",
     "output_type": "stream",
     "text": [
      "[2, 3, 4]\n",
      "(1, 2)\n",
      "range(5, 8)\n",
      "cd\n"
     ]
    }
   ],
   "source": [
    "# 아래 코드들을 실행한 결과를 확인하여 슬라이싱의 작동 원리를 파악해봅시다.\n",
    "print([1, 2, 3, 4][1:4])    # 시작인덱스 <= < 끝나는 인덱스\n",
    "print((1, 2, 3)[:2])\n",
    "print(range(10)[5:8])\n",
    "print('abcd'[2:4])  # slice 마지막 인덱스가 더 크더라도, 에러가 발생하지 않는다.\n",
    "010-1234-1-"
   ]
  },
  {
   "cell_type": "markdown",
   "metadata": {
    "id": "pXk2B94TYaY6"
   },
   "source": [
    "시퀀스를 `k` 간격으로 슬라이싱 할 수 있습니다."
   ]
  },
  {
   "cell_type": "code",
   "execution_count": null,
   "metadata": {
    "id": "YBe277m0YaY6"
   },
   "outputs": [],
   "source": [
    "# 아래 코드들을 실행한 결과를 확인하여 슬라이싱의 작동 원리를 파악해봅시다.\n",
    "# 문자열, 튜플, 레인지에서 모두 동일하게 동작합니다.\n"
   ]
  },
  {
   "cell_type": "code",
   "execution_count": null,
   "metadata": {
    "id": "xBFqTO3TYaY6"
   },
   "outputs": [],
   "source": [
    "# 아래의 코드를 실행하여 결과를 확인해 봅시다.\n",
    "s = 'abcdefghi'"
   ]
  },
  {
   "cell_type": "code",
   "execution_count": null,
   "metadata": {
    "id": "W0EmLcSuYaY6"
   },
   "outputs": [],
   "source": [
    "print(s[:3])\n",
    "print(s[5:])\n",
    "print(s[::])\n",
    "print(s[::-1]) # 문자 뒤집을 때 쓰는 것."
   ]
  },
  {
   "cell_type": "markdown",
   "metadata": {
    "id": "VpvLzinjYaY6"
   },
   "source": [
    "# 정리"
   ]
  },
  {
   "cell_type": "markdown",
   "metadata": {
    "id": "UHGLOKAJYaY6"
   },
   "source": [
    "## 변수(Variable)와 자료형(Data Type)\n",
    "\n",
    "<center><img width=800 height=400 src=\"https://user-images.githubusercontent.com/9452521/87640197-55a7f280-c781-11ea-9cff-19c022ce704a.png\", alt=\"variable\"/></center>\n"
   ]
  },
  {
   "cell_type": "markdown",
   "metadata": {
    "id": "z8dFqGPiYaY6"
   },
   "source": [
    "## 컨테이너(Container)\n",
    "<center><img src=\"https://user-images.githubusercontent.com/18046097/61180439-44e60d80-a651-11e9-9adc-e60fa57c2165.png\", alt=\"container\"/></center>"
   ]
  },
  {
   "cell_type": "markdown",
   "metadata": {
    "id": "l3tLGhDXYaY6"
   },
   "source": [
    "## 함수 (Function)\n",
    "- 특정 명령을 수행하는 함수 묶음을 말합니다."
   ]
  },
  {
   "cell_type": "code",
   "execution_count": null,
   "metadata": {
    "id": "g0GSALXoYaY6"
   },
   "outputs": [],
   "source": [
    "def multiply(x, y, z):\n",
    "    return x * y * z\n",
    "\n",
    "\n",
    "multiply(5, 6, 3)"
   ]
  },
  {
   "cell_type": "markdown",
   "metadata": {
    "id": "Rsxcpf29YaY6"
   },
   "source": [
    "## 모듈 (Module)\n",
    "- 함수 / 클래스의 모음 또는 하나의 프로그램을 구성하는 단위를 의미합니다.\n",
    "\n",
    "## 패키지 (Package)\n",
    "- 프로그램과 모듈의 묶음을 의미합니다.\n",
    "    - 프로그램 : 실행하기 위한 것\n",
    "    - 모듈 : 다른 프로그램에서 불러와 사용하기 위한 것\n",
    "![module](https://user-images.githubusercontent.com/45934087/148158664-3798bd68-a9fa-4c21-be01-874bada7c11c.png)\n"
   ]
  },
  {
   "cell_type": "markdown",
   "metadata": {
    "id": "LHl08TmwYaY6"
   },
   "source": [
    "## 라이브러리 (Library)\n",
    "- 패키지의 모음을 의미합니다.\n",
    "![Library](https://user-images.githubusercontent.com/45934087/148158810-466f417d-f950-4ac0-abcb-321e0577d043.png)"
   ]
  }
 ],
 "metadata": {
  "colab": {
   "provenance": []
  },
  "hide_input": false,
  "kernelspec": {
   "display_name": "3.13.2",
   "language": "python",
   "name": "python3"
  },
  "language_info": {
   "codemirror_mode": {
    "name": "ipython",
    "version": 3
   },
   "file_extension": ".py",
   "mimetype": "text/x-python",
   "name": "python",
   "nbconvert_exporter": "python",
   "pygments_lexer": "ipython3",
   "version": "3.13.2"
  },
  "toc": {
   "base_numbering": 1,
   "nav_menu": {},
   "number_sections": true,
   "sideBar": true,
   "skip_h1_title": false,
   "title_cell": "Table of Contents",
   "title_sidebar": "Python 기초",
   "toc_cell": false,
   "toc_position": {
    "height": "757px",
    "left": "53px",
    "top": "111.125px",
    "width": "305px"
   },
   "toc_section_display": true,
   "toc_window_display": true
  }
 },
 "nbformat": 4,
 "nbformat_minor": 0
}
