{
 "cells": [
  {
   "cell_type": "markdown",
   "id": "015c665a",
   "metadata": {},
   "source": [
    "### 22번 문제\n",
    "학생들의 성적 딕셔너리를 만들고, 평균 점수를 계산하여 평균 이상인 학생들만 출력하세요."
   ]
  },
  {
   "cell_type": "code",
   "execution_count": 3,
   "id": "3e3ee36e",
   "metadata": {},
   "outputs": [
    {
     "name": "stdout",
     "output_type": "stream",
     "text": [
      "Alice 85\n",
      "Charlie 90\n"
     ]
    }
   ],
   "source": [
    "scores = {'Alice': 85, 'Bob': 72, 'Charlie': 90, 'David': 60}\n",
    "total = 0\n",
    "for i in scores:\n",
    "    total += scores[i]\n",
    "avg = total/len(scores)\n",
    "for i in scores:\n",
    "    if scores[i] >= avg:\n",
    "        print(i, scores[i])"
   ]
  },
  {
   "cell_type": "markdown",
   "id": "cf788c80",
   "metadata": {},
   "source": [
    "### 23번 문제\n",
    "주어진 문자열에서 숫자만 추출하여 합계를 구하는 프로그램을 작성하세요."
   ]
  },
  {
   "cell_type": "code",
   "execution_count": 8,
   "id": "7ea517c6",
   "metadata": {},
   "outputs": [
    {
     "data": {
      "text/plain": [
       "15"
      ]
     },
     "execution_count": 8,
     "metadata": {},
     "output_type": "execute_result"
    }
   ],
   "source": [
    "text = \"a1b2c3d45\"\n",
    "total = 0\n",
    "for i in text:\n",
    "    if i.isdigit():\n",
    "        total += int(i)\n",
    "total"
   ]
  },
  {
   "cell_type": "markdown",
   "id": "8a14b3de",
   "metadata": {},
   "source": [
    "### 24번 문제\n",
    "피보나치 수열의 첫 10개 항을 리스트에 저장하여 출력하세요."
   ]
  },
  {
   "cell_type": "code",
   "execution_count": 9,
   "id": "cc8b02fd",
   "metadata": {},
   "outputs": [
    {
     "data": {
      "text/plain": [
       "[0, 1, 1, 2, 3, 5, 8, 13, 21, 34]"
      ]
     },
     "execution_count": 9,
     "metadata": {},
     "output_type": "execute_result"
    }
   ],
   "source": [
    "fibonacci = [0, 1]\n",
    "for i in range(2, 10):\n",
    "    fibonacci.append(fibonacci[i-2] + fibonacci[i-1])\n",
    "fibonacci"
   ]
  },
  {
   "cell_type": "markdown",
   "id": "cf47b1ae",
   "metadata": {},
   "source": [
    "### 25번 문제\n",
    "영어 문장을 입력받아 단어 개수, 문자 개수(공백 제외), 모음 개수를 세는 프로그램을 작성하세요."
   ]
  },
  {
   "cell_type": "code",
   "execution_count": null,
   "id": "92747767",
   "metadata": {},
   "outputs": [
    {
     "data": {
      "text/plain": [
       "0"
      ]
     },
     "execution_count": 20,
     "metadata": {},
     "output_type": "execute_result"
    }
   ],
   "source": [
    "sentence = input(\"문장을 입력하세요: \")\n",
    "# 단어 나누기\n",
    "words = sentence.split(' ')\n",
    "# 공백지우기\n",
    "sentence.count()\n",
    "\n",
    "# print(f'words: {words}')"
   ]
  },
  {
   "cell_type": "markdown",
   "id": "65dcf00d",
   "metadata": {},
   "source": [
    "### 26번 문제\n",
    "2차원 리스트 [[1, 2, 3], [4, 5, 6], [7, 8, 9]]의 모든 원소의 합을 구하세요."
   ]
  },
  {
   "cell_type": "code",
   "execution_count": 22,
   "id": "26a8319e",
   "metadata": {},
   "outputs": [
    {
     "data": {
      "text/plain": [
       "45"
      ]
     },
     "execution_count": 22,
     "metadata": {},
     "output_type": "execute_result"
    }
   ],
   "source": [
    "matrix = [[1, 2, 3], [4, 5, 6], [7, 8, 9]]\n",
    "total = 0\n",
    "for r in range(len(matrix)):\n",
    "    for s in range(len(matrix[r])):\n",
    "        total += matrix[r][s]\n",
    "total"
   ]
  },
  {
   "cell_type": "markdown",
   "id": "dea32b37",
   "metadata": {},
   "source": [
    "### 27번 문제\n",
    "문자열 리스트에서 가장 긴 문자열과 가장 짧은 문자열을 찾아 출력하세요."
   ]
  },
  {
   "cell_type": "code",
   "execution_count": 34,
   "id": "28d8b0c0",
   "metadata": {},
   "outputs": [
    {
     "data": {
      "text/plain": [
       "'grasdasdasdadsw'"
      ]
     },
     "execution_count": 34,
     "metadata": {},
     "output_type": "execute_result"
    }
   ],
   "source": [
    "words = [\"apple\", \"banana\", \"kiwi\", \"strawberry\", 'grasdasdasdadsw']\n",
    "maxword = words[0]\n",
    "for i in range(len(words)):\n",
    "    if len(maxword) < len(words[i]):\n",
    "        maxword = words[i]\n",
    "maxword"
   ]
  },
  {
   "cell_type": "markdown",
   "id": "88c6ac5b",
   "metadata": {},
   "source": [
    "### 28번 문제\n",
    "로또 번호 생성기를 만드세요. (1~45 중 중복 없는 6개 숫자)"
   ]
  },
  {
   "cell_type": "code",
   "execution_count": 36,
   "id": "5c9030f3",
   "metadata": {},
   "outputs": [
    {
     "data": {
      "text/plain": [
       "[10, 27, 7, 16, 34, 44]"
      ]
     },
     "execution_count": 36,
     "metadata": {},
     "output_type": "execute_result"
    }
   ],
   "source": [
    "lotto = list(range(1,46))\n",
    "import random\n",
    "lucky = random.sample(lotto, 6) # 비복원추출\n",
    "lucky\n"
   ]
  },
  {
   "cell_type": "markdown",
   "id": "4cdf20f0",
   "metadata": {},
   "source": [
    "### 29번 문제\n",
    "문자열을 입력받아 각 문자의 ASCII 값을 딕셔너리로 저장하여 출력하세요."
   ]
  },
  {
   "cell_type": "code",
   "execution_count": null,
   "id": "4ff89e6f",
   "metadata": {},
   "outputs": [],
   "source": [
    "text = input(\"문자열을 입력하세요: \")\n"
   ]
  },
  {
   "cell_type": "markdown",
   "id": "d458db98",
   "metadata": {},
   "source": [
    "### 30번 문제\n",
    "주어진 문자열에서 가장 많이 나타나는 문자와 그 개수를 찾아 출력하세요."
   ]
  },
  {
   "cell_type": "code",
   "execution_count": 53,
   "id": "edbc2d19",
   "metadata": {},
   "outputs": [
    {
     "name": "stdout",
     "output_type": "stream",
     "text": [
      "i 4\n"
     ]
    }
   ],
   "source": [
    "text = \"mississippi\"\n",
    "lett = list(set(text))\n",
    "maxlett = lett[0]\n",
    "for i in lett:\n",
    "    if text.count(maxlett) < text.count(i):\n",
    "        maxlett = i\n",
    "print(maxlett, text.count(maxlett))"
   ]
  }
 ],
 "metadata": {
  "kernelspec": {
   "display_name": "3.13.2",
   "language": "python",
   "name": "python3"
  },
  "language_info": {
   "codemirror_mode": {
    "name": "ipython",
    "version": 3
   },
   "file_extension": ".py",
   "mimetype": "text/x-python",
   "name": "python",
   "nbconvert_exporter": "python",
   "pygments_lexer": "ipython3",
   "version": "3.13.2"
  }
 },
 "nbformat": 4,
 "nbformat_minor": 5
}
