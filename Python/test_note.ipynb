{
 "cells": [
  {
   "cell_type": "code",
   "execution_count": 22,
   "id": "100d5091",
   "metadata": {},
   "outputs": [],
   "source": [
    "inst1 = 'edeaaabbccd'\n",
    "inst2 = 'eeddee'\n",
    "inst3 = 'string'\n",
    "inst4 = 'zbzbz'"
   ]
  },
  {
   "cell_type": "code",
   "execution_count": 18,
   "id": "5a38c51f",
   "metadata": {},
   "outputs": [],
   "source": [
    "def solution(input_string):\n",
    "    out = []\n",
    "    l = len(input_string)\n",
    "    for i in range(l-1):\n",
    "        inst = input_string\n",
    "        if inst.count(inst[i]) > 1:\n",
    "            if inst[i] != inst[i+1]:\n",
    "                for j in range(i+2, l):\n",
    "                    if inst[j] == inst[i]:\n",
    "                        out.append(inst[i])\n",
    "    if len(out) == 0:\n",
    "        return 'N'\n",
    "    return ''.join(sorted(list(set(out))))\n",
    "\n",
    "# 앞에서부터 찾아\n",
    "# 글자(i) 하나가 2번 이상 나왔을 때,\n",
    "# 분기1: 그 글자의 다음글자(i+1)가 같은 글자다\n",
    "    # 진행\n",
    "# 분기2: 그 글자의 다음글자(i+1)가 다른 글자다.\n",
    "    # 그 다음 글자(i+2) 이후로 같은 글자가 있으면 out.append(inst[i])"
   ]
  },
  {
   "cell_type": "code",
   "execution_count": 23,
   "id": "45521eef",
   "metadata": {},
   "outputs": [
    {
     "data": {
      "text/plain": [
       "'bz'"
      ]
     },
     "execution_count": 23,
     "metadata": {},
     "output_type": "execute_result"
    }
   ],
   "source": [
    "solution(inst4)"
   ]
  },
  {
   "cell_type": "code",
   "execution_count": null,
   "id": "8bd693e4",
   "metadata": {},
   "outputs": [],
   "source": [
    "ability = [\n",
    "    [40, 10, 10],\n",
    "    [20, 5, 0],\n",
    "    [30, 30, 30],\n",
    "    [70, 0, 70],\n",
    "    [100, 100, 100]\n",
    "]\n",
    "# 전체 뽑기 케이스에 대한 리스트를 만들고\n",
    "# 전체 뽑기 케이스 리스트\n",
    "# 1열에 대해서 숫자를 순차적으로 뽑는다\n",
    "for i in range(ability):\n",
    "    tennis = i[0]\n",
    "    # 뽑힌 숫자가 있는 행을 빼고 다음 열에서 뽑는다.\n",
    "\n",
    "# 그 리스트에서 max를 하면 된다."
   ]
  }
 ],
 "metadata": {
  "kernelspec": {
   "display_name": "3.13.2",
   "language": "python",
   "name": "python3"
  },
  "language_info": {
   "codemirror_mode": {
    "name": "ipython",
    "version": 3
   },
   "file_extension": ".py",
   "mimetype": "text/x-python",
   "name": "python",
   "nbconvert_exporter": "python",
   "pygments_lexer": "ipython3",
   "version": "3.13.2"
  }
 },
 "nbformat": 4,
 "nbformat_minor": 5
}
