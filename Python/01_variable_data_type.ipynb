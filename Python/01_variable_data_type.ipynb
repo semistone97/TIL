{
 "cells": [
  {
   "cell_type": "markdown",
   "metadata": {
    "id": "s7dNLiNNXhj3"
   },
   "source": [
    "<p style=\"font-size: 33px; font-weight: 700; margin-bottom: 3rem\">Python 기초</p>\n",
    "\n",
    "# 개요\n",
    "\n",
    "본 강의 자료는 [Python 공식 Tutorial](https://docs.python.org/3/tutorial/index.html)에 근거하여 만들어졌으며, Python 3.9 이상 버전에 해당하는 내용을 담고 있습니다.\n",
    "\n",
    "또한, 파이썬에서 제공하는 스타일 가이드인 [`PEP-8`](https://www.python.org/dev/peps/pep-0008/) 내용을 반영하였습니다.\n",
    "\n",
    "파이썬을 활용하는 다양한 IT기업들은 대내외적으로 본인들의 스타일 가이드를 제공하고 있습니다.\n",
    "\n",
    "* [구글 스타일 가이드](https://github.com/google/styleguide/blob/gh-pages/pyguide.md)\n",
    "* [Tensorflow 스타일 가이드](https://www.tensorflow.org/community/style_guide)\n",
    "\n"
   ]
  },
  {
   "cell_type": "markdown",
   "metadata": {
    "id": "p1BnC8r6Xhj5"
   },
   "source": [
    "# 기초 문법(Syntax)\n",
    "## 들여쓰기(Indentation)\n",
    "\n",
    "코드 블록을 구분할 때, 중괄호 ({,}) 대신 <들여쓰기 (identation)>를 사용합니다.\n",
    "\n",
    "들여쓰기를 할 때는 4칸(space키 4번) 혹은 1탭 (Tab키 1번)을 입력합니다.\n",
    "- 주의! 한 코드 안에서는 반드시 한 종류의 들여쓰기를 사용합니다.\n",
    "- 원칙적으로는 공백 (빈칸, space) 사용을 권장합니다. * PEP8 권장사항"
   ]
  },
  {
   "cell_type": "code",
   "execution_count": null,
   "metadata": {
    "id": "0CGlJegwXhj6"
   },
   "outputs": [],
   "source": [
    "# 일반적인 코드 작성 스타일"
   ]
  },
  {
   "cell_type": "code",
   "execution_count": 1,
   "metadata": {
    "id": "HBwQduGcXhj6"
   },
   "outputs": [
    {
     "name": "stdout",
     "output_type": "stream",
     "text": [
      "hello\n",
      "world\n",
      "True\n"
     ]
    }
   ],
   "source": [
    "print('hello')\n",
    "print('world')\n",
    "\n",
    "\n",
    "a = 'apple'\n",
    "\n",
    "if True:\n",
    "    print(True)\n",
    "else:\n",
    "    print(False)\n",
    "\n",
    "b = 'banana'\n"
   ]
  },
  {
   "cell_type": "markdown",
   "metadata": {
    "id": "aHrEFvkQXhj6"
   },
   "source": [
    "## 변수(Variable)"
   ]
  },
  {
   "cell_type": "markdown",
   "metadata": {
    "id": "9hJ-RkFmXhj7"
   },
   "source": [
    "### 변수\n",
    "컴퓨터 메모리 어딘가에 저장되어 있는 객체를 참조하기 위해 사용되는 이름을 의미합니다.\n",
    "- 객체(object) : 숫자, 문자, 클래스 등 **값을 가지고 있는 모든 것**을 말합니다.\n",
    "    - 파이썬은 객체지향 언어이며, 모든 것이 객체로 구현되어 있습니다.\n",
    "- 동일 변수에 다른 객체를 언제든 할당할 수 있습니다.\n",
    "    - 즉, 참조하는 객체가 바뀔 수 있기 때문에 '변수' 라고 부릅니다."
   ]
  },
  {
   "cell_type": "markdown",
   "metadata": {
    "id": "ut97GrBYXhj7"
   },
   "source": [
    "<center><img src=\"https://user-images.githubusercontent.com/18046097/61179855-0c8d0200-a646-11e9-9e9e-2c6df0504296.png\", alt=\"variable\"/></center>"
   ]
  },
  {
   "cell_type": "markdown",
   "metadata": {
    "id": "KaHs2W-gXhj7"
   },
   "source": [
    "\n",
    "<center><img src=\"https://user-images.githubusercontent.com/18046097/61179857-13b41000-a646-11e9-9a88-8487df4eaf52.png\", alt=\"box\"/></center>"
   ]
  },
  {
   "cell_type": "markdown",
   "metadata": {
    "id": "T5_Ru66wXhj7"
   },
   "source": [
    "### 할당 연산자(Assignment Operator): `=`\n",
    "\n",
    "* 변수는 `=`을 통해 할당(assignment) 됩니다.\n",
    "\n",
    "* 해당 데이터 타입을 확인하기 위해서는 `type()`을 활용합니다.\n",
    "\n",
    "* 해당 값의 메모리 주소를 확인하기 위해서는 `id()`를 활용합니다."
   ]
  },
  {
   "cell_type": "code",
   "execution_count": null,
   "metadata": {
    "id": "stqdQhsMXhj7"
   },
   "outputs": [],
   "source": [
    "# 변수 x에 임의의 문자열을 할당해봅시다.\n"
   ]
  },
  {
   "cell_type": "code",
   "execution_count": 8,
   "metadata": {
    "id": "Bll4fvoZXhj8"
   },
   "outputs": [],
   "source": [
    "x='apple'"
   ]
  },
  {
   "cell_type": "code",
   "execution_count": null,
   "metadata": {
    "id": "FTm7sNePXhj8"
   },
   "outputs": [],
   "source": [
    "# type(x)를 실행하여 변수 x에 할당된 값의 데이터 타입을 확인해 봅시다."
   ]
  },
  {
   "cell_type": "code",
   "execution_count": 4,
   "metadata": {
    "id": "OOawz579Xhj8"
   },
   "outputs": [
    {
     "data": {
      "text/plain": [
       "(str, str)"
      ]
     },
     "execution_count": 4,
     "metadata": {},
     "output_type": "execute_result"
    }
   ],
   "source": [
    "type(x), type('apple')"
   ]
  },
  {
   "cell_type": "code",
   "execution_count": null,
   "metadata": {
    "id": "nAv5dwvYXhj8"
   },
   "outputs": [],
   "source": [
    "# id(x)를 실행하여 변수 x의 고유 메모리 주소를 확인해봅시다."
   ]
  },
  {
   "cell_type": "code",
   "execution_count": 5,
   "metadata": {
    "id": "TF8762egXhj8"
   },
   "outputs": [
    {
     "data": {
      "text/plain": [
       "4362760768"
      ]
     },
     "execution_count": 5,
     "metadata": {},
     "output_type": "execute_result"
    }
   ],
   "source": [
    "id(x)"
   ]
  },
  {
   "cell_type": "markdown",
   "metadata": {
    "id": "t1s1joTjXhj8"
   },
   "source": [
    "### 변수 연산"
   ]
  },
  {
   "cell_type": "code",
   "execution_count": null,
   "metadata": {
    "id": "3X9e5OSHXhj8"
   },
   "outputs": [],
   "source": [
    "# i, j, s 변수에 각각 5, 3, '파이썬'을 할당해봅시다."
   ]
  },
  {
   "cell_type": "code",
   "execution_count": 16,
   "metadata": {
    "id": "wPvfOL8xXhj8"
   },
   "outputs": [],
   "source": [
    "i = 5\n",
    "j = 3\n",
    "s='파이썬'"
   ]
  },
  {
   "cell_type": "code",
   "execution_count": null,
   "metadata": {
    "id": "P7-DvWiQXhj8"
   },
   "outputs": [],
   "source": [
    "# 변수 i와 j를 더해봅시다."
   ]
  },
  {
   "cell_type": "code",
   "execution_count": 17,
   "metadata": {
    "id": "pclktC_zXhj8"
   },
   "outputs": [
    {
     "data": {
      "text/plain": [
       "8"
      ]
     },
     "execution_count": 17,
     "metadata": {},
     "output_type": "execute_result"
    }
   ],
   "source": [
    "i + j"
   ]
  },
  {
   "cell_type": "code",
   "execution_count": null,
   "metadata": {
    "id": "cTjMc9OOXhj8"
   },
   "outputs": [],
   "source": [
    "# 변수 i에 i - j를 할당해봅시다."
   ]
  },
  {
   "cell_type": "code",
   "execution_count": 18,
   "metadata": {
    "id": "IiE74LEIXhj8"
   },
   "outputs": [],
   "source": [
    "i = i - j"
   ]
  },
  {
   "cell_type": "code",
   "execution_count": 19,
   "metadata": {
    "id": "KgYMohthXhj8"
   },
   "outputs": [
    {
     "data": {
      "text/plain": [
       "2"
      ]
     },
     "execution_count": 19,
     "metadata": {},
     "output_type": "execute_result"
    }
   ],
   "source": [
    "i"
   ]
  },
  {
   "cell_type": "code",
   "execution_count": null,
   "metadata": {
    "id": "INjXqt9fXhj8"
   },
   "outputs": [],
   "source": [
    "# 변수 j에 -2를 할당하고 i * j를 실행해봅시다."
   ]
  },
  {
   "cell_type": "code",
   "execution_count": 20,
   "metadata": {
    "id": "1iffeUKWXhj8"
   },
   "outputs": [],
   "source": [
    "j = -2"
   ]
  },
  {
   "cell_type": "code",
   "execution_count": 21,
   "metadata": {},
   "outputs": [
    {
     "data": {
      "text/plain": [
       "-4"
      ]
     },
     "execution_count": 21,
     "metadata": {},
     "output_type": "execute_result"
    }
   ],
   "source": [
    "i * j"
   ]
  },
  {
   "cell_type": "code",
   "execution_count": null,
   "metadata": {
    "id": "AtyW5U4eXhj8"
   },
   "outputs": [],
   "source": [
    "# i * j / 3 을 실행하여 결과를 확인해봅시다."
   ]
  },
  {
   "cell_type": "code",
   "execution_count": 15,
   "metadata": {
    "id": "o0AfdgvbXhj8"
   },
   "outputs": [
    {
     "data": {
      "text/plain": [
       "-1.3333333333333333"
      ]
     },
     "execution_count": 15,
     "metadata": {},
     "output_type": "execute_result"
    }
   ],
   "source": [
    "i*j/3"
   ]
  },
  {
   "cell_type": "code",
   "execution_count": null,
   "metadata": {
    "id": "VSb-0MXmXhj9"
   },
   "outputs": [],
   "source": [
    "# 문자열 '안녕'과 변수 s를 더해봅시다."
   ]
  },
  {
   "cell_type": "code",
   "execution_count": 23,
   "metadata": {
    "id": "tEEeumlgXhj9"
   },
   "outputs": [
    {
     "data": {
      "text/plain": [
       "'안녕 파이썬'"
      ]
     },
     "execution_count": 23,
     "metadata": {},
     "output_type": "execute_result"
    }
   ],
   "source": [
    "'안녕 ' + s"
   ]
  },
  {
   "cell_type": "code",
   "execution_count": null,
   "metadata": {
    "id": "Yw4BNraeXhj9"
   },
   "outputs": [],
   "source": [
    "# 변수 s에 s * 3을 할당하고 결과를 확인해봅시다."
   ]
  },
  {
   "cell_type": "code",
   "execution_count": 25,
   "metadata": {
    "id": "FgRQe3-EXhj9"
   },
   "outputs": [
    {
     "data": {
      "text/plain": [
       "'파이썬 파이썬 파이썬 '"
      ]
     },
     "execution_count": 25,
     "metadata": {},
     "output_type": "execute_result"
    }
   ],
   "source": [
    "(s+\" \") * 3"
   ]
  },
  {
   "cell_type": "code",
   "execution_count": null,
   "metadata": {
    "id": "yX4G6wdeXhj9"
   },
   "outputs": [],
   "source": [
    "# 변수 s에 문자열 'Python'을 할당하고\n",
    "# s + ' is fun'을 실행하여 결과를 확인해봅시다."
   ]
  },
  {
   "cell_type": "code",
   "execution_count": 26,
   "metadata": {
    "id": "H0MSHZZbXhj9"
   },
   "outputs": [
    {
     "data": {
      "text/plain": [
       "'Pyhton is fun'"
      ]
     },
     "execution_count": 26,
     "metadata": {},
     "output_type": "execute_result"
    }
   ],
   "source": [
    "s = 'Pyhton'; s+' is fun'"
   ]
  },
  {
   "cell_type": "markdown",
   "metadata": {
    "id": "o32D9KcpXhj9"
   },
   "source": [
    "### 변수 할당\n",
    "* 같은 값을 동시에 할당할 수 있습니다."
   ]
  },
  {
   "cell_type": "code",
   "execution_count": null,
   "metadata": {
    "id": "A0QpB2WtXhj9"
   },
   "outputs": [],
   "source": [
    "# 같은 값을 x와 y에 동시에 할당해봅시다.\n",
    "# 그리고 print를 이용하여 x, y 값을 확인해봅시다."
   ]
  },
  {
   "cell_type": "code",
   "execution_count": 27,
   "metadata": {
    "id": "7no-PisFXhj9"
   },
   "outputs": [
    {
     "name": "stdout",
     "output_type": "stream",
     "text": [
      "3 3\n"
     ]
    }
   ],
   "source": [
    "x = y = 3\n",
    "print(x,y)"
   ]
  },
  {
   "cell_type": "markdown",
   "metadata": {
    "id": "XbCBSDTAXhj9"
   },
   "source": [
    "* 다른 값을 동시에 할당 가능합니다."
   ]
  },
  {
   "cell_type": "code",
   "execution_count": null,
   "metadata": {
    "id": "fWIkpn7WXhj9"
   },
   "outputs": [],
   "source": [
    "# 두 개의 변수 x, y에 값 1, 2를 동시에 할당해봅시다.\n",
    "# 그리고 print를 이용하여 x, y 값을 확인해봅시다."
   ]
  },
  {
   "cell_type": "code",
   "execution_count": 31,
   "metadata": {
    "id": "6hGqkik8Xhj9"
   },
   "outputs": [
    {
     "name": "stdout",
     "output_type": "stream",
     "text": [
      "1 2\n"
     ]
    }
   ],
   "source": [
    "x,y=1,2\n",
    "print(x, y)"
   ]
  },
  {
   "cell_type": "code",
   "execution_count": null,
   "metadata": {
    "id": "Me96G5aAXhkA"
   },
   "outputs": [],
   "source": [
    "# 두 개의 변수 x, y에 값 1을 할당해봅시다.\n",
    "# 두 개의 변수에 하나의 값을 할당했을 때의 오류를 확인해봅시다."
   ]
  },
  {
   "cell_type": "code",
   "execution_count": null,
   "metadata": {
    "id": "KwImpCqiXhkA"
   },
   "outputs": [
    {
     "ename": "TypeError",
     "evalue": "cannot unpack non-iterable int object",
     "output_type": "error",
     "traceback": [
      "\u001b[31m---------------------------------------------------------------------------\u001b[39m",
      "\u001b[31mTypeError\u001b[39m                                 Traceback (most recent call last)",
      "\u001b[36mCell\u001b[39m\u001b[36m \u001b[39m\u001b[32mIn[34]\u001b[39m\u001b[32m, line 1\u001b[39m\n\u001b[32m----> \u001b[39m\u001b[32m1\u001b[39m x,y=\u001b[32m1\u001b[39m\n\u001b[32m      2\u001b[39m \u001b[38;5;28mprint\u001b[39m(x, y)\n",
      "\u001b[31mTypeError\u001b[39m: cannot unpack non-iterable int object"
     ]
    }
   ],
   "source": [
    "x , y = 1\n",
    "print(x, y)"
   ]
  },
  {
   "cell_type": "code",
   "execution_count": null,
   "metadata": {
    "id": "NNP0Bmw9XhkB"
   },
   "outputs": [],
   "source": [
    "# 두 개의 변수 x, y에 값 1, 2, 3을 동시에 할당해봅시다.\n",
    "# 두 개의 변수에 세 개의 값을 할당했을 때의 오류를 확인해봅시다."
   ]
  },
  {
   "cell_type": "code",
   "execution_count": 35,
   "metadata": {
    "id": "EuPkZUoBXhkB"
   },
   "outputs": [
    {
     "ename": "ValueError",
     "evalue": "too many values to unpack (expected 2)",
     "output_type": "error",
     "traceback": [
      "\u001b[31m---------------------------------------------------------------------------\u001b[39m",
      "\u001b[31mValueError\u001b[39m                                Traceback (most recent call last)",
      "\u001b[36mCell\u001b[39m\u001b[36m \u001b[39m\u001b[32mIn[35]\u001b[39m\u001b[32m, line 1\u001b[39m\n\u001b[32m----> \u001b[39m\u001b[32m1\u001b[39m x, y = \u001b[32m1\u001b[39m, \u001b[32m2\u001b[39m, \u001b[32m3\u001b[39m\n",
      "\u001b[31mValueError\u001b[39m: too many values to unpack (expected 2)"
     ]
    }
   ],
   "source": [
    "x, y = 1, 2, 3"
   ]
  },
  {
   "cell_type": "markdown",
   "metadata": {
    "id": "MF2k82ABXhkB"
   },
   "source": [
    "### 실습 문제\n",
    "- x = 10, y = 20 일 때, 각각 값을 바꿔서 저장하는 코드를 작성하세요."
   ]
  },
  {
   "cell_type": "code",
   "execution_count": 53,
   "metadata": {
    "id": "XYxx_PKZXhkB"
   },
   "outputs": [],
   "source": [
    "x, y = 10, 20"
   ]
  },
  {
   "cell_type": "code",
   "execution_count": null,
   "metadata": {
    "id": "A3ueRxSPXhkB"
   },
   "outputs": [],
   "source": [
    "# 변수 x와 y의 값을 바꿔봅시다.\n",
    "# 그리고 결과를 print를 이용해 확인해봅시다."
   ]
  },
  {
   "cell_type": "code",
   "execution_count": 38,
   "metadata": {
    "id": "W7lquT9vXhkB"
   },
   "outputs": [
    {
     "name": "stdout",
     "output_type": "stream",
     "text": [
      "20 10\n"
     ]
    }
   ],
   "source": [
    "z = x\n",
    "x = y\n",
    "y = z\n",
    "print(x, y)"
   ]
  },
  {
   "cell_type": "code",
   "execution_count": null,
   "metadata": {
    "id": "mgUT3hHcXhkB"
   },
   "outputs": [
    {
     "name": "stdout",
     "output_type": "stream",
     "text": [
      "20 10\n"
     ]
    }
   ],
   "source": [
    "x, y = y, x # 이런 게 가능하다니... /ㅅ\\\n",
    "print(x, y) # C에선 안 됐는디..."
   ]
  },
  {
   "cell_type": "code",
   "execution_count": 54,
   "metadata": {
    "id": "AcLEJq4pXhkB"
   },
   "outputs": [
    {
     "name": "stdout",
     "output_type": "stream",
     "text": [
      "20.0 10.0\n"
     ]
    }
   ],
   "source": [
    "# How to do 곱하기, 나누기.\n",
    "x = x * y\n",
    "y = x / y\n",
    "x = x / y\n",
    "print(x, y)"
   ]
  },
  {
   "cell_type": "markdown",
   "metadata": {
    "id": "-1N4C5NDXhkB"
   },
   "source": [
    "### 식별자(Identifiers)\n",
    "\n",
    "파이썬에서 식별자는 변수, 함수, 모듈, 클래스 등을 식별하는데 사용되는 이름(name)입니다.\n",
    "\n",
    "* 식별자의 이름은 영문 알파벳(대문자와 소문자), 언더스코어(_), 숫자로 구성됩니다.\n",
    "* 첫 글자에 숫자가 올 수 없습니다.\n",
    "* 길이에 제한이 없습니다.\n",
    "* 대/소문자(case)를 구별합니다.\n",
    "* 아래의 키워드는 사용할 수 없습니다. [파이썬 문서](https://docs.python.org/ko/3/reference/lexical_analysis.html#keywords)\n",
    "\n",
    "```\n",
    "False, None, True, and, as, assert, async, await, break, class, continue, def, del, elif, else, except, finally, for, from, global, if, import, in, is, lambda, nonlocal, not, or, pass, raise, return, try, while, with, yield\n",
    "```"
   ]
  },
  {
   "cell_type": "code",
   "execution_count": null,
   "metadata": {
    "id": "18iXhDFdXhkB"
   },
   "outputs": [],
   "source": [
    "# 키워드들을 직접 확인해봅시다.\n",
    "# import 구문을 사용하여 keyword를 불러옵니다.\n",
    "# print를 이용하여 파이썬이 가지고 있는 키워드 / 예약어를 출력해봅시다.\n",
    "# import 구문에 대한 자세한 내용은 모듈 챕터에서 학습하겠습니다."
   ]
  },
  {
   "cell_type": "code",
   "execution_count": null,
   "metadata": {
    "id": "p1mU3Be7XhkB"
   },
   "outputs": [],
   "source": [
    "import keyword\n",
    "print(keyword.kwlist)"
   ]
  },
  {
   "cell_type": "markdown",
   "metadata": {
    "id": "HC53mGO8XhkB"
   },
   "source": [
    "*  내장함수나 모듈 등의 이름으로도 만들면 안됩니다.\n",
    "- 기존의 이름에 다른 값을 할당하게 되므로 더 이상 동작하지 않게됩니다."
   ]
  },
  {
   "cell_type": "code",
   "execution_count": null,
   "metadata": {
    "id": "biHYk4wBXhkB"
   },
   "outputs": [],
   "source": [
    "# 내장함수의 이름을 사용하면 어떤일이 일어나는지 확인해봅시다."
   ]
  },
  {
   "cell_type": "code",
   "execution_count": null,
   "metadata": {
    "id": "W490DxDTXhkB"
   },
   "outputs": [],
   "source": [
    "# print는 값을 출력해주는 내장함수(Built-in function)입니다.\n",
    "# print(5)를 실행하여 결과를 확인해봅시다.\n",
    "print(5)"
   ]
  },
  {
   "cell_type": "code",
   "execution_count": null,
   "metadata": {
    "id": "APD58qCRXhkB"
   },
   "outputs": [],
   "source": [
    "# 변수 print에 문자열 'hi'를 할당합니다.\n",
    "# 그리고 print() 를 사용하였을때 발생하는 오류를 확인해봅시다.\n",
    "# print는 'hi'라는 값을 가지는 변수로 할당되었기 때문에 이전의 출력 기능을 수행하지 못합니다."
   ]
  },
  {
   "cell_type": "code",
   "execution_count": null,
   "metadata": {
    "id": "T6NqCKwGXhkB"
   },
   "outputs": [],
   "source": []
  },
  {
   "cell_type": "code",
   "execution_count": null,
   "metadata": {
    "id": "cW73tNstXhkB"
   },
   "outputs": [],
   "source": [
    "# 뒤에서 진행될 코드에 영향이 갈 수 있기 때문에 방금 생성한 print 변수를 삭제합니다.\n",
    "# 아래와 같이 del 연산자를 활용합니다.\n",
    "# del print\n",
    "# 사용자가 지정한 변수 print는 삭제되고, 기존의 화면출력 기능을 가지는 print가 동작합니다.\n",
    "# 자세한 내용은 namespace 파트에서 확인해봅시다."
   ]
  },
  {
   "cell_type": "code",
   "execution_count": null,
   "metadata": {
    "id": "6pq8QnW8XhkC"
   },
   "outputs": [],
   "source": []
  },
  {
   "cell_type": "markdown",
   "metadata": {
    "id": "3IrPLLVPXhkC"
   },
   "source": [
    "## 사용자 입력(input)"
   ]
  },
  {
   "cell_type": "markdown",
   "metadata": {
    "id": "n7TxlSJ3XhkC"
   },
   "source": [
    "### input([prompt])\n",
    "* 사용자로부터 값을 즉시 입력 받을 수 있는 파이썬 내장함수입니다.\n",
    "* 대괄호([]) 안에 문자열을 입력하면 해당 문자열을 출력할 수 있습니다.\n",
    "    - 단, 대괄호는 생략합니다.\n",
    "    ```python\n",
    "    # ex)\n",
    "    input('값을 입력해 주세요. : ')\n",
    "    ```"
   ]
  },
  {
   "cell_type": "code",
   "execution_count": null,
   "metadata": {
    "id": "5HTYFFEuXhkC"
   },
   "outputs": [],
   "source": [
    "# input()을 사용해 봅시다.\n",
    "# data 변수에 input()의 반환값을 할당합니다.\n",
    "# print 함수를 이용하여 data 변수에 담긴 값을 출력해 봅시다."
   ]
  },
  {
   "cell_type": "code",
   "execution_count": 59,
   "metadata": {
    "id": "FwO_I8RMXhkC",
    "scrolled": true
   },
   "outputs": [
    {
     "name": "stdout",
     "output_type": "stream",
     "text": [
      "께로롤ㅇ\n"
     ]
    }
   ],
   "source": [
    "# input('값을 입력: (까먹지 마시오)') # 이러면 입력'만' 됨.\n",
    "data = input('값을 입력: (까먹지 마시오)') \n",
    "print(data)"
   ]
  },
  {
   "cell_type": "code",
   "execution_count": null,
   "metadata": {
    "id": "ydUK-5ZwXhkC"
   },
   "outputs": [],
   "source": [
    "# 문자열 '이름을 입력 해 주세요. : '를 출력하는 input 함수를 변수 name에 할당합니다.\n",
    "# print 함수를 이용하여 name 변수에 담긴 값을 출력해 봅시다."
   ]
  },
  {
   "cell_type": "code",
   "execution_count": 60,
   "metadata": {
    "id": "M0t72bdkXhkC"
   },
   "outputs": [
    {
     "name": "stdout",
     "output_type": "stream",
     "text": [
      "실버스몰더장인\n"
     ]
    }
   ],
   "source": [
    "name = input('이름을 입력 해 주세요. : ')\n",
    "print(name)"
   ]
  },
  {
   "cell_type": "markdown",
   "metadata": {
    "id": "VEl4UFJRXhkC"
   },
   "source": [
    "* 반환값은 항상 문자열의 형태로 반환됩니다.\n",
    "\n",
    "```python\n",
    ">>> num = input('숫자를 입력 해 주세요. : ')\n",
    "숫자를 입력 해 주세요. : 100\n",
    "    \n",
    ">>> print(num)\n",
    "'100'\n",
    "\n",
    ">>> print(type(num))\n",
    "<class 'str'>\n",
    "```"
   ]
  },
  {
   "cell_type": "code",
   "execution_count": null,
   "metadata": {
    "id": "TrVqmAwUXhkC"
   },
   "outputs": [],
   "source": [
    "# input()으로 입력 받은 값의 type을 출력해 봅시다."
   ]
  },
  {
   "cell_type": "code",
   "execution_count": 62,
   "metadata": {
    "id": "jO4jYqohXhkC"
   },
   "outputs": [
    {
     "name": "stdout",
     "output_type": "stream",
     "text": [
      "<class 'str'>\n"
     ]
    },
    {
     "data": {
      "text/plain": [
       "132123"
      ]
     },
     "execution_count": 62,
     "metadata": {},
     "output_type": "execute_result"
    }
   ],
   "source": [
    "sutja_test = input('ipryeok plz: ')\n",
    "print(type(sutja_test))\n",
    "int(sutja_test)"
   ]
  },
  {
   "cell_type": "markdown",
   "metadata": {
    "id": "rI8zdmk8XhkC"
   },
   "source": [
    "## 주석(Comment)\n",
    "\n",
    "* 한 줄 주석은 `#`으로 표현합니다.\n",
    "\n",
    "* 여러 줄의 주석은\n",
    "    1. 한 줄 씩 `#`을 사용해서 표현하거나,\n",
    "    2. `\"\"\"` 또는 `'''`(여러줄 문자열, multiline string)으로 표현할 수 있습니다.\n",
    "    (multiline은 주로 함수/클래스를 설명(docstring)하기 위해 활용됩니다.)"
   ]
  },
  {
   "cell_type": "code",
   "execution_count": null,
   "metadata": {
    "id": "WjQaerVTXhkC"
   },
   "outputs": [],
   "source": [
    "# 주석을 연습해봅시다."
   ]
  },
  {
   "cell_type": "code",
   "execution_count": null,
   "metadata": {
    "id": "X1u83ONBXhkC"
   },
   "outputs": [],
   "source": [
    "# print('hello')  # 이 줄은 실행되지 않습니다."
   ]
  },
  {
   "cell_type": "code",
   "execution_count": null,
   "metadata": {
    "id": "YnTDCRykXhkC"
   },
   "outputs": [],
   "source": [
    "# 여러줄 주석을 multiline string을 활용하여 연습해봅시다."
   ]
  },
  {
   "cell_type": "code",
   "execution_count": 66,
   "metadata": {
    "id": "tziS5M1SXhkC"
   },
   "outputs": [
    {
     "data": {
      "text/plain": [
       "'\\n얘는 머임. 클래스 설명하는 거라고. 얘는 그럼 프린트쪽에 보이는 건가?\\n'"
      ]
     },
     "execution_count": 66,
     "metadata": {},
     "output_type": "execute_result"
    }
   ],
   "source": [
    "\"\"\"\n",
    "얘는 머임. 클래스 설명하는 거라고. 얘는 그럼 프린트쪽에 보이는 건가?\n",
    "\"\"\""
   ]
  },
  {
   "cell_type": "markdown",
   "metadata": {
    "id": "MRBfCIj5XhkC"
   },
   "source": [
    "# 자료형(Data Type)\n",
    "\n",
    "## 자료형 분류\n",
    "- **불린형**(Boolean Type)\n",
    "- **수치형**(Numeric Type)\n",
    "    - int (정수, integer)\n",
    "    - float (부동소수점, 실수, floating point number)\n",
    "    - complex (복소수, complex number)\n",
    "- **문자열**(String Type)\n",
    "- **None**\n",
    "    - 값이 없음을 표현하기 위한 타입\n",
    "\n",
    "\n",
    "<img width=\"634\" alt=\"자료형\" src=\"https://user-images.githubusercontent.com/45934087/148158891-fe28256b-1df4-4b83-ab51-54d06c107d20.png\">\n"
   ]
  },
  {
   "cell_type": "markdown",
   "metadata": {
    "id": "r9AEg6cZXhkD"
   },
   "source": [
    "## 불린형 (Boolean Type)\n",
    "\n",
    "파이썬에는 `True`와 `False`로 이뤄진 `bool` 타입이 있습니다.\n",
    "\n",
    "비교/논리 연산을 수행 등에서 활용됩니다.\n",
    "\n",
    "다음은 `False`로 변환됩니다.\n",
    "```\n",
    "0, 0.0, (), [], {}, '', None\n",
    "```"
   ]
  },
  {
   "cell_type": "code",
   "execution_count": null,
   "metadata": {
    "id": "UToq8UzcXhkD"
   },
   "outputs": [],
   "source": [
    "# print와 type을 이용하여 True와 False의 타입을 출력해 봅시다."
   ]
  },
  {
   "cell_type": "code",
   "execution_count": null,
   "metadata": {
    "id": "5jkb-XHNXhkD",
    "scrolled": true
   },
   "outputs": [
    {
     "name": "stdout",
     "output_type": "stream",
     "text": [
      "<class 'bool'>\n"
     ]
    }
   ],
   "source": [
    "print(type(True)) # 마 True는 대소문자 구분해서 고정이다.(None도 마찬가지)"
   ]
  },
  {
   "cell_type": "markdown",
   "metadata": {
    "id": "upvd0VORXhkD"
   },
   "source": [
    "- bool() 함수\n",
    "    - 특정 데이터가 True인지 False인지 검증합니다."
   ]
  },
  {
   "cell_type": "code",
   "execution_count": null,
   "metadata": {
    "id": "yxQ-EWLBXhkD"
   },
   "outputs": [],
   "source": [
    "# 0, '', 1, [], -1, [1, 2, 3] 을 bool 함수를 이용하여 타입을 확인해 봅시다.\n",
    "# 비어있는 게 아니면 다 True. 0만 False."
   ]
  },
  {
   "cell_type": "code",
   "execution_count": 70,
   "metadata": {
    "id": "na1g7fM0XhkD"
   },
   "outputs": [
    {
     "data": {
      "text/plain": [
       "(False, True)"
      ]
     },
     "execution_count": 70,
     "metadata": {},
     "output_type": "execute_result"
    }
   ],
   "source": [
    "bool(0), bool(100)"
   ]
  },
  {
   "cell_type": "code",
   "execution_count": null,
   "metadata": {
    "id": "1z3nx5fCXhkD"
   },
   "outputs": [
    {
     "data": {
      "text/plain": [
       "(False, True)"
      ]
     },
     "execution_count": 71,
     "metadata": {},
     "output_type": "execute_result"
    }
   ],
   "source": [
    "bool(\"\"), bool(\"sdjhasjkd\")"
   ]
  },
  {
   "cell_type": "code",
   "execution_count": null,
   "metadata": {
    "id": "umzaO8GJXhkD"
   },
   "outputs": [
    {
     "data": {
      "text/plain": [
       "(False, True)"
      ]
     },
     "execution_count": 72,
     "metadata": {},
     "output_type": "execute_result"
    }
   ],
   "source": [
    "bool([]), bool([1,2,3]) "
   ]
  },
  {
   "cell_type": "code",
   "execution_count": null,
   "metadata": {
    "id": "vSxKwdrhXhkD"
   },
   "outputs": [
    {
     "data": {
      "text/plain": [
       "(False, False)"
      ]
     },
     "execution_count": 74,
     "metadata": {},
     "output_type": "execute_result"
    }
   ],
   "source": [
    "bool(None), bool(0)\n",
    "# bool 함수는 특정기준까지를 false로 잡아주는 함수라고 파악하는 게 좋음.\n",
    "# 당연히 None, 0, '' 다 다른 의미이지만, bool로 활용하기 위해 사용."
   ]
  },
  {
   "cell_type": "code",
   "execution_count": null,
   "metadata": {
    "id": "L45ItDCMXhkD"
   },
   "outputs": [
    {
     "data": {
      "text/plain": [
       "(False, True, True, False, True)"
      ]
     },
     "execution_count": 76,
     "metadata": {},
     "output_type": "execute_result"
    }
   ],
   "source": [
    "bool([]), bool([None]), bool(['']), bool(''), bool(' ') # 헷갈리는 것 여러가지."
   ]
  },
  {
   "cell_type": "code",
   "execution_count": null,
   "metadata": {
    "id": "cnuoXxMjXhkD"
   },
   "outputs": [],
   "source": []
  },
  {
   "cell_type": "code",
   "execution_count": null,
   "metadata": {
    "id": "40Tl3JKYXhkD"
   },
   "outputs": [],
   "source": []
  },
  {
   "cell_type": "markdown",
   "metadata": {
    "id": "3-y9HGA2XhkD"
   },
   "source": [
    "## 수치형(Numeric Type)\n",
    "[파이썬 문서](https://docs.python.org/ko/3/library/stdtypes.html#numeric-types-int-float-complex)"
   ]
  },
  {
   "cell_type": "markdown",
   "metadata": {
    "id": "fNUPPnHzXhkD"
   },
   "source": [
    "###  `int` (정수, ingteger)\n",
    "\n",
    "모든 정수는 `int`로 표현됩니다.\n",
    "\n",
    "Python3에서는 `long` 타입은 없고 모두 `int` 타입으로 표기 됩니다.\n",
    "\n",
    "* 보통 프로그래밍 언어 및 Python2에서의 long은 OS 기준 32/64비트입니다.\n",
    "* Python3에서는 모두 int로 통합되었습니다.\n",
    "\n",
    "8진수 : `0o` / 2진수 : `0b` / 16진수: `0x` 로도 표현 가능합니다."
   ]
  },
  {
   "cell_type": "code",
   "execution_count": null,
   "metadata": {
    "id": "JSaTW0nsXhkD"
   },
   "outputs": [],
   "source": [
    "# 변수 a에 정수 3을 할당하고 해당 변수의 type을 알아봅시다."
   ]
  },
  {
   "cell_type": "code",
   "execution_count": 77,
   "metadata": {
    "id": "UuIt5bDTXhkD"
   },
   "outputs": [
    {
     "data": {
      "text/plain": [
       "int"
      ]
     },
     "execution_count": 77,
     "metadata": {},
     "output_type": "execute_result"
    }
   ],
   "source": [
    "a = 3\n",
    "type(a)"
   ]
  },
  {
   "cell_type": "code",
   "execution_count": null,
   "metadata": {
    "id": "5o0gKrzdXhkD"
   },
   "outputs": [],
   "source": [
    "# 변수 a에 2의 64제곱을 할당합니다.\n",
    "# print와 type을 이용하여 a의 값과 타입을 확인해봅시다."
   ]
  },
  {
   "cell_type": "code",
   "execution_count": null,
   "metadata": {
    "id": "hnLtS1R9XhkE"
   },
   "outputs": [
    {
     "name": "stdout",
     "output_type": "stream",
     "text": [
      "18446744073709551616 <class 'int'>\n"
     ]
    }
   ],
   "source": [
    "a = 2 ** 64 #제곱이 왜 이따위로 생겼어...\n",
    "print(a, type(a))"
   ]
  },
  {
   "cell_type": "markdown",
   "metadata": {
    "id": "s0rG1m2YXhkE"
   },
   "source": [
    "**파이썬에서 표현할 수 있는 가장 큰 수**\n",
    "* 파이썬에서 가장 큰 숫자를 활용하기 위해 sys 모듈을 불러옵니다.\n",
    "* 파이썬은 기존 C 계열 프로그래밍 언어와 다르게 정수 자료형(integer)에서 오버플로우가 없습니다.\n",
    "* 임의 정밀도 산술(arbitrary-precision arithmetic)을 사용하기 때문입니다.\n",
    "\n",
    "> **오버플로우(overflow)**\n",
    "- 데이터 타입 별로 사용할 수 있는 메모리의 크기가 제한되어 있습니다.\n",
    "- 표현할 수 있는 수의 범위를 넘어가는 연산을 하게 되면, 기대했던 값이 출력되지 않는 현상, 즉 메모리를 넘어선 상황을 의미합니다.\n",
    "\n",
    "> **임의 정밀도 산술(arbitrary-precision arithmetic)**\n",
    "- 사용할 수 있는 메모리양이 정해져 있는 기존의 방식과 달리, 현재 남아있는 만큼의 가용 메모리를 모두 수 표현에 끌어다 쓸 수 있는 형태를 의미합니다.\n",
    "- 특정 값을 나타내는데 4바이트가 부족하다면 5바이트, 더 부족하면 6바이트까지 사용할 수 있게 유동적으로 운용합니다.\n"
   ]
  },
  {
   "cell_type": "code",
   "execution_count": null,
   "metadata": {
    "id": "A4pfPwfoXhkE"
   },
   "outputs": [],
   "source": [
    "# 파이썬이 얼만큼 큰 숫자까지 저장할 수 있는지 확인해봅시다."
   ]
  },
  {
   "cell_type": "code",
   "execution_count": null,
   "metadata": {
    "id": "BaUTGjD3XhkE"
   },
   "outputs": [],
   "source": [
    "import sys\n",
    "max_int = sys.maxsize\n",
    "# sys.maxsize 의 값은 2**63 - 1 => 64비트에서 부호비트를 뺀 63개의 최대치\n",
    "print(max_int)\n",
    "super_max = sys.maxsize * sys.maxsize\n",
    "print(super_max)"
   ]
  },
  {
   "cell_type": "code",
   "execution_count": null,
   "metadata": {
    "id": "mFpy2N14XhkE"
   },
   "outputs": [],
   "source": [
    "# n진수를 만들어봅시다.\n",
    "# 2진수는 변수 binary_number에 0b10을 할당합니다.\n",
    "# 8진수는 변수 octal_number에 0o10을 할당합니다.\n",
    "# 10진수는 변수 decimal_number에 10을 할당합니다.\n",
    "# 16진수는 변수 hexadecimal_number에 0x10을 할당합니다.\n",
    "# 각 변수를 print를 이용해서 여러줄로 출력해봅시다."
   ]
  },
  {
   "cell_type": "code",
   "execution_count": 83,
   "metadata": {
    "id": "TwQLkcJ1XhkE"
   },
   "outputs": [
    {
     "name": "stdout",
     "output_type": "stream",
     "text": [
      "2 8 10 16\n"
     ]
    }
   ],
   "source": [
    "binary_number = 0b10\n",
    "octal_number = 0o10\n",
    "decimal_number = 10\n",
    "hexadecimal_number = 0x10\n",
    "\n",
    "print(binary_number,\n",
    "      octal_number,\n",
    "      decimal_number,\n",
    "    hexadecimal_number)"
   ]
  },
  {
   "cell_type": "markdown",
   "metadata": {
    "id": "QVgd0w3MXhkE"
   },
   "source": [
    "### `float` (부동소수점, 실수, floating point number)\n",
    "\n",
    "실수는 `float`로 표현됩니다.\n",
    "\n",
    "다만, 실수를 컴퓨터가 표현하는 과정에서 부동소수점을 사용하며, 항상 같은 값으로 일치되지 않습니다. (floating point rounding error)\n",
    "\n",
    "이는 컴퓨터가 2진수(비트)를 통해 숫자를 표현하는 과정에서 생기는 오류이며, 대부분의 경우는 중요하지 않으나 값이 같은지 비교하는 과정에서 문제가 발생할 수 있습니다."
   ]
  },
  {
   "cell_type": "code",
   "execution_count": null,
   "metadata": {
    "id": "6dUJKJEUXhkE"
   },
   "outputs": [],
   "source": [
    "# 변수 a에 실수 3.5를 할당하고 해당 변수의 type을 알아봅시다."
   ]
  },
  {
   "cell_type": "code",
   "execution_count": null,
   "metadata": {
    "id": "LubN8_3qXhkE"
   },
   "outputs": [],
   "source": []
  },
  {
   "cell_type": "markdown",
   "metadata": {
    "id": "3erJeRMhXhkE"
   },
   "source": [
    "#### 컴퓨터식 지수 표현 방식\n",
    "* e를 사용할 수도 있습니다. (e와 E 모두 사용 가능)"
   ]
  },
  {
   "cell_type": "code",
   "execution_count": null,
   "metadata": {
    "id": "6RM51Eg9XhkE"
   },
   "outputs": [],
   "source": [
    "# 컴퓨터식 지수 표현 방식을 사용해봅시다.\n",
    "# 변수 b에 지수 314e-2를 할당하고 해당 변수의 type을 알아봅시다.\n",
    "# print를 이용해 변수 b의 값도 알아봅시다."
   ]
  },
  {
   "cell_type": "code",
   "execution_count": 88,
   "metadata": {
    "id": "-T3CTozYXhkE"
   },
   "outputs": [
    {
     "name": "stdout",
     "output_type": "stream",
     "text": [
      "3.14\n"
     ]
    }
   ],
   "source": [
    "b = 314e-2\n",
    "print(b)"
   ]
  },
  {
   "cell_type": "markdown",
   "metadata": {
    "id": "5enMJgtEXhkE"
   },
   "source": [
    "#### 실수의 연산\n",
    "* 실수의 경우 실제로 값을 처리하기 위해서는 조심할 필요가 있습니다."
   ]
  },
  {
   "cell_type": "code",
   "execution_count": null,
   "metadata": {
    "id": "ORz6Gk_BXhkE"
   },
   "outputs": [],
   "source": [
    "# 실수의 덧셈을 해봅시다.\n",
    "# 실수 두 개를 더해봅시다. (3.5 + 3.2)"
   ]
  },
  {
   "cell_type": "code",
   "execution_count": 90,
   "metadata": {
    "id": "aw1JAWtuXhkE"
   },
   "outputs": [
    {
     "data": {
      "text/plain": [
       "6.7"
      ]
     },
     "execution_count": 90,
     "metadata": {},
     "output_type": "execute_result"
    }
   ],
   "source": [
    "3.5 + 3.2"
   ]
  },
  {
   "cell_type": "code",
   "execution_count": null,
   "metadata": {
    "id": "ZMUIWzuSXhkE"
   },
   "outputs": [],
   "source": [
    "# 실수의 뺄셈을 해봅시다. (3.5 - 3.12)"
   ]
  },
  {
   "cell_type": "code",
   "execution_count": null,
   "metadata": {
    "id": "6pbI8-y8XhkE"
   },
   "outputs": [
    {
     "data": {
      "text/plain": [
       "0.3799999999999999"
      ]
     },
     "execution_count": 91,
     "metadata": {},
     "output_type": "execute_result"
    }
   ],
   "source": [
    "3.5 - 3.12 #??????????? 뭐임..."
   ]
  },
  {
   "cell_type": "code",
   "execution_count": null,
   "metadata": {
    "id": "agkxK6FVXhkE"
   },
   "outputs": [],
   "source": [
    "# 우리가 원하는대로 반올림을 해봅시다.\n",
    "# round() 는 0~4는 내림, 5는 동일하게 작동하지 않고 반올림 방식에 따라 다릅니다.\n",
    "# 짝수에서 5는 내림 / 홀수에서 5는 올림\n",
    "# round(값, 소수점자릿수)\n",
    "# 3.5 - 3.12 의 값을 반올림하는데 소수점 2자리까지 나타나게 해봅시다."
   ]
  },
  {
   "cell_type": "code",
   "execution_count": 98,
   "metadata": {
    "id": "PKQDgQqJXhkE"
   },
   "outputs": [
    {
     "data": {
      "text/plain": [
       "0.38"
      ]
     },
     "execution_count": 98,
     "metadata": {},
     "output_type": "execute_result"
    }
   ],
   "source": [
    "round(3.5 - 3.12, 2)"
   ]
  },
  {
   "cell_type": "code",
   "execution_count": null,
   "metadata": {
    "id": "mKtxztTIXhkF"
   },
   "outputs": [],
   "source": [
    "# 3.5 - 3.12의 결과와 0.38의 값이 같은지 == 을 사용해서 확인해봅시다."
   ]
  },
  {
   "cell_type": "code",
   "execution_count": null,
   "metadata": {
    "id": "AWQd-w_4XhkF"
   },
   "outputs": [],
   "source": []
  },
  {
   "cell_type": "code",
   "execution_count": null,
   "metadata": {
    "id": "PIuhHoLcXhkF"
   },
   "outputs": [],
   "source": [
    "# print를 이용해서 3.5 - 3.12의 값을 확인해 봅시다."
   ]
  },
  {
   "cell_type": "code",
   "execution_count": null,
   "metadata": {
    "id": "bpxOEOyEXhkF"
   },
   "outputs": [],
   "source": []
  },
  {
   "cell_type": "markdown",
   "metadata": {
    "id": "R4vypwSsXhkF"
   },
   "source": [
    "* 따라서 다음과 같은 방법으로 처리 할 수 있습니다. (이외에 다양한 방법이 있음)"
   ]
  },
  {
   "cell_type": "code",
   "execution_count": null,
   "metadata": {
    "id": "1I_rPACoXhkF"
   },
   "outputs": [],
   "source": [
    "# 1. 기본적인 처리방법을 알아봅시다.\n",
    "# 변수 a, b에 각각의 실수 값을 저장합니다.\n",
    "# 그리고 abs()를 이용하여 a와 b의 차이를 구합니다.\n",
    "# a와 b의 차이가 1e-10 값 이하이면 a 와 b 는 같다고 볼 수 있습니다."
   ]
  },
  {
   "cell_type": "code",
   "execution_count": null,
   "metadata": {
    "id": "WfF1DhfGXhkF"
   },
   "outputs": [],
   "source": [
    "# 1번도 안 중요하고"
   ]
  },
  {
   "cell_type": "code",
   "execution_count": null,
   "metadata": {
    "id": "VeI94zWSXhkF"
   },
   "outputs": [],
   "source": [
    "# 2. sys 모듈을 통해 처리하는 방법을 알아봅시다.\n",
    "# `epsilon` 은 부동소수점 연산에서 반올림을 함으로써 발생하는 오차 상환\n",
    "# abs() 를 이용하여 a, b의 차이를 구합니다.\n",
    "# a와 b의 차이가 sys.float_info.epsilon의 값 이하이면 a, b 는 같다고 볼 수 있습니다."
   ]
  },
  {
   "cell_type": "code",
   "execution_count": null,
   "metadata": {
    "id": "e7AQNW_EXhkF"
   },
   "outputs": [],
   "source": [
    "# 2번도 안 중요함"
   ]
  },
  {
   "cell_type": "code",
   "execution_count": null,
   "metadata": {
    "id": "KlymIYJPXhkF"
   },
   "outputs": [],
   "source": [
    "# 3. python 3.5부터 활용 가능한 math 모듈을 통해 처리하는 법을 알아봅시다.\n",
    "# 3번만 ㅈㄴㅈㄴㅈㄴㅈㄴㅈㄴㅈㄴㅈㄴㅈㄴㅈㄴㅈㄴㅈㄴㅈㅈㄴ 중요"
   ]
  },
  {
   "cell_type": "code",
   "execution_count": null,
   "metadata": {
    "id": "IgCp_6QJXhkF"
   },
   "outputs": [
    {
     "data": {
      "text/plain": [
       "True"
      ]
     },
     "execution_count": 100,
     "metadata": {},
     "output_type": "execute_result"
    }
   ],
   "source": [
    "# math.isclose() 를 이용해서 a와 b의 값이 같은지 확인할수 있습니다.\n",
    "import math\n",
    "math.isclose(3.5 - 3.12, 0.38) # 소수 계산에 대한 일부 대체 방법."
   ]
  },
  {
   "cell_type": "markdown",
   "metadata": {
    "id": "qw9xIhgpXhkF"
   },
   "source": [
    "### `complex` (복소수, complex number)\n",
    "\n",
    "각각 실수로 표현되는 실수부와 허수부를 가집니다.\n",
    "\n",
    "복소수는 허수부를 `j`로 표현합니다."
   ]
  },
  {
   "cell_type": "code",
   "execution_count": null,
   "metadata": {
    "id": "pY6UiWOkXhkF"
   },
   "outputs": [],
   "source": [
    "# 변수 a에 복소수 3+4j를 할당하고 해당 변수의 type을 알아봅시다."
   ]
  },
  {
   "cell_type": "code",
   "execution_count": 102,
   "metadata": {
    "id": "SnMFBjByXhkF"
   },
   "outputs": [
    {
     "data": {
      "text/plain": [
       "complex"
      ]
     },
     "execution_count": 102,
     "metadata": {},
     "output_type": "execute_result"
    }
   ],
   "source": [
    "a = 3 + 4j\n",
    "type(a)"
   ]
  },
  {
   "cell_type": "code",
   "execution_count": 104,
   "metadata": {},
   "outputs": [
    {
     "data": {
      "text/plain": [
       "(-1+0j)"
      ]
     },
     "execution_count": 104,
     "metadata": {},
     "output_type": "execute_result"
    }
   ],
   "source": [
    "1j ** 2"
   ]
  },
  {
   "cell_type": "markdown",
   "metadata": {
    "id": "6BHbkd1SXhkF"
   },
   "source": [
    "## 문자열 (String Type)\n",
    "\n",
    "### 문자열\n",
    "- 모든 문자는 `str` 로 표현됩니다."
   ]
  },
  {
   "cell_type": "markdown",
   "metadata": {
    "id": "ZHjXCHw5XhkF"
   },
   "source": [
    "### 기본 활용법\n",
    "\n",
    "* 문자열은 Single quotes(`'`)나 Double quotes(`\"`)을 활용하여 표현 가능합니다.\n",
    "\n",
    "* 단, 문자열을 묶을 때 동일한 문장부호를 활용해야하며, `PEP-8`에서는 **하나의 문장부호를 선택**하여 유지하도록 하고 있습니다.\n",
    "(Pick a rule and Stick to it)"
   ]
  },
  {
   "cell_type": "code",
   "execution_count": null,
   "metadata": {
    "id": "llmAzE-IXhkF"
   },
   "outputs": [],
   "source": [
    "# 문자열 hello 를 출력해 봅시다.\n",
    "# 문자열 hello의 타입을 출력해 봅시다."
   ]
  },
  {
   "cell_type": "code",
   "execution_count": null,
   "metadata": {
    "id": "x9H2Yp-yXhkF"
   },
   "outputs": [
    {
     "data": {
      "text/plain": [
       "('hi', 'hi')"
      ]
     },
     "execution_count": 105,
     "metadata": {},
     "output_type": "execute_result"
    }
   ],
   "source": [
    "'hi', \"hi\" # 수업에서는 '하나만 쓸 거임.\n",
    "# 두 개 같이 쓰면 병신같아 보임."
   ]
  },
  {
   "cell_type": "code",
   "execution_count": null,
   "metadata": {
    "id": "IR5YmXCFXhkF"
   },
   "outputs": [],
   "source": [
    "# 문자열 철수 '안녕' 을 출력해 봅시다.\n",
    "# 문자열 철수 \"안녕\" 을 출력해 봅시다."
   ]
  },
  {
   "cell_type": "code",
   "execution_count": null,
   "metadata": {
    "id": "dLu1gCh4XhkF"
   },
   "outputs": [
    {
     "name": "stdout",
     "output_type": "stream",
     "text": [
      "철수 '안녕'\n"
     ]
    }
   ],
   "source": [
    "print(\"철수 '안녕'\") # 쌤은 이게 개열받는다고 하신다..."
   ]
  },
  {
   "cell_type": "code",
   "execution_count": 112,
   "metadata": {},
   "outputs": [
    {
     "name": "stdout",
     "output_type": "stream",
     "text": [
      "철수 '안녕'\n"
     ]
    }
   ],
   "source": [
    "print('철수 \\'안녕\\'')"
   ]
  },
  {
   "cell_type": "code",
   "execution_count": 115,
   "metadata": {},
   "outputs": [
    {
     "ename": "SyntaxError",
     "evalue": "unterminated string literal (detected at line 1); perhaps you escaped the end quote? (441133351.py, line 1)",
     "output_type": "error",
     "traceback": [
      "  \u001b[36mCell\u001b[39m\u001b[36m \u001b[39m\u001b[32mIn[115]\u001b[39m\u001b[32m, line 1\u001b[39m\n\u001b[31m    \u001b[39m\u001b[31mprint('%\\')\u001b[39m\n          ^\n\u001b[31mSyntaxError\u001b[39m\u001b[31m:\u001b[39m unterminated string literal (detected at line 1); perhaps you escaped the end quote?\n"
     ]
    }
   ],
   "source": [
    "print('%\\')"
   ]
  },
  {
   "cell_type": "code",
   "execution_count": null,
   "metadata": {
    "id": "V7oF8m4CXhkF"
   },
   "outputs": [],
   "source": [
    "# 변수에 문자열을 할당하고 출력해봅시다.\n",
    "# 변수 greeting 에 hi를 name 에 이름을 할당합시다.\n",
    "# 그리고 각각의 변수를 print로 찍어보고 type도 확인해봅시다."
   ]
  },
  {
   "cell_type": "code",
   "execution_count": 116,
   "metadata": {
    "id": "Bp8DYDTSXhkF"
   },
   "outputs": [
    {
     "name": "stdout",
     "output_type": "stream",
     "text": [
      "hi junseokun\n"
     ]
    }
   ],
   "source": [
    "greeting = 'hi'\n",
    "name = 'junseokun'\n",
    "print(greeting, name)"
   ]
  },
  {
   "cell_type": "code",
   "execution_count": null,
   "metadata": {
    "id": "yALTG79vXhkF"
   },
   "outputs": [],
   "source": [
    "# 변수 age 에 사용자로 부터 입력을 받을 수 있는 input()의 결과를 저장합시다.\n",
    "# age 에 입력받은 값이 저장되었는지 그리고 그 type이 무엇인지 확인해봅시다.\n",
    "# 숫자를 할당했을때와 문자를 할당했을때의 type이 같은지 다른지도 확인해봅시다."
   ]
  },
  {
   "cell_type": "code",
   "execution_count": null,
   "metadata": {
    "id": "q9a67JjRXhkF"
   },
   "outputs": [
    {
     "name": "stdout",
     "output_type": "stream",
     "text": [
      "56 <class 'str'>\n"
     ]
    }
   ],
   "source": [
    "age = input()\n",
    "print(age, type(age)) ##헷갈리지 마라. input은 문자다."
   ]
  },
  {
   "cell_type": "markdown",
   "metadata": {
    "id": "eROEfzNKXhkF"
   },
   "source": [
    "- Immutable\n",
    "\n",
    "문자열을 변경할 수 없음"
   ]
  },
  {
   "cell_type": "markdown",
   "metadata": {
    "id": "4yk2pEQpXhkG"
   },
   "source": [
    "- Iterable\n",
    "\n",
    "문자열을 순회 가능함"
   ]
  },
  {
   "cell_type": "code",
   "execution_count": null,
   "metadata": {
    "id": "6M23SCnfXhkG"
   },
   "outputs": [],
   "source": []
  },
  {
   "cell_type": "markdown",
   "metadata": {
    "id": "6QYovAdQXhkG"
   },
   "source": [
    "### 중첩 따옴표 (Nested Quotes)\n",
    "따옴표 안에 따옴표를 표현할 경우 아래와 같이 사용할 수 있습니다."
   ]
  },
  {
   "cell_type": "markdown",
   "metadata": {
    "id": "fDpmDevRXhkG"
   },
   "source": [
    "- 작은따옴표: `'\"큰\" 따옴표를 담을 수 있습니다'`"
   ]
  },
  {
   "cell_type": "code",
   "execution_count": 118,
   "metadata": {
    "id": "_dcNPPz-XhkG"
   },
   "outputs": [
    {
     "name": "stdout",
     "output_type": "stream",
     "text": [
      "\"munjang\"kiho\n"
     ]
    }
   ],
   "source": [
    "print('\"munjang\"kiho')"
   ]
  },
  {
   "cell_type": "markdown",
   "metadata": {
    "id": "--qh1z_1XhkG"
   },
   "source": [
    "- 큰따옴표: `\"'작은' 따옴표를 담을 수 있습니다\"`"
   ]
  },
  {
   "cell_type": "code",
   "execution_count": 119,
   "metadata": {
    "id": "pmh38c65XhkG"
   },
   "outputs": [
    {
     "name": "stdout",
     "output_type": "stream",
     "text": [
      "'re'verse\n"
     ]
    }
   ],
   "source": [
    "print(\"'re'verse\")"
   ]
  },
  {
   "cell_type": "markdown",
   "metadata": {
    "id": "yoTyiPf5XhkG"
   },
   "source": [
    "### 삼중 따옴표 (Triple Quotes)\n",
    "작은 따옴표나 큰 따옴표를 삼중으로 사용합니다.\n",
    "\n",
    "- 문자열 안에 따옴표를 넣을 때 사용합니다.\n",
    "\n",
    "- 여러줄에 걸쳐있는 문장은 다음과 같이 표현 가능합니다.\n",
    "\n",
    "* `PEP-8`에 따르면 이 경우에는 반드시 `\"\"\"`를 사용하도록 규정합니다."
   ]
  },
  {
   "cell_type": "code",
   "execution_count": 122,
   "metadata": {
    "id": "Z_nh5g4wXhkG"
   },
   "outputs": [
    {
     "name": "stdout",
     "output_type": "stream",
     "text": [
      "\n",
      "얘는 재밌게도, 주석이라고 말을 했지만 실제로는 문자임.\n",
      "그래서 변수 안에 값으로 저장이 가능.\n",
      "#를 쓰게 되면 그건 컴퓨터가 못 읽지만,\n",
      "얘는 읽을 수 있는 거고, 사람 입장에서나 주석이라는 뜻.\n"
     ]
    }
   ],
   "source": [
    "# 아래 작성된 내용을 삼중 따옴표와 하나의 print 문을 사용하여 출력해 봅시다.\n",
    "juseok = \"\"\"\n",
    "얘는 재밌게도, 주석이라고 말을 했지만 실제로는 문자임.\n",
    "그래서 변수 안에 값으로 저장이 가능.\n",
    "#를 쓰게 되면 그건 컴퓨터가 못 읽지만,\n",
    "얘는 읽을 수 있는 거고, 사람 입장에서나 주석이라는 뜻.\"\"\"\n",
    "\n",
    "print(juseok)"
   ]
  },
  {
   "cell_type": "markdown",
   "metadata": {
    "id": "gVk4h8TnXhkG"
   },
   "source": [
    "문자열 안에 '작은 따옴표'나\n",
    "\n",
    "\"큰 따옴표\"를 사용할 수 있고\n",
    "\n",
    "여러 줄을 사용할 때도 편리하다."
   ]
  },
  {
   "cell_type": "code",
   "execution_count": null,
   "metadata": {
    "id": "6ASmxu6jXhkG"
   },
   "outputs": [],
   "source": [
    "# FUCk YOu"
   ]
  },
  {
   "cell_type": "markdown",
   "metadata": {
    "id": "nRm15ibfXhkG"
   },
   "source": [
    "### 이스케이프 시퀀스 (Escape sequence)\n",
    "\n",
    "문자열을 활용하는 경우 특수문자 혹은 조작을 하기 위하여 사용되는 것으로 역슬래시 `\\`를 활용하여 이를 구분합니다.\n",
    "\n",
    "|<center>예약문자</center>|내용(의미)|\n",
    "|:--------:|:--------:|\n",
    "|\\n|줄 바꿈|\n",
    "|\\t|탭|\n",
    "|\\r|캐리지리턴|\n",
    "|\\0|널(Null)|\n",
    "|\\\\\\\\ |`\\`|\n",
    "|\\\\'|단일인용부호(`'`)|\n",
    "|\\\\\"|이중인용부호(`\"`)|"
   ]
  },
  {
   "cell_type": "code",
   "execution_count": null,
   "metadata": {
    "id": "FDgAOpoYXhkG"
   },
   "outputs": [],
   "source": [
    "# 다음 문자열을 작은 따옴표와 escape sequence만을 사용하여 출력해 봅시다.\n",
    "# 철수야 '안녕'"
   ]
  },
  {
   "cell_type": "code",
   "execution_count": 126,
   "metadata": {
    "id": "fSkXQB2dXhkG"
   },
   "outputs": [
    {
     "name": "stdout",
     "output_type": "stream",
     "text": [
      "haha\n",
      "hoho\n"
     ]
    }
   ],
   "source": [
    "print('haha\\n'\n",
    "'hoho')"
   ]
  },
  {
   "cell_type": "code",
   "execution_count": null,
   "metadata": {
    "id": "GtnfPCqpXhkG"
   },
   "outputs": [],
   "source": [
    "# 다음 문자열을 하나의 print 함수에서 출력해 봅시다.\n",
    "# escape sequence를 이용합니다."
   ]
  },
  {
   "cell_type": "markdown",
   "metadata": {
    "id": "QrOWZcn3XhkG"
   },
   "source": [
    "```\n",
    "이 다음은 엔터.\n",
    "그리고 탭    탭\n",
    "```"
   ]
  },
  {
   "cell_type": "code",
   "execution_count": 127,
   "metadata": {
    "id": "OSZlnneSXhkG"
   },
   "outputs": [
    {
     "name": "stdout",
     "output_type": "stream",
     "text": [
      "이 다음은 엔터. \n",
      "그리고 탭\t탭\n",
      "\\n은 엔터\n",
      "로 줄바꿈\n"
     ]
    }
   ],
   "source": [
    "print('이 다음은 엔터. \\n그리고 탭\\t탭')\n",
    "print('\\\\n은 엔터\\n로 줄바꿈')"
   ]
  },
  {
   "cell_type": "markdown",
   "metadata": {
    "id": "qJp7OR5-XhkG"
   },
   "source": [
    "### String interpolation\n",
    "\n",
    "* [`f-strings`](https://www.python.org/dev/peps/pep-0498/) : 파이썬 3.6 이후 버전에서 지원"
   ]
  },
  {
   "cell_type": "code",
   "execution_count": null,
   "metadata": {
    "id": "vDUf4-R_XhkG"
   },
   "outputs": [],
   "source": [
    "# name 변수에 이름, score 변수에 학점을 할당해봅시다."
   ]
  },
  {
   "cell_type": "code",
   "execution_count": 128,
   "metadata": {
    "id": "7H5T6h7EXhkG"
   },
   "outputs": [],
   "source": [
    "name = 'semistone'\n",
    "score = 3.2"
   ]
  },
  {
   "cell_type": "code",
   "execution_count": null,
   "metadata": {
    "id": "6MHZyl0DXhkH"
   },
   "outputs": [],
   "source": [
    "# f-string을 활용해봅시다.\n",
    "# name 을 출력해봅시다."
   ]
  },
  {
   "cell_type": "code",
   "execution_count": 136,
   "metadata": {
    "id": "U_QTMO0wXhkH"
   },
   "outputs": [
    {
     "name": "stdout",
     "output_type": "stream",
     "text": [
      "이름: semistone 학점: 3.2\n"
     ]
    }
   ],
   "source": [
    "print(f'이름: {name} 학점: {score}') # IS the f-string(formated...)"
   ]
  },
  {
   "cell_type": "code",
   "execution_count": null,
   "metadata": {
    "id": "c_OFrUqPXhkH"
   },
   "outputs": [],
   "source": [
    "# 여러줄 문자열에서도 사용 가능합니다.\n",
    "# f-string을 이용하여 name을 여러줄 문자열로 출력해봅시다."
   ]
  },
  {
   "cell_type": "code",
   "execution_count": null,
   "metadata": {
    "id": "estdRWR3XhkH"
   },
   "outputs": [
    {
     "name": "stdout",
     "output_type": "stream",
     "text": [
      "\n",
      "semistone  -> 3.2\n",
      "\n"
     ]
    }
   ],
   "source": [
    "# f 있고 없고의 차이.\n",
    "s= f\"\"\"\n",
    "{name}  -> {score}\n",
    "\"\"\"\n",
    "print(s)"
   ]
  },
  {
   "cell_type": "markdown",
   "metadata": {
    "id": "wNfRg1OZXhkH"
   },
   "source": [
    "* f-strings에서는 형식을 지정할 수 있습니다."
   ]
  },
  {
   "cell_type": "code",
   "execution_count": null,
   "metadata": {
    "id": "GkldJACkXhkH"
   },
   "outputs": [],
   "source": [
    "# 다양한 형식을 활용하기 위해 datetime 모듈로 오늘을 표현해봅시다.\n",
    "# today 에 현재 시간 날짜를 할당해봅시다.\n",
    "# print를 이용하여 today를 출력해봅시다."
   ]
  },
  {
   "cell_type": "code",
   "execution_count": 141,
   "metadata": {
    "id": "7vxzoUt3XhkH"
   },
   "outputs": [
    {
     "name": "stdout",
     "output_type": "stream",
     "text": [
      "2025-07-14 15:30:34.152154\n"
     ]
    }
   ],
   "source": [
    "import datetime\n",
    "today = datetime.datetime.now()\n",
    "print(today)"
   ]
  },
  {
   "cell_type": "code",
   "execution_count": null,
   "metadata": {
    "id": "Q9eMJlkmXhkH"
   },
   "outputs": [],
   "source": [
    "# interpolation에서 출력형식을 지정할 수 있습니다.\n",
    "# today에 저장된 시간을 YYYY년, mm월, dd일, a요일 로 구분해서 출력해봅시다.\n",
    "# 각각 %y, %m, %A를 사용합니다."
   ]
  },
  {
   "cell_type": "code",
   "execution_count": 143,
   "metadata": {
    "id": "qmG50nygXhkH"
   },
   "outputs": [
    {
     "name": "stdout",
     "output_type": "stream",
     "text": [
      "오늘은 2025년 07월 14일 Monday\n"
     ]
    }
   ],
   "source": [
    "print(f'오늘은 {today:%Y}년 {today:%m}월 {today:%d}일 {today:%A}')"
   ]
  },
  {
   "cell_type": "code",
   "execution_count": 144,
   "metadata": {},
   "outputs": [
    {
     "name": "stdout",
     "output_type": "stream",
     "text": [
      "오늘은 25년 30월 07/14/25일 Monday\n"
     ]
    }
   ],
   "source": [
    "print(f'오늘은 {today:%y}년 {today:%M}월 {today:%D}일 {today:%A}')"
   ]
  },
  {
   "cell_type": "markdown",
   "metadata": {
    "id": "YWQGj5ByXhkH"
   },
   "source": [
    "* f-strings에서는 연산과 출력형식 지정도 가능합니다."
   ]
  },
  {
   "cell_type": "code",
   "execution_count": null,
   "metadata": {
    "id": "3QmCwrHoXhkH"
   },
   "outputs": [],
   "source": [
    "# string interpolation을 통해 출력형식 지정 뿐만 아니라, 연산도 가능합니다.\n",
    "# pi = 3.141592를 할당하고\n",
    "# 원주율은 3.14. 반지를이 2일 때 원의 넓이는 12.566368이라고 출력해봅시다."
   ]
  },
  {
   "cell_type": "code",
   "execution_count": null,
   "metadata": {
    "id": "XVQXVwdAXhkH"
   },
   "outputs": [],
   "source": [
    "pi = 3.141592\n",
    "print(f'원주율은 {pi:.3}. 반지름이 2일 때 원의 넓이는 {pi * 2 * 2}이라고 출력해봅시다.') # 연산도 된다는 뜻 ~"
   ]
  },
  {
   "cell_type": "markdown",
   "metadata": {
    "id": "slFoCP9pXhkH"
   },
   "source": [
    "## None Type\n",
    "\n",
    "파이썬에서는 값이 없음을 표현하기 위해 `None` 타입이 존재합니다."
   ]
  },
  {
   "cell_type": "code",
   "execution_count": null,
   "metadata": {
    "id": "FvfJAbL2XhkI"
   },
   "outputs": [],
   "source": [
    "# None의 타입을 알아봅시다."
   ]
  },
  {
   "cell_type": "code",
   "execution_count": 148,
   "metadata": {
    "id": "jhBzHyJnXhkI"
   },
   "outputs": [
    {
     "name": "stdout",
     "output_type": "stream",
     "text": [
      "None\n"
     ]
    },
    {
     "data": {
      "text/plain": [
       "False"
      ]
     },
     "execution_count": 148,
     "metadata": {},
     "output_type": "execute_result"
    }
   ],
   "source": [
    "n = None\n",
    "print(n)\n",
    "bool(a == 'None')"
   ]
  },
  {
   "cell_type": "code",
   "execution_count": null,
   "metadata": {
    "id": "P7BS5yv1XhkI"
   },
   "outputs": [],
   "source": [
    "# 변수에 저장해서 확인해봅시다.\n",
    "# 변수 a에 None을 할당하고 출력해봅시다."
   ]
  },
  {
   "cell_type": "code",
   "execution_count": null,
   "metadata": {
    "id": "SqFmdLKuXhkI"
   },
   "outputs": [],
   "source": []
  }
 ],
 "metadata": {
  "colab": {
   "provenance": []
  },
  "hide_input": false,
  "kernelspec": {
   "display_name": "3.13.2",
   "language": "python",
   "name": "python3"
  },
  "language_info": {
   "codemirror_mode": {
    "name": "ipython",
    "version": 3
   },
   "file_extension": ".py",
   "mimetype": "text/x-python",
   "name": "python",
   "nbconvert_exporter": "python",
   "pygments_lexer": "ipython3",
   "version": "3.13.2"
  },
  "toc": {
   "base_numbering": 1,
   "nav_menu": {},
   "number_sections": true,
   "sideBar": true,
   "skip_h1_title": false,
   "title_cell": "Table of Contents",
   "title_sidebar": "Python 기초",
   "toc_cell": false,
   "toc_position": {
    "height": "757px",
    "left": "53px",
    "top": "111.125px",
    "width": "305px"
   },
   "toc_section_display": true,
   "toc_window_display": true
  }
 },
 "nbformat": 4,
 "nbformat_minor": 4
}
