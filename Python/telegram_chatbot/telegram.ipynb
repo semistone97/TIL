{
 "cells": [
  {
   "cell_type": "markdown",
   "id": "8b250fa2",
   "metadata": {},
   "source": [
    "# telegram.ipynb"
   ]
  },
  {
   "cell_type": "code",
   "execution_count": null,
   "id": "a04385ba",
   "metadata": {},
   "outputs": [],
   "source": [
    "from dotenv import load_dotenv\n",
    "import os\n",
    "\n",
    "load_dotenv()\n",
    "\n",
    "bot_token = os.getenv('TELEGRAM_BOT_TOKEN')"
   ]
  },
  {
   "cell_type": "code",
   "execution_count": null,
   "id": "31392e81",
   "metadata": {},
   "outputs": [],
   "source": [
    "URL = f'https://api.telegram.org/bot{bot_token}' #URL의 기본값.\n",
    "# URL = f'https://api.telegram.org/bot{bot_token}/getMe'\n",
    "## getMe : 나에 대해서 알려달라는 요청.\n",
    "### 여러 명령어를 통해 서버와 통신할 수 있음.\n",
    "URL"
   ]
  },
  {
   "cell_type": "markdown",
   "id": "1bbc8ce4",
   "metadata": {},
   "source": [
    "***요청에 어떤 게 있는지 내가 어떻게 알아요?***\n",
    "#### API 사이트를 들어가면 다 알려줍니다.(dir같은 거네)"
   ]
  },
  {
   "cell_type": "code",
   "execution_count": null,
   "id": "98f465fc",
   "metadata": {},
   "outputs": [],
   "source": [
    "URL + '/getUpdates'"
   ]
  },
  {
   "cell_type": "code",
   "execution_count": null,
   "id": "c1c37f1f",
   "metadata": {},
   "outputs": [],
   "source": [
    "# 답장을 위한 상대방 id\n",
    "my_id = '7765888516' # 엥 근데 id도 str이에요...?\n",
    "# 메세지\n",
    "message = 'baegofa'\n",
    "print(URL + '/sendMessage' + f'?chat_id={my_id}&text={message}')\n",
    "\n",
    "# ?: 내가 원하는 데이터를 보낼 거야.(물음표 뒤부터 내용을 내가 바꿀 수 있음)\n",
    "# &:"
   ]
  },
  {
   "cell_type": "code",
   "execution_count": null,
   "id": "2c83400b",
   "metadata": {},
   "outputs": [],
   "source": [
    "print(URL + '/sendMessage')"
   ]
  },
  {
   "cell_type": "code",
   "execution_count": 14,
   "id": "cb924027",
   "metadata": {},
   "outputs": [],
   "source": [
    "data = {\n",
    "    \"ok\": True,\n",
    "    \"result\": [\n",
    "        {\n",
    "            \"update_id\": 63199729,\n",
    "            \"message\": {\n",
    "                \"message_id\": 1,\n",
    "                \"from\": {\n",
    "                    \"id\": 7765888516,\n",
    "                    \"is_bot\": False,\n",
    "                    \"first_name\": \"ㅇ\",\n",
    "                    \"last_name\": \"ㅇ\",\n",
    "                    \"username\": \"ttmmi012\",\n",
    "                    \"language_code\": \"ko\"\n",
    "                },\n",
    "                \"chat\": {\n",
    "                    \"id\": 7765888516,\n",
    "                    \"first_name\": \"ㅇ\",\n",
    "                    \"last_name\": \"ㅇ\",\n",
    "                    \"username\": \"ttmmi012\",\n",
    "                    \"type\": \"private\"\n",
    "                },\n",
    "                \"date\": 1753323121,\n",
    "                \"text\": \"/start\",\n",
    "                \"entities\": [\n",
    "                    {\n",
    "                        \"offset\": 0,\n",
    "                        \"length\": 6,\n",
    "                        \"type\": \"bot_command\"\n",
    "                    }\n",
    "                ]\n",
    "            }\n",
    "        },\n",
    "        {\n",
    "            \"update_id\": 63199730,\n",
    "            \"message\": {\n",
    "                \"message_id\": 2,\n",
    "                \"from\": {\n",
    "                    \"id\": 7765888516,\n",
    "                    \"is_bot\": False,\n",
    "                    \"first_name\": \"ㅇ\",\n",
    "                    \"last_name\": \"ㅇ\",\n",
    "                    \"username\": \"ttmmi012\",\n",
    "                    \"language_code\": \"ko\"\n",
    "                },\n",
    "                \"chat\": {\n",
    "                    \"id\": 7765888516,\n",
    "                    \"first_name\": \"ㅇ\",\n",
    "                    \"last_name\": \"ㅇ\",\n",
    "                    \"username\": \"ttmmi012\",\n",
    "                    \"type\": \"private\"\n",
    "                },\n",
    "                \"date\": 1753323693,\n",
    "                \"text\": \"showmaker playmaker\"\n",
    "            }\n",
    "        },\n",
    "        {\n",
    "            \"update_id\": 63199731,\n",
    "            \"message\": {\n",
    "                \"message_id\": 7,\n",
    "                \"from\": {\n",
    "                    \"id\": 7765888516,\n",
    "                    \"is_bot\": False,\n",
    "                    \"first_name\": \"ㅇ\",\n",
    "                    \"last_name\": \"ㅇ\",\n",
    "                    \"username\": \"ttmmi012\",\n",
    "                    \"language_code\": \"ko\"\n",
    "                },\n",
    "                \"chat\": {\n",
    "                    \"id\": 7765888516,\n",
    "                    \"first_name\": \"ㅇ\",\n",
    "                    \"last_name\": \"ㅇ\",\n",
    "                    \"username\": \"ttmmi012\",\n",
    "                    \"type\": \"private\"\n",
    "                },\n",
    "                \"date\": 1753331599,\n",
    "                \"text\": \"show\"\n",
    "            }\n",
    "        }\n",
    "    ]\n",
    "}"
   ]
  },
  {
   "cell_type": "code",
   "execution_count": 42,
   "id": "9416a3a6",
   "metadata": {},
   "outputs": [
    {
     "data": {
      "text/plain": [
       "'today i date...'"
      ]
     },
     "execution_count": 42,
     "metadata": {},
     "output_type": "execute_result"
    }
   ],
   "source": [
    "last_message = data['result'][-1]['message']['text']\n",
    "last_message"
   ]
  },
  {
   "cell_type": "code",
   "execution_count": null,
   "id": "12c0f1c4",
   "metadata": {},
   "outputs": [],
   "source": [
    "if last_message == 'show':\n",
    "    is_the_maker = 'maker-playmaker'\n",
    "    print(URL + '/sendMessage' + f'?chat_id={my_id}&text={is_the_maker}')"
   ]
  },
  {
   "cell_type": "code",
   "execution_count": 31,
   "id": "6124d9df",
   "metadata": {},
   "outputs": [
    {
     "data": {
      "text/plain": [
       "7765888516"
      ]
     },
     "execution_count": 31,
     "metadata": {},
     "output_type": "execute_result"
    }
   ],
   "source": [
    "# 마지막 메시지 보낸 사람 아이디 뽑기\n",
    "last_sender = data['result'][-1]['message']['from']['id']\n",
    "last_sender"
   ]
  },
  {
   "cell_type": "code",
   "execution_count": 1,
   "id": "1e42cc68",
   "metadata": {},
   "outputs": [
    {
     "ename": "NameError",
     "evalue": "name 'last_message' is not defined",
     "output_type": "error",
     "traceback": [
      "\u001b[31m---------------------------------------------------------------------------\u001b[39m",
      "\u001b[31mNameError\u001b[39m                                 Traceback (most recent call last)",
      "\u001b[36mCell\u001b[39m\u001b[36m \u001b[39m\u001b[32mIn[1]\u001b[39m\u001b[32m, line 1\u001b[39m\n\u001b[32m----> \u001b[39m\u001b[32m1\u001b[39m \u001b[38;5;28;01mif\u001b[39;00m \u001b[43mlast_message\u001b[49m == \u001b[33m'\u001b[39m\u001b[33mshow\u001b[39m\u001b[33m'\u001b[39m:\n\u001b[32m      2\u001b[39m     plz = \u001b[33m'\u001b[39m\u001b[33mmeya_jaljom_hera\u001b[39m\u001b[33m'\u001b[39m\n\u001b[32m      3\u001b[39m     \u001b[38;5;28mprint\u001b[39m(URL + \u001b[33m'\u001b[39m\u001b[33m/sendMessage\u001b[39m\u001b[33m'\u001b[39m + \u001b[33mf\u001b[39m\u001b[33m'\u001b[39m\u001b[33m?chat_id=\u001b[39m\u001b[38;5;132;01m{\u001b[39;00mlast_sender\u001b[38;5;132;01m}\u001b[39;00m\u001b[33m&text=\u001b[39m\u001b[38;5;132;01m{\u001b[39;00mplz\u001b[38;5;132;01m}\u001b[39;00m\u001b[33m'\u001b[39m)\n",
      "\u001b[31mNameError\u001b[39m: name 'last_message' is not defined"
     ]
    }
   ],
   "source": [
    "if last_message == 'show':\n",
    "    plz = 'meya_jaljom_hera'\n",
    "    print(URL + '/sendMessage' + f'?chat_id={last_sender}&text={plz}')"
   ]
  },
  {
   "cell_type": "code",
   "execution_count": 45,
   "id": "95953888",
   "metadata": {},
   "outputs": [],
   "source": [
    "import requests\n",
    "data = requests.get(URL + '/getUpdates').json()\n",
    "# .json() -> 이거는 한 번 바꾸면 지속된다.\n",
    "## 얘는 실행할 때마다 업데이트된 값을 반환"
   ]
  },
  {
   "cell_type": "code",
   "execution_count": null,
   "id": "971e0943",
   "metadata": {},
   "outputs": [],
   "source": [
    "data # <Response [200]>\n",
    "## 이 반환값이 머임.\n",
    "data.json() # json을 dict로 바꾸라는 명령어."
   ]
  },
  {
   "cell_type": "code",
   "execution_count": 50,
   "id": "60c20876",
   "metadata": {},
   "outputs": [
    {
     "data": {
      "text/plain": [
       "{'ok': True,\n",
       " 'result': {'message_id': 13,\n",
       "  'from': {'id': 8490364531,\n",
       "   'is_bot': True,\n",
       "   'first_name': 'pppommmi',\n",
       "   'username': 'pppommmi_bot'},\n",
       "  'chat': {'id': 7765888516,\n",
       "   'first_name': 'ㅇ',\n",
       "   'last_name': 'ㅇ',\n",
       "   'username': 'ttmmi012',\n",
       "   'type': 'private'},\n",
       "  'date': 1753333378,\n",
       "  'text': 'mouth_shut_down_plz'}}"
      ]
     },
     "execution_count": 50,
     "metadata": {},
     "output_type": "execute_result"
    }
   ],
   "source": [
    "# 메시지 보내는 것.\n",
    "test_message = 'mouth_shut_down_plz'\n",
    "sending = requests.get(URL + '/sendMessage'+ f'?chat_id={last_sender}&text={test_message}')\n",
    "sending.json()"
   ]
  },
  {
   "cell_type": "code",
   "execution_count": 53,
   "id": "06f408ec",
   "metadata": {},
   "outputs": [
    {
     "data": {
      "text/plain": [
       "{'ok': True,\n",
       " 'result': {'message_id': 13,\n",
       "  'from': {'id': 8490364531,\n",
       "   'is_bot': True,\n",
       "   'first_name': 'pppommmi',\n",
       "   'username': 'pppommmi_bot'},\n",
       "  'chat': {'id': 7765888516,\n",
       "   'first_name': 'ㅇ',\n",
       "   'last_name': 'ㅇ',\n",
       "   'username': 'ttmmi012',\n",
       "   'type': 'private'},\n",
       "  'date': 1753333378,\n",
       "  'text': 'mouth_shut_down_plz'}}"
      ]
     },
     "execution_count": 53,
     "metadata": {},
     "output_type": "execute_result"
    }
   ],
   "source": [
    "test2_info = {'chat_id':'7765888516', 'text':'제발닫아'}\n",
    "str(test2_info)\n",
    "sending2 = requests.get(URL + '/sendMessage' + f'?chat_id={test2_info[\"chat_id\"]}&text={test2_info[\"text\"]}')\n",
    "sending.json()"
   ]
  },
  {
   "cell_type": "code",
   "execution_count": null,
   "id": "d0fcabc6",
   "metadata": {},
   "outputs": [],
   "source": [
    "test3 = {\n",
    "    'chat_id':last_sender,\n",
    "    'text':'jammmitttta',\n",
    "}\n",
    "\n",
    "sending3 = requests.get(URL + '/sendMessage', test3)"
   ]
  },
  {
   "cell_type": "code",
   "execution_count": 55,
   "id": "533fd211",
   "metadata": {},
   "outputs": [
    {
     "data": {
      "text/plain": [
       "{'ok': True,\n",
       " 'result': {'message_id': 15,\n",
       "  'from': {'id': 8490364531,\n",
       "   'is_bot': True,\n",
       "   'first_name': 'pppommmi',\n",
       "   'username': 'pppommmi_bot'},\n",
       "  'chat': {'id': 7765888516,\n",
       "   'first_name': 'ㅇ',\n",
       "   'last_name': 'ㅇ',\n",
       "   'username': 'ttmmi012',\n",
       "   'type': 'private'},\n",
       "  'date': 1753333784,\n",
       "  'text': 'jammmitttta'}}"
      ]
     },
     "execution_count": 55,
     "metadata": {},
     "output_type": "execute_result"
    }
   ],
   "source": [
    "sending3.json()"
   ]
  },
  {
   "cell_type": "code",
   "execution_count": null,
   "id": "96fc6e4f",
   "metadata": {},
   "outputs": [],
   "source": [
    "# 봇 업데이트를 받아서 마지막 user & message 받아오기\n",
    "data = requests.get(URL + '/getUpdates').json()\n",
    "input_msg = data['result'][-1]['message']['text']\n",
    "sender_id = data['result'][-1]['message']['from']['id']\n"
   ]
  },
  {
   "cell_type": "code",
   "execution_count": null,
   "id": "52153b81",
   "metadata": {},
   "outputs": [],
   "source": [
    "# 메시지가 로또면 로또 번호 6개 만들어서 보내기.\n",
    "import random\n",
    "if input_msg == 'lotto':\n",
    "    output_msg = sorted(random.sample(range(1, 46), 6))\n",
    "\n"
   ]
  },
  {
   "cell_type": "code",
   "execution_count": null,
   "id": "99c6f875",
   "metadata": {},
   "outputs": [
    {
     "data": {
      "text/plain": [
       "{'ok': True,\n",
       " 'result': {'message_id': 26,\n",
       "  'from': {'id': 8490364531,\n",
       "   'is_bot': True,\n",
       "   'first_name': 'pppommmi',\n",
       "   'username': 'pppommmi_bot'},\n",
       "  'chat': {'id': 7765888516,\n",
       "   'first_name': 'ㅇ',\n",
       "   'last_name': 'ㅇ',\n",
       "   'username': 'ttmmi012',\n",
       "   'type': 'private'},\n",
       "  'date': 1753335646,\n",
       "  'text': 'lotto is [3, 16, 22, 31, 33, 42]'}}"
      ]
     },
     "execution_count": 73,
     "metadata": {},
     "output_type": "execute_result"
    }
   ],
   "source": [
    "# Message 만들어서 전송\n",
    "body = {\n",
    "    'chat_id':sender_id,\n",
    "    'text': input_msg + ' is ' + str(output_msg),\n",
    "}\n",
    "requests.get(URL + '/sendMessage', body).json()\n"
   ]
  },
  {
   "cell_type": "markdown",
   "id": "deadb4e4",
   "metadata": {},
   "source": [
    "> ## ✨✨✨✨✨✨✨✨✨✨✨✨✨✨✨✨✨✨✨✨✨✨✨✨✨✨✨✨\n",
    "> ## ```변수명```을 잘 지어서 코딩할 때 이게 ***어떤 개념인지를 기억***하는 게 중요하다\n",
    "> ## ✨✨✨✨✨✨✨✨✨✨✨✨✨✨✨✨✨✨✨✨✨✨✨✨✨✨✨✨"
   ]
  },
  {
   "cell_type": "markdown",
   "id": "2d79e812",
   "metadata": {},
   "source": [
    "### 노란줄 빨간줄이 coding하는데 떴다? ***절대*** 실행 안 됨"
   ]
  },
  {
   "cell_type": "code",
   "execution_count": null,
   "id": "5f98f4ff",
   "metadata": {},
   "outputs": [],
   "source": []
  }
 ],
 "metadata": {
  "kernelspec": {
   "display_name": "3.13.2",
   "language": "python",
   "name": "python3"
  },
  "language_info": {
   "codemirror_mode": {
    "name": "ipython",
    "version": 3
   },
   "file_extension": ".py",
   "mimetype": "text/x-python",
   "name": "python",
   "nbconvert_exporter": "python",
   "pygments_lexer": "ipython3",
   "version": "3.13.2"
  }
 },
 "nbformat": 4,
 "nbformat_minor": 5
}
