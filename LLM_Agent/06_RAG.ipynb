{
 "cells": [
  {
   "cell_type": "markdown",
   "id": "3668385a",
   "metadata": {},
   "source": [
    "# RAG(검색-증강 생성)\n",
    "`Retrieval-Augmented Generation`\n",
    "- LLM이 외부 데이터를 컨텍스트로 활용"
   ]
  },
  {
   "cell_type": "markdown",
   "id": "fbec4a8d",
   "metadata": {},
   "source": [
    "### 사전처리 단계\n",
    "1. 문서 불러오기 (Loading)\n",
    "2. 텍스트 나누기 (Splitting)\n",
    "3. 숫자로 바꾸기 (Embedding)\n",
    "4. 저장하기 (VectorStore)"
   ]
  },
  {
   "cell_type": "code",
   "execution_count": null,
   "id": "61bf4e13",
   "metadata": {},
   "outputs": [
    {
     "data": {
      "text/plain": [
       "True"
      ]
     },
     "execution_count": 2,
     "metadata": {},
     "output_type": "execute_result"
    }
   ],
   "source": [
    "from dotenv import load_dotenv\n",
    "load_dotenv()"
   ]
  },
  {
   "cell_type": "code",
   "execution_count": 5,
   "id": "afe95478",
   "metadata": {},
   "outputs": [],
   "source": [
    "# 1번 2번 과정 생략\n",
    "\n",
    "from langchain_core.documents import Document\n",
    "\n",
    "documents = [\n",
    "    Document(\n",
    "        page_content=\"Dogs are great companions, known for their loyalty and friendliness.\",\n",
    "        metadata={\"source\": \"mammal-pets-doc\"},\n",
    "    ),\n",
    "    Document(\n",
    "        page_content=\"Cats are independent pets that often enjoy their own space.\",\n",
    "        metadata={\"source\": \"mammal-pets-doc\"},\n",
    "    ),\n",
    "    Document(\n",
    "        page_content=\"Goldfish are popular pets for beginners, requiring relatively simple care.\",\n",
    "        metadata={\"source\": \"fish-pets-doc\"},\n",
    "    ),\n",
    "    Document(\n",
    "        page_content=\"Parrots are intelligent birds capable of mimicking human speech.\",\n",
    "        metadata={\"source\": \"bird-pets-doc\"},\n",
    "    ),\n",
    "    Document(\n",
    "        page_content=\"Rabbits are social animals that need plenty of space to hop around.\",\n",
    "        metadata={\"source\": \"mammal-pets-doc\"},\n",
    "    ),\n",
    "]"
   ]
  },
  {
   "cell_type": "code",
   "execution_count": 6,
   "id": "4c26ab38",
   "metadata": {},
   "outputs": [
    {
     "name": "stdout",
     "output_type": "stream",
     "text": [
      "\n",
      "\u001b[1m[\u001b[0m\u001b[34;49mnotice\u001b[0m\u001b[1;39;49m]\u001b[0m\u001b[39;49m A new release of pip is available: \u001b[0m\u001b[31;49m24.3.1\u001b[0m\u001b[39;49m -> \u001b[0m\u001b[32;49m25.2\u001b[0m\n",
      "\u001b[1m[\u001b[0m\u001b[34;49mnotice\u001b[0m\u001b[1;39;49m]\u001b[0m\u001b[39;49m To update, run: \u001b[0m\u001b[32;49mpip install --upgrade pip\u001b[0m\n",
      "Note: you may need to restart the kernel to use updated packages.\n"
     ]
    }
   ],
   "source": [
    "%pip install -q ' langchain_chroma>=0.1.2' langchain_community faiss-cpu"
   ]
  },
  {
   "cell_type": "code",
   "execution_count": 9,
   "id": "8cb2ddcb",
   "metadata": {},
   "outputs": [],
   "source": [
    "# 3번 과정\n",
    "from langchain_openai import OpenAIEmbeddings\n",
    "from langchain_chroma import Chroma\n",
    "\n",
    "# OpenAI 임베딩 모델\n",
    "embedding = OpenAIEmbeddings()\n",
    "\n",
    "# Chroma()\n",
    "\n",
    "x = embedding.embed_query(documents[0].page_content)\n",
    "len(x) # 1536: OpenAI 임베딩 컬럼 갯수\n",
    "\n",
    "# Memory에 저장되는 임시 메모리.\n",
    "vectorstore = Chroma.from_documents(\n",
    "    documents,\n",
    "    embedding=embedding\n",
    ", )"
   ]
  },
  {
   "cell_type": "code",
   "execution_count": 11,
   "id": "bf340c32",
   "metadata": {},
   "outputs": [
    {
     "data": {
      "text/plain": [
       "[Document(id='ac6ded99-a016-4187-87f5-c2975c592f26', metadata={'source': 'mammal-pets-doc'}, page_content='Dogs are great companions, known for their loyalty and friendliness.'),\n",
       " Document(id='e99d11af-887f-414e-996d-e5c02bdf6cc2', metadata={'source': 'mammal-pets-doc'}, page_content='Dogs are great companions, known for their loyalty and friendliness.')]"
      ]
     },
     "execution_count": 11,
     "metadata": {},
     "output_type": "execute_result"
    }
   ],
   "source": [
    "vectorstore.similarity_search(\n",
    "        '독수리 부리는 왜 노란 색일까?', k=2\n",
    "    )\n",
    "# 언어가 달라도 임베딩된 위치가 비슷함."
   ]
  },
  {
   "cell_type": "code",
   "execution_count": 12,
   "id": "00456b4f",
   "metadata": {},
   "outputs": [
    {
     "name": "stdout",
     "output_type": "stream",
     "text": [
      "\n",
      "\u001b[1m[\u001b[0m\u001b[34;49mnotice\u001b[0m\u001b[1;39;49m]\u001b[0m\u001b[39;49m A new release of pip is available: \u001b[0m\u001b[31;49m24.3.1\u001b[0m\u001b[39;49m -> \u001b[0m\u001b[32;49m25.2\u001b[0m\n",
      "\u001b[1m[\u001b[0m\u001b[34;49mnotice\u001b[0m\u001b[1;39;49m]\u001b[0m\u001b[39;49m To update, run: \u001b[0m\u001b[32;49mpip install --upgrade pip\u001b[0m\n",
      "Note: you may need to restart the kernel to use updated packages.\n"
     ]
    }
   ],
   "source": [
    "%pip install -q pymupdf"
   ]
  },
  {
   "cell_type": "markdown",
   "id": "14b1b64a",
   "metadata": {},
   "source": []
  },
  {
   "cell_type": "code",
   "execution_count": 23,
   "id": "e58920fa",
   "metadata": {},
   "outputs": [
    {
     "name": "stdout",
     "output_type": "stream",
     "text": [
      "원본 pdf 장수:  23\n"
     ]
    }
   ],
   "source": [
    "# 1. Load\n",
    "from langchain_community.document_loaders import PyMuPDFLoader\n",
    "loader = PyMuPDFLoader('./spri.pdf')\n",
    "docs = loader.load()\n",
    "\n",
    "print('원본 pdf 장수: ', len(docs))"
   ]
  },
  {
   "cell_type": "code",
   "execution_count": 22,
   "id": "4d7e67cc",
   "metadata": {},
   "outputs": [
    {
     "name": "stdout",
     "output_type": "stream",
     "text": [
      "분할 후 chunk 수:  72\n"
     ]
    }
   ],
   "source": [
    "# 2. Split\n",
    "from langchain_text_splitters import RecursiveCharacterTextSplitter\n",
    "\n",
    "# 500글자 당 1 청크 / 50글자는 겹치게 나눈다\n",
    "text_splitter = RecursiveCharacterTextSplitter(chunk_size = 500, chunk_overlap=50)\n",
    "split_docs = text_splitter.split_documents(docs)\n",
    "\n",
    "# for doc in split_docs:\n",
    "#     print('\\n')\n",
    "#     print(doc)\n",
    "\n",
    "print('분할 후 chunk 수: ', len(split_docs)) # 72"
   ]
  },
  {
   "cell_type": "code",
   "execution_count": 24,
   "id": "97d35fbf",
   "metadata": {},
   "outputs": [
    {
     "data": {
      "text/plain": [
       "[Document(id='c6f18cc9-eaad-4d7a-abe6-801a457524c4', metadata={'producer': 'Hancom PDF 1.3.0.542', 'creator': 'Hwp 2018 10.0.0.13462', 'creationdate': '2023-12-08T13:28:38+09:00', 'source': './spri.pdf', 'file_path': './spri.pdf', 'total_pages': 23, 'format': 'PDF 1.4', 'title': '', 'author': 'dj', 'subject': '', 'keywords': '', 'moddate': '2023-12-08T13:28:38+09:00', 'trapped': '', 'modDate': \"D:20231208132838+09'00'\", 'creationDate': \"D:20231208132838+09'00'\", 'page': 3}, page_content='1. 정책/법제  \\n2. 기업/산업 \\n3. 기술/연구 \\n 4. 인력/교육\\n미국, 안전하고 신뢰할 수 있는 AI 개발과 사용에 관한 행정명령 발표 \\nn 미국 바이든 대통령이 ‘안전하고 신뢰할 수 있는 AI 개발과 사용에 관한 행정명령’에 서명하고 \\n광범위한 행정 조치를 명시\\nn 행정명령은 △AI의 안전과 보안 기준 마련 △개인정보보호 △형평성과 시민권 향상 △소비자 \\n보호 △노동자 지원 △혁신과 경쟁 촉진 △국제협력을 골자로 함\\nKEY Contents\\n£ 바이든 대통령, AI 행정명령 통해 안전하고 신뢰할 수 있는 AI 개발과 활용 추진\\nn 미국 바이든 대통령이 2023년 10월 30일 연방정부 차원에서 안전하고 신뢰할 수 있는 AI 개발과 \\n사용을 보장하기 위한 행정명령을 발표\\n∙행정명령은 △AI의 안전과 보안 기준 마련 △개인정보보호 △형평성과 시민권 향상 △소비자 보호 \\n△노동자 지원 △혁신과 경쟁 촉진 △국제협력에 관한 내용을 포괄'),\n",
       " Document(id='3631e837-3887-4688-8ac0-f383a210efbf', metadata={'producer': 'Hancom PDF 1.3.0.542', 'creator': 'Hwp 2018 10.0.0.13462', 'creationdate': '2023-12-08T13:28:38+09:00', 'source': './spri.pdf', 'file_path': './spri.pdf', 'total_pages': 23, 'format': 'PDF 1.4', 'title': '', 'author': 'dj', 'subject': '', 'keywords': '', 'moddate': '2023-12-08T13:28:38+09:00', 'trapped': '', 'modDate': \"D:20231208132838+09'00'\", 'creationDate': \"D:20231208132838+09'00'\", 'page': 3}, page_content='공부하고 취업할 수 있도록 지원\\n☞ 출처 : The White House, Executive Order on the Safe, Secure, and Trustworthy Development and Use of \\nArtificial Intelligence (E.O. 14110), 2023.10.30.'),\n",
       " Document(id='fb23ebd5-2334-4724-ac2a-cb3455374beb', metadata={'producer': 'Hancom PDF 1.3.0.542', 'creator': 'Hwp 2018 10.0.0.13462', 'creationdate': '2023-12-08T13:28:38+09:00', 'source': './spri.pdf', 'file_path': './spri.pdf', 'total_pages': 23, 'format': 'PDF 1.4', 'title': '', 'author': 'dj', 'subject': '', 'keywords': '', 'moddate': '2023-12-08T13:28:38+09:00', 'trapped': '', 'modDate': \"D:20231208132838+09'00'\", 'creationDate': \"D:20231208132838+09'00'\", 'page': 22}, page_content='홈페이지 : https://spri.kr/\\n보고서와 관련된 문의는 AI정책연구실(jayoo@spri.kr, 031-739-7352)으로 연락주시기 바랍니다.'),\n",
       " Document(id='9b150be7-fdc0-403d-84da-bece1025af2d', metadata={'producer': 'Hancom PDF 1.3.0.542', 'creator': 'Hwp 2018 10.0.0.13462', 'creationdate': '2023-12-08T13:28:38+09:00', 'source': './spri.pdf', 'file_path': './spri.pdf', 'total_pages': 23, 'format': 'PDF 1.4', 'title': '', 'author': 'dj', 'subject': '', 'keywords': '', 'moddate': '2023-12-08T13:28:38+09:00', 'trapped': '', 'modDate': \"D:20231208132838+09'00'\", 'creationDate': \"D:20231208132838+09'00'\", 'page': 1}, page_content='2023년 12월호\\nⅠ. 인공지능 산업 동향 브리프\\n 1. 정책/법제 \\n   ▹ 미국, 안전하고 신뢰할 수 있는 AI 개발과 사용에 관한 행정명령 발표  ························· 1\\n   ▹ G7, 히로시마 AI 프로세스를 통해 AI 기업 대상 국제 행동강령에 합의··························· 2\\n   ▹ 영국 AI 안전성 정상회의에 참가한 28개국, AI 위험에 공동 대응 선언··························· 3\\n   ▹ 미국 법원, 예술가들이 생성 AI 기업에 제기한 저작권 소송 기각····································· 4\\n   ▹ 미국 연방거래위원회, 저작권청에 소비자 보호와 경쟁 측면의 AI 의견서 제출················· 5')]"
      ]
     },
     "execution_count": 24,
     "metadata": {},
     "output_type": "execute_result"
    }
   ],
   "source": [
    "# 3. 벡터 임베딩 + 4. 벤터스토어 저장\n",
    "\n",
    "from langchain_openai import OpenAIEmbeddings\n",
    "from langchain_community.vectorstores import FAISS\n",
    "\n",
    "vectorstore = FAISS.from_documents(documents=split_docs, embedding=embedding)\n",
    "\n",
    "# Test\n",
    "vectorstore.similarity_search('미국 대통령 관련 문서 가져오기', k=4)"
   ]
  },
  {
   "cell_type": "code",
   "execution_count": 26,
   "id": "49b4de5f",
   "metadata": {},
   "outputs": [
    {
     "data": {
      "text/plain": [
       "\"삼성전자는 2023년 11월에 '삼성 가우스'라는 자체 개발 생성 AI 모델을 공개했으며, 언어, 코드, 이미지의 3개 모델로 구성되어 있습니다. 이 AI는 온디바이스에서 작동하며, 사용자의 정보 유출 우려없이 안전하게 학습된 것이 특징입니다. 삼성은 앞으로 다양한 제품에 삼성 가우스를 단계적으로 탑재할 계획입니다.\""
      ]
     },
     "execution_count": 26,
     "metadata": {},
     "output_type": "execute_result"
    }
   ],
   "source": [
    "# 5. 최종 답변\n",
    "from langchain_openai import ChatOpenAI\n",
    "from langchain_core.prompts import PromptTemplate\n",
    "from langchain_core.runnables import RunnablePassthrough\n",
    "from langchain_core.output_parsers import StrOutputParser\n",
    "from langchain import hub\n",
    "\n",
    "# 프롬프트 세팅\n",
    "prompt = hub.pull('rlm/rag-prompt')\n",
    "\n",
    "# LLM 모델\n",
    "llm = ChatOpenAI(model='gpt-4.1-nano')\n",
    "\n",
    "# 검색기 생성(retriever 생성)\n",
    "retriever = vectorstore.as_retriever()\n",
    "\n",
    "chain = (\n",
    "    {'context': retriever, 'question': RunnablePassthrough()}\n",
    "    | prompt | llm | StrOutputParser()\n",
    ")\n",
    "\n",
    "chain.invoke('삼성전자 관련 소식 다 가져와')"
   ]
  },
  {
   "cell_type": "code",
   "execution_count": 37,
   "id": "6916f9ad",
   "metadata": {},
   "outputs": [],
   "source": [
    "from langchain.agents import create_openai_tools_agent, AgentExecutor\n",
    "from langchain_core.prompts import ChatPromptTemplate, MessagesPlaceholder\n",
    "from langchain.memory import ConversationBufferMemory\n",
    "from langchain_tavily import TavilySearch\n",
    "from datetime import datetime\n",
    "# RAG 관련\n",
    "from langchain_community.document_loaders import PyMuPDFLoader\n",
    "from langchain.text_splitter import RecursiveCharacterTextSplitter\n",
    "from langchain_openai import ChatOpenAI, OpenAIEmbeddings\n",
    "from langchain_community.vectorstores import FAISS\n",
    "from langchain.tools.retriever import create_retriever_tool\n",
    "\n",
    "today = datetime.today().strftime('%D')\n",
    "\n",
    "llm = ChatOpenAI(model='gpt-4.1-nano')\n",
    "\n",
    "search_tool = TavilySearch(\n",
    "    max_results=5,\n",
    "    topic='general'\n",
    ")\n",
    "loader = PyMuPDFLoader('./spri.pdf')\n",
    "docs = loader.load()\n",
    "splitter = RecursiveCharacterTextSplitter(chunk_size=500, chunk_overlap=50)\n",
    "split_docs = splitter.split_documents(docs)\n",
    "embedding = OpenAIEmbeddings()\n",
    "vectorstore = FAISS.from_documents(split_docs, embedding=embedding)\n",
    "retriever = vectorstore.as_retriever()\n",
    "\n",
    "rag_tool = create_retriever_tool(\n",
    "    retriever,\n",
    "    name='pdf_search',\n",
    "    description='PDF 문서에서 질문과 관련된 내용을 검색합니다. ' # Agent가 언제 툴을 쓸지 알게 됨.\n",
    ")\n",
    "text = f\"\"\"\n",
    "너는 웹 검색이 가능하고, 2023년 12월 인공지능 산업 최신동향 정보를 담은 pdf 를 검색할 수 있는 어시스턴트야.\n",
    "\n",
    "- 사용자가 PDF 문서와 관련된 질문(ex. '이 pdf에서', '문서내용', '파일에서)을 하면 반드시 'pdf_search' 도구를 써야해\n",
    "- 사용자 질문이 팩트체크를 필요로 하고, 최신성이 필요하다 판단되면 web_search를 실행해야해\n",
    "- 사용자가 일반적인 질문을 하고, 최신성이나 팩트체크가 필요없으면 그냥 답변해\n",
    "- 뭔가 확실하지 않으면 pdf_search 와 web_search를 모두 실행해서 답변을 생성해\n",
    "\n",
    "오늘은 {today} 야.\n",
    "\"\"\"\n",
    "\n",
    "prompt = ChatPromptTemplate.from_messages([\n",
    "    ('system', text),\n",
    "    MessagesPlaceholder(variable_name='chat_history'),\n",
    "    ('human', '{input}'),\n",
    "    MessagesPlaceholder(variable_name='agent_scratchpad')  # 도구(검색) 호출때 필요함\n",
    "])\n",
    "\n",
    "memory = ConversationBufferMemory(\n",
    "    return_messages=True,\n",
    "    memory_key='chat_history'\n",
    ")\n",
    "\n",
    "agent = create_openai_tools_agent(\n",
    "    llm=llm,\n",
    "    tools=[search_tool, rag_tool],\n",
    "    prompt=prompt\n",
    ")\n",
    "\n",
    "agent_executor = AgentExecutor(\n",
    "    agent=agent,\n",
    "    memory = memory,\n",
    "    tools=[search_tool, rag_tool],\n",
    "    verbose=True)\n",
    "\n",
    "# agent_executor.invoke({'messages': [{'role': 'human', 'content': '오늘 날씨에 맞는 음악 추천해줘'}]})"
   ]
  },
  {
   "cell_type": "code",
   "execution_count": 38,
   "id": "301387ef",
   "metadata": {},
   "outputs": [
    {
     "name": "stdout",
     "output_type": "stream",
     "text": [
      "\n",
      "\n",
      "\u001b[1m> Entering new AgentExecutor chain...\u001b[0m\n",
      "\u001b[32;1m\u001b[1;3m\n",
      "Invoking: `pdf_search` with `{'query': '삼성전자'}`\n",
      "\n",
      "\n",
      "\u001b[0m\u001b[33;1m\u001b[1;3m저해상도 이미지의 고해상도 전환도 지원\n",
      "n IT 전문지 테크리퍼블릭(TechRepublic)은 온디바이스 AI가 주요 기술 트렌드로 부상했다며, \n",
      "2024년부터 가우스를 탑재한 삼성 스마트폰이 메타의 라마(Llama)2를 탑재한 퀄컴 기기 및 구글 \n",
      "어시스턴트를 적용한 구글 픽셀(Pixel)과 경쟁할 것으로 예상\n",
      "☞ 출처 : 삼성전자, ‘삼성 AI 포럼’서 자체 개발 생성형 AI ‘삼성 가우스’ 공개, 2023.11.08.\n",
      "삼성전자, ‘삼성 개발자 콘퍼런스 코리아 2023’ 개최, 2023.11.14.\n",
      "TechRepublic, Samsung Gauss: Samsung Research Reveals Generative AI, 2023.11.08.\n",
      "\n",
      "SPRi AI Brief |  \n",
      "2023-12월호\n",
      "10\n",
      "삼성전자, 자체 개발 생성 AI ‘삼성 가우스’ 공개\n",
      "n 삼성전자가 온디바이스에서 작동 가능하며 언어, 코드, 이미지의 3개 모델로 구성된 자체 개발 생성 \n",
      "AI 모델 ‘삼성 가우스’를 공개\n",
      "n 삼성전자는 삼성 가우스를 다양한 제품에 단계적으로 탑재할 계획으로, 온디바이스 작동이 가능한 \n",
      "삼성 가우스는 외부로 사용자 정보가 유출될 위험이 없다는 장점을 보유\n",
      "KEY Contents\n",
      "£ 언어, 코드, 이미지의 3개 모델로 구성된 삼성 가우스, 온디바이스 작동 지원\n",
      "n 삼성전자가 2023년 11월 8일 열린 ‘삼성 AI 포럼 2023’ 행사에서 자체 개발한 생성 AI 모델 \n",
      "‘삼성 가우스’를 최초 공개\n",
      "∙정규분포 이론을 정립한 천재 수학자 가우스(Gauss)의 이름을 본뜬 삼성 가우스는 다양한 상황에 \n",
      "최적화된 크기의 모델 선택이 가능\n",
      "∙삼성 가우스는 라이선스나 개인정보를 침해하지 않는 안전한 데이터를 통해 학습되었으며,\n",
      "\n",
      "∙삼성 가우스는 라이선스나 개인정보를 침해하지 않는 안전한 데이터를 통해 학습되었으며, \n",
      "온디바이스에서 작동하도록 설계되어 외부로 사용자의 정보가 유출되지 않는 장점을 보유\n",
      "∙삼성전자는 삼성 가우스를 활용한 온디바이스 AI 기술도 소개했으며, 생성 AI 모델을 다양한 제품에 \n",
      "단계적으로 탑재할 계획\n",
      "n 삼성 가우스는 △텍스트를 생성하는 언어모델 △코드를 생성하는 코드 모델 △이미지를 생성하는 \n",
      "이미지 모델의 3개 모델로 구성\n",
      "∙언어 모델은 클라우드와 온디바이스 대상 다양한 모델로 구성되며, 메일 작성, 문서 요약, 번역 업무의 \n",
      "처리를 지원\n",
      "∙코드 모델 기반의 AI 코딩 어시스턴트 ‘코드아이(code.i)’는 대화형 인터페이스로 서비스를 제공하며 \n",
      "사내 소프트웨어 개발에 최적화\n",
      "∙이미지 모델은 창의적인 이미지를 생성하고 기존 이미지를 원하는 대로 바꿀 수 있도록 지원하며 \n",
      "저해상도 이미지의 고해상도 전환도 지원\n",
      "\n",
      "행사명\n",
      "행사 주요 개요\n",
      "CES 2024\n",
      "- 미국 소비자기술 협회(CTA)가 주관하는 세계 최대 가전·IT·소\n",
      "비재 전시회로 5G, AR&VR, 디지털헬스, 교통·모빌리티 등 \n",
      "주요 카테고리 중심으로 기업들이 최신의 기술 제품군을 전시\n",
      "- CTA 사피로 회장은 가장 주목받는 섹터로 AI를 조명하였으며, \n",
      "모든 산업을 포괄한다는 의미에서 ‘올 온(All on)’을 주제로 한 \n",
      "이번 전시에는 500곳 이상의 한국기업 참가 예정\n",
      "기간\n",
      "장소 \n",
      "홈페이지\n",
      "2024.1.9~12\n",
      "미국, 라스베가스\n",
      "https://www.ces.tech/\n",
      "AIMLA 2024\n",
      "- 머신러닝 및 응용에 관한 국제 컨퍼런스(AIMLA 2024)는 \n",
      "인공지능 및 머신러닝의 이론, 방법론 및 실용적 접근에 관한 \n",
      "지식과 최신 연구 결과 공유\n",
      "- 이론 및 실무 측면에서 인공지능, 기계학습의 주요 분야를 \n",
      "논의하고, 학계, 산업계의 연구자와 실무자들에게 해당 분\n",
      "야의 최첨단 개발 소식 공유\n",
      "기간\n",
      "장소 \n",
      "홈페이지\u001b[0m\u001b[32;1m\u001b[1;3m삼성전자는 최근 '삼성 AI 포럼 2023'에서 자체 개발한 생성형 AI '삼성 가우스'를 공개하였으며, 다양한 제품에 단계적으로 도입할 계획을 발표하였습니다. 삼성 가우스는 온디바이스에서 작동하며, 언어, 코드, 이미지 3가지 모델로 구성되어 있어 외부로 사용자 정보 유출 위험이 없다는 장점이 있습니다. 이 모델은 텍스트 생성, AI 코딩 어시스턴트, 이미지 생성 및 편집 등 다양한 기능을 지원하며, 각기 다른 최적화된 크기의 모델로 구성되어 있습니다.\u001b[0m\n",
      "\n",
      "\u001b[1m> Finished chain.\u001b[0m\n"
     ]
    },
    {
     "data": {
      "text/plain": [
       "{'input': 'pdf에서 삼성전자 관련된 내용들 가져와',\n",
       " 'chat_history': [HumanMessage(content='pdf에서 삼성전자 관련된 내용들 가져와', additional_kwargs={}, response_metadata={}),\n",
       "  AIMessage(content=\"삼성전자는 최근 '삼성 AI 포럼 2023'에서 자체 개발한 생성형 AI '삼성 가우스'를 공개하였으며, 다양한 제품에 단계적으로 도입할 계획을 발표하였습니다. 삼성 가우스는 온디바이스에서 작동하며, 언어, 코드, 이미지 3가지 모델로 구성되어 있어 외부로 사용자 정보 유출 위험이 없다는 장점이 있습니다. 이 모델은 텍스트 생성, AI 코딩 어시스턴트, 이미지 생성 및 편집 등 다양한 기능을 지원하며, 각기 다른 최적화된 크기의 모델로 구성되어 있습니다.\", additional_kwargs={}, response_metadata={})],\n",
       " 'output': \"삼성전자는 최근 '삼성 AI 포럼 2023'에서 자체 개발한 생성형 AI '삼성 가우스'를 공개하였으며, 다양한 제품에 단계적으로 도입할 계획을 발표하였습니다. 삼성 가우스는 온디바이스에서 작동하며, 언어, 코드, 이미지 3가지 모델로 구성되어 있어 외부로 사용자 정보 유출 위험이 없다는 장점이 있습니다. 이 모델은 텍스트 생성, AI 코딩 어시스턴트, 이미지 생성 및 편집 등 다양한 기능을 지원하며, 각기 다른 최적화된 크기의 모델로 구성되어 있습니다.\"}"
      ]
     },
     "execution_count": 38,
     "metadata": {},
     "output_type": "execute_result"
    }
   ],
   "source": [
    "agent_executor.invoke({'input': 'pdf에서 삼성전자 관련된 내용들 가져와'})"
   ]
  }
 ],
 "metadata": {
  "kernelspec": {
   "display_name": "3.13.2",
   "language": "python",
   "name": "python3"
  },
  "language_info": {
   "codemirror_mode": {
    "name": "ipython",
    "version": 3
   },
   "file_extension": ".py",
   "mimetype": "text/x-python",
   "name": "python",
   "nbconvert_exporter": "python",
   "pygments_lexer": "ipython3",
   "version": "3.13.2"
  }
 },
 "nbformat": 4,
 "nbformat_minor": 5
}
