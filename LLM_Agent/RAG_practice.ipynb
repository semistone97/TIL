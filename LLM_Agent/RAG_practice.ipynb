{
 "cells": [
  {
   "cell_type": "markdown",
   "id": "3668385a",
   "metadata": {},
   "source": [
    "# RAG(검색-증강 생성)\n",
    "`Retrieval-Augmented Generation`\n",
    "- LLM이 외부 데이터를 컨텍스트로 활용"
   ]
  },
  {
   "cell_type": "markdown",
   "id": "fbec4a8d",
   "metadata": {},
   "source": [
    "### 사전처리 단계\n",
    "1. 문서 불러오기 (Loading)\n",
    "2. 텍스트 나누기 (Splitting)\n",
    "3. 숫자로 바꾸기 (Embedding)\n",
    "4. 저장하기 (VectorStore)"
   ]
  },
  {
   "cell_type": "code",
   "execution_count": 2,
   "id": "61bf4e13",
   "metadata": {},
   "outputs": [
    {
     "data": {
      "text/plain": [
       "True"
      ]
     },
     "execution_count": 2,
     "metadata": {},
     "output_type": "execute_result"
    }
   ],
   "source": [
    "from dotenv import load_dotenv\n",
    "load_dotenv()"
   ]
  },
  {
   "cell_type": "code",
   "execution_count": 4,
   "id": "e58920fa",
   "metadata": {},
   "outputs": [
    {
     "name": "stdout",
     "output_type": "stream",
     "text": [
      "원본 pdf 장수:  14\n"
     ]
    }
   ],
   "source": [
    "# 1. Load\n",
    "from langchain_community.document_loaders import PyMuPDFLoader\n",
    "loader = PyMuPDFLoader('./practice_rag/가상 아이돌 이용자 연구.pdf')\n",
    "docs = loader.load()\n",
    "\n",
    "print('원본 pdf 장수: ', len(docs))"
   ]
  },
  {
   "cell_type": "code",
   "execution_count": 5,
   "id": "4d7e67cc",
   "metadata": {},
   "outputs": [
    {
     "name": "stdout",
     "output_type": "stream",
     "text": [
      "분할 후 chunk 수:  107\n"
     ]
    }
   ],
   "source": [
    "# 2. Split\n",
    "from langchain_text_splitters import RecursiveCharacterTextSplitter\n",
    "\n",
    "# 500글자 당 1 청크 / 50글자는 겹치게 나눈다\n",
    "text_splitter = RecursiveCharacterTextSplitter(chunk_size = 500, chunk_overlap=50)\n",
    "split_docs = text_splitter.split_documents(docs)\n",
    "\n",
    "# for doc in split_docs:\n",
    "#     print('\\n')\n",
    "#     print(doc)\n",
    "\n",
    "print('분할 후 chunk 수: ', len(split_docs)) # 72"
   ]
  },
  {
   "cell_type": "code",
   "execution_count": null,
   "id": "97d35fbf",
   "metadata": {},
   "outputs": [
    {
     "data": {
      "text/plain": [
       "[Document(id='843de807-3ab5-41bb-982b-fff12641281a', metadata={'producer': 'NuriMedia Co., Ltd. - www.nurimedia.co.kr', 'creator': '', 'creationdate': '2024-11-05T19:38:35+09:00', 'source': './practice_rag/가상 아이돌 이용자 연구.pdf', 'file_path': './practice_rag/가상 아이돌 이용자 연구.pdf', 'total_pages': 14, 'format': 'PDF 1.4', 'title': 'DBPIA-NURIMEDIA', 'author': 'NuriMedia Contents Team', 'subject': '', 'keywords': '', 'moddate': '2024-11-05T19:38:35+09:00', 'trapped': '', 'modDate': \"D:20241105193835+09'00'\", 'creationDate': \"D:20241105193835+09'00'\", 'page': 5}, page_content='40세 사이의 서강대 메타버스전문대학원생 및 일반인을 대상\\n으로 온라인 설문 조사를 실시하였다. 연구 대상자는 가상 아\\n이돌 콘텐츠의 주요 이용자층으로 판단되어 연구 분석에 적\\n합한 대상으로 선정되었다. 온라인 설문조사는 전문 업체에 \\n의뢰하여 2024년 7월 18일부터 7월 27일까지 10일간 진행\\n되었으며, 편의 표집 방법을 통해 모집된 참가자에게 설문 링\\n크가 제공되었다. 설문지는 총 30개 문항으로 구성되어, 이용\\n동기, 만족도, 지속사용의도 등을 포함한 다양한 항목을 측정\\n하였다. 총 200개의 설문지를 회수하였으며, 이 중 중복 응\\n답, 일관된 패턴의 불성실 응답 등 데이터 품질이 낮은 설문\\n지 32개를 제외하였다. 이러한 제외 기준은 연구의 신뢰성과 \\n데이터의 정확성을 높이기 위해 설정되었다. 최종적으로 분석\\n에 사용된 168개의 유효 응답은 연구 목적에 부합하는 신뢰\\n할 수 있는 데이터를 제공하였다. 응답자의 성별 분포는 남성'),\n",
       " Document(id='5b5df323-155d-48f4-aebc-b22b0690dd46', metadata={'producer': 'NuriMedia Co., Ltd. - www.nurimedia.co.kr', 'creator': '', 'creationdate': '2024-11-05T19:38:35+09:00', 'source': './practice_rag/가상 아이돌 이용자 연구.pdf', 'file_path': './practice_rag/가상 아이돌 이용자 연구.pdf', 'total_pages': 14, 'format': 'PDF 1.4', 'title': 'DBPIA-NURIMEDIA', 'author': 'NuriMedia Contents Team', 'subject': '', 'keywords': '', 'moddate': '2024-11-05T19:38:35+09:00', 'trapped': '', 'modDate': \"D:20241105193835+09'00'\", 'creationDate': \"D:20241105193835+09'00'\", 'page': 0}, page_content='일부터 27일까지 서강대 메타버스전문대학원생 및 일반인 대상 온라인 설문 조사를 실시해 168명의 유효 응답을 분석하였다. 구\\n조방정식모델링 분석 결과, 혁신성향과 감각추구성향은 이용동기와 지속사용의도에 긍정적 영향을 미쳤으며, 이용동기와 만족\\n도의 매개효과가 부분적으로 확인되었다. 본 연구는 가상 아이돌 콘텐츠의 사용자 경험 영향을 분석해 콘텐츠 개발과 마케팅 전략 \\n수립에 중요한 통찰을 제공한다.\\n[Abstract] \\nWith the increasing influence of virtual idols in global popular culture, understanding user behavior and detailed consumption \\npatterns has become crucial. This comprehensive study focuses on adults aged 18 to 40 who have experience using virtual idol'),\n",
       " Document(id='bab6188a-8bb0-4de4-966b-03452779ee47', metadata={'producer': 'NuriMedia Co., Ltd. - www.nurimedia.co.kr', 'creator': '', 'creationdate': '2024-11-05T19:38:35+09:00', 'source': './practice_rag/가상 아이돌 이용자 연구.pdf', 'file_path': './practice_rag/가상 아이돌 이용자 연구.pdf', 'total_pages': 14, 'format': 'PDF 1.4', 'title': 'DBPIA-NURIMEDIA', 'author': 'NuriMedia Contents Team', 'subject': '', 'keywords': '', 'moddate': '2024-11-05T19:38:35+09:00', 'trapped': '', 'modDate': \"D:20241105193835+09'00'\", 'creationDate': \"D:20241105193835+09'00'\", 'page': 10}, page_content='로 자리잡았으며, 메타버스 생태계의 다양한 가능성을 제시하\\n고 있다.\\n기존 연구들은 주로 특정 사례나 상업적 가능성에 초점을 \\n맞추고 있어, 가상 아이돌 콘텐츠 이용자의 성향과 이용동기\\n에 대한 실증적 연구는 부족한 상황이다. 따라서, 가상 아이돌 \\n콘텐츠의 이용자 성향, 이용동기, 만족도, 지속사용의도 간의 \\n관계를 체계적으로 분석함으로써, 이러한 콘텐츠가 이용자들\\n의 다양한 욕구를 어떻게 충족시키고 있는지, 그리고 지속적\\n인 성장을 위해 어떤 전략이 필요한지에 대한 심층적인 이해\\n를 도모하고자 하였다.\\n조사는 가상 아이돌 콘텐츠 이용 경험이 있는 18세에서 40\\n세 사이의 서강대 메타버스전문대학원생 및 일반인을 대상으\\n로 2024년 7월 18일부터 7월 27일까지 서울 및 경기도 등 \\n다양한 지역에서 온라인으로 진행되었다. 총 200명의 응답자 \\n중, 중복되거나 신뢰할 수 없는 응답을 제외한 168명의 유효 \\n응답이 최종 분석에 사용되었다. 연구의 주요 목표는 혁신성'),\n",
       " Document(id='b8bf7ba0-cd76-446e-a2e6-3203bf203378', metadata={'producer': 'NuriMedia Co., Ltd. - www.nurimedia.co.kr', 'creator': '', 'creationdate': '2024-11-05T19:38:35+09:00', 'source': './practice_rag/가상 아이돌 이용자 연구.pdf', 'file_path': './practice_rag/가상 아이돌 이용자 연구.pdf', 'total_pages': 14, 'format': 'PDF 1.4', 'title': 'DBPIA-NURIMEDIA', 'author': 'NuriMedia Contents Team', 'subject': '', 'keywords': '', 'moddate': '2024-11-05T19:38:35+09:00', 'trapped': '', 'modDate': \"D:20241105193835+09'00'\", 'creationDate': \"D:20241105193835+09'00'\", 'page': 13}, page_content='2015년～현\\n재: LG전자\\n2023년～현\\n재: 서강대학교메타버스전문대학원박사과정\\n※관심분야：메타버스, 디지털마케팅, 데이터사이언스\\n박선호(Sunho Park)\\n2016년：서강대학교대학원\\n(문학석사-신문방송학)\\n2020년：서강대학교대학원\\n(문학박사-신문방송학)\\n2011년～2013년: 한국전파진흥협회\\n2021년～2022년: 한국정보산업연합회\\n2022년～현\\n재: 서강대학교메타버스전문대학원연구교수\\n※관심분야：ICT 정책, 플랫폼산업, 메타버스, 뉴미디어산\\n업등\\n현대원(Daiwon Hyun)\\n1989년：서강대학교대학원\\n(문학석사-신문방송학)\\n1998년：Temple University\\n(Ph.D-Telecommuncation)\\n2020년～현\\n재: 서강대학교메타버스전문대학원원장\\n2000년～현\\n재: 서강대학교\\n※관심분야：ICT 정책및산업, 메타버스등')]"
      ]
     },
     "execution_count": 7,
     "metadata": {},
     "output_type": "execute_result"
    }
   ],
   "source": [
    "# 3. 벡터 임베딩 + 4. 벤터스토어 저장\n",
    "\n",
    "from langchain_openai import OpenAIEmbeddings\n",
    "from langchain_community.vectorstores import FAISS\n",
    "\n",
    "embedding = OpenAIEmbeddings()\n",
    "\n",
    "vectorstore = FAISS.from_documents(documents=split_docs, embedding=embedding)\n",
    "\n",
    "# Test\n",
    "# vectorstore.similarity_search('미국 대통령 관련 문서 가져오기', k=4)"
   ]
  },
  {
   "cell_type": "code",
   "execution_count": 8,
   "id": "49b4de5f",
   "metadata": {},
   "outputs": [
    {
     "data": {
      "text/plain": [
       "'이 문서는 가상 아이돌 이용자들의 특성과 이용 동기, 만족도, 지속 사용 의도 등을 조사한 연구 결과를 다루고 있습니다. 설문조사를 통해 수집한 데이터를 분석하여, 가상 아이돌 콘텐츠가 이용자 경험에 미치는 영향과 성장 전략을 모색하는 내용을 포함합니다. 또한, 연구의 한계와 향후 방향성에 대해서도 논의하고 있습니다.'"
      ]
     },
     "execution_count": 8,
     "metadata": {},
     "output_type": "execute_result"
    }
   ],
   "source": [
    "# 5. 최종 답변\n",
    "from langchain_openai import ChatOpenAI\n",
    "from langchain_core.prompts import PromptTemplate\n",
    "from langchain_core.runnables import RunnablePassthrough\n",
    "from langchain_core.output_parsers import StrOutputParser\n",
    "from langchain import hub\n",
    "\n",
    "# 프롬프트 세팅\n",
    "prompt = hub.pull('rlm/rag-prompt')\n",
    "\n",
    "# LLM 모델\n",
    "llm = ChatOpenAI(model='gpt-4.1-nano')\n",
    "\n",
    "# 검색기 생성(retriever 생성)\n",
    "retriever = vectorstore.as_retriever()\n",
    "\n",
    "chain = (\n",
    "    {'context': retriever, 'question': RunnablePassthrough()}\n",
    "    | prompt | llm | StrOutputParser()\n",
    ")\n",
    "\n",
    "chain.invoke('해당 문서 요약해줘.')"
   ]
  }
 ],
 "metadata": {
  "kernelspec": {
   "display_name": "3.13.2",
   "language": "python",
   "name": "python3"
  },
  "language_info": {
   "codemirror_mode": {
    "name": "ipython",
    "version": 3
   },
   "file_extension": ".py",
   "mimetype": "text/x-python",
   "name": "python",
   "nbconvert_exporter": "python",
   "pygments_lexer": "ipython3",
   "version": "3.13.2"
  }
 },
 "nbformat": 4,
 "nbformat_minor": 5
}
