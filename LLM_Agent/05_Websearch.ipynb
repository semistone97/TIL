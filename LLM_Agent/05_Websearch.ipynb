{
 "cells": [
  {
   "cell_type": "markdown",
   "id": "ed0db76d",
   "metadata": {},
   "source": [
    "# Tavily Web Search"
   ]
  },
  {
   "cell_type": "code",
   "execution_count": 1,
   "id": "afce06fe",
   "metadata": {},
   "outputs": [
    {
     "name": "stdout",
     "output_type": "stream",
     "text": [
      "\n",
      "\u001b[1m[\u001b[0m\u001b[34;49mnotice\u001b[0m\u001b[1;39;49m]\u001b[0m\u001b[39;49m A new release of pip is available: \u001b[0m\u001b[31;49m24.3.1\u001b[0m\u001b[39;49m -> \u001b[0m\u001b[32;49m25.2\u001b[0m\n",
      "\u001b[1m[\u001b[0m\u001b[34;49mnotice\u001b[0m\u001b[1;39;49m]\u001b[0m\u001b[39;49m To update, run: \u001b[0m\u001b[32;49mpip install --upgrade pip\u001b[0m\n",
      "Note: you may need to restart the kernel to use updated packages.\n"
     ]
    }
   ],
   "source": [
    "%pip install -qU langchain-tavily"
   ]
  },
  {
   "cell_type": "code",
   "execution_count": 2,
   "id": "84dbd4ed",
   "metadata": {},
   "outputs": [
    {
     "data": {
      "text/plain": [
       "True"
      ]
     },
     "execution_count": 2,
     "metadata": {},
     "output_type": "execute_result"
    }
   ],
   "source": [
    "from dotenv import load_dotenv\n",
    "load_dotenv()"
   ]
  },
  {
   "cell_type": "code",
   "execution_count": 3,
   "id": "36986a46",
   "metadata": {},
   "outputs": [],
   "source": [
    "from langchain_tavily import TavilySearch\n",
    "\n",
    "search_tool = TavilySearch(\n",
    "    max_results=5,\n",
    "    topic=\"general\",\n",
    "    # include_answer=False,\n",
    "    # include_raw_content=False,\n",
    "    # include_images=False,\n",
    "    # include_image_descriptions=False,\n",
    "    search_depth=\"basic\",\n",
    "    # time_range=\"day\",\n",
    "    # include_domains=None,\n",
    "    # exclude_domains=None\n",
    ")"
   ]
  },
  {
   "cell_type": "code",
   "execution_count": 4,
   "id": "b0e31f0c",
   "metadata": {},
   "outputs": [
    {
     "data": {
      "text/plain": [
       "{'query': '전세계에서 가장 많이 쓰이는 API를 설명해줘',\n",
       " 'follow_up_questions': None,\n",
       " 'answer': None,\n",
       " 'images': [],\n",
       " 'results': [{'url': 'https://www.reddit.com/r/webdev/comments/ydrh3t/most_common_apis/?tl=ko',\n",
       "   'title': '가장 흔한 API들 : r/webdev - Reddit',\n",
       "   'content': 'Missing: 전세계 해줘',\n",
       "   'score': 0.7274535,\n",
       "   'raw_content': None},\n",
       "  {'url': 'https://velog.io/@sae0428/REST-API-RESTful-API',\n",
       "   'title': 'REST API & RESTful API - velog',\n",
       "   'content': 'REST API 란 이전 포스트에서 작성한 REST의 원리를 따르는 API를 의미한다. ... 전 세계에서 가장많이 쓰이는 JSON 형태로 주고받는 API. REST API는 모든',\n",
       "   'score': 0.6698534,\n",
       "   'raw_content': None},\n",
       "  {'url': 'https://m.blog.naver.com/codingbarbie/223233443109',\n",
       "   'title': 'API(Application Programming Interface)란 무엇인가? / API 종류 ...',\n",
       "   'content': '대표적으로 많이 사용하는 API. Google Maps API: 지도 서비스를 애플리케이션에 통합. Twitter API: 트위터의 여러 기능을 애플리케이션에 통합.',\n",
       "   'score': 0.49362883,\n",
       "   'raw_content': None},\n",
       "  {'url': 'https://blog.naver.com/inpink_/223498702649',\n",
       "   'title': '4가지 유명한 API 프로토콜: REST, GraphQL, Webhook, gRPC (feat ...',\n",
       "   'content': '여전히 웹 API 프로토콜로는 최고의 선택이라 할 수 있다. . 그 이유는, REST가 “간단하고, 확장 가능하고, 웹 서비스에 잘 맞다”',\n",
       "   'score': 0.43367022,\n",
       "   'raw_content': None},\n",
       "  {'url': 'https://jjeongil.tistory.com/2240',\n",
       "   'title': 'RESTful API 구축에 가장 많이 사용되는 10가지 프레임워크',\n",
       "   'content': 'RESTful API 구축에 가장 많이 사용되는 10가지 프레임워크 · API 프레임워크 선택 방법 · 스프링 부트 · 루비 온 레일즈 · 플라스크 · 장고 REST · Express JS.',\n",
       "   'score': 0.41279107,\n",
       "   'raw_content': None}],\n",
       " 'response_time': 1.05,\n",
       " 'request_id': 'f78355a0-e27a-4be8-9a14-4ce0f6a6c346'}"
      ]
     },
     "execution_count": 4,
     "metadata": {},
     "output_type": "execute_result"
    }
   ],
   "source": [
    "search_tool.invoke({'query': '전세계에서 가장 많이 쓰이는 API를 설명해줘'})"
   ]
  },
  {
   "cell_type": "code",
   "execution_count": 5,
   "id": "e45af8a8",
   "metadata": {},
   "outputs": [
    {
     "data": {
      "text/plain": [
       "'강남 신세계백화점에서 점심 식사 장소로는 타치바나(신세계백화점 지하 1층 하우스오브신세계 추천)가 인기 있으며, 다이닝코드와 트립어드바이저에서도 여러 맛집이 추천되고 있습니다. 또한, 미쉐린 빕 구르망 셰프의 점심 한정 반상도 허용되어 있으니 다양한 선택이 가능합니다.'"
      ]
     },
     "execution_count": 5,
     "metadata": {},
     "output_type": "execute_result"
    }
   ],
   "source": [
    "from langchain.prompts import PromptTemplate\n",
    "from langchain_openai import ChatOpenAI\n",
    "from langchain_core.output_parsers import StrOutputParser\n",
    "from langchain_core.runnables import RunnableLambda, RunnablePassthrough\n",
    "\n",
    "llm = ChatOpenAI(model='gpt-4.1-nano') # llm 인스턴스 생성\n",
    "\n",
    "prompt = PromptTemplate(\n",
    "    input_variables=['query', 'search_results'],\n",
    "    template=\"\"\"넌 웹 검색결과를 요약해서 사용자의 질문에 맞게 좋은 답을 해주는 챗봇이야.\n",
    "\n",
    "    질문: {query}\n",
    "    검색결과: {search_results}\n",
    "    질문에 맞는 답을 검색결과 바탕으로 간단하게 알려줘\n",
    "    \"\"\"\n",
    ")\n",
    "\n",
    "chain = (\n",
    "    {\n",
    "        'query': RunnablePassthrough(),  # 사용자 입력 그대로 이 자리에 들어옴\n",
    "        'search_results': search_tool | RunnableLambda(\n",
    "            lambda x: '\\n'.join(\n",
    "                [f'-{r['title']} ({r['content']})' for r in x['results']]\n",
    "            )\n",
    "        )\n",
    "    }\n",
    "    | prompt\n",
    "    | llm\n",
    "    | StrOutputParser()\n",
    ")\n",
    "\n",
    "chain.invoke('강남 신세계에서 점심 먹기 좋은곳')"
   ]
  },
  {
   "cell_type": "code",
   "execution_count": 17,
   "id": "3f5633d9",
   "metadata": {},
   "outputs": [
    {
     "name": "stdout",
     "output_type": "stream",
     "text": [
      "\n",
      "\n",
      "\u001b[1m> Entering new AgentExecutor chain...\u001b[0m\n",
      "\u001b[32;1m\u001b[1;3m\n",
      "Invoking: `tavily_search` with `{'query': '오늘 날씨에 맞는 음악 추천', 'search_depth': 'advanced'}`\n",
      "\n",
      "\n",
      "\u001b[0m\u001b[36;1m\u001b[1;3m{'query': '오늘 날씨에 맞는 음악 추천', 'follow_up_questions': None, 'answer': None, 'images': [], 'results': [{'url': 'https://www.youtube.com/watch?v=f6X36lcmg6M', 'title': '나른한 요즘 날씨에 틀어놓기 좋은 산뜻하고 기분 좋은 노래 모음', 'content': \"I'll say I love you twice [Music] [Music] thank you [Music] okay yes [Music] [Music] [Music] [Music] [Music] [Music] [Music] all right [Music] all right [Music] remember [Music] [Music] [Music] money [Music] right now [Music] in the morning [Music] follow me [Music] [Music] I should get a chance [Music] [Music] [Music] [Music] become true [Music] okay [Music] [...] [Music] your Channel [Music] [Music] Entertainer [Music] [Music] premium [Music] [Music] Harry Potter the Summers [Music] [Music] [Music] this morning [Music] [Music] [Music] [Music] [Music] [Music] um remember [Music] foreign [Music] [Music] [Music] I hear you [Music] thank you [Music] [Music] Mickey [Music] [Music] s [Music] please [Music] [Music] this is [Music] [Applause] together [Music] [Music] baby baby [Music] [Music] [Music] don't send me baby [Music] love you baby [Music] [Music] [...] enough [Music] [Music] [Music] do you believe [Music] [Music] good morning [Music] [Music] you don't know go [Music] there right [Music] thank you [Music] foreign [Music] [Music] [Music] [Music] [Music] you will be mine fine baby [Music] [Music] [Music] badly bruise [Music] [Music] hey baby please [Music] [Music] [Music] [Music] smile [Music] you will be mine [Music] [Music] [Music] she went away [Music] [Music] foreign [Music] [Music] [Applause] [Music] [Music] [Music] [Music] I'm [Music]\", 'score': 0.5809471, 'raw_content': None}, {'url': 'https://www.youtube.com/watch?v=qPnPanVUsLU', 'title': '[PLAYLIST] 비 오는 날 들으면 감성 터지는 노래 - YouTube', 'content': '00:00 에픽하이 (EPIK HIGH) - 비 오는 날 듣기 좋은 노래 (Feat. Colde)\\n04:08 헤이즈 (Heize) - 비도 오고 그래서 (Feat. 신용재)\\n07:33 에픽하이 (EPIK HIGH) - 우산 (Feat. 윤하)\\n12:35 모트 (Motte) - 비가 와도\\n15:53 브라운 아이즈 - 비오는 압구정\\n19:30 이무진 - 비와 당신\\n23:52 하은 - 비오는 날 뭐해\\n27:25 유승우 - 비 오는 거리\\n31:46 JEMINN - Rainy Saturday\\n35:49 Swalo - Rainy (Feat. 요다영)\\n39:18 윤지성 - In the Rain\\n43:11 최도영 (CANDO) - 빗물처럼 날 흘려보내\\n46:51 Bahn - 우비소년\\n50:47 존 박 - 빗속에서\\n54:50 장재인 - Rainy Day\\n\\n#비오는날 #플레이리스트 #비오는날듣기좋은노래 #PLAYLIST #비플레이리스트 #지니뮤직 #지니 #모임 [...] wee wee 생각해낼 woo joo won lee 아 아 아 [음악] cool ter we 오오오 아아아 a we on we 르 뭘까 rna wei woo woo we we we feel we we we 아아 woo woo 아아아 na hoon-a wow [음악] 장재인 - Rainy Day 으 그다음 아마 안 돌아오는 게 뭐 네 마 암웨이 dw 빠 물소리 크게 몰려 요 예 아 [음악] see with 수월 은 말씨와 가 투어 wm 청병 봐요 쏟아지는 리그 rlc ep her so on 으 a whole town e 아 [음악] 으 na na na na na [음악] hoo woo woo woo 파란 마음 브라운 레노마 owe iso ce 아 썽 so here my tel oo 아 아 아 조 아 아파 아 으 으 [음악] 5 [음악] wall onl we [음악] we were here 아 에 이 오 eie [음악] 으 아 아 아 아 oo 아 아 아 [음악] wann ver [...] 아아아 woo woo hoo hoo [음악] 5 wow hk 초침 소리 더 5w40 난조 라가 to rename [음악] chou 투수 개설 수 woo woo woo woo [음악] [박수] wo gei wo wo wo wo wo woo wo woo wo u o 5 e 아 에픽하이 (EPIK HIGH) - 우산 (Feat. 윤하) 아 serve a flood 개그 [음악] 아 of a 따면 woo hoo 으 으 으 [음악] 검 비방의 신께 소리 참과 이 맞다면 비하 소리 오랜만에 응 토 주말 소개 반지 홈즈는 새 수면 되는거 뭐 몇일 만에 나서 보는 팜에서 고인이 물은 참 거울 속에 난 뒤틀려 밤 그대 없이 난 적 나리가 잡은 이제 차가운 세상에 순간 더 비쌈 이제 너무 크고 어떻게 그대 곁에 늘 젖어있던 것 좋게 보낼 개혁의 묵게 에 고개 시어머니 벌어질 때 벌어진 내 신발 끝 허나 곁엔 오직 비와 바람 지라도 우산을 들어줄 사람이 빼 낼 거야 [음악] we we we we we', 'score': 0.32566044, 'raw_content': None}, {'url': 'https://weather.daum.net/', 'title': '다음날씨 | 동네날씨', 'content': '경복궁역 CCTV\\n\\n도움말\\n\\n실제 상황과 5~10분 정도 차이가 날 수 있습니다.\\n\\n도움말 팝업 닫기\\n\\n독립문 CCTV 보기 광화문 CCTV 보기\\n\\n제공:경찰청(UTIC) \\n\\n청운효자동 대기정보\\n\\n미세먼지\\n\\n초미세먼지\\n\\n황사\\n\\n오존\\n\\n다음 탭\\n\\n미세먼지\\n\\n현재 좋음 18㎍/㎥\\n\\n대기 정보 범례\\n   좋음\\n   보통\\n   나쁨\\n   매우\\n\\n   현재\\n\\n20시좋음 18\\n   오늘\\n\\n오전좋음\\n   오늘\\n\\n오후좋음\\n   내일\\n\\n오전좋음\\n   내일\\n\\n오후좋음\\n   모레\\n\\n오전좋음\\n   모레\\n\\n오후좋음\\n\\n출처:한국환경공단제공:케이웨더2025.8.28. 20:00 기준\\n\\n투데이 버블 beta\\n\\n   Image 9가비엔제이 5기_음악_\\n   Image 10이선빈 전현무계획2_예능_\\n   Image 11임재범 전국투어_음악_\\n   Image 12선우용여 인종차별_연예_\\n\\n새로운 키워드 현재 페이지 _1_/전체 페이지 5\\n\\n알림 전체목록 보기\\n\\n일출/일몰\\n\\n일출까지 02:55 남았습니다. [...] Image 1Image 2Image 3반려견 산책 지수\\n\\n청운효자동 주간예보\\n\\n도움말\\n\\n케이웨더는 자정에서 정오 전이 오전, 정오에서 자정 전이 오후입니다. 아큐웨더는 일출부터 일몰 전이 낮, 일몰부터 일출 전이 밤입니다.\\n\\n도움말 팝업 닫기\\n\\n오늘 08.28\\n\\n_오전_ 흐림 흐림 강수확률 30%\\n\\n_오후_ 소나기 소나기 강수확률 60%\\n\\n오전기온 25°\\n\\n오후기온 32°\\n\\n내일 08.29\\n\\n_오전_ 소나기 소나기 강수확률 60%\\n\\n_오후_ 소나기 소나기 강수확률 60%\\n\\n오전기온 26°\\n\\n오후기온 31°\\n\\n토 08.30\\n\\n_오전_ 소나기 소나기 강수확률 60%\\n\\n_오후_ 구름많음 구름많음 강수확률 20%\\n\\n오전기온 26°\\n\\n오후기온 31°\\n\\n일 08.31\\n\\n_오전_ 소나기 소나기 강수확률 60%\\n\\n_오후_ 흐린후비 흐린후비 강수확률 60%\\n\\n오전기온 25°\\n\\n오후기온 31°\\n\\n월 09.01\\n\\n_오전_ 흐린후비 흐린후비 강수확률 90%\\n\\n_오후_ 흐린후비 흐린후비 강수확률 90% [...] 날씨 및 온도구름많음 구름많음기온29°\\n\\n강수확률(단위:%)20\\n\\n강수량(단위:mm)0\\n\\n바람(단위:m/s)남서 남서 3\\n\\n습도(단위:%)70\\n\\n산책지수좋음 좋음\\n\\n시간19:08\\n\\n날씨 및 온도일몰 일몰기온28°\\n\\n강수확률(단위:%)30\\n\\n강수량(단위:mm)0\\n\\n바람(단위:m/s)서 서 2\\n\\n습도(단위:%)75\\n\\n산책지수좋음 좋음\\n\\n시간05시\\n\\n날씨 및 온도흐림 흐림기온28°\\n\\n강수확률(단위:%)30\\n\\n강수량(단위:mm)0\\n\\n바람(단위:m/s)서 서 1\\n\\n습도(단위:%)80\\n\\n산책지수좋음 좋음\\n\\n시간06시\\n\\n날씨 및 온도흐림 흐림기온28°\\n\\n강수확률(단위:%)30\\n\\n강수량(단위:mm)0\\n\\n바람(단위:m/s)서 서 1\\n\\n습도(단위:%)80\\n\\n산책지수좋음 좋음\\n\\n시간07시\\n\\n날씨 및 온도흐림 흐림기온28°\\n\\n강수확률(단위:%)30\\n\\n강수량(단위:mm)0\\n\\n바람(단위:m/s)서 서 0\\n\\n습도(단위:%)80\\n\\n산책지수보통 보통\\n\\n시간08시\\n\\n날씨 및 온도흐림 흐림기온27°', 'score': 0.10426756, 'raw_content': None}, {'url': 'https://weather.naver.com/', 'title': '네이버 날씨 - NAVER', 'content': '| 오늘 | 7시 맑음 | 8시 맑음 | 9시 맑음 | 10시 맑음 | 11시 맑음 | 12시 맑음 | 13시 맑음 | 14시 맑음 | 15시 맑음 | 16시 맑음 | 17시 구름많음 | 18시 흐림 | 19시 흐림 | 20시 흐림 | 21시 흐림 | 22시 흐림 | 23시 흐림 | 내일 흐림 | 1시 흐림 | 2시 흐림 | 3시 비 | 4시 비 | 5시 비 | 6시 비 | 7시 비 | 8시 비 | 9시 비 | 10시 비 | 11시 흐림 | 12시 흐림 | 13시 흐림 | 14시 흐림 | 15시 구름많음 | 16시 구름많음 | 17시 구름많음 | 18시 구름많음 | 19시 구름많음 | 20시 구름많음 | 21시 구름많음 | 22시 구름많음 | 23시 구름많음 | 모레 구름많음 | 1시 구름많음 | 2시 구름많음 | 3시 구름많음 | 4시 구름많음 | 5시 구름많음 | 6시 구름많음 | 7시 구름많음 | 8시 구름많음 | 9시 구름많음 | 10시 구름많음 | 11시 구름많음 | [...] 20% 이하\\n 40% 이하\\n 60% 이하\\n 80% 이하\\n 100% 이하\\n\\n 1m/s 이하\\n 4m/s 이하\\n 6m/s 이하\\n 10m/s 이하\\n 35m/s 이하\\n 60m/s 이하\\n\\n 40cm 이하\\n 18cm 이하\\n 9cm 이하\\n 4cm 이하\\n 0.8cm 이하\\n 0cm\\n\\n 60mm 이하\\n 25mm 이하\\n 10mm 이하\\n 5mm 이하\\n 1mm 이하\\n 0mm\\n\\n 매우\\n 나쁨\\n 한때\\n 보통\\n 좋음\\n\\n 240㎍/m³ 이하\\n 151㎍/m³ 이하\\n 81㎍/m³ 이하\\n 31㎍/m³ 이하\\n 0㎍/m³\\n\\n 150㎍/m³ 이하\\n 76㎍/m³ 이하\\n 36㎍/m³ 이하\\n 16㎍/m³ 이하\\n 0㎍/m³\\n\\n 1000개 이상\\n 500개 이상\\n 300개 이상\\n 100개 이상\\n 30개 이상\\n 0개 이상\\n\\n 태풍 크기 반경\\n 태풍위치 70%확률반경\\n 세력 약화\\n 17~24m/s\\n 중 25~32m/s\\n 강 33~43m/s\\n 매우 강 44~53m/s\\n 초강력 54m/s 이상 [...] 20% 이하\\n 40% 이하\\n 60% 이하\\n 80% 이하\\n 100% 이하\\n\\n 1m/s 이하\\n 4m/s 이하\\n 6m/s 이하\\n 10m/s 이하\\n 35m/s 이하\\n 60m/s 이하\\n\\n 40cm 이하\\n 18cm 이하\\n 9cm 이하\\n 4cm 이하\\n 0.8cm 이하\\n 0cm\\n\\n 60mm 이하\\n 25mm 이하\\n 10mm 이하\\n 5mm 이하\\n 1mm 이하\\n 0mm\\n\\n 매우\\n 나쁨\\n 한때\\n 보통\\n 좋음\\n\\n 240㎍/m³ 이하\\n 151㎍/m³ 이하\\n 81㎍/m³ 이하\\n 31㎍/m³ 이하\\n 0㎍/m³\\n\\n 150㎍/m³ 이하\\n 76㎍/m³ 이하\\n 36㎍/m³ 이하\\n 16㎍/m³ 이하\\n 0㎍/m³\\n\\n 1000개 이상\\n 500개 이상\\n 300개 이상\\n 100개 이상\\n 30개 이상\\n 0개 이상\\n\\n 태풍 크기 반경\\n 태풍위치 70%확률반경\\n 세력 약화\\n 17~24m/s\\n 중 25~32m/s\\n 강 33~43m/s\\n 매우 강 44~53m/s\\n 초강력 54m/s 이상', 'score': 0.08182022, 'raw_content': None}, {'url': 'https://www.weather.go.kr/', 'title': '기상청 날씨누리: 홈', 'content': '오늘과 내일 충청권과 남부지방, 제주도 소나기, 내일 새벽부터 오전까지 중부지방 서쪽 지역 비. (기상청 예보 25년 9월 3일 05시 기준)  \\n2025년 9월 3일 05시 예보를 해설한 예보관리포트입니다.  \\n지역별 더 자세한 날씨는 기상청 날씨누리와 기상청 날씨알리미앱을 참고하시기 바랍니다.\\n기상청 날씨누리 : \\n★★★ 옙TV도 많이 사랑해주세요! - \\n0:00 내일의 날씨는?\\n0:09 오늘 소나기 전망\\n0:40 내일 강수 전망\\n자막을 확인하실 분들은 유튜브 자막을 활성화시켜주세요.\\n안녕하세요 예보관리포트 기상청 예보분석관 복한규입니다\\n오늘의 날씨 키워드는 소나기와 비입니다\\n그럼 자세히 알아보겠습니다\\n먼저 오늘 소나기 전망입니다\\n오늘 우리나라는 동해북부해상에 위치한 고기압의 가장자리에 들겠는데요\\n고기압의 영향으로 남부지방에 동풍이 유입되면서 기류가 수렴해\\n온도와 습도가 높은 남부지방을 중심으로 대기가 불안정해지겠습니다\\n오전부터 밤 사이 충청권과 남부지방 [...] | 날씨기호 | 설명 | 날씨기호 | 설명 |\\n| 맑음 | 맑음 | 맑음 (밤) | 맑음 (밤) |\\n| 구름조금 (낮) | 구름조금 (낮) | 구름조금 (밤) | 구름조금 (밤) |\\n| 구름많음 (낮) | 구름많음 (낮) | 구름많음 (밤) | 구름많음 (밤) |\\n| 흐림 | 흐림 | 소나기 | 소나기 |\\n| 비 | 비 | 가끔 비, 한때 비 | 가끔 비, 한때 비 |\\n| 눈 | 눈 | 가끔 눈, 한때 눈 | 가끔 눈, 한때 눈 |\\n| 비 또는 눈 | 비 또는 눈 | 가끔 비 또는 눈, 한때 비 또는 눈 | 가끔 비 또는 눈,  한때 비 또는 눈 |\\n| 눈 또는 비 | 눈 또는 비 | 가끔 눈또는 비, 한때 눈 또는 비 | 가끔 눈 또는 비, 한때 눈 또는 비 |\\n|  | 낙뢰 | 빗방울 | 빗방울 |\\n| 연무 | 연무 | 눈날림 | 눈날림 |\\n| 안개 | 안개 | 박무 (엷은 안개) | 박무 (엷은 안개) |\\n| 황사 | 황사 |  | | [...] 인제22.7℃\\n\\n이천24.1℃\\n\\n양평24.7℃\\n\\n강화26.4℃\\n\\n진주28.8℃\\n\\n서귀포30.4℃\\n\\n성산30.5℃\\n\\n고산28.9℃\\n\\n제주30.4℃\\n\\n서청주25.7℃\\n\\n홍성26.8℃\\n\\n순천27.7℃\\n\\n고창28.6℃\\n\\n완도31.2℃\\n\\n흑산도29.3℃\\n\\n여수27.6℃\\n\\n목포29.4℃\\n\\n통영29.1℃\\n\\n부산30.1℃\\n\\n광주28.3℃\\n\\n창원29.5℃\\n\\n울산27.4℃\\n\\n전주29.4℃\\n\\n대구28.0℃\\n\\n군산27.1℃\\n\\n포항26.2℃\\n\\n상주26.0℃\\n\\n안동28.6℃\\n\\n추풍령24.4℃\\n\\n대전27.8℃\\n\\n청주27.3℃\\n\\n울진27.4℃\\n\\n서산27.1℃\\n\\n충주26.4℃\\n\\n영월25.6℃\\n\\n수원27.5℃\\n\\n울릉도27.7℃\\n\\n원주25.8℃\\n\\n인천27.4℃\\n\\n서울27.2℃\\n\\n동해28.5℃\\n\\n강릉28.3℃\\n\\n북강릉27.1℃\\n\\n백령도26.0℃\\n\\n춘천24.9℃\\n\\n대관령23.7℃\\n\\n파주26.0℃\\n\\n동두천26.3℃\\n\\n철원25.4℃\\n\\n북춘천25.1℃\\n\\n속초26.6℃\\n\\n50 km\\n\\n 백지도\\n\\n현재위찾기\")', 'score': 0.07652507, 'raw_content': None}], 'response_time': 1.7, 'request_id': 'e828e10c-fd0b-4180-9186-aa031e4c122f'}\u001b[0m\u001b[32;1m\u001b[1;3m오늘 날씨는 대체로 흐림 또는 비 소식을 포함하고 있어 감성적인 분위기의 음악이 어울릴 것 같아요. 추천 음악으로는 감성적이고 잔잔한 분위기를 자아내는 노래들이 적합하겠습니다.\n",
      "\n",
      "1. **[비 오는 날 들으면 감성 터지는 노래 모음](https://www.youtube.com/watch?v=qPnPanVUsLU)** - 이 플레이리스트에는 헤이즈, 에픽하이 등 감성적인 노래들이 포함되어 있어 비 오는 날의 분위기와 잘 어울립니다.\n",
      "2. **잔잔한 음악 추천** - 부드럽고 기분 좋은 느낌의 곡들이 하루의 흐림과 어울릴 것 같습니다.\n",
      "\n",
      "이 외에도 음악을 들으며 차분한 시간 보내세요!\u001b[0m\n",
      "\n",
      "\u001b[1m> Finished chain.\u001b[0m\n"
     ]
    },
    {
     "data": {
      "text/plain": [
       "{'messages': [{'role': 'human', 'content': '오늘 날씨에 맞는 음악 추천해줘'}],\n",
       " 'output': '오늘 날씨는 대체로 흐림 또는 비 소식을 포함하고 있어 감성적인 분위기의 음악이 어울릴 것 같아요. 추천 음악으로는 감성적이고 잔잔한 분위기를 자아내는 노래들이 적합하겠습니다.\\n\\n1. **[비 오는 날 들으면 감성 터지는 노래 모음](https://www.youtube.com/watch?v=qPnPanVUsLU)** - 이 플레이리스트에는 헤이즈, 에픽하이 등 감성적인 노래들이 포함되어 있어 비 오는 날의 분위기와 잘 어울립니다.\\n2. **잔잔한 음악 추천** - 부드럽고 기분 좋은 느낌의 곡들이 하루의 흐림과 어울릴 것 같습니다.\\n\\n이 외에도 음악을 들으며 차분한 시간 보내세요!'}"
      ]
     },
     "execution_count": 17,
     "metadata": {},
     "output_type": "execute_result"
    }
   ],
   "source": [
    "from langchain.agents import create_openai_tools_agent, AgentExecutor\n",
    "from langchain_core.prompts import ChatPromptTemplate, MessagesPlaceholder\n",
    "from datetime import datetime\n",
    "\n",
    "today = datetime.today().strftime('%D')\n",
    "\n",
    "search_tool = TavilySearch(\n",
    "    max_results=5,\n",
    "    topic='general'\n",
    ")\n",
    "\n",
    "prompt = ChatPromptTemplate.from_messages([\n",
    "    ('system', f'너는 훌륭한 어시스턴트야. 반드시 웹 검색도구를 사용해서 정보를 얻어. 최대한 답을 잘 해보자. 오늘은 {today}야.'),\n",
    "    MessagesPlaceholder(variable_name='messages'),\n",
    "    MessagesPlaceholder(variable_name='agent_scratchpad')  # 도구(검색) 호출때 필요함\n",
    "])\n",
    "\n",
    "agent = create_openai_tools_agent(\n",
    "    llm=llm,\n",
    "    tools=[search_tool],\n",
    "    prompt=prompt\n",
    ")\n",
    "\n",
    "agent_executor = AgentExecutor(agent=agent, tools=[search_tool], verbose=True)\n",
    "\n",
    "agent_executor.invoke({'messages': [{'role': 'human', 'content': '오늘 날씨에 맞는 음악 추천해줘'}]})"
   ]
  }
 ],
 "metadata": {
  "kernelspec": {
   "display_name": "3.13.2",
   "language": "python",
   "name": "python3"
  },
  "language_info": {
   "codemirror_mode": {
    "name": "ipython",
    "version": 3
   },
   "file_extension": ".py",
   "mimetype": "text/x-python",
   "name": "python",
   "nbconvert_exporter": "python",
   "pygments_lexer": "ipython3",
   "version": "3.13.2"
  }
 },
 "nbformat": 4,
 "nbformat_minor": 5
}
