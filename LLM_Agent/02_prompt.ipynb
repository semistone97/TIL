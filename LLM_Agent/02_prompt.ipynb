{
 "cells": [
  {
   "cell_type": "markdown",
   "id": "624473fc",
   "metadata": {},
   "source": [
    "# 프롬프트(Prompt)\n",
    "`02_prompt.ipynb``\n",
    "\n",
    "- LLM한테 주는 입력(지시, 맥락, 기억)\n",
    "    - 지시: '~해줘'\n",
    "    - 맥락(Context): 현재 지시를 위해 제공하는 추가 정보\n",
    "    - 기억(Memory): 지금까지 헀던 대화의 내용"
   ]
  },
  {
   "cell_type": "code",
   "execution_count": 1,
   "id": "f5131a19",
   "metadata": {},
   "outputs": [
    {
     "data": {
      "text/plain": [
       "True"
      ]
     },
     "execution_count": 1,
     "metadata": {},
     "output_type": "execute_result"
    }
   ],
   "source": [
    "# 이건 원래 해야돼요~\n",
    "from dotenv import load_dotenv\n",
    "\n",
    "load_dotenv()"
   ]
  },
  {
   "cell_type": "markdown",
   "id": "974d983f",
   "metadata": {},
   "source": [
    "## `Prompt Template``\n",
    "- 일회성 명령을 낼 때 활용"
   ]
  },
  {
   "cell_type": "code",
   "execution_count": 9,
   "id": "3420d601",
   "metadata": {},
   "outputs": [],
   "source": [
    "# LangChain 쓰기 위한 필수 라이브러리\n",
    "from langchain_core.prompts import PromptTemplate # prompt\n",
    "from langchain_openai import ChatOpenAI # model(조정할 게 별로 없음)\n",
    "from langchain_core.output_parsers import StrOutputParser # parser\n",
    "\n",
    "llm = ChatOpenAI(model='gpt-4.1-nano')"
   ]
  },
  {
   "cell_type": "code",
   "execution_count": 6,
   "id": "80fff91a",
   "metadata": {},
   "outputs": [
    {
     "data": {
      "text/plain": [
       "'What is capital city of Russia?'"
      ]
     },
     "execution_count": 6,
     "metadata": {},
     "output_type": "execute_result"
    }
   ],
   "source": [
    "# 추후에 체인에서 {} 내부에 들어갈 말읗 채워줘야 함.\n",
    "template = 'What is capital city of {Country}?'\n",
    "prompt = PromptTemplate.from_template(template) # PromptTemplate(input_variables=['Country']\n",
    "\n",
    "# {} 채우는 방법(We eventually use chain.invoke)\n",
    "prompt.format(Country = 'Russia')"
   ]
  },
  {
   "cell_type": "code",
   "execution_count": 13,
   "id": "6a28f7d9",
   "metadata": {},
   "outputs": [
    {
     "data": {
      "text/plain": [
       "'\"대북조선한미국\" appears to be a combination of Korean words: \"대북\" (regarding North Korea), \"조선\" (another term for Korea), \"한미\" (Korea and the United States), and \"국\" (country). However, this combination does not correspond to the name of an actual country.\\n\\nIf you are referring to a specific country or entity, please clarify or provide more context. \\n\\nFor example:\\n- North Korea is called 조선 (Choson), and its capital is Pyongyang.\\n- South Korea\\'s capital is Seoul.\\n- The United States\\' capital is Washington, D.C.\\n\\nPlease specify your question so I can assist you better.'"
      ]
     },
     "execution_count": 13,
     "metadata": {},
     "output_type": "execute_result"
    }
   ],
   "source": [
    "chain = prompt | llm | StrOutputParser()\n",
    "\n",
    "chain.invoke({'Country': '대북조선한미국'})"
   ]
  },
  {
   "cell_type": "markdown",
   "id": "d435a057",
   "metadata": {},
   "source": [
    "# Partial Variable(부분 변수)\n",
    "\n",
    "- 프롬프트에서 매개변수 기본값 지정해주기."
   ]
  },
  {
   "cell_type": "code",
   "execution_count": null,
   "id": "680d7f2a",
   "metadata": {},
   "outputs": [
    {
     "data": {
      "text/plain": [
       "'Korea과 America의 수도는 각각 어디인가요?'"
      ]
     },
     "execution_count": 17,
     "metadata": {},
     "output_type": "execute_result"
    }
   ],
   "source": [
    "template = '{c1}과 {c2}의 수도는 각각 어디인가요?'\n",
    "\n",
    "prompt = PromptTemplate(\n",
    "    template = template,\n",
    "    input_variables = ['c1'],\n",
    "    partial_variables= {\n",
    "        'c2': 'America'\n",
    "    }\n",
    ")\n",
    "\n",
    "prompt.format(c1='Korea')\n",
    "# prompt.format(c2='Korea')\n",
    "\n"
   ]
  },
  {
   "cell_type": "code",
   "execution_count": 21,
   "id": "8e18d160",
   "metadata": {},
   "outputs": [
    {
     "data": {
      "text/plain": [
       "'한국(KOR)의 수도는 서울이고, 중국(CHN)의 수도는 베이징입니다.'"
      ]
     },
     "execution_count": 21,
     "metadata": {},
     "output_type": "execute_result"
    }
   ],
   "source": [
    "chain = prompt | llm | StrOutputParser()\n",
    "chain.invoke({'c1': 'kor', 'c2':'chn'})"
   ]
  },
  {
   "cell_type": "code",
   "execution_count": 27,
   "id": "d9be006d",
   "metadata": {},
   "outputs": [
    {
     "name": "stdout",
     "output_type": "stream",
     "text": [
      "2025-09-01 15:16:10.634218\n"
     ]
    },
    {
     "data": {
      "text/plain": [
       "'오늘 날짜는 Sep 01입니다. 오늘 생일인 유명인 3명을 생년월일과 함께 나열해주세요.'"
      ]
     },
     "execution_count": 27,
     "metadata": {},
     "output_type": "execute_result"
    }
   ],
   "source": [
    "from datetime import datetime\n",
    "print(datetime.now())\n",
    "\n",
    "prompt = PromptTemplate(\n",
    "    template = '오늘 날짜는 {today}입니다. 오늘 생일인 유명인 {n}명을 생년월일과 함께 나열해주세요.',\n",
    "    input_variables = ['n'],\n",
    "    partial_variables= {\n",
    "        'today': lambda : datetime.now().strftime('%b %d'),\n",
    "    }\n",
    ")\n",
    "\n",
    "prompt.format(n=3)"
   ]
  },
  {
   "cell_type": "code",
   "execution_count": 29,
   "id": "93f42c73",
   "metadata": {},
   "outputs": [
    {
     "data": {
      "text/plain": [
       "'2024년 1월 2일 기준으로 오늘(1월 2일) 생일인 유명인 3명은 다음과 같습니다:\\n\\n1. 폴 뉴먼 (Paul Newman) - 1925년 1월 2일\\n2. 맥스웰 디샤 (Maxwell Dorsey) - 1894년 1월 2일\\n3. 에드워드 제임스 올멧 (Edward James Olmos) - 1947년 2월 24일 (이 경우 생일이 아니지만, 참고로 제공)\\n\\n**참고:**  \\n- 폴 뉴먼은 미국의 배우이자 영화 제작자로 유명하며, 2024년 현재 생일입니다.  \\n- 맥스웰 디샤는 역사적 인물이기 때문에 공개된 정보가 제한적일 수 있습니다.  \\n- 거의 정확한 정보를 위해 다시 한 번 확인하는 것이 좋습니다.\\n\\n혹시 더 궁금한 점이 있으시면 말씀해 주세요!'"
      ]
     },
     "execution_count": 29,
     "metadata": {},
     "output_type": "execute_result"
    }
   ],
   "source": [
    "chain = prompt | llm | StrOutputParser()\n",
    "chain.invoke({'n': 3})\n",
    "\n",
    "chain.invoke({'n': 3, 'today': 'Jan 2'})"
   ]
  },
  {
   "cell_type": "markdown",
   "id": "1a94a66d",
   "metadata": {},
   "source": [
    "## `ChatPromptTemplate`\n",
    "- 채팅을 주고받는 템플릿 생성용\n",
    "- 대화 목록을 LLM에게 주입\n",
    "- 하나의 Chat은 `Role`과 `Message`로 구성됨"
   ]
  },
  {
   "cell_type": "code",
   "execution_count": null,
   "id": "b46e2044",
   "metadata": {},
   "outputs": [
    {
     "data": {
      "text/plain": [
       "'Human: 한국의 수도는 어디?'"
      ]
     },
     "execution_count": 31,
     "metadata": {},
     "output_type": "execute_result"
    }
   ],
   "source": [
    "from langchain_core.prompts import ChatPromptTemplate\n",
    "\n",
    "chatprompt = ChatPromptTemplate.from_template('{country}의 수도는 어디?')\n",
    "chatprompt.format(country = '한국') # 'Human: 한국의 수도는 어디?'(역할이 명시됨)"
   ]
  },
  {
   "cell_type": "code",
   "execution_count": 35,
   "id": "d0e7048f",
   "metadata": {},
   "outputs": [
    {
     "name": "stdout",
     "output_type": "stream",
     "text": [
      "System: 당신은 친절한 AI 어시트트. 이름은 등신.\n",
      "Human: Nice to meet you~.\n",
      "AI: what can I help you?\n",
      "Human: who 이름지어 you.\n",
      "[SystemMessage(content='당신은 친절한 AI 어시트트. 이름은 등신.', additional_kwargs={}, response_metadata={}), HumanMessage(content='Nice to meet you~.', additional_kwargs={}, response_metadata={}), AIMessage(content='what can I help you?', additional_kwargs={}, response_metadata={}), HumanMessage(content='who 이름지어 you.', additional_kwargs={}, response_metadata={})]\n"
     ]
    }
   ],
   "source": [
    "chat_template = ChatPromptTemplate.from_messages(\n",
    "    [\n",
    "        ('system', '당신은 친절한 AI 어시트트. 이름은 {name}.'),\n",
    "        ('human', 'Nice to meet you~.'),\n",
    "        ('ai' , 'what can I help you?'),\n",
    "        ('human', '{user_input}')\n",
    "    ]\n",
    ")\n",
    "\n",
    "# format vs format_messages\n",
    "messages_str = chat_template.format(name='등신', user_input = 'who 이름지어 you.')\n",
    "messages_cls = chat_template.format_messages(name='등신', user_input = 'who 이름지어 you.')\n",
    "print(messages_str) # 사람이 보기 좋은 형태\n",
    "print(messages_cls) # 컴퓨터가 보기 좋은 형태"
   ]
  },
  {
   "cell_type": "code",
   "execution_count": null,
   "id": "d76c10a9",
   "metadata": {},
   "outputs": [
    {
     "data": {
      "text/plain": [
       "'저를 \"등신\"이라고 불러주셔서 감사합니다! 혹시 다른 이름도 지어드릴까요?'"
      ]
     },
     "execution_count": 37,
     "metadata": {},
     "output_type": "execute_result"
    }
   ],
   "source": [
    "llm.invoke(messages_str).content # 이렇게 주면 안 돼.(human message 한 덩어리로 인지함.)\n",
    "llm.invoke(messages_cls).content # 얘는 됨."
   ]
  },
  {
   "cell_type": "code",
   "execution_count": 41,
   "id": "41da55d5",
   "metadata": {},
   "outputs": [
    {
     "data": {
      "text/plain": [
       "\"Nice to meet you! I don't have the ability to know who you are unless you tell me. How can I assist you today?\""
      ]
     },
     "execution_count": 41,
     "metadata": {},
     "output_type": "execute_result"
    }
   ],
   "source": [
    "chain = chat_template | llm | StrOutputParser()\n",
    "\n",
    "chain.invoke({'name': 'supremeT', 'user_input': 'you know who I am?'})"
   ]
  },
  {
   "cell_type": "markdown",
   "id": "a44a95c5",
   "metadata": {},
   "source": [
    "## Prompt Engineering\n",
    "\n",
    "- Zero-shot Prompting\n",
    "    - 예시 없음 -> 질문 이후 바로 답변\n",
    "- One-shot Prompting\n",
    "    - 예시 1개 + 질문 -> 모델이 예시를 모방\n",
    "- **Few-shot Prompting**\n",
    "    - 예시 여러 개 + 질문 -> 예시들의 패턴을 일반화"
   ]
  },
  {
   "cell_type": "code",
   "execution_count": 42,
   "id": "981967e7",
   "metadata": {},
   "outputs": [],
   "source": [
    "pass"
   ]
  },
  {
   "cell_type": "markdown",
   "id": "c3993c67",
   "metadata": {},
   "source": [
    "## `Langchain-Hub`\n",
    "- 다른 사용자의 프롬프트를 받아서 활용할 수 있음."
   ]
  },
  {
   "cell_type": "code",
   "execution_count": 44,
   "id": "c63734c8",
   "metadata": {},
   "outputs": [
    {
     "name": "stdout",
     "output_type": "stream",
     "text": [
      "Answer the following questions as best you can. You have access to the following tools:\n",
      "\n",
      "{tools}\n",
      "\n",
      "Use the following format:\n",
      "\n",
      "Question: the input question you must answer\n",
      "Thought: you should always think about what to do\n",
      "Action: the action to take, should be one of [{tool_names}]\n",
      "Action Input: the input to the action\n",
      "Observation: the result of the action\n",
      "... (this Thought/Action/Action Input/Observation can repeat N times)\n",
      "Thought: I now know the final answer\n",
      "Final Answer: the final answer to the original input question\n",
      "\n",
      "Begin!\n",
      "\n",
      "Question: {input}\n",
      "Thought:{agent_scratchpad}\n"
     ]
    }
   ],
   "source": [
    "from langchain import hub\n",
    "\n",
    "prompt = hub.pull('hwchase17/react')\n",
    "print(prompt.template)"
   ]
  },
  {
   "cell_type": "code",
   "execution_count": 48,
   "id": "af985a9e",
   "metadata": {},
   "outputs": [
    {
     "data": {
      "text/plain": [
       "'https://smith.langchain.com/prompts/prompt-hub-test/d96188f1?organizationId=9dc78c9e-094d-477d-84dc-c9f4abab2caf'"
      ]
     },
     "execution_count": 48,
     "metadata": {},
     "output_type": "execute_result"
    }
   ],
   "source": [
    "# langchain-hub에 등록해보기.\n",
    "prompt = PromptTemplate.from_template(\n",
    "    'Stop using AI and play with puppies'\n",
    ")\n",
    "\n",
    "hub.push('prompt-hub-test', prompt)"
   ]
  }
 ],
 "metadata": {
  "kernelspec": {
   "display_name": "3.13.2",
   "language": "python",
   "name": "python3"
  },
  "language_info": {
   "codemirror_mode": {
    "name": "ipython",
    "version": 3
   },
   "file_extension": ".py",
   "mimetype": "text/x-python",
   "name": "python",
   "nbconvert_exporter": "python",
   "pygments_lexer": "ipython3",
   "version": "3.13.2"
  }
 },
 "nbformat": 4,
 "nbformat_minor": 5
}
