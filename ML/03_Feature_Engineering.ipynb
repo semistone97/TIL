{
 "cells": [
  {
   "cell_type": "markdown",
   "id": "98864a53",
   "metadata": {},
   "source": [
    "# 특성 공학 `Feature Engineering`"
   ]
  },
  {
   "cell_type": "code",
   "execution_count": 1,
   "id": "12e98585",
   "metadata": {},
   "outputs": [],
   "source": [
    "import numpy as np\n",
    "import pandas as pd\n",
    "import matplotlib.pyplot as plt\n",
    "\n",
    "import warnings\n",
    "warnings.filterwarnings('ignore')\n",
    "\n",
    "df = pd.read_csv('./perch.csv')\n",
    "perch_data = df.to_numpy()\n",
    "\n",
    "perch_weight = np.array([5.9, 32.0, 40.0, 51.5, 70.0, 100.0, 78.0, 80.0, 85.0, 85.0, 110.0,\n",
    "       115.0, 125.0, 130.0, 120.0, 120.0, 130.0, 135.0, 110.0, 130.0,\n",
    "       150.0, 145.0, 150.0, 170.0, 225.0, 145.0, 188.0, 180.0, 197.0,\n",
    "       218.0, 300.0, 260.0, 265.0, 250.0, 250.0, 300.0, 320.0, 514.0,\n",
    "       556.0, 840.0, 685.0, 700.0, 700.0, 690.0, 900.0, 650.0, 820.0,\n",
    "       850.0, 900.0, 1015.0, 820.0, 1100.0, 1000.0, 1100.0, 1000.0,\n",
    "       1000.0])"
   ]
  },
  {
   "cell_type": "code",
   "execution_count": 2,
   "id": "076decdb",
   "metadata": {},
   "outputs": [],
   "source": [
    "from sklearn.model_selection import train_test_split\n",
    "\n",
    "X_train, X_test, y_train, y_test = train_test_split(perch_data, perch_weight, random_state=42)\n",
    "# X_train # 참고로 얘는 array"
   ]
  },
  {
   "cell_type": "code",
   "execution_count": 3,
   "id": "4d81d1f5",
   "metadata": {},
   "outputs": [
    {
     "name": "stdout",
     "output_type": "stream",
     "text": [
      "0.8796419177546368\n",
      "0.9559326821885706\n"
     ]
    }
   ],
   "source": [
    "# 1.단 선형회귀를 돌려봐.\n",
    "from sklearn.linear_model import LinearRegression\n",
    "\n",
    "lr = LinearRegression()\n",
    "lr.fit(X_train, y_train)\n",
    "\n",
    "print(lr.score(X_test, y_test))\n",
    "print(lr.score(X_train, y_train))\n",
    "\n",
    "# 0.8796419177546368\n",
    "# 0.9559326821885706\n"
   ]
  },
  {
   "cell_type": "code",
   "execution_count": 4,
   "id": "36dca360",
   "metadata": {},
   "outputs": [
    {
     "data": {
      "text/plain": [
       "((14, 10),\n",
       " array(['1', 'x0', 'x1', 'x2', 'x0^2', 'x0 x1', 'x0 x2', 'x1^2', 'x1 x2',\n",
       "        'x2^2'], dtype=object))"
      ]
     },
     "execution_count": 4,
     "metadata": {},
     "output_type": "execute_result"
    }
   ],
   "source": [
    "from sklearn.preprocessing import PolynomialFeatures\n",
    "\n",
    "poly = PolynomialFeatures()\n",
    "poly.fit([[2, 3, 5]])\n",
    "poly.transform([[2, 3, 5]]) # 얘는 변환. \n",
    "# 2, 3, 5에 대한 소인수곱이네~(제곱까지)\n",
    "# 웃기는 건 fit이 하는 일이 없는데도, fit을 해야 transform을 할 수 있음.\n",
    "X_train_poly = poly.fit_transform(X_train)\n",
    "X_test_poly = poly.fit_transform(X_test)\n",
    "X_train_poly.shape, poly.get_feature_names_out()\n",
    "X_test_poly.shape, poly.get_feature_names_out()"
   ]
  },
  {
   "cell_type": "code",
   "execution_count": 5,
   "id": "4ca387bf",
   "metadata": {},
   "outputs": [
    {
     "name": "stdout",
     "output_type": "stream",
     "text": [
      "0.9903183436982125\n",
      "0.9714559911594137\n",
      "[   0.           34.80604039  -88.68430232 -184.11606694   -2.2696004\n",
      "    8.74890226    9.41670602   27.76120631 -119.89306061   93.68198334] 124.06521772229036\n"
     ]
    }
   ],
   "source": [
    "lr_p = LinearRegression()\n",
    "lr.fit(X_train_poly, y_train)\n",
    "\n",
    "print(lr.score(X_train_poly, y_train))\n",
    "print(lr.score(X_test_poly, y_test))\n",
    "\n",
    "print(lr.coef_, lr.intercept_)"
   ]
  },
  {
   "cell_type": "code",
   "execution_count": 6,
   "id": "33210520",
   "metadata": {},
   "outputs": [
    {
     "data": {
      "text/plain": [
       "-144.4051193329733"
      ]
     },
     "execution_count": 6,
     "metadata": {},
     "output_type": "execute_result"
    }
   ],
   "source": [
    "poly=PolynomialFeatures(degree=5, include_bias=False)\n",
    "X_train_p5 = poly.fit_transform(X_train)\n",
    "X_test_p5 = poly.fit_transform(X_test)\n",
    "X_train_p5.shape\n",
    "\n",
    "lr.fit(X_train_p5, y_train)\n",
    "lr.score(X_train_p5, y_train)\n",
    "# 온몸 비틀기로 달성해낸 성과: 0.9999999999997811\n",
    "lr.score(X_test_p5, y_test) \n",
    "# suuuuuuuuuuper Overfitting: -144.4051193329733"
   ]
  },
  {
   "cell_type": "markdown",
   "id": "ea34f03a",
   "metadata": {},
   "source": [
    "# 규제 `Regularization`\n",
    "> 과대적합(Overfitting) 방지를 위해 규제를 하게 됨.\n",
    "- 릿지(ridge) 회귀 : 계수를 제곱한 값을 기준으로 규제\n",
    "- 랏쏘(lasso) 회귀 : 절댓값 기주으로 규제"
   ]
  },
  {
   "cell_type": "code",
   "execution_count": 7,
   "id": "934778b3",
   "metadata": {},
   "outputs": [],
   "source": [
    "from sklearn.preprocessing import StandardScaler\n",
    "# StandardScaler: 스탠다드한 스케일링을 해주는 친구\n",
    "ss = StandardScaler()\n",
    "# test는 train의 평균으로 계산하면 안 된다고~\n",
    "ss.fit(X_train_p5)\n",
    "X_train_scaled = ss.transform(X_train_p5)\n",
    "X_test_scaled = ss.transform(X_test_p5) "
   ]
  },
  {
   "cell_type": "code",
   "execution_count": 8,
   "id": "171343b5",
   "metadata": {},
   "outputs": [
    {
     "name": "stdout",
     "output_type": "stream",
     "text": [
      "0.9903815817570365\n",
      "0.9827976465386943\n"
     ]
    }
   ],
   "source": [
    "from sklearn.linear_model import Ridge\n",
    "\n",
    "ridge = Ridge(alpha=0.1) # 인스턴스 생성 # alpha는 뭘까? 하이퍼파라미터.\n",
    "ridge.fit(X_train_scaled, y_train)\n",
    "print(ridge.score(X_train_scaled, y_train))\n",
    "print(ridge.score(X_test_scaled, y_test)) # 0.979069397761538. 이제 잘 됨."
   ]
  },
  {
   "cell_type": "code",
   "execution_count": 9,
   "id": "3e777535",
   "metadata": {},
   "outputs": [
    {
     "data": {
      "text/plain": [
       "[<matplotlib.lines.Line2D at 0x11e7c5310>]"
      ]
     },
     "execution_count": 9,
     "metadata": {},
     "output_type": "execute_result"
    },
    {
     "data": {
      "image/png": "[encoded data removed]",
      "text/plain": [
       "<Figure size 640x480 with 1 Axes>"
      ]
     },
     "metadata": {},
     "output_type": "display_data"
    }
   ],
   "source": [
    "import matplotlib.pyplot as plt\n",
    "\n",
    "train_score = []\n",
    "test_score = []\n",
    "\n",
    "alpha_list = [0.001, 0.01, 0.1, 1, 10, 100]\n",
    "\n",
    "for alpha in alpha_list:\n",
    "    ridge = Ridge(alpha=alpha)\n",
    "    ridge.fit(X_train_scaled, y_train)\n",
    "    s1 = ridge.score(X_train_scaled, y_train)\n",
    "    s2 = ridge.score(X_test_scaled, y_test)\n",
    "    train_score.append(s1)\n",
    "    test_score.append(s2)\n",
    "\n",
    "plt.plot(np.log10(alpha_list), train_score)\n",
    "plt.plot(np.log10(alpha_list), test_score)\n",
    "# 0.1일 때, test_score가 가장 좋게 나타남.\n",
    "# 사실 0.05가 더 좋은 건 안 비밀."
   ]
  },
  {
   "cell_type": "code",
   "execution_count": 10,
   "id": "9351ae9d",
   "metadata": {},
   "outputs": [
    {
     "data": {
      "text/plain": [
       "[<matplotlib.lines.Line2D at 0x11e97da90>]"
      ]
     },
     "execution_count": 10,
     "metadata": {},
     "output_type": "execute_result"
    },
    {
     "data": {
      "image/png": "[encoded data removed]",
      "text/plain": [
       "<Figure size 640x480 with 1 Axes>"
      ]
     },
     "metadata": {},
     "output_type": "display_data"
    }
   ],
   "source": [
    "from sklearn.linear_model import Lasso\n",
    "\n",
    "\n",
    "train_score = []\n",
    "test_score = []\n",
    "\n",
    "alpha_list = [0.001, 0.01, 0.1, 1, 10, 100]\n",
    "\n",
    "for alpha in alpha_list:\n",
    "    lasso = Lasso(alpha=alpha, max_iter = 10000)\n",
    "    lasso.fit(X_train_scaled, y_train)\n",
    "    s1 = lasso.score(X_train_scaled, y_train)\n",
    "    s2 = lasso.score(X_test_scaled, y_test)\n",
    "    train_score.append(s1)\n",
    "    test_score.append(s2)\n",
    "\n",
    "plt.plot(np.log10(alpha_list), train_score)\n",
    "plt.plot(np.log10(alpha_list), test_score)\n",
    "# 0.1일 때, test_score가 가장 좋게 나타남.\n",
    "# 사실 0.05가 더 좋은 건 안 비밀."
   ]
  },
  {
   "cell_type": "code",
   "execution_count": 11,
   "id": "96997ea8",
   "metadata": {},
   "outputs": [
    {
     "name": "stdout",
     "output_type": "stream",
     "text": [
      "0.9887624603020235 0.9830309645308444\n"
     ]
    },
    {
     "data": {
      "text/plain": [
       "array([31.53335736])"
      ]
     },
     "execution_count": 11,
     "metadata": {},
     "output_type": "execute_result"
    }
   ],
   "source": [
    "lasso = Lasso(alpha=10, max_iter=10000)\n",
    "lasso.fit(X_train_scaled, y_train)\n",
    "\n",
    "s1 = lasso.score(X_train_scaled, y_train)\n",
    "s2 = lasso.score(X_test_scaled, y_test)\n",
    "print(s1, s2)\n",
    "\n",
    "X = poly.transform([[13.7, 3.53, 2]])\n",
    "X = ss.transform(X)\n",
    "lasso.predict(X) # 실제는 32"
   ]
  }
 ],
 "metadata": {
  "kernelspec": {
   "display_name": "3.13.2",
   "language": "python",
   "name": "python3"
  },
  "language_info": {
   "codemirror_mode": {
    "name": "ipython",
    "version": 3
   },
   "file_extension": ".py",
   "mimetype": "text/x-python",
   "name": "python",
   "nbconvert_exporter": "python",
   "pygments_lexer": "ipython3",
   "version": "3.13.2"
  }
 },
 "nbformat": 4,
 "nbformat_minor": 5
}
