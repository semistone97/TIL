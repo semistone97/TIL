{
 "cells": [
  {
   "cell_type": "markdown",
   "id": "97230e98",
   "metadata": {},
   "source": [
    "# 로지스틱 회귀 `Logistic Regression`\n"
   ]
  },
  {
   "cell_type": "code",
   "execution_count": 1,
   "id": "5c74968e",
   "metadata": {},
   "outputs": [],
   "source": [
    "import pandas as pd\n",
    "import numpy as np\n",
    "import matplotlib.pyplot as plt\n",
    "import warnings\n",
    "\n",
    "warnings.filterwarnings('ignore')"
   ]
  },
  {
   "cell_type": "code",
   "execution_count": 2,
   "id": "acdb3438",
   "metadata": {},
   "outputs": [
    {
     "data": {
      "text/plain": [
       "(  Species  Weight  Length  Diagonal   Height   Width\n",
       " 0   Bream   242.0    25.4      30.0  11.5200  4.0200\n",
       " 1   Bream   290.0    26.3      31.2  12.4800  4.3056\n",
       " 2   Bream   340.0    26.5      31.1  12.3778  4.6961\n",
       " 3   Bream   363.0    29.0      33.5  12.7300  4.4555\n",
       " 4   Bream   430.0    29.0      34.0  12.4440  5.1340,\n",
       " array(['Bream', 'Roach', 'Whitefish', 'Parkki', 'Perch', 'Pike', 'Smelt'],\n",
       "       dtype=object))"
      ]
     },
     "execution_count": 2,
     "metadata": {},
     "output_type": "execute_result"
    }
   ],
   "source": [
    "fish_df = pd.read_csv('./fish_data.csv')\n",
    "fish_df.head(), pd.unique(fish_df['Species'])\n",
    "# 타겟은 Species. "
   ]
  },
  {
   "cell_type": "code",
   "execution_count": 3,
   "id": "a920329e",
   "metadata": {},
   "outputs": [],
   "source": [
    "# 데이터 받은 다음, 학습데이터 - 테스트데이터 분리\n",
    "\n",
    "X = fish_df[['Weight', 'Length', 'Diagonal', 'Height', 'Width']].to_numpy()\n",
    "# 얘는 df\n",
    "# 데이터가 너무 많을 때는 numpy로 바꿔서 씀. 그래야 용량이 좀 가벼워짐.\n",
    "y = fish_df['Species'] # 얘는 시리즈\n",
    "\n",
    "from sklearn.model_selection import train_test_split\n",
    "\n",
    "X_train, X_test, y_train, y_test = train_test_split(X, y, random_state=42) # train: 119, test: 40"
   ]
  },
  {
   "cell_type": "code",
   "execution_count": 4,
   "id": "5c4e4961",
   "metadata": {},
   "outputs": [],
   "source": [
    "# 스케일링\n",
    "from sklearn.preprocessing import StandardScaler\n",
    "\n",
    "ss = StandardScaler()\n",
    "\n",
    "ss.fit(X_train) # X_train을 기준으로 \n",
    "X_train = ss.transform(X_train)\n",
    "X_test = ss.transform(X_test)"
   ]
  },
  {
   "cell_type": "code",
   "execution_count": 5,
   "id": "3c46f365",
   "metadata": {},
   "outputs": [
    {
     "data": {
      "text/plain": [
       "(0.8907563025210085, 0.85)"
      ]
     },
     "execution_count": 5,
     "metadata": {},
     "output_type": "execute_result"
    }
   ],
   "source": [
    "from sklearn.neighbors import KNeighborsClassifier\n",
    "kn = KNeighborsClassifier(n_neighbors=3) # 인스턴스 생성, 주변 참고 데이터 3개로 결정\n",
    "kn.fit(X_train, y_train)\n",
    "kn.score(X_train, y_train), kn.score(X_test, y_test)\n"
   ]
  },
  {
   "cell_type": "code",
   "execution_count": 6,
   "id": "a2f25e16",
   "metadata": {},
   "outputs": [
    {
     "name": "stdout",
     "output_type": "stream",
     "text": [
      "['Bream' 'Parkki' 'Perch' 'Pike' 'Roach' 'Smelt' 'Whitefish']\n",
      "['Perch' 'Smelt' 'Pike' 'Perch' 'Perch']\n"
     ]
    }
   ],
   "source": [
    "# 분류해야 하는 항목.(abc 순서))\n",
    "print(kn.classes_) \n",
    "\n",
    "# 테스트셋에서 앞 5개 데이터를 예측해라\n",
    "print(kn.predict(X_test[:5]))"
   ]
  },
  {
   "cell_type": "code",
   "execution_count": 7,
   "id": "a9c32a1b",
   "metadata": {},
   "outputs": [
    {
     "data": {
      "text/plain": [
       "array([[0.        , 0.        , 1.        , 0.        , 0.        ,\n",
       "        0.        , 0.        ],\n",
       "       [0.        , 0.        , 0.        , 0.        , 0.        ,\n",
       "        1.        , 0.        ],\n",
       "       [0.        , 0.        , 0.        , 1.        , 0.        ,\n",
       "        0.        , 0.        ],\n",
       "       [0.        , 0.        , 0.66666667, 0.        , 0.33333333,\n",
       "        0.        , 0.        ],\n",
       "       [0.        , 0.        , 0.66666667, 0.        , 0.33333333,\n",
       "        0.        , 0.        ]])"
      ]
     },
     "execution_count": 7,
     "metadata": {},
     "output_type": "execute_result"
    }
   ],
   "source": [
    "# 예측 확률\n",
    "kn.predict_proba(X_test[:5])"
   ]
  },
  {
   "cell_type": "code",
   "execution_count": 8,
   "id": "a85148c7",
   "metadata": {},
   "outputs": [
    {
     "data": {
      "image/png": "[encoded data removed]",
      "text/plain": [
       "<Figure size 640x480 with 1 Axes>"
      ]
     },
     "metadata": {},
     "output_type": "display_data"
    }
   ],
   "source": [
    "# Logistic Regression: 분류(Classify)하는 회귀\n",
    "# 시그모이드 함수 사용\n",
    "\n",
    "z =np.arange(-5, 5, 0.1)\n",
    "phi = 1 / (1 + np.exp(-z))\n",
    "plt.plot(z, phi)\n",
    "plt.show()"
   ]
  },
  {
   "cell_type": "code",
   "execution_count": 10,
   "id": "b0c68f66",
   "metadata": {},
   "outputs": [],
   "source": [
    "X_train, X_test, y_train, y_test = train_test_split(X, y, random_state=42)\n",
    "\n",
    "ss = StandardScaler()\n",
    "ss.fit(X_train)\n",
    "X_train_s = ss.transform(X_train)\n",
    "X_test_s = ss.transform(X_test)\n",
    "\n",
    "\n",
    "index = (y_train == 'Bream') | (y_train == 'Smelt')\n",
    "\n",
    "X_bream_smelt_train = X_train_s[index]\n",
    "y_bream_smelt_train = y_train[index]\n"
   ]
  },
  {
   "cell_type": "code",
   "execution_count": null,
   "id": "be3d68b5",
   "metadata": {},
   "outputs": [
    {
     "name": "stdout",
     "output_type": "stream",
     "text": [
      "=== 방정식 기울기, 절편 결과 : [[-0.40451732 -0.57582787 -0.66248158 -1.01329614 -0.73123131]] / [-2.16172774]\n",
      "\n",
      " 분류해낼 클래스 두개 (abc순) -> ['Bream' 'Smelt']\n",
      "['Bream' 'Smelt' 'Bream' 'Bream' 'Bream']\n",
      "\n",
      "=== 실제z값 ([[-0.40451732 -0.57582787 -0.66248158 -1.01329614 -0.73123131]]) ===\n",
      "[-6.02991358  3.57043428 -5.26630496 -4.24382314 -6.06135688]\n",
      "\n",
      "=== 시그모이드 함수 통과 후 값 (직접확인) ===\n",
      "[0.00239993 0.97262675 0.00513614 0.01414953 0.00232581]\n",
      "\n",
      "=== lr 이 바로 계산해준 값 ===\n",
      "[[0.99760007 0.00239993]\n",
      " [0.02737325 0.97262675]\n",
      " [0.99486386 0.00513614]\n",
      " [0.98585047 0.01414953]\n",
      " [0.99767419 0.00232581]]\n"
     ]
    }
   ],
   "source": [
    "from sklearn.linear_model import LogisticRegression\n",
    "\n",
    "lr = LogisticRegression()\n",
    "# 로지스틱회귀 학습 -> 방정식 만들기 -> 두개중 하나로 분류해야 함 -> abc순 뒤에걸로 분류할 점수를 계산하는 식\n",
    "lr.fit(X_bream_smelt_train, y_bream_smelt_train)\n",
    "print(f'=== 방정식 기울기, 절편 결과 : {lr.coef_} / {lr.intercept_}')\n",
    "# 분류하는 클래스 명\n",
    "print(f'\\n 분류해낼 클래스 두개 (abc순) -> {lr.classes_}')\n",
    "\n",
    "# 도미/빙어 예측 결과\n",
    "print(lr.predict(X_bream_smelt_train[:5]))\n",
    "\n",
    "# 실제 z값\n",
    "decisions = lr.decision_function(X_bream_smelt_train[:5])\n",
    "print(f'\\n=== 실제z값 ({lr.coef_}) ===')\n",
    "print(decisions)\n",
    "\n",
    "# 직접 시그모이드 통과시키기\n",
    "from scipy.special import expit\n",
    "print('\\n=== 시그모이드 함수 통과 후 값 (직접확인) ===')\n",
    "print(expit(decisions))\n",
    "\n",
    "# 바로 계산된 결과\n",
    "print('\\n=== lr 이 바로 계산해준 값 ===')\n",
    "print(lr.predict_proba(X_bream_smelt_train[:5]))"
   ]
  },
  {
   "cell_type": "markdown",
   "id": "b794359d",
   "metadata": {},
   "source": [
    "### 로지스틱 회귀로 다중분류(생선 7종)"
   ]
  },
  {
   "cell_type": "code",
   "execution_count": null,
   "id": "72f4a1a0",
   "metadata": {},
   "outputs": [],
   "source": [
    "# 소프트맥스 함수"
   ]
  },
  {
   "cell_type": "code",
   "execution_count": null,
   "id": "a9170cce",
   "metadata": {},
   "outputs": [
    {
     "name": "stdout",
     "output_type": "stream",
     "text": [
      "0.9327731092436975\n",
      "0.925\n"
     ]
    }
   ],
   "source": [
    "# 7종 분류해보자(그만 자고~)\n",
    "# 2진분류 vs 다중분류에 따라 내부 동작이 다름\n",
    "\n",
    "# C: 규제, max_iter: 반복횟수 제한\n",
    "lr = LogisticRegression(C=20, max_iter=1000)\n",
    "\n",
    "lr.fit(X_train_s, y_train)\n",
    "# 훈련, 테스트 점수\n",
    "print(lr.score(X_train_s, y_train))\n",
    "print(lr.score(X_test_s, y_test))"
   ]
  },
  {
   "cell_type": "code",
   "execution_count": 24,
   "id": "2dd244ea",
   "metadata": {},
   "outputs": [
    {
     "name": "stdout",
     "output_type": "stream",
     "text": [
      "['Perch' 'Smelt' 'Pike' 'Roach' 'Perch']\n",
      "['Bream' 'Parkki' 'Perch' 'Pike' 'Roach' 'Smelt' 'Whitefish']\n",
      "[[0.    0.014 0.842 0.    0.135 0.007 0.003]\n",
      " [0.    0.003 0.044 0.    0.007 0.946 0.   ]\n",
      " [0.    0.    0.034 0.934 0.015 0.016 0.   ]\n",
      " [0.011 0.034 0.305 0.006 0.567 0.    0.076]\n",
      " [0.    0.    0.904 0.002 0.089 0.002 0.001]]\n"
     ]
    }
   ],
   "source": [
    "print(lr.predict(X_test_s[:5]))\n",
    "\n",
    "# 분류의 근거, 확률\n",
    "print(lr.classes_)\n",
    "print(np.round(lr.predict_proba(X_test_s[:5]), decimals=3))"
   ]
  },
  {
   "cell_type": "code",
   "execution_count": null,
   "id": "118740bd",
   "metadata": {},
   "outputs": [
    {
     "data": {
      "text/plain": [
       "(array([[-1.50605454, -1.03747913,  2.60919714,  7.69422736, -1.1860334 ],\n",
       "        [ 0.19200048, -1.99988811, -3.79617726,  6.50312639, -2.00022756],\n",
       "        [ 3.55793539,  6.36988929, -8.52233732, -5.75397234,  3.79233439],\n",
       "        [-0.11453307,  3.61060121,  3.94464503, -3.62243903, -1.75981681],\n",
       "        [-1.40843715, -6.0924219 ,  5.28629633, -0.86696568,  1.84518453],\n",
       "        [-1.33419959,  1.48153394,  1.38217548, -5.6602348 , -4.39228961],\n",
       "        [ 0.61328848, -2.33223529, -0.90379941,  1.70625808,  3.70084847]]),\n",
       " array([-0.10345042, -0.27281216,  3.24444852, -0.1756507 ,  2.64960026,\n",
       "        -6.72042857,  1.37829307]))"
      ]
     },
     "execution_count": 25,
     "metadata": {},
     "output_type": "execute_result"
    }
   ],
   "source": [
    "lr.coef_, lr.intercept_\n",
    "# 이게 무슨 의미일까??"
   ]
  },
  {
   "cell_type": "code",
   "execution_count": 28,
   "id": "579da2ff",
   "metadata": {},
   "outputs": [
    {
     "name": "stdout",
     "output_type": "stream",
     "text": [
      "[[ -6.507   1.039   5.168  -2.757   3.337   0.346  -0.625]\n",
      " [-10.879   1.944   4.776  -2.423   2.987   7.842  -4.247]\n",
      " [ -4.338  -6.237   3.167   6.481   2.364   2.434  -3.872]]\n",
      "[[ -6.507   1.039   5.168  -2.757   3.337   0.346  -0.625]\n",
      " [-10.879   1.944   4.776  -2.423   2.987   7.842  -4.247]\n",
      " [ -4.338  -6.237   3.167   6.481   2.364   2.434  -3.872]]\n"
     ]
    }
   ],
   "source": [
    "decisions = lr.decision_function(X_test_s[:3])\n",
    "print(np.round(decisions, decimals=3))\n",
    "\n",
    "from scipy.special import softmax\n",
    "proba = softmax(decisions, axis=1)\n",
    "print(np.round(decisions, decimals=3))"
   ]
  }
 ],
 "metadata": {
  "kernelspec": {
   "display_name": "3.13.2",
   "language": "python",
   "name": "python3"
  },
  "language_info": {
   "codemirror_mode": {
    "name": "ipython",
    "version": 3
   },
   "file_extension": ".py",
   "mimetype": "text/x-python",
   "name": "python",
   "nbconvert_exporter": "python",
   "pygments_lexer": "ipython3",
   "version": "3.13.2"
  }
 },
 "nbformat": 4,
 "nbformat_minor": 5
}
