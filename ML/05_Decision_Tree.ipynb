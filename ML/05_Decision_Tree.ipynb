{
 "cells": [
  {
   "cell_type": "markdown",
   "id": "aa575c23",
   "metadata": {},
   "source": [
    "# 결정트리 `Decision Tree`"
   ]
  },
  {
   "cell_type": "code",
   "execution_count": 11,
   "id": "3529397d",
   "metadata": {},
   "outputs": [
    {
     "name": "stdout",
     "output_type": "stream",
     "text": [
      "<class 'pandas.core.frame.DataFrame'>\n",
      "RangeIndex: 6497 entries, 0 to 6496\n",
      "Data columns (total 4 columns):\n",
      " #   Column   Non-Null Count  Dtype  \n",
      "---  ------   --------------  -----  \n",
      " 0   alcohol  6497 non-null   float64\n",
      " 1   sugar    6497 non-null   float64\n",
      " 2   pH       6497 non-null   float64\n",
      " 3   class    6497 non-null   float64\n",
      "dtypes: float64(4)\n",
      "memory usage: 203.2 KB\n"
     ]
    },
    {
     "data": {
      "text/html": [
       "<div>\n",
       "<style scoped>\n",
       "    .dataframe tbody tr th:only-of-type {\n",
       "        vertical-align: middle;\n",
       "    }\n",
       "\n",
       "    .dataframe tbody tr th {\n",
       "        vertical-align: top;\n",
       "    }\n",
       "\n",
       "    .dataframe thead th {\n",
       "        text-align: right;\n",
       "    }\n",
       "</style>\n",
       "<table border=\"1\" class=\"dataframe\">\n",
       "  <thead>\n",
       "    <tr style=\"text-align: right;\">\n",
       "      <th></th>\n",
       "      <th>alcohol</th>\n",
       "      <th>sugar</th>\n",
       "      <th>pH</th>\n",
       "      <th>class</th>\n",
       "    </tr>\n",
       "  </thead>\n",
       "  <tbody>\n",
       "    <tr>\n",
       "      <th>count</th>\n",
       "      <td>6497.000000</td>\n",
       "      <td>6497.000000</td>\n",
       "      <td>6497.000000</td>\n",
       "      <td>6497.000000</td>\n",
       "    </tr>\n",
       "    <tr>\n",
       "      <th>mean</th>\n",
       "      <td>10.491801</td>\n",
       "      <td>5.443235</td>\n",
       "      <td>3.218501</td>\n",
       "      <td>0.753886</td>\n",
       "    </tr>\n",
       "    <tr>\n",
       "      <th>std</th>\n",
       "      <td>1.192712</td>\n",
       "      <td>4.757804</td>\n",
       "      <td>0.160787</td>\n",
       "      <td>0.430779</td>\n",
       "    </tr>\n",
       "    <tr>\n",
       "      <th>min</th>\n",
       "      <td>8.000000</td>\n",
       "      <td>0.600000</td>\n",
       "      <td>2.720000</td>\n",
       "      <td>0.000000</td>\n",
       "    </tr>\n",
       "    <tr>\n",
       "      <th>25%</th>\n",
       "      <td>9.500000</td>\n",
       "      <td>1.800000</td>\n",
       "      <td>3.110000</td>\n",
       "      <td>1.000000</td>\n",
       "    </tr>\n",
       "    <tr>\n",
       "      <th>50%</th>\n",
       "      <td>10.300000</td>\n",
       "      <td>3.000000</td>\n",
       "      <td>3.210000</td>\n",
       "      <td>1.000000</td>\n",
       "    </tr>\n",
       "    <tr>\n",
       "      <th>75%</th>\n",
       "      <td>11.300000</td>\n",
       "      <td>8.100000</td>\n",
       "      <td>3.320000</td>\n",
       "      <td>1.000000</td>\n",
       "    </tr>\n",
       "    <tr>\n",
       "      <th>max</th>\n",
       "      <td>14.900000</td>\n",
       "      <td>65.800000</td>\n",
       "      <td>4.010000</td>\n",
       "      <td>1.000000</td>\n",
       "    </tr>\n",
       "  </tbody>\n",
       "</table>\n",
       "</div>"
      ],
      "text/plain": [
       "           alcohol        sugar           pH        class\n",
       "count  6497.000000  6497.000000  6497.000000  6497.000000\n",
       "mean     10.491801     5.443235     3.218501     0.753886\n",
       "std       1.192712     4.757804     0.160787     0.430779\n",
       "min       8.000000     0.600000     2.720000     0.000000\n",
       "25%       9.500000     1.800000     3.110000     1.000000\n",
       "50%      10.300000     3.000000     3.210000     1.000000\n",
       "75%      11.300000     8.100000     3.320000     1.000000\n",
       "max      14.900000    65.800000     4.010000     1.000000"
      ]
     },
     "execution_count": 11,
     "metadata": {},
     "output_type": "execute_result"
    }
   ],
   "source": [
    "import numpy as np\n",
    "import pandas as pd\n",
    "import matplotlib.pyplot as plt\n",
    "import warnings\n",
    "warnings.filterwarnings('ignore')\n",
    "\n",
    "wine = pd.read_csv('./wine.csv')\n",
    "\n",
    "wine.info() # 6497 결측값 없음.\n",
    "wine.describe()"
   ]
  },
  {
   "cell_type": "code",
   "execution_count": 12,
   "id": "2cc1520d",
   "metadata": {},
   "outputs": [
    {
     "data": {
      "text/plain": [
       "((5197, 3), (1300, 3))"
      ]
     },
     "execution_count": 12,
     "metadata": {},
     "output_type": "execute_result"
    }
   ],
   "source": [
    "from sklearn.model_selection import train_test_split\n",
    "\n",
    "\n",
    "# 데이터 분리\n",
    "X = wine[['alcohol',\t'sugar',\t'pH']] # 이거 컬럼명 한 번씩 써준다는 의미에서 직접 쓰는 게 좋다.\n",
    "y = wine['class'].to_numpy()\n",
    "\n",
    "X_train, X_test, y_train, y_test = train_test_split(X, y, test_size = 0.2, random_state=42)\n",
    "\n",
    "X_train.shape, X_test.shape"
   ]
  },
  {
   "cell_type": "code",
   "execution_count": 15,
   "id": "548484a5",
   "metadata": {},
   "outputs": [
    {
     "data": {
      "text/plain": [
       "array([[ 0.01376574,  0.4646116 , -0.16888369],\n",
       "       [ 1.60871671, -0.70299854,  0.26967864],\n",
       "       [ 1.10504798, -0.70299854,  1.20945505],\n",
       "       ...,\n",
       "       [-0.82568214,  0.0267578 ,  0.14437512],\n",
       "       [-0.82568214,  0.52716215, -0.23153545],\n",
       "       [-0.82568214, -0.57789745,  1.83597265]], shape=(5197, 3))"
      ]
     },
     "execution_count": 15,
     "metadata": {},
     "output_type": "execute_result"
    }
   ],
   "source": [
    "from sklearn.preprocessing import StandardScaler\n",
    "ss = StandardScaler()\n",
    "ss.fit(X_train)\n",
    "X_train_s = ss.transform(X_train)\n",
    "X_test_s = ss.transform(X_test)\n",
    "X_train_s"
   ]
  },
  {
   "cell_type": "code",
   "execution_count": 21,
   "id": "e00fde48",
   "metadata": {},
   "outputs": [
    {
     "name": "stdout",
     "output_type": "stream",
     "text": [
      "훈련점수:  0.7808350971714451\n",
      "테스트점수:  0.7776923076923077\n",
      "[0. 1.]\n"
     ]
    },
    {
     "data": {
      "text/plain": [
       "array([[0.00719047, 0.99280953],\n",
       "       [0.45102444, 0.54897556],\n",
       "       [0.03548978, 0.96451022],\n",
       "       [0.02165133, 0.97834867],\n",
       "       [0.01058485, 0.98941515]])"
      ]
     },
     "execution_count": 21,
     "metadata": {},
     "output_type": "execute_result"
    }
   ],
   "source": [
    "from sklearn.linear_model import LogisticRegression\n",
    "lr = LogisticRegression()\n",
    "lr.fit(X_train_s, y_train)\n",
    "print('훈련점수: ', lr.score(X_train_s, y_train))\n",
    "print('테스트점수: ', lr.score(X_test_s, y_test))\n",
    "\n",
    "print(lr.classes_)\n",
    "lr.predict_proba(X_test_s[:5])"
   ]
  },
  {
   "cell_type": "code",
   "execution_count": 22,
   "id": "47254130",
   "metadata": {},
   "outputs": [
    {
     "name": "stdout",
     "output_type": "stream",
     "text": [
      "훈련점수:  0.996921300750433\n",
      "테스트점수:  0.8592307692307692\n",
      "[0. 1.]\n"
     ]
    },
    {
     "data": {
      "text/plain": [
       "array([[0., 1.],\n",
       "       [1., 0.],\n",
       "       [0., 1.],\n",
       "       [0., 1.],\n",
       "       [0., 1.]])"
      ]
     },
     "execution_count": 22,
     "metadata": {},
     "output_type": "execute_result"
    }
   ],
   "source": [
    "from sklearn.tree import DecisionTreeClassifier\n",
    "dtc = DecisionTreeClassifier(random_state= 42)\n",
    "dtc.fit(X_train_s, y_train)\n",
    "\n",
    "print('훈련점수: ', dtc.score(X_train_s, y_train))\n",
    "print('테스트점수: ', dtc.score(X_test_s, y_test))\n",
    "# 요것도 과적합(모델이 너무 복잡하기 때문에)\n",
    "\n",
    "print(dtc.classes_)\n",
    "dtc.predict_proba(X_test_s[:5])\n"
   ]
  },
  {
   "cell_type": "code",
   "execution_count": 32,
   "id": "4179abad",
   "metadata": {},
   "outputs": [
    {
     "name": "stdout",
     "output_type": "stream",
     "text": [
      "0.3669367279393918\n"
     ]
    },
    {
     "data": {
      "image/png": "[encoded data removed]",
      "text/plain": [
       "<Figure size 1200x1000 with 1 Axes>"
      ]
     },
     "metadata": {},
     "output_type": "display_data"
    }
   ],
   "source": [
    "from sklearn.tree import plot_tree\n",
    "\n",
    "# 지니불순도: 1 - (음성클래스비율^2 + 양성클래스비율^2)\n",
    "gini = 1 - ((1258/5197)**2 + (3939/5197)**2)\n",
    "print(gini)\n",
    "\n",
    "plt.figure(figsize = (12, 10))\n",
    "plot_tree(dtc, max_depth=2, filled=True, feature_names=['alcohol', 'sugar', 'pH'])\n",
    "plt.show()"
   ]
  },
  {
   "cell_type": "markdown",
   "id": "d5dc2520",
   "metadata": {},
   "source": [
    "# 교차검증\n",
    "- 조퇴 이슈"
   ]
  },
  {
   "cell_type": "markdown",
   "id": "ec095232",
   "metadata": {},
   "source": [
    "# 하이퍼 파라미터 튜닝"
   ]
  },
  {
   "cell_type": "code",
   "execution_count": null,
   "id": "a4140444",
   "metadata": {},
   "outputs": [],
   "source": [
    "from sklearn.model_selection import GridSearchCV\n",
    "\n",
    "\n",
    "GridSearchCV"
   ]
  },
  {
   "cell_type": "code",
   "execution_count": 35,
   "id": "80800a27",
   "metadata": {},
   "outputs": [
    {
     "data": {
      "text/plain": [
       "array([0.2934983 , 0.83752437, 0.58706046, 0.76622691, 0.62559934,\n",
       "       0.95416769, 0.74448693, 0.48952066, 0.41678655, 0.53247616])"
      ]
     },
     "execution_count": 35,
     "metadata": {},
     "output_type": "execute_result"
    }
   ],
   "source": [
    "from scipy.stats import uniform, randint\n",
    "# scipy는 선형대수 전용 수치계산.\n",
    "# uniform, randint -> 클래스 -> 주어진 범위에서 고르게 값을 뽑는다(균등분포)\n",
    "# uniform: 범위 내 랜덤한 실수 추출\n",
    "# randint: 범위 내 랜덤한 정수 추출\n",
    "rgen = randint(0, 10) # 인스턴스 생성\n",
    "rgen.rvs(10)\n",
    "\n",
    "np.unique(rgen.rvs(1000), return_counts=True)\n",
    "\n",
    "ugen = uniform(0, 1)\n",
    "ugen.rvs(10)"
   ]
  },
  {
   "cell_type": "code",
   "execution_count": 37,
   "id": "2116331b",
   "metadata": {},
   "outputs": [],
   "source": [
    "params = {\n",
    "    # 노드 분할을 위한 최소 불순도\n",
    "    'min_impurity_decrease': uniform(0.0001, 0.001),\n",
    "    # 트리 깊이\n",
    "    'max_depth': randint(10, 50),\n",
    "    # 노드를 나누기 위한 최소 샘플 수\n",
    "    'min_samples_split': randint(2, 25),\n",
    "    # 리프 노드 개수 최솟값\n",
    "    'min_samples_leaf': randint(1, 25),\n",
    "}"
   ]
  },
  {
   "cell_type": "code",
   "execution_count": 38,
   "id": "a55e14e4",
   "metadata": {},
   "outputs": [
    {
     "name": "stdout",
     "output_type": "stream",
     "text": [
      "{'max_depth': 31, 'min_impurity_decrease': np.float64(0.0003439896433790836), 'min_samples_leaf': 6, 'min_samples_split': 7}\n"
     ]
    }
   ],
   "source": [
    "from sklearn.model_selection import RandomizedSearchCV\n",
    "\n",
    "gs = RandomizedSearchCV(\n",
    "    DecisionTreeClassifier(random_state=42),\n",
    "    params,\n",
    "    n_iter = 100,\n",
    "    n_jobs = -1,\n",
    "    random_state=42\n",
    "    )\n",
    "\n",
    "gs.fit(X_train, y_train)\n",
    "print(gs.best_params_)"
   ]
  },
  {
   "cell_type": "code",
   "execution_count": 40,
   "id": "eede79c0",
   "metadata": {},
   "outputs": [
    {
     "name": "stdout",
     "output_type": "stream",
     "text": [
      "최종 테스트 결과: 0.8592307692307692\n"
     ]
    }
   ],
   "source": [
    "gs.best_score_\n",
    "dt = gs.best_estimator_\n",
    "\n",
    "print(f'최종 테스트 결과: {dt.score(X_test, y_test)}')"
   ]
  }
 ],
 "metadata": {
  "kernelspec": {
   "display_name": "3.13.2",
   "language": "python",
   "name": "python3"
  },
  "language_info": {
   "codemirror_mode": {
    "name": "ipython",
    "version": 3
   },
   "file_extension": ".py",
   "mimetype": "text/x-python",
   "name": "python",
   "nbconvert_exporter": "python",
   "pygments_lexer": "ipython3",
   "version": "3.13.2"
  }
 },
 "nbformat": 4,
 "nbformat_minor": 5
}
