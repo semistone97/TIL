{
 "cells": [
  {
   "cell_type": "code",
   "execution_count": 12,
   "id": "e060565a",
   "metadata": {},
   "outputs": [
    {
     "name": "stdout",
     "output_type": "stream",
     "text": [
      "원본 [10 11 12 13 14 15 16 17 18 19 20]\n",
      "[10 12 20]\n",
      "[12 13 14 15]\n",
      "[10 12 14]\n",
      "[20 19 18 17 16 15 14 13 12 11 10]\n"
     ]
    }
   ],
   "source": [
    "# 10부터 20까지의 정수 배열 생성\n",
    "import numpy as np\n",
    "arr = np.arange(10, 21)\n",
    "print('원본', arr)\n",
    "\n",
    "# 문제 1: 배열의 첫 번째, 세 번째, 마지막 요소 출력\n",
    "print(arr[[0, 2, -1]])\n",
    "\n",
    "# 문제 2: 인덱스 2부터 5까지 요소 출력\n",
    "print(arr[2:6])\n",
    "\n",
    "# 문제 3: 처음부터 5번째 요소까지 모든 짝수 인덱스 요소 출력\n",
    "print(arr[:6:2])\n",
    "\n",
    "# 문제 4: 배열의 요소를 역순으로 출력\n",
    "print(arr[::-1])"
   ]
  },
  {
   "cell_type": "code",
   "execution_count": null,
   "id": "c53fd081",
   "metadata": {},
   "outputs": [
    {
     "name": "stdout",
     "output_type": "stream",
     "text": [
      "원본 [[ 0  1  2  3]\n",
      " [ 4  5  6  7]\n",
      " [ 8  9 10 11]]\n",
      "6\n",
      "[4 5 6 7]\n",
      "[ 3  7 11]\n",
      "[[ 1  3]\n",
      " [ 9 11]]\n",
      "[[ 1  3]\n",
      " [ 9 11]]\n"
     ]
    }
   ],
   "source": [
    "# 3 * 4 matrix\n",
    "matrix = np.arange(12).reshape(3, 4)\n",
    "print('원본', matrix)\n",
    "\n",
    "# 문제1: (1,2) 위치의 요소 출력\n",
    "print(matrix[1, 2])\n",
    "\n",
    "# 문제2: 두 번째 행 전체 출력\n",
    "print(matrix[1])\n",
    "\n",
    "# 문제3: 마지막 열 전체 출력\n",
    "print(matrix[:, -1])\n",
    "\n",
    "# 문제4: 첫 번째와 세 번째 행의 두 번째와 네 번째 열 요소만 추출\n",
    "print(matrix[0:3:2, 1:5:2])\n",
    "\n",
    "# 문제4의 풀이 1.\n",
    "print(matrix[0:2, :])\n",
    "print(matrix[np.ix_([0, 2], [1, 3])])"
   ]
  },
  {
   "cell_type": "code",
   "execution_count": 26,
   "id": "0bb35a9a",
   "metadata": {},
   "outputs": [
    {
     "name": "stdout",
     "output_type": "stream",
     "text": [
      "원본 [ 1  2  3  4  5  6  7  8  9 10 11 12 13 14 15 16 17 18 19 20]\n",
      "[ 5 10 15 20]\n",
      "[ 4  5  6  7  8  9 10 11 12 13 14]\n",
      "[ 1  3  5  7  9 11 13 14 15 17 19]\n"
     ]
    }
   ],
   "source": [
    "arr = np.arange(1, 21)\n",
    "print('원본', arr)\n",
    "\n",
    "# 문제1: 5의 배수만 선택하여 출력\n",
    "print(arr[arr % 5 == 0])\n",
    "\n",
    "# 문제2: 3보다 크고 15보다 작은 요소 선택\n",
    "print(arr[(arr > 3) & (arr < 15)])\n",
    "\n",
    "# 문제3: 7의 배수이거나 홀수인 요소 선택\n",
    "print(arr[(arr % 7 == 0) | (arr % 2 == 1)])"
   ]
  },
  {
   "cell_type": "code",
   "execution_count": null,
   "id": "d4d61eef",
   "metadata": {},
   "outputs": [
    {
     "name": "stdout",
     "output_type": "stream",
     "text": [
      "원본 [[ 1  2  3  4]\n",
      " [ 5  6  7  8]\n",
      " [ 9 10 11 12]\n",
      " [13 14 15 16]\n",
      " [17 18 19 20]]\n",
      "[[  1   2   3   4]\n",
      " [  5   6   7   8]\n",
      " [  9  10 100 100]\n",
      " [100 100 100 100]\n",
      " [100 100 100 100]]\n"
     ]
    }
   ],
   "source": [
    "matrix = np.arange(1, 21).reshape(5, 4)\n",
    "print('원본', matrix)\n",
    "\n",
    "# 문제4: 10보다 큰 요소만 100으로 변경\n",
    "matrix[matrix > 10] = 100\n",
    "print(matrix)\n",
    "# 원본이랑 연결된 데이터라는 걸 고려."
   ]
  },
  {
   "cell_type": "code",
   "execution_count": 46,
   "id": "c30bfee5",
   "metadata": {},
   "outputs": [
    {
     "name": "stdout",
     "output_type": "stream",
     "text": [
      "학급별 점수:\n",
      "[[89 68 99 73 66 54 70 80 89 69]\n",
      " [85 84 55 65 75 73 95 80 82 82]\n",
      " [55 78 67 60 54 54 74 77 79 63]\n",
      " [95 57 74 97 71 74 86 70 95 51]\n",
      " [98 59 62 55 66 61 92 67 62 85]]\n",
      "73.42 13.459702819899109\n",
      "99 51\n",
      "83.5 62.25\n",
      "[75.7 77.6 66.1 77.  70.7]\n",
      "학급별 평균:  [75.7 77.6 66.1 77.  70.7]\n",
      "최고 평균 학급: 2\n",
      "최저 평균 학급: 3\n"
     ]
    }
   ],
   "source": [
    "# 학급별 시험 점수 (5개 학급, 각 10명의 학생)\n",
    "scores = np.random.randint(50, 101, size=(5, 10))  # 50~100 사이 점수\n",
    "print(\"학급별 점수:\")\n",
    "print(scores)\n",
    "\n",
    "# 문제1: 전체 평균과 표준편차\n",
    "print(np.mean(scores), np.std(scores))\n",
    "\n",
    "# 문제2: 학급별 최고점과 최저점\n",
    "print(np.max(scores), np.min(scores))\n",
    "\n",
    "# 문제3: 전체 학생 중 상위 25%와 하위 25% 컷오프 점수\n",
    "print(np.percentile(scores, 75), np.percentile(scores, 25))\n",
    "\n",
    "# 문제4: 학급별 평균이 가장 높은/낮은 학급 찾기\n",
    "print(np.mean(scores, axis=1))\n",
    "\n",
    "# 문제4: 학급별 평균이 가장 높은/낮은 학급 찾기\\n,\n",
    "class_means = np.mean(scores, axis=1)\n",
    "print(\"학급별 평균: \", class_means)\n",
    "print(\"최고 평균 학급:\", np.argmax(class_means) + 1)  # +1은 학급 번호 조정\n",
    "print(\"최저 평균 학급:\", np.argmin(class_means) + 1)  # +1은 학급 번호 조정"
   ]
  },
  {
   "cell_type": "code",
   "execution_count": null,
   "id": "96a39e10",
   "metadata": {},
   "outputs": [
    {
     "name": "stdout",
     "output_type": "stream",
     "text": [
      "[  2   4   6   8  10  12  14  16  18  20  22  24  26  28  30  32  34  36\n",
      "  38  40  42  44  46  48  50  52  54  56  58  60  62  64  66  68  70  72\n",
      "  74  76  78  80  82  84  86  88  90  92  94  96  98 100]\n",
      "[[11  1 34 17  0]\n",
      " [16 36 38 49 27]\n",
      " [29 45  9 22  6]\n",
      " [12 39  3 36 40]],\n",
      " 470,/n 23.5,/n 49,/n 0\n",
      "[[0.14572896 0.57829244 0.10040263 0.07150739]\n",
      " [0.19144656 0.67381616 0.9601789  0.10967905]\n",
      " [0.0253307  0.83939848 0.26914795 0.82535624]] [0.36250621 2.09150708 1.32972947 1.00654267] [0.89593141 1.93512066 1.95923336]\n"
     ]
    }
   ],
   "source": [
    "# 1.\t1~100짜리 1차원 배열 생성 후 짝수만 골라내기\n",
    "# \t•\tnp.arange로 1부터 100까지 배열 만들기\n",
    "# \t•\tBoolean 인덱싱을 이용해 짝수 요소만 출력\n",
    "arr = np.arange(1, 101)\n",
    "print(arr[arr % 2 == 0])\n",
    "\n",
    "# 2.\t랜덤 정수 배열 생성 후 통계값 계산\n",
    "# \t•\t크기 (4,5)의 0~50 사이 랜덤 정수 배열 생성 (np.random.randint)\n",
    "# \t•\t전체 요소의 합(sum), 평균(mean), 최대(max), 최소(min) 구하기\n",
    "arr = np.random.randint(0, 50, size = (4, 5))\n",
    "print(f'{arr}, {np.sum(arr)},/n {np.mean(arr)},/n {np.max(arr)},/n {np.min(arr)}')\n",
    "\n",
    "# 3.\t2차원 배열의 행·열 합 구하기\n",
    "# \t•\t임의의 실수로 이뤄진 (3,4) 배열 생성 (np.random.random)\n",
    "# \t•\taxis 파라미터를 활용해 각 행의 합, 각 열의 합 출력\n",
    "arr = np.random.random(size=(3,4))\n",
    "print(arr, np.sum(arr, axis=0), np.sum(arr, axis=1))\n",
    "\n",
    "# 4.\t배열 형태 변환 및 전치\n",
    "# \t•\t1부터 12까지 연속값으로 (3,4) 형태 배열 만들기\n",
    "# \t•\t.reshape로 (2,2,3) 3차원 배열로 변환\n",
    "# \t•\t.T 또는 np.transpose로 전치해보기\n",
    "arr = np.arange(1, 13).reshape(3, 4)\n",
    "\n",
    "# 5.\tFancy 인덱싱으로 부분 배열 추출\n",
    "# \t•\t5×5 배열을 만들고, 행 인덱스 [0,2,4], 열 인덱스 [1,3]를 이용해 6개 요소를 2×3 배열로 뽑기\n",
    "# 6.\t브로드캐스팅으로 행렬 연산\n",
    "# \t•\t(3,3) 정방 행렬과 길이 3 벡터를 생성\n",
    "# \t•\t벡터를 각 행에 더하는 연산 수행\n",
    "# \t•\t결과와 수동 계산 비교\n",
    "# 7.\t조건에 따른 값 변경 (where)\n",
    "# \t•\tnp.linspace(-5,5,11)로 1차원 배열 생성\n",
    "# \t•\t양수는 그대로, 음수는 절댓값으로 바꾸기 (np.where)\n",
    "# 8.\t두 배열의 행렬곱(matrix multiplication)\n",
    "# \t•\t(2,3) 배열과 (3,4) 배열 생성 (랜덤)\n",
    "# \t•\tnp.dot 또는 @ 연산자로 곱한 결과 출력\n",
    "# 9.\t3차원 배열 슬라이싱 실습\n",
    "# \t•\t(4,3,2) 크기 랜덤 배열 만들기\n",
    "# \t•\t첫 번째 축에서 인덱스 1~3, 두 번째 축 전체, 세 번째 축에서 마지막 열만 선택\n",
    "# 10.\t고급 통계: 그룹별 평균 구하기\n",
    "# \t•\t길이 20짜리 1차원 정수 배열 data와 같은 길이의 카테고리 배열 labels (0,1,2 중 랜덤) 생성\n",
    "# \t•\tlabels별 data 평균값을 for문 없이 np.bincount나 np.unique + Boolean 인덱싱으로 구하기"
   ]
  },
  {
   "cell_type": "code",
   "execution_count": null,
   "id": "9e2433ca",
   "metadata": {},
   "outputs": [],
   "source": []
  }
 ],
 "metadata": {
  "kernelspec": {
   "display_name": "3.13.2",
   "language": "python",
   "name": "python3"
  },
  "language_info": {
   "codemirror_mode": {
    "name": "ipython",
    "version": 3
   },
   "file_extension": ".py",
   "mimetype": "text/x-python",
   "name": "python",
   "nbconvert_exporter": "python",
   "pygments_lexer": "ipython3",
   "version": "3.13.2"
  }
 },
 "nbformat": 4,
 "nbformat_minor": 5
}
