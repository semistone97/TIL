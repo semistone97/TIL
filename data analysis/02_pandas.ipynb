{
 "cells": [
  {
   "cell_type": "markdown",
   "id": "289d0ff5",
   "metadata": {},
   "source": [
    "# Pandas \n",
    "`02_pandas.ipynb`\n",
    "> 한 번 더 배워야할지도?\n",
    "\n",
    "## 특징\n",
    "- 표(테이블) 데이터를 다루는데 특화\n",
    "- 다양한 외부 소스에서 데이터 가져오기 (csv, excel, SQL db)\n",
    "- 데이터 정제, 변환, 분석에 필요한 기능 다수\n",
    "- 결측치 처리, 그룹화, 병합 작업에 효율"
   ]
  },
  {
   "cell_type": "code",
   "execution_count": 1,
   "id": "4a976081",
   "metadata": {},
   "outputs": [
    {
     "name": "stdout",
     "output_type": "stream",
     "text": [
      "Requirement already satisfied: pandas in /Users/jun-seokoh/.pyenv/versions/3.13.2/lib/python3.13/site-packages (2.3.1)\n",
      "Requirement already satisfied: numpy>=1.26.0 in /Users/jun-seokoh/.pyenv/versions/3.13.2/lib/python3.13/site-packages (from pandas) (2.3.2)\n",
      "Requirement already satisfied: python-dateutil>=2.8.2 in /Users/jun-seokoh/.pyenv/versions/3.13.2/lib/python3.13/site-packages (from pandas) (2.9.0.post0)\n",
      "Requirement already satisfied: pytz>=2020.1 in /Users/jun-seokoh/.pyenv/versions/3.13.2/lib/python3.13/site-packages (from pandas) (2025.2)\n",
      "Requirement already satisfied: tzdata>=2022.7 in /Users/jun-seokoh/.pyenv/versions/3.13.2/lib/python3.13/site-packages (from pandas) (2025.2)\n",
      "Requirement already satisfied: six>=1.5 in /Users/jun-seokoh/.pyenv/versions/3.13.2/lib/python3.13/site-packages (from python-dateutil>=2.8.2->pandas) (1.17.0)\n",
      "\n",
      "\u001b[1m[\u001b[0m\u001b[34;49mnotice\u001b[0m\u001b[1;39;49m]\u001b[0m\u001b[39;49m A new release of pip is available: \u001b[0m\u001b[31;49m24.3.1\u001b[0m\u001b[39;49m -> \u001b[0m\u001b[32;49m25.1.1\u001b[0m\n",
      "\u001b[1m[\u001b[0m\u001b[34;49mnotice\u001b[0m\u001b[1;39;49m]\u001b[0m\u001b[39;49m To update, run: \u001b[0m\u001b[32;49mpip install --upgrade pip\u001b[0m\n",
      "Note: you may need to restart the kernel to use updated packages.\n"
     ]
    }
   ],
   "source": [
    "%pip install pandas"
   ]
  },
  {
   "cell_type": "code",
   "execution_count": 2,
   "id": "3c111ebb",
   "metadata": {},
   "outputs": [
    {
     "name": "stdout",
     "output_type": "stream",
     "text": [
      "[[1 2 3]\n",
      " [4 5 6]\n",
      " [7 8 9]]\n",
      "   A  B  C\n",
      "0  1  2  3\n",
      "1  4  5  6\n",
      "2  7  8  9\n"
     ]
    }
   ],
   "source": [
    "import numpy as np\n",
    "import pandas as pd\n",
    "\n",
    "# Numpy 배열\n",
    "np_array = np.arange(1, 10).reshape(3, 3)\n",
    "print(np_array)\n",
    "\n",
    "# Pandas 데이터프레임\n",
    "df = pd.DataFrame(np_array, columns=['A', 'B', 'C'])\n",
    "print(df)"
   ]
  },
  {
   "cell_type": "markdown",
   "id": "bbe27f8a",
   "metadata": {},
   "source": [
    "## Series\n",
    "1차원 배열(벡터) with 레이블"
   ]
  },
  {
   "cell_type": "code",
   "execution_count": null,
   "id": "8ee7af19",
   "metadata": {},
   "outputs": [
    {
     "name": "stdout",
     "output_type": "stream",
     "text": [
      "0    1\n",
      "1    3\n",
      "2    5\n",
      "3    7\n",
      "4    9\n",
      "dtype: int64\n",
      "a    1\n",
      "b    3\n",
      "c    5\n",
      "d    7\n",
      "e    9\n",
      "dtype: int64\n",
      "a    1\n",
      "b    2\n",
      "c    3\n",
      "dtype: int64\n"
     ]
    }
   ],
   "source": [
    "import pandas as pd\n",
    "\n",
    "# 기본 Seires 생성 (별말 없으면 숫자 index)\n",
    "s1 = pd.Series([1, 3, 5, 7, 9])\n",
    "print(s1)\n",
    "\n",
    "# 인덱스 지정\n",
    "s2 = pd.Series([1, 3, 5, 7, 9], index=['a', 'b', 'c', 'd', 'e'])\n",
    "print(s2)\n",
    "\n",
    "# dict로 생성\n",
    "d = {'a': 1, 'b': 2, 'c': 3}\n",
    "s3 = pd.Series(d)\n",
    "print(s3)\n",
    "\n",
    "# 단일값(스칼라)으로 Series 생성\n",
    "s4 = pd.Series(5, index=['a', 'b', 'c'])\n",
    "print(s4)\n"
   ]
  },
  {
   "cell_type": "code",
   "execution_count": 20,
   "id": "627feee9",
   "metadata": {},
   "outputs": [
    {
     "name": "stdout",
     "output_type": "stream",
     "text": [
      "a    1\n",
      "b    3\n",
      "c    5\n",
      "d    7\n",
      "e    9\n",
      "dtype: int64\n",
      "<class 'numpy.ndarray'>\n",
      "Index(['a', 'b', 'c', 'd', 'e'], dtype='object')\n",
      "int64\n",
      "1\n",
      "5\n",
      "(5,)\n",
      "a    1\n",
      "b    3\n",
      "dtype: int64\n",
      "c    5\n",
      "d    7\n",
      "e    9\n",
      "dtype: int64\n",
      "count    5.000000\n",
      "mean     5.000000\n",
      "std      3.162278\n",
      "min      1.000000\n",
      "25%      3.000000\n",
      "50%      5.000000\n",
      "75%      7.000000\n",
      "max      9.000000\n",
      "dtype: float64\n"
     ]
    }
   ],
   "source": [
    "print(s2)\n",
    "# 값\n",
    "print(type(s2.values))\n",
    "# 인덱스\n",
    "print(s2.index)\n",
    "# 데이터타입\n",
    "print(s2.dtype)\n",
    "# 차원\n",
    "print(s2.ndim)\n",
    "# 크기\n",
    "print(s2.size)\n",
    "# 모양\n",
    "print(s2.shape)\n",
    "\n",
    "# 앞에 2개\n",
    "print(s2.head(2))\n",
    "# 뒤에 3개\n",
    "print(s2.tail(3))\n",
    "# 통계 요약\n",
    "print(s2.describe())"
   ]
  },
  {
   "cell_type": "markdown",
   "id": "61a280e9",
   "metadata": {},
   "source": [
    "## Dataframe\n",
    "- 2차원(매트릭스) with Label.\n",
    "- 행(row)과 열(col) 모두에 Label 설정."
   ]
  },
  {
   "cell_type": "code",
   "execution_count": 28,
   "id": "bb93350a",
   "metadata": {},
   "outputs": [
    {
     "name": "stdout",
     "output_type": "stream",
     "text": [
      "딕셔너리로부터 DataFrame 생성:\n",
      "    이름  나이 성별  점수\n",
      "a  김철수  25  남  85\n",
      "b  이영희  28  여  92\n",
      "c  박민수  22  남  78\n",
      "d  정지영  30  여  90\n",
      "\n",
      "리스트로부터 DataFrame 생성:\n",
      "    이름  나이 성별  점수\n",
      "0  김철수  25  남  85\n",
      "1  이영희  28  여  92\n",
      "2  박민수  22  남  78\n",
      "3  정지영  30  여  90\n"
     ]
    }
   ],
   "source": [
    "# 딕셔너리로부터 DataFrame 생성\n",
    "data = {\n",
    "    '이름': ['김철수', '이영희', '박민수', '정지영'],\n",
    "    '나이': [25, 28, 22, 30],\n",
    "    '성별': ['남', '여', '남', '여'],\n",
    "    '점수': [85, 92, 78, 90]\n",
    "}\n",
    "df1 = pd.DataFrame(data, index=['a','b','c','d'])\n",
    "print(\"딕셔너리로부터 DataFrame 생성:\")\n",
    "print(df1)\n",
    "\n",
    "# 리스트의 리스트로부터 DataFrame 생성\n",
    "data_list = [\n",
    "    ['김철수', 25, '남', 85],\n",
    "    ['이영희', 28, '여', 92],\n",
    "    ['박민수', 22, '남', 78],\n",
    "    ['정지영', 30, '여', 90]\n",
    "]\n",
    "df2 = pd.DataFrame(data_list, columns=['이름', '나이', '성별', '점수'])\n",
    "print(\"\\n리스트로부터 DataFrame 생성:\")\n",
    "print(df2)"
   ]
  },
  {
   "cell_type": "code",
   "execution_count": 27,
   "id": "f087f56f",
   "metadata": {},
   "outputs": [
    {
     "name": "stdout",
     "output_type": "stream",
     "text": [
      "Index(['이름', '나이', '성별', '점수'], dtype='object')\n",
      "RangeIndex(start=0, stop=4, step=1)\n",
      "[['김철수' 25 '남' 85]\n",
      " ['이영희' 28 '여' 92]\n",
      " ['박민수' 22 '남' 78]\n",
      " ['정지영' 30 '여' 90]]\n"
     ]
    }
   ],
   "source": [
    "# Column 정보\n",
    "print(df1.columns)\n",
    "# 인덱스(Row 정보)\n",
    "print(df1.index)\n",
    "# 값\n",
    "print(df1.values)\n",
    "# # 데이터 타입\n",
    "# print(df1.dtypes)\n",
    "# # 크기\n",
    "# print(df1.size)\n",
    "# # 모양\n",
    "# print(df1.shape)"
   ]
  },
  {
   "cell_type": "code",
   "execution_count": 31,
   "id": "484284fc",
   "metadata": {},
   "outputs": [
    {
     "name": "stdout",
     "output_type": "stream",
     "text": [
      "    이름  나이 성별  점수\n",
      "a  김철수  25  남  85\n",
      "b  이영희  28  여  92\n",
      "    이름  나이 성별  점수\n",
      "c  박민수  22  남  78\n",
      "d  정지영  30  여  90\n",
      "          나이         점수\n",
      "count   4.00   4.000000\n",
      "mean   26.25  86.250000\n",
      "std     3.50   6.238322\n",
      "min    22.00  78.000000\n",
      "25%    24.25  83.250000\n",
      "50%    26.50  87.500000\n",
      "75%    28.50  90.500000\n",
      "max    30.00  92.000000\n",
      "count     4.00\n",
      "mean     26.25\n",
      "std       3.50\n",
      "min      22.00\n",
      "25%      24.25\n",
      "50%      26.50\n",
      "75%      28.50\n",
      "max      30.00\n",
      "Name: 나이, dtype: float64\n"
     ]
    }
   ],
   "source": [
    "print(df1.head(2))\n",
    "\n",
    "print(df1.tail(2))\n",
    "\n",
    "print(df1.describe())\n",
    "\n",
    "print(df1['나이'].describe())"
   ]
  },
  {
   "cell_type": "code",
   "execution_count": null,
   "id": "d8bf5dfb",
   "metadata": {},
   "outputs": [],
   "source": [
    "# Index(데이터 레코드 별 PK)는 Pandas 의 핵심 기능\n",
    "\n",
    "# 인덱스 재설정 (0 ~ N으로 인덱스 설정)\n",
    "df_reset = df1.reset_index()\n",
    "print(df_reset)\n",
    "\n",
    "# # 인덱스 설정\n",
    "# df_set = df1.set_index('이름')\n",
    "# print(df_set)\n",
    "\n",
    "# # 다중 인덱스 설정\n",
    "# df_multi = df1.set_index(['성별', '이름'])\n",
    "# print(df_multi)\n",
    "\n",
    "# # 인덱스 이름 변경\n",
    "# df_renamed = df_set.rename_axis('학생명')\n",
    "# print(df_renamed)"
   ]
  },
  {
   "cell_type": "markdown",
   "id": "e610cafb",
   "metadata": {},
   "source": [
    "## 데이터 접근 및 선택\n",
    "\n",
    "### 열 선택과 인덱스 접근"
   ]
  },
  {
   "cell_type": "code",
   "execution_count": null,
   "id": "a856c3ac",
   "metadata": {},
   "outputs": [],
   "source": [
    "# DF 에서 단일 열(col) 선택\n",
    "\n",
    "name_col = df1['이름']\n",
    "print(name_col)  # Series 가 나온다.\n",
    "\n",
    "# 다중 열 선택\n",
    "subset = df1[ ['이름', '점수'] ]\n",
    "print(subset)  # DataFrame 이 나온다.\n",
    "\n",
    "# key 접근이 아니라 속성(주어.속성) 방식 접근 - 공백/특수문자 없을경우\n",
    "print(df1.나이)\n",
    "\n",
    "# 행 선택 (인덱스 기준)\n",
    "print(df1[:2])  # 맨 앞 레코드 2개\n"
   ]
  },
  {
   "cell_type": "markdown",
   "id": "dcfd47c6",
   "metadata": {},
   "source": [
    "## `loc` 와 `iloc`\n",
    "- `loc` : 레이블 기반 인덱싱(인덱스 이름 사용)\n",
    "- `iloc` : 위치 기반 인덱싱(정수 위치 사용)"
   ]
  },
  {
   "cell_type": "code",
   "execution_count": null,
   "id": "54435667",
   "metadata": {},
   "outputs": [],
   "source": [
    "# loc 예제\n",
    "\n",
    "df3 = df1.set_index('이름')\n",
    "\n",
    "# 단일 행 선택\n",
    "row = df3.loc['김철수']\n",
    "print(row)\n",
    "\n",
    "# 여러 행 선택\n",
    "rows = df3.loc[ ['김철수', '이영희'] ]\n",
    "print(rows)\n",
    "\n",
    "# row + col 조합으로 선택\n",
    "data = df3.loc[ ['김철수', '이영희'], ['나이', '점수'] ]\n",
    "print(data)"
   ]
  },
  {
   "cell_type": "code",
   "execution_count": null,
   "id": "f1ac5716",
   "metadata": {},
   "outputs": [],
   "source": [
    "# iloc 예제\n",
    "\n",
    "print(df1)  # index 설정 없음\n",
    "\n",
    "# 단일 행 -> 이거 아님 df1[0]\n",
    "first_row = df1.iloc[0]\n",
    "print(first_row)\n",
    "\n",
    "# 다중 행\n",
    "rows = df1.iloc[1:3]  # df1[1:3] 와 같으나, iloc 사용\n",
    "print(rows)\n",
    "\n",
    "# 행 + 열 선택 (숫자 idx)\n",
    "data = df1.iloc[ [0, 2], [1, 3] ]  # 0, 2는 row 번호 / 1, 3은 col 번호\n",
    "\n",
    "print(data)"
   ]
  },
  {
   "cell_type": "markdown",
   "id": "4cec625a",
   "metadata": {},
   "source": [
    "### 불리언 인덱싱"
   ]
  },
  {
   "cell_type": "code",
   "execution_count": null,
   "id": "3601367c",
   "metadata": {},
   "outputs": [],
   "source": [
    "print(df1)\n",
    "print()\n",
    "# 나이 25 초과 마스킹\n",
    "mask = df1['나이'] > 25  # T, F로 이루어진 Series\n",
    "print(mask)\n",
    "print()\n",
    "# 필터링\n",
    "filtered = df1[mask]\n",
    "print(filtered)\n",
    "print()\n",
    "\n",
    "# 점수 80이상, 성별 '여'\n",
    "mask = (df1['점수'] >= 80) & (df1['성별'] == '여')\n",
    "print(df1[mask])\n",
    "print()\n",
    "\n",
    "# 남성이거나, 점수 90점 이상\n",
    "mask = (df1['점수'] >= 92) | (df1['성별'] == '남')\n",
    "print(df1[mask])\n",
    "\n",
    "\n",
    "# query메서드로 필터링\n",
    "print('query')\n",
    "print(df1.query('나이 >= 25 and 점수 >= 85'))\n",
    "\n",
    "# isin 메서드로 필터링\n",
    "names = ['김철수', '정지영']\n",
    "mask = df1['이름'].isin(names)\n",
    "print(df1[mask])"
   ]
  },
  {
   "cell_type": "markdown",
   "id": "3a09ac86",
   "metadata": {},
   "source": [
    "### 기술 통계"
   ]
  },
  {
   "cell_type": "code",
   "execution_count": null,
   "id": "73297dc4",
   "metadata": {},
   "outputs": [],
   "source": [
    "# 눈으로 확인하는 용도\n",
    "print(df1.describe())\n",
    "print(df1['점수'].describe())\n",
    "\n",
    "# 개별 통계 함수\n",
    "print(df1['점수'].mean())  # 평균\n",
    "print(df1['점수'].median())  # 중앙\n",
    "print(df1['점수'].std())  # 표준편차\n",
    "print(df1['점수'].min())  # 최소값\n",
    "print(df1['점수'].max())  # 최대값\n",
    "print(df1['점수'].sum())  # 총합\n",
    "\n",
    "# 범주형 col 빈도 계산\n",
    "print(df1['성별'].value_counts())"
   ]
  },
  {
   "cell_type": "markdown",
   "id": "86c0a34a",
   "metadata": {},
   "source": [
    "### 데이터 요약 및 그룹화"
   ]
  },
  {
   "cell_type": "code",
   "execution_count": null,
   "id": "07b40633",
   "metadata": {},
   "outputs": [],
   "source": [
    "# df1 표에서 성별로 그루핑하고, 점수의 평균 집계 (단순)\n",
    "gender_score = df1.groupby('성별')['점수'].mean()\n",
    "print(gender_score)\n",
    "\n",
    "# 성별에 따른 여러 통계량 (복잡)\n",
    "stat = df1.groupby('성별').agg({\n",
    "    # 컬럼: [정해진 키워드(함수이름)]\n",
    "    '나이': ['mean', 'min', 'max'],\n",
    "    '점수': ['mean', 'min', 'max', 'std']\n",
    "})\n",
    "\n",
    "stat"
   ]
  },
  {
   "cell_type": "code",
   "execution_count": null,
   "id": "4d49547c",
   "metadata": {},
   "outputs": [],
   "source": [
    "%pip install matplotlib"
   ]
  },
  {
   "cell_type": "code",
   "execution_count": null,
   "id": "b8bd4d3e",
   "metadata": {},
   "outputs": [],
   "source": [
    "import warnings\n",
    "warnings.filterwarnings('ignore', category=UserWarning)"
   ]
  },
  {
   "cell_type": "code",
   "execution_count": null,
   "id": "e3de4660",
   "metadata": {},
   "outputs": [],
   "source": [
    "import matplotlib.pyplot as plt\n",
    "plt.rcParams['font.family'] = 'Malgun Gothic'\n",
    "plt.rcParams['axes.unicode_minus'] = False"
   ]
  },
  {
   "cell_type": "code",
   "execution_count": null,
   "id": "e66f4395",
   "metadata": {},
   "outputs": [],
   "source": [
    "# 막대그래프\n",
    "\n",
    "# (막대) 그래프 그리기\n",
    "df1.plot(kind='bar', x='이름', y='점수')\n",
    "# 그래프 설정하기\n",
    "plt.title('학생별 점수')\n",
    "plt.xlabel('학생')\n",
    "plt.ylabel('점수')\n",
    "plt.show()"
   ]
  },
  {
   "cell_type": "code",
   "execution_count": null,
   "id": "d3a55964",
   "metadata": {},
   "outputs": [],
   "source": [
    "gender_score.plot(kind='bar')\n",
    "plt.title('성별 평균 점수')\n",
    "plt.xlabel('성별')\n",
    "plt.ylabel('평균 점수')\n",
    "plt.show()"
   ]
  },
  {
   "cell_type": "code",
   "execution_count": null,
   "id": "496e7f0a",
   "metadata": {},
   "outputs": [],
   "source": [
    "import pandas as pd\n",
    "import matplotlib.pyplot as plt\n",
    "\n",
    "# 온라인 쇼핑몰 고객 데이터 (가상)\n",
    "customer_data = {\n",
    "    '고객ID': [1001, 1002, 1003, 1004, 1005, 1006, 1007, 1008, 1009, 1010],\n",
    "    '이름': ['김민수', '이지영', '박철호', '정수민', '최영희', '강도현', '윤서연', '임태혁', '송지원', '한미래'],\n",
    "    '나이': [25, 32, 28, 35, 29, 31, 26, 33, 27, 30],\n",
    "    '성별': ['남', '여', '남', '여', '여', '남', '여', '남', '여', '여'],\n",
    "    '구매금액': [50000, 75000, 32000, 98000, 67000, 84000, 41000, 72000, 58000, 89000],\n",
    "    '구매횟수': [3, 5, 2, 7, 4, 6, 2, 5, 3, 6],\n",
    "    '회원등급': ['실버', '골드', '브론즈', '플래티넘', '골드', '골드', '실버', '골드', '실버', '플래티넘']\n",
    "}\n",
    "\n",
    "df = pd.DataFrame(customer_data)\n",
    "print(\"온라인 쇼핑몰 고객 데이터:\")\n",
    "print(df)"
   ]
  },
  {
   "cell_type": "code",
   "execution_count": null,
   "id": "5f000f7d",
   "metadata": {},
   "outputs": [],
   "source": [
    "# 데이터 정보 확인 (행 개수, 열 개수, 컬럼명)\n",
    "row_count, col_count = df.shape\n",
    "print(row_count, col_count)\n",
    "print(list(df.columns))\n",
    "# 데이터 타입 확인\n",
    "print(df.dtypes)\n",
    "# 기술 통계 요약\n",
    "print(df[ ['나이', '구매금액', '구매횟수'] ].describe())\n",
    "# 범주형 데이터 빈도 (성별 카운트, 등급 카운트)\n",
    "print(df['성별'].value_counts())\n",
    "print(df['회원등급'].value_counts())"
   ]
  },
  {
   "cell_type": "code",
   "execution_count": null,
   "id": "6c216c19",
   "metadata": {},
   "outputs": [],
   "source": [
    "# 1. 특정 열 선택\n",
    "print(\"1. 이름과 구매금액만 선택:\")\n",
    "print(df[ ['이름', '구매금액'] ])\n",
    "\n",
    "# 2. 조건부 필터링\n",
    "print(\"\\n2. 구매금액이 70000원 이상인 고객:\")\n",
    "mask = df['구매금액'] >= 70_000\n",
    "print(df[mask])\n",
    "\n",
    "# 3. 다중 조건 필터링\n",
    "print(\"\\n3. 여성이면서 구매횟수가 4회 이상인 고객:\")\n",
    "mask = (df['성별'] == '여') & (df['구매횟수'] > 3)\n",
    "print(df[mask])\n",
    "\n",
    "# 4. 특정 값들로 필터링\n",
    "print(\"\\n4. 골드 또는 플래티넘 회원:\")\n",
    "mask = df.회원등급.isin(['골드', '플래티넘'])\n",
    "print(df[mask])"
   ]
  },
  {
   "cell_type": "code",
   "execution_count": null,
   "id": "7779c5f5",
   "metadata": {},
   "outputs": [],
   "source": [
    "# [안배웠지만 검색해서 적용해보기]\n",
    "\n",
    "# 구매금액 기준 정렬\n",
    "print(\"구매금액 기준 내림차순 정렬:\")\n",
    "# SELECT 구매금액 FROM df ORDER BY 구매금액 DESC\n",
    "print(df.sort_values('구매금액', ascending=False)['구매금액'])\n",
    "\n",
    "# 여러 기준으로 정렬 ()\n",
    "print(\"\\n회원등급별, 구매금액별 정렬:\")\n",
    "# SELECT * FROM df ORDER BY 회원등급, 구매금액\n",
    "print(df.sort_values(['회원등급', '구매금액'], ascending=[True, False]))"
   ]
  },
  {
   "cell_type": "code",
   "execution_count": null,
   "id": "8b3c87f5",
   "metadata": {},
   "outputs": [],
   "source": [
    "# 금액 계산 (평균, 중앙, 최소, 최대, 표준편차)\n",
    "print(\"구매금액 통계:\")\n",
    "print(df['구매금액'].mean())\n",
    "print(df['구매금액'].median())\n",
    "print(df['구매금액'].min())\n",
    "print(df['구매금액'].max())\n",
    "print(df['구매금액'].std())\n",
    "# 횟수 계산 (평균, 중앙, 최소, 최대, 표준편차)\n",
    "print(\"\\n구매횟수 통계:\")\n",
    "print(df['구매횟수'].mean())\n",
    "print(df['구매횟수'].median())\n",
    "print(df['구매횟수'].min())\n",
    "print(df['구매횟수'].max())\n",
    "print(df['구매횟수'].std())\n",
    "\n",
    "# 상위/하위 (숫자, 컬럼)\n",
    "print(df.nlargest(3, '구매금액'))\n",
    "print(df.nsmallest(3, '구매금액'))"
   ]
  },
  {
   "cell_type": "code",
   "execution_count": null,
   "id": "131dd88c",
   "metadata": {},
   "outputs": [],
   "source": [
    "# 성별별(Group) 기본 분석  \n",
    "print(\"성별별 분석:\")\n",
    "\n",
    "print('\\n고객 수, 평균 구매 금액:')\n",
    "gender_group = df.groupby('성별')\n",
    "result = gender_group['구매금액'].agg(['count', 'mean'])\n",
    "\n",
    "# AS 로 컬럼명 바꾸기 == .rename()\n",
    "print(result.rename(columns={'count': '고객 수', 'mean': '평균구매금액'}))\n",
    "\n",
    "print('\\n평균 구매 횟수')\n",
    "print(gender_group['구매횟수'].agg('mean').rename('평균구매횟수'))"
   ]
  },
  {
   "cell_type": "code",
   "execution_count": null,
   "id": "4402600d",
   "metadata": {},
   "outputs": [],
   "source": [
    "# 등급별(Group) 기본분석\n",
    "print('회원 등급별 평균 구매 금액 분석')\n",
    "grade_group = df.groupby('회원등급')\n",
    "print(grade_group['구매금액'].agg('mean'))"
   ]
  },
  {
   "cell_type": "code",
   "execution_count": null,
   "id": "0756d710",
   "metadata": {},
   "outputs": [],
   "source": [
    "# 구매금액 히스토그램\n",
    "plt.figure(figsize=(10, 6))\n",
    "plt.hist(df['구매금액'], bins=5, edgecolor='black')\n",
    "plt.title('고객 구매금액 분포')\n",
    "plt.xlabel('구매금액 (원)')\n",
    "plt.ylabel('고객 수')\n",
    "plt.show()\n",
    "\n",
    "# 회원등급별 고객 수 막대그래프\n",
    "grade_counts = df['회원등급'].value_counts()\n",
    "plt.figure(figsize=(8, 6))\n",
    "plt.bar(grade_counts.index, grade_counts.values)\n",
    "plt.title('회원등급별 고객 수')\n",
    "plt.xlabel('회원등급')\n",
    "plt.ylabel('고객 수')\n",
    "plt.show()\n",
    "\n",
    "# 고객별 구매금액 막대그래프\n",
    "plt.figure(figsize=(12, 6))\n",
    "plt.bar(df['이름'], df['구매금액'])\n",
    "plt.title('고객별 구매금액')\n",
    "plt.xlabel('고객명')\n",
    "plt.ylabel('구매금액 (원)')\n",
    "plt.xticks(rotation=45)\n",
    "plt.tight_layout()\n",
    "plt.show()"
   ]
  },
  {
   "cell_type": "markdown",
   "id": "4f009232",
   "metadata": {},
   "source": [
    "# `결측치 처리`"
   ]
  },
  {
   "cell_type": "code",
   "execution_count": null,
   "id": "c1ddb213",
   "metadata": {},
   "outputs": [],
   "source": [
    "import numpy as np\n",
    "import pandas as pd\n",
    "\n",
    "data = {\n",
    "    '이름': ['김철수', '이영희', '박민수', np.nan, '정지영'],\n",
    "    '나이': [25, 28, np.nan, 30, 22],\n",
    "    '성별': ['남', '여', '남', np.nan, '여'],\n",
    "    '직업': ['회사원', np.nan, '자영업', '공무원', '회사원'],\n",
    "    '급여': [3500, 4200, np.nan, 3800, 3200]\n",
    "}\n",
    "\n",
    "df = pd.DataFrame(data)\n",
    "\n",
    "df"
   ]
  },
  {
   "cell_type": "code",
   "execution_count": null,
   "id": "a9dd815f",
   "metadata": {},
   "outputs": [],
   "source": [
    "print('original', df)\n",
    "\n",
    "# 결측치 자체를 확인하는 방법\n",
    "df.isna()    # 결측치를 True로 보여줌.\n",
    "df.isnull()  # 상동\n",
    "\n",
    "# 결측치 개수 확인\n",
    "df.isna().sum() # 각 열별 결측치 개수\n",
    "\n",
    "# 결측치 비율 확인\n",
    "df.isna().mean() * 100 # 각 열별 결측치 개수\n",
    "\n",
    "# df의 정보(db 스키마 확인과 비슷)\n",
    "df.info()\n",
    "# what's memory usage~? 현재 활용하고 있는 정도.\n",
    "\n",
    "# 결측치가 포함된 열을 확인\n",
    "mask = df.isna().any()  # 여기도 그냥 axis = 0을 써주는 게 확실함.\n",
    "mask\n",
    "\n",
    "# 결측치가 포함된 행을 확인\n",
    "df.isna().any(axis=1)   # 하나라도 결측치가 있다 -> False가 꽉참\n",
    "\n",
    "# 결측치가 없는 행을 확인   # 상동(역전)\n",
    "df.notna().all(axis=1)  # 하나도 결측치가 없다 -> True가 꽉참"
   ]
  },
  {
   "cell_type": "markdown",
   "id": "78b17f70",
   "metadata": {},
   "source": [
    "> ## ***시각화도 있져영***"
   ]
  },
  {
   "cell_type": "markdown",
   "id": "154df5ed",
   "metadata": {},
   "source": [
    "> ## | 결측치 삭제"
   ]
  },
  {
   "cell_type": "code",
   "execution_count": null,
   "id": "05bd600f",
   "metadata": {},
   "outputs": [],
   "source": [
    "# 결측치가 있는 모든 행을 삭제(df는 그대로인데 새로 리턴해주는 것)\n",
    "# df\n",
    "df_cleanver = df.dropna(axis = 0)\n",
    "df_cleanver\n",
    "\n",
    "# 특정 열의 결측치가 있는 행만 삭제\n",
    "df.dropna(subset=['이름', '성별'],axis = 0)  # 못해도 이름 & 성별은 있어야 해.\n",
    "\n",
    "# 모든 값이 결측치면 삭제\n",
    "df.dropna(how = 'all', axis = 0)\n",
    "\n",
    "# 0은 가로진행(우로)\n",
    "# 1은 세로진행(아래로)\n",
    "\n",
    "# 결측치가 있는 모든 열을 삭제\n",
    "df.dropna(axis=1)"
   ]
  },
  {
   "cell_type": "markdown",
   "id": "5c216094",
   "metadata": {},
   "source": [
    "## 결측치 채우기\n",
    "> ***실제로 이걸 더 많이 함***"
   ]
  },
  {
   "cell_type": "code",
   "execution_count": null,
   "id": "70251789",
   "metadata": {},
   "outputs": [],
   "source": [
    "# 특정 값으로 결측치 채우기\n",
    "df.fillna(0)\n",
    "\n",
    "# 열별로 다른 값 쓰기.\n",
    "fill_values = {\n",
    "    '이름': '익명',\n",
    "    '나이': 20,\n",
    "    '성별': '미입력',\n",
    "    '직업': '기타',\n",
    "    '급여': df['급여'].mean()\n",
    "}\n",
    "\n",
    "df.fillna(fill_values)\n",
    "\n",
    "# 앞사람 데이터 복붙\n",
    "df.fillna(method='ffill')   # 앞쪽데이터로 채우기\n",
    "df.fillna(method='bfill')   # 뒤쪽데이터로 채우기\n",
    "# 이런식으로 하는 게 전체 비율을 반영하는 방법이 될 수도 있음.\n",
    "df.ffill()  # 뉴 버전\n",
    "df.bfill()  # 올드버전 쓰면 에러남.\n"
   ]
  },
  {
   "cell_type": "code",
   "execution_count": null,
   "id": "97d8fa2e",
   "metadata": {},
   "outputs": [],
   "source": [
    "# 시계열 데이터(연속적인 데이터)\n",
    "dates = pd.to_datetime(['2023-01-01', '2023-01-02', '2023-01-05', '2023-01-10'])\n",
    "data = [1, np.nan, np.nan, 10]\n",
    "\n",
    "time_data = pd.DataFrame({'value': data}, index=dates)\n",
    "time_data\n",
    "# 보간법(interpolation): 알려진 값으로 모르는 걸 추정하는 것.\n",
    "    # 선형 보간법 : 1차 함수를 그려서 추정\n",
    "lin_interp = time_data.interpolate(method='linear')  # 시간의 흐름을 고려하지 않음\n",
    "\n",
    "time_interp = time_data.interpolate(method='time')    # 시간의 흐름을 고려하여 작성\n"
   ]
  },
  {
   "cell_type": "markdown",
   "id": "bef34410",
   "metadata": {},
   "source": [
    "## 데이터 타입 변환"
   ]
  },
  {
   "cell_type": "code",
   "execution_count": null,
   "id": "1c5e23bf",
   "metadata": {},
   "outputs": [],
   "source": [
    "\n",
    "# 문자열 처리를 위한 샘플 데이터\n",
    "data = {\n",
    "    '이름': ['김철수', '이영희', '박민수', '정지영', '최동민'],\n",
    "    '이메일': ['kim@example.com', 'lee.younghee@company.co.kr', \n",
    "              'park_ms@gmail.com', 'jyjeong@school.edu', 'choi@domain.net'],\n",
    "    '전화번호': ['010-1234-5678', '02-987-6543', '010 3456 7890', \n",
    "              '01098765432', '+82-10-5555-6666'],\n",
    "    '취미': ['축구,야구,농구', '여행,독서', '게임,음악,영화',\n",
    "            '요리,베이킹', '등산,자전거,수영']\n",
    "}\n",
    "\n",
    "df = pd.DataFrame(data)\n",
    "print(\"원본 데이터:\")\n",
    "print(df)\n",
    "\n",
    "# 1. 기본 문자열 메서드\n",
    "# 대소문자 변환 (영문에 적용)\n",
    "print(\"\\n이메일 대문자 변환:\")\n",
    "print(df['이메일'].str.upper())\n",
    "\n",
    "# 문자열 길이\n",
    "print(\"\\n이름 길이:\")\n",
    "print(df['이름'].str.len())\n",
    "\n",
    "# 특정 문자열 포함 여부\n",
    "print(\"\\n지메일 사용자:\")\n",
    "print(df['이메일'].str.contains('gmail'))\n",
    "\n",
    "# 문자열 교체\n",
    "print(\"\\n전화번호 형식 통일 (하이픈 제거):\")\n",
    "print(df['전화번호'].str.replace('-', '').str.replace(' ', ''))\n",
    "# replace 한 번 했을 떄, Series를 str로 만든 게 다시 Series가 돼버림, 그래서 다시 해야됨.\n",
    "# 그리고 replace()는 저장 안 되니까 저장하고싶으면 변수에 저장\n",
    "\n",
    "# 2. 문자열 추출\n",
    "# 처음 두 글자 추출 (성씨)\n",
    "print(\"\\n성씨 추출:\")\n",
    "print(df['이름'].str[:1])\n",
    "\n",
    "# 정규표현식 사용한 추출\n",
    "print(\"\\n이메일 도메인 추출:\")\n",
    "print(df['이메일'].str.extract(r'@([^.]+)'))  # @ 다음에 오는 도메인 이름 추출\n",
    "\n",
    "# 3. 문자열 분할\n",
    "# 구분자로 분할\n",
    "# 원래 ','가 포함되있던 str이 list로 바뀜\n",
    "print(\"\\n취미 분할:\")\n",
    "hobbies_split = df['취미'].str.split(',')\n",
    "print(hobbies_split)\n",
    "\n",
    "# 분할 후 특정 위치 요소 선택\n",
    "print(\"\\n첫 번째 취미만 선택:\")\n",
    "print(df['취미'].str.split(',').str[0])\n",
    "\n",
    "# 4. 응용: 이메일에서 사용자명과 도메인 분리\n",
    "print(\"\\n이메일 분해:\")\n",
    "df[['사용자명', '도메인']] = df['이메일'].str.split('@', expand=True)   # expand False면 Series(list), /True면 DF로 쪼개버림\n",
    "print(df[['이메일', '사용자명', '도메인']])"
   ]
  },
  {
   "cell_type": "markdown",
   "id": "6a9eec85",
   "metadata": {},
   "source": [
    "# ***데이터 타입 변환***"
   ]
  },
  {
   "cell_type": "code",
   "execution_count": 30,
   "id": "7bacf256",
   "metadata": {},
   "outputs": [
    {
     "name": "stdout",
     "output_type": "stream",
     "text": [
      "Error: Unable to parse string \"three\" at position 2\n",
      "<class 'pandas.core.frame.DataFrame'>\n",
      "RangeIndex: 5 entries, 0 to 4\n",
      "Data columns (total 6 columns):\n",
      " #   Column  Non-Null Count  Dtype         \n",
      "---  ------  --------------  -----         \n",
      " 0   정수형     5 non-null      int64         \n",
      " 1   실수형     5 non-null      float64       \n",
      " 2   문자형     5 non-null      object        \n",
      " 3   불리언     5 non-null      bool          \n",
      " 4   날짜      5 non-null      datetime64[ns]\n",
      " 5   혼합형     5 non-null      object        \n",
      "dtypes: bool(1), datetime64[ns](1), float64(1), int64(1), object(2)\n",
      "memory usage: 337.0+ bytes\n"
     ]
    },
    {
     "name": "stderr",
     "output_type": "stream",
     "text": [
      "/var/folders/tx/t7px7cn503bgk6zlg3m0b4740000gn/T/ipykernel_28234/2496538743.py:37: FutureWarning: errors='ignore' is deprecated and will raise in a future version. Use to_numeric without passing `errors` and catch exceptions explicitly instead\n",
      "  pd.to_numeric(df['혼합형'], errors='ignore')\n"
     ]
    }
   ],
   "source": [
    "# 데이터 타입 변환\n",
    "data = {\n",
    "    '정수형': ['1', '2', '3', '4', '5'],\n",
    "    '실수형': ['1.1', '2.2', '3.3', '4.4', '5.5'],\n",
    "    '문자형': [1, 2, 3, 4, 5],\n",
    "    '불리언': ['True', 'False', 'True', 'False', 'True'],\n",
    "    '날짜': ['2023-01-01', '2023-02-01', '2023-03-01', '2023-04-01', '2023-05-01'],\n",
    "    '혼합형': ['1', '2.2', 'three', '4', 'NaN']\n",
    "}\n",
    "\n",
    "df = pd.DataFrame(data)\n",
    "\n",
    "# str -> int\n",
    "df['정수형'] = df['정수형'].astype(int)\n",
    "\n",
    "# str -> float\n",
    "df['실수형'] = df['실수형'].astype(float)\n",
    "\n",
    "# int -> str\n",
    "df['문자형'] = df['문자형'].astype(str)\n",
    "\n",
    "# str -> bool\n",
    "df['불리언'] = df['불리언'].astype(bool)\n",
    "\n",
    "\n",
    "# 혼합형은 어떻게 처리하는가? -> 전체적으로 바꿀 수 있는지 시도 | 오류 처리 옵션\n",
    "# 에러 처리\n",
    "try:\n",
    "    pd.to_numeric(df['혼합형'])\n",
    "except ValueError as e:\n",
    "    print(f'Error: {e}')\n",
    "\n",
    "# 변환 불가능하면, NaN 으로 처리\n",
    "pd.to_numeric(df['혼합형'], errors='coerce')\n",
    "\n",
    "# 변환 불가 -> 원래 데이터 유지\n",
    "pd.to_numeric(df['혼합형'], errors='ignore')\n",
    "\n",
    "# to_datetime()\n",
    "df['날짜'] = pd.to_datetime(df['날짜'])\n",
    "\n",
    "df.info()"
   ]
  },
  {
   "cell_type": "markdown",
   "id": "f3dd7327",
   "metadata": {},
   "source": [
    "## 행/열 처리\n",
    "`열(col)처리`"
   ]
  },
  {
   "cell_type": "code",
   "execution_count": null,
   "id": "49eaf542",
   "metadata": {},
   "outputs": [],
   "source": [
    "data = {\n",
    "    '학번': ['S001', 'S002', 'S003', 'S004', 'S005'],\n",
    "    '이름': ['김철수', '이영희', '박민수', '정지영', '최동민'],\n",
    "    '국어': [85, 92, 78, 90, 85],\n",
    "    '영어': [82, 95, 75, 88, 90],\n",
    "    '수학': [88, 90, 80, 95, 82],\n",
    "    '과학': [76, 82, 75, 84, 88],\n",
    "    '사회': [92, 86, 85, 91, 78],\n",
    "    '비고': ['', '', '', '', ''],  # 빈 열\n",
    "    '임시데이터': [0, 0, 0, 0, 0]   # 불필요한 열\n",
    "}\n",
    "\n",
    "df = pd.DataFrame(data)\n",
    "print(\"원본 데이터:\")\n",
    "print(df)\n",
    "\n",
    "# 1. 단일 열 삭제\n",
    "df_drop_single = df.drop('비고', axis=1)  # axis=1은 열 방향\n",
    "print(\"\\n'비고' 열 삭제 후:\")\n",
    "print(df_drop_single)\n",
    "\n",
    "# 2. 여러 열 한 번에 삭제\n",
    "df_drop_multi = df.drop(['비고', '임시데이터'], axis=1)\n",
    "print(\"\\n여러 열 삭제 후:\")\n",
    "print(df_drop_multi)\n",
    "\n",
    "# 3. inplace 파라미터를 사용하여 원본 데이터 직접 변경\n",
    "df.drop(['비고', '임시데이터'], axis=1, inplace=True)\n",
    "print(\"\\n원본 데이터에서 직접 열 삭제:\")\n",
    "print(df)\n",
    "\n",
    "# 4. 열 이름 변경\n",
    "df.columns = ['학번', '이름', '국어점수', '영어점수', '수학점수', '과학점수', '사회점수']\n",
    "print(\"\\n열 이름 변경 후:\")\n",
    "print(df)\n",
    "\n",
    "# 5. rename 메서드로 특정 열 이름만 변경\n",
    "df_renamed = df.rename(columns={\n",
    "    '국어점수': '국어',\n",
    "    '영어점수': '영어',\n",
    "    '수학점수': '수학'\n",
    "})\n",
    "print(\"\\nrename 메서드로 특정 열 이름 변경:\")\n",
    "print(df_renamed)\n",
    "\n",
    "# 6. 열 순서 변경\n",
    "df_reordered = df[['이름', '학번', '국어점수', '영어점수', '수학점수', '과학점수', '사회점수']]\n",
    "print(\"\\n열 순서 변경:\")\n",
    "print(df_reordered)\n",
    "\n",
    "# 7. 열 추가\n",
    "df['총점'] = df['국어점수'] + df['영어점수'] + df['수학점수'] + df['과학점수'] + df['사회점수']\n",
    "df['평균'] = df['총점'] / 5\n",
    "print(\"\\n총점과 평균 열 추가:\")\n",
    "print(df)\n",
    "\n",
    "# 8. 조건에 따라 새 열 추가\n",
    "df['성적등급'] = pd.cut(df['평균'], bins=[0, 70, 80, 90, 100], labels=['D', 'C', 'B', 'A'])\n",
    "print(\"\\n성적등급 열 추가:\")\n",
    "print(df)"
   ]
  },
  {
   "cell_type": "markdown",
   "id": "bb0d7742",
   "metadata": {},
   "source": [
    "## 행(row) 처리"
   ]
  },
  {
   "cell_type": "code",
   "execution_count": null,
   "id": "587c74ae",
   "metadata": {},
   "outputs": [],
   "source": [
    "data = {\n",
    "    '이름': ['김철수', '이영희', '박민수', '정지영', '최동민', '강준호', '윤서연', '임태영', '한미래', '송지원'],\n",
    "    '나이': [25, 28, 22, 35, 29, 31, 26, 33, 27, np.nan],\n",
    "    '성별': ['남', '여', '남', '여', '남', '남', '여', '남', '여', '여'],\n",
    "    '부서': ['영업', '인사', '개발', '영업', '인사', '개발', '개발', '영업', '인사', np.nan],\n",
    "    '급여': [3500, 4200, 3800, 5400, 4100, 3900, 4300, 5100, 3700, 4200]\n",
    "}\n",
    "\n",
    "df = pd.DataFrame(data)\n",
    "print(\"원본 데이터:\")\n",
    "print(df)\n",
    "\n",
    "# 1. 인덱스로 행 삭제\n",
    "df_drop_index = df.drop(0)  # 첫 번째 행 삭제\n",
    "print(\"\\n첫 번째 행 삭제:\")\n",
    "print(df_drop_index)\n",
    "\n",
    "# 2. 여러 행 한 번에 삭제\n",
    "df_drop_multi = df.drop([0, 2, 4])  # 0, 2, 4번 행 삭제\n",
    "print(\"\\n여러 행 삭제:\")\n",
    "print(df_drop_multi)\n",
    "\n",
    "# 3. 조건을 기준으로 행 필터링\n",
    "# 나이가 30 미만인 직원만 선택\n",
    "young_employees = df[df['나이'] < 30]\n",
    "print(\"\\n나이가 30 미만인 직원:\")\n",
    "print(young_employees)\n",
    "\n",
    "# 4. 결측치가 있는 행 제거\n",
    "df_no_na = df.dropna()\n",
    "print(\"\\n결측치가 없는 행만 선택:\")\n",
    "print(df_no_na)\n",
    "\n",
    "# 5. 특정 열에 결측치가 있는 행만 제거\n",
    "df_no_na_age = df.dropna(subset=['나이'])\n",
    "print(\"\\n나이 열에 결측치가 없는 행만 선택:\")\n",
    "print(df_no_na_age)\n",
    "\n",
    "# 6. 중복된 행 확인 및 제거\n",
    "# 중복 데이터 생성을 위해 행 추가\n",
    "duplicated_df = pd.concat([df, df.iloc[2:4]], ignore_index=True)\n",
    "print(\"\\n중복 행이 있는 데이터:\")\n",
    "print(duplicated_df)\n",
    "\n",
    "# 중복 행 확인\n",
    "print(\"\\n중복 여부:\")\n",
    "print(duplicated_df.duplicated())\n",
    "\n",
    "# 중복 행 제거\n",
    "df_no_dup = duplicated_df.drop_duplicates()\n",
    "print(\"\\n중복 행 제거 후:\")\n",
    "print(df_no_dup)\n",
    "\n",
    "# 7. 행 순서 변경 (정렬)\n",
    "df_sorted = df.sort_values('급여', ascending=False)\n",
    "print(\"\\n급여 기준 내림차순 정렬:\")\n",
    "print(df_sorted)\n",
    "\n",
    "# 여러 열을 기준으로 정렬\n",
    "df_multi_sorted = df.sort_values(['부서', '급여'], ascending=[True, False])\n",
    "print(\"\\n부서별 급여 내림차순 정렬:\")\n",
    "print(df_multi_sorted)\n",
    "\n",
    "# 8. 행 인덱스 재설정\n",
    "df_reset = df.sort_values('급여', ascending=False).reset_index(drop=True)\n",
    "print(\"\\n정렬 후 인덱스 재설정:\")\n",
    "print(df_reset)"
   ]
  }
 ],
 "metadata": {
  "kernelspec": {
   "display_name": "3.13.2",
   "language": "python",
   "name": "python3"
  },
  "language_info": {
   "codemirror_mode": {
    "name": "ipython",
    "version": 3
   },
   "file_extension": ".py",
   "mimetype": "text/x-python",
   "name": "python",
   "nbconvert_exporter": "python",
   "pygments_lexer": "ipython3",
   "version": "3.13.2"
  }
 },
 "nbformat": 4,
 "nbformat_minor": 5
}
