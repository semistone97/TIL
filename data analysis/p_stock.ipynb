{
 "cells": [
  {
   "cell_type": "code",
   "execution_count": 1,
   "id": "a5db2ae6",
   "metadata": {},
   "outputs": [],
   "source": [
    "# 실습: 주식 데이터 시계열 분석 (시뮬레이션)\n",
    "import pandas as pd\n",
    "import numpy as np\n",
    "import matplotlib.pyplot as plt\n",
    "\n",
    "# 가상의 주식 데이터 생성\n",
    "np.random.seed(42)\n",
    "\n",
    "# 1년간의 일별 주식 데이터 생성\n",
    "dates = pd.date_range('2023-01-01', '2023-12-31', freq='D')\n",
    "n_days = len(dates)\n",
    "\n",
    "# 주식 가격 시뮬레이션 (기하 브라운 운동)\n",
    "initial_price = 100000  # 초기 가격\n",
    "volatility = 0.02  # 일일 변동성\n",
    "drift = 0.0005  # 일일 드리프트\n",
    "\n",
    "# 가격 변화율 생성\n",
    "returns = np.random.normal(drift, volatility, n_days)\n",
    "returns[0] = 0  # 첫날은 변화 없음\n",
    "\n",
    "# 누적곱으로 가격 계산\n",
    "price_multipliers = (1 + returns).cumprod()\n",
    "prices = initial_price * price_multipliers\n",
    "\n",
    "# 거래량 생성 (가격 변동성과 반비례 관계)\n",
    "base_volume = 1000000\n",
    "volume = base_volume + np.random.normal(0, 200000, n_days) - np.abs(returns) * 5000000\n",
    "volume = np.maximum(volume, 100000)  # 최소 거래량 보장\n",
    "\n",
    "# 데이터프레임 생성\n",
    "stock_data = pd.DataFrame({\n",
    "    'date': dates,        # 날짜\n",
    "    'close': prices,      # 가격\n",
    "    'volume': volume,     # 거래량\n",
    "    'returns': returns,   # 전날 대비 가격 변화율\n",
    "})\n",
    "\n",
    "stock_data.set_index('date', inplace=True)"
   ]
  }
 ],
 "metadata": {
  "kernelspec": {
   "display_name": "3.13.2",
   "language": "python",
   "name": "python3"
  },
  "language_info": {
   "codemirror_mode": {
    "name": "ipython",
    "version": 3
   },
   "file_extension": ".py",
   "mimetype": "text/x-python",
   "name": "python",
   "nbconvert_exporter": "python",
   "pygments_lexer": "ipython3",
   "version": "3.13.2"
  }
 },
 "nbformat": 4,
 "nbformat_minor": 5
}
