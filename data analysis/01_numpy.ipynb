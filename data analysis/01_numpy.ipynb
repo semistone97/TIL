{
 "cells": [
  {
   "cell_type": "markdown",
   "id": "931bb6be",
   "metadata": {},
   "source": [
    "# **01_numpy.ipynb**\n",
    "\n",
    "- `데이터분석` : 데이터를 분석하여 의사결정에 도움을 준다.\n",
    "#### 통계 vs 데이터분석 vs 머신러닝\n",
    "   - 통계: 데이터를 **요약, 해석하는 수학**(평균, 분산)\n",
    "   - 데이터분석: **문제를 정의하고, 인사이트를 도출**(고객 구매 패턴 분석)\n",
    "   - 머신러닝: 데이터를 학습하여 **예측**(스팸함 분류, 추천)\n",
    "---\n",
    "#### 데이터 분석\n",
    "   - 의사결정 데이터 기반의 근거\n",
    "   - 패턴 발견, 예측(머신러닝)\n",
    "> ##### ***어떤 데이터를 어디까지 수집할 것인가?***\n",
    "\n",
    "#### DA Flow\n",
    "1. 문제 정의\n",
    "2. **데이터 수집**\n",
    "3. **데이터 정제(결측치, 이상치 지우기)**\n",
    "4. **탐색 - 시각화(평균, 분포, 상관관계, 막대그래프, 히스토그램)**\n",
    "5. 통계분석 및 해석(수학 -> 가설 검정, 회귀분석)\n",
    "6. 결론 도출\n",
    "\n",
    "#### Sheet vs DB vs Python\n",
    "- `Sheet` 편하고, 사전지식이 많이 필요하지 않음\n",
    "    - 대개는 여기정도면 됨\n",
    "- `DB`    대용량 CRUD 처리(억단위)\n",
    "- `Python` 시각화, 분석, 머신러닝\n",
    "\n",
    "#### 라이브러리\n",
    "- `numpy` : 빠름(수학, 통계, ***배열 연산***) ```파이썬 리스트 vs Numpy array 차이점```\n",
    "- `pandas`: 표(DataFrame) --> `numpy`기반으로 만들어짐\n",
    "- `matplotlib`: 시각화(그래프)\n",
    "- `seaborn`: 시각화 심화\n",
    "- `scipy`: 고급 통계, 수학 연산\n",
    "- `scikit-learn`: 머신러닝\n",
    "\n",
    "#### 배열 vs List\n",
    "> ##### ***이거는 gpt한테 물어보기***"
   ]
  },
  {
   "cell_type": "code",
   "execution_count": 5,
   "id": "1480ac21",
   "metadata": {},
   "outputs": [
    {
     "data": {
      "text/plain": [
       "[2, 4, 6, 8, 10]"
      ]
     },
     "execution_count": 5,
     "metadata": {},
     "output_type": "execute_result"
    }
   ],
   "source": [
    "# %pip install numpy\n",
    "# 이렇게 하면 설치됨(이거 콜랩에서 했던 거네)\n",
    "# 터미널 실행이랑 동일.\n",
    "python_list = [1, 2, 3, 4, 5]\n",
    "double = [x*2 for x in python_list]\n",
    "double"
   ]
  },
  {
   "cell_type": "code",
   "execution_count": 10,
   "id": "d6ece6af",
   "metadata": {},
   "outputs": [
    {
     "name": "stdout",
     "output_type": "stream",
     "text": [
      "[ 2  4  6  8 10]\n"
     ]
    }
   ],
   "source": [
    "import numpy as np\n",
    "array = np.array([1,2,3,4,5])    # 얘는 list가 아니라 ndarray임.(new type!)\n",
    "result = array * 2\n",
    "print(result)\n",
    "# numpy의 가장 큰 특징 : 행렬 내 모든 데이터의 type이 똑같아야 함"
   ]
  },
  {
   "cell_type": "code",
   "execution_count": 14,
   "id": "bf8eada6",
   "metadata": {},
   "outputs": [
    {
     "name": "stdout",
     "output_type": "stream",
     "text": [
      "[1 2 3 4 5] <class 'numpy.ndarray'>\n",
      "dimension 1\n",
      "shape (5,)\n",
      "size 5\n"
     ]
    }
   ],
   "source": [
    "arr = np.array([1, 2, 3, 4, 5])\n",
    "print(arr, type(arr))\n",
    "print('dimension', arr.ndim)\n",
    "print('shape', arr.shape)\n",
    "print('size', arr.size)"
   ]
  },
  {
   "cell_type": "code",
   "execution_count": 18,
   "id": "53799d83",
   "metadata": {},
   "outputs": [
    {
     "name": "stdout",
     "output_type": "stream",
     "text": [
      "[1 2 3 4 5]\n"
     ]
    }
   ],
   "source": [
    "arr1d = np.array([1, 2, 3, 4, 5])\n",
    "print(arr1d) # 쉼표는 신경 쓰지 마시게."
   ]
  },
  {
   "cell_type": "code",
   "execution_count": 27,
   "id": "3e680599",
   "metadata": {},
   "outputs": [
    {
     "name": "stdout",
     "output_type": "stream",
     "text": [
      "dimension 2\n",
      "shape (2, 3)\n",
      "size 6\n",
      "type int64\n"
     ]
    }
   ],
   "source": [
    "l2d = [\n",
    "    [1, 2, 3],\n",
    "    [4, 5, 6],\n",
    "]\n",
    "arr2d = np.array(l2d)\n",
    "arr2d\n",
    "print('dimension', arr2d.ndim)\n",
    "print('shape', arr2d.shape)\n",
    "print('size', arr2d.size)\n",
    "print('type', arr2d.dtype)"
   ]
  },
  {
   "cell_type": "code",
   "execution_count": 29,
   "id": "2b2f67b8",
   "metadata": {},
   "outputs": [
    {
     "data": {
      "text/plain": [
       "(array([1., 2., 3.]), dtype('float64'))"
      ]
     },
     "execution_count": 29,
     "metadata": {},
     "output_type": "execute_result"
    }
   ],
   "source": [
    "silsu = np.array([1, 2, 3], dtype = float)\n",
    "silsu, silsu.dtype"
   ]
  },
  {
   "cell_type": "code",
   "execution_count": 24,
   "id": "58343a29",
   "metadata": {},
   "outputs": [
    {
     "data": {
      "text/plain": [
       "array([0., 0., 0., 0., 0.])"
      ]
     },
     "execution_count": 24,
     "metadata": {},
     "output_type": "execute_result"
    }
   ],
   "source": [
    "np.zeros(5)"
   ]
  },
  {
   "cell_type": "code",
   "execution_count": 41,
   "id": "572dec13",
   "metadata": {},
   "outputs": [],
   "source": [
    "# 0으로 채움\n",
    "z1d = np.zeros(5)\n",
    "z2d = np.zeros((2, 3))\n",
    "\n",
    "# 1로 채움\n",
    "o1d = np.ones(7)\n",
    "o2d = np.ones((2, 3))\n",
    "\n",
    "# n으로 채움\n",
    "n1d = np.full(5, 7)\n",
    "n2d = np.full((2, 3), 7)\n",
    "n2d\n",
    "\n",
    "# 빈칸이지만 먼저 만듦\n",
    "empty = np.empty(3) # 이 안에 있는 내용은 의미가 없음(그냥 n칸짜리 데이터를 만든 것.\n"
   ]
  },
  {
   "cell_type": "code",
   "execution_count": 48,
   "id": "e5b44c1d",
   "metadata": {},
   "outputs": [
    {
     "data": {
      "text/plain": [
       "array([  1.        ,   3.16227766,  10.        ,  31.6227766 ,\n",
       "       100.        ])"
      ]
     },
     "execution_count": 48,
     "metadata": {},
     "output_type": "execute_result"
    }
   ],
   "source": [
    "# 시퀀스 데이터\n",
    "\n",
    "range_arr = np.arange(10, 20, 2)\n",
    "# np.array(range(10, 20, 2))랑 똑같음\n",
    "\n",
    "# 등간격 실수 배열\n",
    "lin_space = np.linspace(0, 1, 5)\n",
    "lin_space\n",
    "\n",
    "# 로그스케일?\n",
    "log_space = np.logspace(0, 2, 5)    # 10^0 ~ 10^2까지를 5등분.\n",
    "log_space\n"
   ]
  },
  {
   "cell_type": "code",
   "execution_count": 68,
   "id": "14d77168",
   "metadata": {},
   "outputs": [
    {
     "name": "stdout",
     "output_type": "stream",
     "text": [
      "[[0.59865848 0.15601864 0.15599452]\n",
      " [0.05808361 0.86617615 0.60111501]\n",
      " [0.70807258 0.02058449 0.96990985]]\n",
      "[[-0.46947439  0.54256004 -0.46341769]\n",
      " [-0.46572975  0.24196227 -1.91328024]\n",
      " [-1.72491783 -0.56228753 -1.01283112]]\n",
      "[[2 6 3]\n",
      " [8 2 4]\n",
      " [2 6 4]]\n"
     ]
    },
    {
     "data": {
      "text/plain": [
       "array([0.37454012, 0.95071431, 0.73199394])"
      ]
     },
     "execution_count": 68,
     "metadata": {},
     "output_type": "execute_result"
    }
   ],
   "source": [
    "# 난수 배열\n",
    "\n",
    "# 균등 분포 난수\n",
    "random = np.random.rand(3, 3)   # 랜덤수는 기본적으로 0 ~ 1사이의 랜덤한 값.\n",
    "print(random)\n",
    "\n",
    "# 정규 분포 난수\n",
    "normal = np.random.randn(3, 3)\n",
    "print(normal)\n",
    "\n",
    "# 난수 in 정수\n",
    "int_random = np.random.randint(0, 10, (3, 3))\n",
    "print(int_random)\n",
    "\n",
    "# 시드 설정(랜덤 재현 가능))\n",
    "np.random.seed(42) # 랜덤상황 42 고정\n",
    "np.random.rand(3)"
   ]
  },
  {
   "cell_type": "code",
   "execution_count": 77,
   "id": "5d54202c",
   "metadata": {},
   "outputs": [
    {
     "name": "stdout",
     "output_type": "stream",
     "text": [
      "int64\n",
      "float64\n",
      "float32\n",
      "[1.2 2.3 3.4] float64\n"
     ]
    }
   ],
   "source": [
    "# 배열의 데이터타입\n",
    "\n",
    "# 데이터타입 확인\n",
    "arr = np.array([1, 2, 3])\n",
    "print(arr.dtype)\n",
    "\n",
    "# 데이터 타입 지정 생성\n",
    "f_arr = np.array([1, 2, 3], dtype=np.float64)\n",
    "print(f_arr.dtype)\n",
    "\n",
    "# 데이터 타입 변경\n",
    "converted = arr.astype(np.float32)\n",
    "print(converted.dtype)\n",
    "\n",
    "# 문자열 -> 숫자\n",
    "str_arr = np.array(['1.2', '2.3', '3.4'])\n",
    "num_arr = str_arr.astype(float)\n",
    "print(num_arr, num_arr.dtype)"
   ]
  },
  {
   "cell_type": "code",
   "execution_count": 81,
   "id": "3c6b16a4",
   "metadata": {},
   "outputs": [
    {
     "name": "stdout",
     "output_type": "stream",
     "text": [
      "8\n",
      "4\n",
      "24\n",
      "12\n"
     ]
    },
    {
     "data": {
      "text/plain": [
       "'\\n데이터에 대한 고려사항\\n과학연산의 경우에는 가능한 길게 쓰는 것이 좋음.\\n'"
      ]
     },
     "execution_count": 81,
     "metadata": {},
     "output_type": "execute_result"
    }
   ],
   "source": [
    "#  메모리 사용량\n",
    "print(arr.itemsize) # int64 -> 8byte\n",
    "print(converted.itemsize) # float32 -> 4\n",
    "\n",
    "# 총 메모리 사용량\n",
    "print(arr.nbytes)\n",
    "print(converted.nbytes)\n",
    "\n",
    "\"\"\"\n",
    "데이터에 대한 고려사항\n",
    "과학연산의 경우에는 가능한 길게 쓰는 것이 좋음.\n",
    "\"\"\""
   ]
  },
  {
   "cell_type": "code",
   "execution_count": 88,
   "id": "f41eb70a",
   "metadata": {},
   "outputs": [
    {
     "data": {
      "text/plain": [
       "(array([[ 0,  1,  2,  3],\n",
       "        [ 4,  5,  6,  7],\n",
       "        [ 8,  9, 10, 11]]),\n",
       " array([[ 0,  1,  2,  3,  4,  5],\n",
       "        [ 6,  7,  8,  9, 10, 11]]))"
      ]
     },
     "execution_count": 88,
     "metadata": {},
     "output_type": "execute_result"
    }
   ],
   "source": [
    "# 배열 재구성하기.\n",
    "\n",
    "arr = np.arange(12)\n",
    "reshaped = arr.reshape(3, 4)\n",
    "reshaped3d = arr.reshape(2 * 2 * 3) # 2 x 3 짜리로 2페이지 개설\n",
    "\n",
    "# 자동계산\n",
    "auto1 = arr.reshape(3, -1) #  row 3개, col 알아서\n",
    "auto2 = arr.reshape(-1, 6) #  row 알아서, col 6개\n",
    "auto1, auto2"
   ]
  },
  {
   "cell_type": "code",
   "execution_count": 93,
   "id": "c866417d",
   "metadata": {},
   "outputs": [
    {
     "name": "stdout",
     "output_type": "stream",
     "text": [
      "[[ 0  1  2  3]\n",
      " [ 4  5  6  7]\n",
      " [ 8  9 10 11]]\n",
      "[ 0  1  2  3  4  5  6  7  8  9 10 11]\n"
     ]
    }
   ],
   "source": [
    "# reshape -> 원본 그대로 두고, 새로분 배열 만드는 것\n",
    "# resize  -> 원본을 바꿈\n",
    "arr = np.arange(12)\n",
    "reshaped = arr.reshape(3, 4)\n",
    "print(reshaped)\n",
    "print(arr)\n",
    "\n",
    "arr.resize(3, 4)"
   ]
  },
  {
   "cell_type": "code",
   "execution_count": 98,
   "id": "9d2bbbb9",
   "metadata": {},
   "outputs": [
    {
     "name": "stdout",
     "output_type": "stream",
     "text": [
      "[ 1  2  3  4  5  6  7  8  9 10 11 12 13 14 15]\n",
      "[1 3 5 7 9]\n",
      "[0.  0.6 1.2 1.8 2.4 3. ]\n"
     ]
    }
   ],
   "source": [
    "# 1 ~ 15의 정수배열\n",
    "print(np.arange(1, 16))\n",
    "\n",
    "# 0 ~ 10까지 홀수\n",
    "print(np.arange(1, 11, 2))\n",
    "\n",
    "# 0 ~ 1까지 균등 6등분\n",
    "print(np.linspace(0, 3, 6))"
   ]
  },
  {
   "cell_type": "code",
   "execution_count": 104,
   "id": "dbb9d1c6",
   "metadata": {},
   "outputs": [
    {
     "data": {
      "text/plain": [
       "array([[[0.11005192, 0.22793516, 0.42710779, 0.81801477],\n",
       "        [0.86073058, 0.00695213, 0.5107473 , 0.417411  ],\n",
       "        [0.22210781, 0.11986537, 0.33761517, 0.9429097 ]],\n",
       "\n",
       "       [[0.32320293, 0.51879062, 0.70301896, 0.3636296 ],\n",
       "        [0.97178208, 0.96244729, 0.2517823 , 0.49724851],\n",
       "        [0.30087831, 0.28484049, 0.03688695, 0.60956433]]])"
      ]
     },
     "execution_count": 104,
     "metadata": {},
     "output_type": "execute_result"
    }
   ],
   "source": [
    "# 4 * 4 단위행렬(identity matrix) -> 대각선1, 나머지 0\n",
    "np.eye(3)\n",
    "\n",
    "# 3 * 4 사이즈의 모든 원소 1로 가득찬 int 배열\n",
    "np.ones((3, 4), dtype = int)\n",
    "\n",
    "# 2 * 3 * 4 사이즈 0 ~ 1 난수배열\n",
    "np.random.rand(2, 3, 4) # 인자로 차원 지정 -> 오래된 버전에서 주로 씀\n",
    "np.random.random((2, 3, 4)) # 인자로 채원 지정 -> 최신 버전에서 자중 씀.\n",
    "# rand과 random의 차이"
   ]
  },
  {
   "cell_type": "code",
   "execution_count": 196,
   "id": "6ba76ac0",
   "metadata": {},
   "outputs": [
    {
     "name": "stdout",
     "output_type": "stream",
     "text": [
      "[[100   2   3]\n",
      " [  4   5   6]] [100   2   3   4   5   6] [-100    2    3    4    5    6]\n"
     ]
    },
    {
     "data": {
      "text/plain": [
       "(4647883024, 4649087984, 4647884176)"
      ]
     },
     "execution_count": 196,
     "metadata": {},
     "output_type": "execute_result"
    }
   ],
   "source": [
    "# N차원 -> 1차원\n",
    "\n",
    "arr = np.array([[1, 2, 3], [4, 5, 6]])\n",
    "r = arr.ravel() # VIEW: 원본이 연결되어 있음(아, 업데이트가 되는구나)\n",
    "f = arr.flatten()   # 복사본(얘는 업데이트 적용이 안 되는구나)\n",
    "\n",
    "r[0] = 100\n",
    "f[0] = -100\n",
    "\n",
    "print(arr, r, f) # 원본값을 바꾸진 않는 건가?\n",
    "id(arr), id(r), id(f)\n"
   ]
  },
  {
   "cell_type": "code",
   "execution_count": 202,
   "id": "bb05cc15",
   "metadata": {},
   "outputs": [
    {
     "name": "stdout",
     "output_type": "stream",
     "text": [
      "[[1 2 3]\n",
      " [4 5 6]]\n"
     ]
    },
    {
     "data": {
      "text/plain": [
       "array([[1, 4],\n",
       "       [2, 5],\n",
       "       [3, 6]])"
      ]
     },
     "execution_count": 202,
     "metadata": {},
     "output_type": "execute_result"
    }
   ],
   "source": [
    "# 전치행렬\n",
    "arr_2d = np.array([[1, 2, 3], [4, 5, 6]])\n",
    "arr_2d = np.arange(1, 7).reshape(2, 3)\n",
    "print(arr_2d)\n",
    "\n",
    "d2_rra = arr_2d.transpose()\n",
    "# 같은 거: arr_2d.T\n",
    "d2_rra\n",
    "# T 속성"
   ]
  },
  {
   "cell_type": "markdown",
   "id": "3786a159",
   "metadata": {},
   "source": [
    "# ***배열의 인덱싱/슬라이싱***\n",
    "*`arr`은 값은 바꿀 수 있지만 구조는 바꿀 수 없음*"
   ]
  },
  {
   "cell_type": "code",
   "execution_count": 114,
   "id": "ad5f2260",
   "metadata": {},
   "outputs": [
    {
     "name": "stdout",
     "output_type": "stream",
     "text": [
      "10 30 50 40\n",
      "100 30 50 40\n"
     ]
    }
   ],
   "source": [
    "# 생성\n",
    "arr = np.array([10, 20, 30, 40, 50])\n",
    "\n",
    "# 접근\n",
    "print(arr[0], arr[2], arr[-1], arr[-2])\n",
    "\n",
    "# 변경\n",
    "arr[0] = 100\n",
    "print(arr[0], arr[2], arr[-1], arr[-2])\n",
    "\n",
    "# 배열의 단점 : 자유롭지 않고 고정적임."
   ]
  },
  {
   "cell_type": "code",
   "execution_count": 123,
   "id": "6351e1cd",
   "metadata": {},
   "outputs": [
    {
     "name": "stdout",
     "output_type": "stream",
     "text": [
      "1\n",
      "1\n",
      "100\n"
     ]
    }
   ],
   "source": [
    "arr_2d = np.arange(1, 10).reshape(3, 3)\n",
    "arr_2d\n",
    "\n",
    "print(arr_2d[0][0]) # 이렇게 안 하고 한 번에 찾아가는 법\n",
    "\n",
    "# 쉼표로 여러 차원을 쉽게 접근할 수 있음(numpy에서만)\n",
    "print(arr_2d[0, 0]) \n",
    "\n",
    "#행 접근\n",
    "arr_2d[1]\n",
    "\n",
    "# 변경\n",
    "arr_2d[0, 0] = 100\n",
    "print(arr_2d[0, 0])"
   ]
  },
  {
   "cell_type": "code",
   "execution_count": 132,
   "id": "330f8e28",
   "metadata": {},
   "outputs": [
    {
     "name": "stdout",
     "output_type": "stream",
     "text": [
      "[2 3 4] [0 1 2 3 4] [5 6 7 8 9]\n",
      "[1 3 5 7] [0 2 4 6 8]\n",
      "[9 8 7 6 5 4 3 2 1 0] [7 6 5 4 3]\n",
      "[  0   1   2 100 100 100   6   7   8   9]\n"
     ]
    }
   ],
   "source": [
    "# 슬라이싱\n",
    "arr = np.arange(10)\n",
    "print(\n",
    "    arr[2:5],\n",
    "    arr[:5],\n",
    "    arr[5:]\n",
    ")\n",
    "\n",
    "print(\n",
    "    arr[1:8:2],\n",
    "    arr[::2]\n",
    ")\n",
    "\n",
    "print(\n",
    "    arr[::-1],\n",
    "    arr[7:2:-1]\n",
    ")\n",
    "\n",
    "# 슬라이싱 일괄 변경(파이썬은 불가능)\n",
    "arr[3:6] = 100\n",
    "print(arr)"
   ]
  },
  {
   "cell_type": "code",
   "execution_count": null,
   "id": "bd8f988e",
   "metadata": {},
   "outputs": [],
   "source": []
  },
  {
   "cell_type": "code",
   "execution_count": 133,
   "id": "fd1732c2",
   "metadata": {},
   "outputs": [
    {
     "ename": "TypeError",
     "evalue": "must assign iterable to extended slice",
     "output_type": "error",
     "traceback": [
      "\u001b[31m---------------------------------------------------------------------------\u001b[39m",
      "\u001b[31mTypeError\u001b[39m                                 Traceback (most recent call last)",
      "\u001b[36mCell\u001b[39m\u001b[36m \u001b[39m\u001b[32mIn[133]\u001b[39m\u001b[32m, line 3\u001b[39m\n\u001b[32m      1\u001b[39m \u001b[38;5;66;03m# 파이썬은 리스트 값 바꾸기 안 됨\u001b[39;00m\n\u001b[32m      2\u001b[39m l = [\u001b[32m1\u001b[39m, \u001b[32m2\u001b[39m, \u001b[32m3\u001b[39m, \u001b[32m4\u001b[39m]\n\u001b[32m----> \u001b[39m\u001b[32m3\u001b[39m \u001b[43ml\u001b[49m\u001b[43m[\u001b[49m\u001b[32;43m1\u001b[39;49m\u001b[43m:\u001b[49m\u001b[32;43m3\u001b[39;49m\u001b[43m]\u001b[49m = \u001b[32m100\u001b[39m\n",
      "\u001b[31mTypeError\u001b[39m: must assign iterable to extended slice"
     ]
    }
   ],
   "source": [
    "# 파이썬은 리스트 값 바꾸기 안 됨\n",
    "l = [1, 2, 3, 4]\n",
    "l[1:3] = 100"
   ]
  },
  {
   "cell_type": "code",
   "execution_count": 141,
   "id": "25e8d7af",
   "metadata": {},
   "outputs": [
    {
     "name": "stdout",
     "output_type": "stream",
     "text": [
      "[[ 1  2  3  4]\n",
      " [ 5  6  7  8]\n",
      " [ 9 10 11 12]]\n",
      "[[1 2 3 4]\n",
      " [5 6 7 8]]\n",
      "[[ 2  3]\n",
      " [ 6  7]\n",
      " [10 11]]\n",
      "[[ 5  6]\n",
      " [ 9 10]]\n",
      "[[ 1  3]\n",
      " [ 9 11]]\n"
     ]
    }
   ],
   "source": [
    "arr_2d = np.arange(1, 13).reshape(3, -1) # 참고로 이거 딱 떨어져야 함\n",
    "print(arr_2d)\n",
    "\n",
    "# row 슬라이싱\n",
    "print(arr_2d[0:2])\n",
    "\n",
    "# column 슬라이싱\n",
    "print(arr_2d[:, 1:3]) # 모든 행의 2, 3번째 열\n",
    "\n",
    "# row / col 동시 슬라이싱\n",
    "print(arr_2d[1:3, 0:2])\n",
    "\n",
    "# 와중에 간격 지정 가능\n",
    "print(arr_2d[::2, ::2])"
   ]
  },
  {
   "cell_type": "code",
   "execution_count": 150,
   "id": "625aca3e",
   "metadata": {},
   "outputs": [
    {
     "name": "stdout",
     "output_type": "stream",
     "text": [
      "[[  0   0   3 100]\n",
      " [  0   0   7 200]\n",
      " [  9  10  11 300]]\n",
      "[100 200 300]\n",
      "[[  0   0   3 100]\n",
      " [  0   0   7 200]\n",
      " [  9  10  11 300]]\n"
     ]
    }
   ],
   "source": [
    "# 다차원 배열 슬라이싱으로 변경\n",
    "print(arr_2d)\n",
    "\n",
    "# 부분배열 일괄 변경\n",
    "arr_2d[0:2, 0:2] = 0\n",
    "arr_2d # 바뀐다!\n",
    "\n",
    "# 브로드캐스팅(Broadcasting)\n",
    "# 열 교체\n",
    "    # 값 하나를 전체에 뿌리는 것.\n",
    "arr_2d[:,3] = [100, 200, 300]\n",
    "print(arr_2d[:,3])  # 오잉 벡터로 바뀌어서 나온다(why...?)\n",
    "print(arr_2d) # 열값으로 바꿈."
   ]
  },
  {
   "cell_type": "code",
   "execution_count": 160,
   "id": "d285bea2",
   "metadata": {},
   "outputs": [
    {
     "name": "stdout",
     "output_type": "stream",
     "text": [
      "[False False False  True  True] [1 2 3 4 5]\n",
      "[4 5]\n",
      "[4 5]\n",
      "[3]\n",
      "[1 5]\n"
     ]
    }
   ],
   "source": [
    "# boolean indexing\n",
    "    # 조건에 따라 배열 요소를 선택(필터링)\n",
    "arr = np.arange(1, 6)\n",
    "\n",
    "# 마스킹 -> T/F로 바꿈\n",
    "mask = arr > 3\n",
    "print(mask, arr)\n",
    "\n",
    "# 마스킹 배열로 필터링\n",
    "print(arr[mask])\n",
    "\n",
    "# 직접 조건을 걸 수 있음.\n",
    "print(arr[arr > 3])\n",
    "\n",
    "# 다중조건\n",
    "print(arr[(arr > 2) & (arr < 4)]) # and\n",
    "print(arr[(arr < 2) | (arr > 4)]) # or\n",
    "\n",
    "# & fancy indexing: "
   ]
  },
  {
   "cell_type": "code",
   "execution_count": 172,
   "id": "bde0fb25",
   "metadata": {},
   "outputs": [
    {
     "name": "stdout",
     "output_type": "stream",
     "text": [
      "[[False False False]\n",
      " [False False  True]\n",
      " [ True  True  True]]\n",
      "[6 7 8 9]\n",
      "[[1 2 3]\n",
      " [7 8 9]]\n",
      "[[1 3]\n",
      " [4 6]\n",
      " [7 9]]\n"
     ]
    }
   ],
   "source": [
    "# 2차원 배열 불리언 인덱싱\n",
    "arr_2d = np.arange(1, 10).reshape(3, 3)\n",
    "arr_2d\n",
    "\n",
    "mask = arr_2d > 5  # 하나짜리 연산을 전체 배열에 적용을 하니까 BROADCASTING\n",
    "print(arr_2d > 5)\n",
    "print(arr_2d[mask]) # 필터링하면 그냥 vector로 나옴\n",
    "\n",
    "# 조건에 맞는 행만 선택하는 법\n",
    "# 1\n",
    "arr_2d[:, 0:3:2]\n",
    "# 2\n",
    "row_mask = np.array([True, False, True])\n",
    "print(arr_2d[row_mask]) # 1 3 행 뽑기\n",
    "print(arr_2d[:, row_mask]) # 1 3 열 뽑기"
   ]
  },
  {
   "cell_type": "code",
   "execution_count": 180,
   "id": "fe885fff",
   "metadata": {},
   "outputs": [
    {
     "name": "stdout",
     "output_type": "stream",
     "text": [
      "[10 20 30 40 50]\n",
      "[10 10 20 20 30]\n",
      "[30 40 20 50 30 10]\n"
     ]
    }
   ],
   "source": [
    "arr = np.arange(10, 60, 10)\n",
    "print(arr)\n",
    "\n",
    "# arr[1, 2] -> 얘는 에러\n",
    "arr[[0, 1, 4]] # 이건 됨...?\n",
    "# 오 ㅅㅂ 그래서 fancy구나.\n",
    "# 대괄호 두 번 까먹지 마시라우요~\n",
    "\n",
    "# 중복 뽑기~\n",
    "print(arr[[0, 0 , 1, 1, 2]]) # 진짜 그냥 입력된 열의 숫자를 가져오네. 2차원은 되나?\n",
    "\n",
    "# 순서 바꾸기 ~\n",
    "print(arr[[2, 3, 1, 4, 2, 0]])"
   ]
  },
  {
   "cell_type": "code",
   "execution_count": 203,
   "id": "ddbb2dd0",
   "metadata": {},
   "outputs": [
    {
     "name": "stdout",
     "output_type": "stream",
     "text": [
      "[[1 2 3]\n",
      " [4 5 6]\n",
      " [7 8 9]]\n",
      "[1 6 8]\n",
      "[[3 1 2]\n",
      " [6 4 5]\n",
      " [9 7 8]]\n",
      "[[1 2 3]\n",
      " [4 5 6]\n",
      " [7 8 9]]\n"
     ]
    }
   ],
   "source": [
    "# 다차원 fancy indexing\n",
    "\n",
    "arr_2d = np.arange(1, 10).reshape(3, 3)\n",
    "print(arr_2d)\n",
    "\n",
    "print(\n",
    "    arr_2d[\n",
    "        [0, 1, 2],\n",
    "        [0, 2, 1]\n",
    "    ]\n",
    ") # 아 이게 (0, 0), (1, 2), (2, 1) 순서로 만든 벡터구나.\n",
    "\n",
    "# 행렬의 특정 열을 순서 바꾸기.\n",
    "print(arr_2d[ # 이건 근데 바꾼 게 아니라, 그냥 이렇게 보이게 출력한 거잖아여...\n",
    "    :,\n",
    "    [2, 0, 1]\n",
    "])\n",
    "\n",
    "print(arr_2d)"
   ]
  },
  {
   "cell_type": "markdown",
   "id": "112b86db",
   "metadata": {},
   "source": [
    "# **배열 <-> 배열 연산**"
   ]
  },
  {
   "cell_type": "code",
   "execution_count": 205,
   "id": "875d5b49",
   "metadata": {},
   "outputs": [
    {
     "name": "stdout",
     "output_type": "stream",
     "text": [
      "[ 6  8 10 12]\n",
      "[-4 -4 -4 -4]\n",
      "[ 5 12 21 32]\n",
      "[0.2        0.33333333 0.42857143 0.5       ]\n",
      "[ 1  4  9 16]\n",
      "[    1    64  2187 65536]\n"
     ]
    }
   ],
   "source": [
    "a = np.array([1, 2, 3, 4])\n",
    "b = np.array([5, 6, 7, 8])\n",
    "print(a + b)\n",
    "print(a - b)\n",
    "print(a * b)\n",
    "print(a / b)\n",
    "print(a ** 2)\n",
    "print(a ** b)"
   ]
  },
  {
   "cell_type": "code",
   "execution_count": 207,
   "id": "7631ac1e",
   "metadata": {},
   "outputs": [
    {
     "name": "stdout",
     "output_type": "stream",
     "text": [
      "[False False  True False]\n",
      "[ True  True  True False]\n",
      "[False  True False  True]\n"
     ]
    }
   ],
   "source": [
    "a = np.array([True, False, True, False])\n",
    "b = np.array([False, True, True, False])\n",
    "\n",
    "# 논리연산\n",
    "# AND\n",
    "print(a & b)\n",
    "# OR\n",
    "print(a | b)\n",
    "# NOT\n",
    "print(~a)"
   ]
  },
  {
   "cell_type": "markdown",
   "id": "558f3f5a",
   "metadata": {},
   "source": [
    "# ** 배열 <-> 스칼라(단일값) 연산 **\n",
    "> ###  Broadcasting"
   ]
  },
  {
   "cell_type": "code",
   "execution_count": 210,
   "id": "5237e4ad",
   "metadata": {},
   "outputs": [
    {
     "name": "stdout",
     "output_type": "stream",
     "text": [
      "[11 12 13 14 15]\n",
      "[0 1 2 3 4]\n",
      "[ 2  4  6  8 10]\n",
      "[0.5 1.  1.5 2.  2.5]\n",
      "[ 1  4  9 16 25]\n",
      "[False False False  True  True]\n",
      "[False  True False False False]\n"
     ]
    }
   ],
   "source": [
    "# 배열 생성\n",
    "arr = np.array([1, 2, 3, 4, 5])\n",
    "\n",
    "# 스칼라 덧셈\n",
    "print(arr + 10)     # [11 12 13 14 15]\n",
    "\n",
    "# 스칼라 뺄셈\n",
    "print(arr - 1)      # [0 1 2 3 4]\n",
    "\n",
    "# 스칼라 곱셈\n",
    "print(arr * 2)      # [2 4 6 8 10]\n",
    "\n",
    "# 스칼라 나눗셈\n",
    "print(arr / 2)      # [0.5 1.  1.5 2.  2.5]\n",
    "\n",
    "# 스칼라 거듭제곱\n",
    "print(arr ** 2)     # [ 1  4  9 16 25]\n",
    "\n",
    "# 스칼라 비교(불리언 배열)\n",
    "print(arr > 3)      # [False False False  True  True]\n",
    "print(arr == 2)     # [False  True False False False]"
   ]
  },
  {
   "cell_type": "markdown",
   "id": "30df2fed",
   "metadata": {},
   "source": [
    "### **Matrix <-> Scalar 연산**"
   ]
  },
  {
   "cell_type": "code",
   "execution_count": 212,
   "id": "4d90bb04",
   "metadata": {},
   "outputs": [
    {
     "name": "stdout",
     "output_type": "stream",
     "text": [
      "[[11 12 13]\n",
      " [14 15 16]]\n",
      "[[ 3  6  9]\n",
      " [12 15 18]]\n"
     ]
    }
   ],
   "source": [
    "# 2차원 배열\n",
    "arr_2d = np.array([[1, 2, 3], [4, 5, 6]])\n",
    "\n",
    "# 스칼라 연산\n",
    "print(arr_2d + 10)\n",
    "# [[11 12 13]\n",
    "#  [14 15 16]]\n",
    "\n",
    "print(arr_2d * 3)\n",
    "# [[ 3  6  9]\n",
    "#  [12 15 18]]"
   ]
  },
  {
   "cell_type": "markdown",
   "id": "f78d841d",
   "metadata": {},
   "source": [
    "### **Matrix <-> Vector** 연산"
   ]
  },
  {
   "cell_type": "code",
   "execution_count": 216,
   "id": "d9f49171",
   "metadata": {},
   "outputs": [
    {
     "name": "stdout",
     "output_type": "stream",
     "text": [
      "[[11 22 33]\n",
      " [14 25 36]]\n",
      "[[101 102 103]\n",
      " [204 205 206]]\n"
     ]
    }
   ],
   "source": [
    "matrix = np.array([[1, 2, 3], [4, 5,6]])\n",
    "vector = np.array([10, 20, 30])\n",
    "\n",
    "# 행렬 + 벡터\n",
    "print(matrix + vector)\n",
    "\n",
    "# 열 벡터 브로드캐스팅\n",
    "col_vec = np.array(\n",
    "    [\n",
    "        [100],\n",
    "        [200]\n",
    "    ]\n",
    ")\n",
    "\n",
    "print(matrix + col_vec)"
   ]
  },
  {
   "cell_type": "code",
   "execution_count": 219,
   "id": "074703d2",
   "metadata": {},
   "outputs": [
    {
     "ename": "ValueError",
     "evalue": "setting an array element with a sequence. The requested array has an inhomogeneous shape after 1 dimensions. The detected shape was (3,) + inhomogeneous part.",
     "output_type": "error",
     "traceback": [
      "\u001b[31m---------------------------------------------------------------------------\u001b[39m",
      "\u001b[31mValueError\u001b[39m                                Traceback (most recent call last)",
      "\u001b[36mCell\u001b[39m\u001b[36m \u001b[39m\u001b[32mIn[219]\u001b[39m\u001b[32m, line 1\u001b[39m\n\u001b[32m----> \u001b[39m\u001b[32m1\u001b[39m test_vc = \u001b[43mnp\u001b[49m\u001b[43m.\u001b[49m\u001b[43marray\u001b[49m\u001b[43m(\u001b[49m\u001b[43m[\u001b[49m\u001b[32;43m10\u001b[39;49m\u001b[43m,\u001b[49m\u001b[43m[\u001b[49m\u001b[43m-\u001b[49m\u001b[32;43m10\u001b[39;49m\u001b[43m]\u001b[49m\u001b[43m,\u001b[49m\u001b[43m[\u001b[49m\u001b[43m-\u001b[49m\u001b[32;43m20\u001b[39;49m\u001b[43m]\u001b[49m\u001b[43m]\u001b[49m\u001b[43m)\u001b[49m\n\u001b[32m      2\u001b[39m \u001b[38;5;28mprint\u001b[39m(matrix + test_vc)\n\u001b[32m      3\u001b[39m \u001b[38;5;66;03m# 줄을 안 맞추면 실행이 안 됨\u001b[39;00m\n",
      "\u001b[31mValueError\u001b[39m: setting an array element with a sequence. The requested array has an inhomogeneous shape after 1 dimensions. The detected shape was (3,) + inhomogeneous part."
     ]
    }
   ],
   "source": [
    "test_vc = np.array([10,[-10],[-20]])\n",
    "print(matrix + test_vc)\n",
    "# 줄을 안 맞추면 실행이 안 됨"
   ]
  },
  {
   "cell_type": "code",
   "execution_count": 224,
   "id": "56adc2dd",
   "metadata": {},
   "outputs": [
    {
     "name": "stdout",
     "output_type": "stream",
     "text": [
      "Matrix shape (2, 3)\n",
      "Vector shape (3,)\n",
      "Matrix + Vector [[11 22 33]\n",
      " [14 25 36]]\n"
     ]
    }
   ],
   "source": [
    "matrix = np.array([[1, 2, 3], [4, 5,6]])\n",
    "vector = np.array([10, 20, 30])\n",
    "\n",
    "print('Matrix shape', matrix.shape)\n",
    "print('Vector shape', vector.shape)\n",
    "print('Matrix + Vector', matrix + vector)\n",
    "# 1. Vector(3,) 앞에 1이 추가됨(열 개념을 만들어주는 것)\n",
    "# 2. Matrix(1, 3)으로 변환\n",
    "# 3. 기존 Matrix의 행 수만큼, Vector가 복제됨(기존 Matrix 사이즈의 행렬이 만들어짐)\n",
    "# 4. 두 개 더함.(올ㅋ)"
   ]
  },
  {
   "cell_type": "code",
   "execution_count": 226,
   "id": "d2254c6c",
   "metadata": {},
   "outputs": [
    {
     "name": "stdout",
     "output_type": "stream",
     "text": [
      "A + B 형태: (3, 2)\n",
      "[[2. 2.]\n",
      " [2. 2.]\n",
      " [2. 2.]]\n",
      "A + C 형태: (3, 2)\n",
      "[[2. 2.]\n",
      " [2. 2.]\n",
      " [2. 2.]]\n"
     ]
    }
   ],
   "source": [
    "# 브로드 캐스팅 가능한 경우(Shape 확인을 하자)\n",
    "\n",
    "A = np.ones((3, 2))       # 3x2 배열\n",
    "B = np.ones((2,))         # 길이 2인 1차원 배열 (1x2로 해석) (행벡터)\n",
    "C = np.ones((3, 1))       # 3x1 배열 (사실상 열벡터)\n",
    "\n",
    "print(\"A + B 형태:\", (A + B).shape)  # (3, 2) - B는 각 행에 브로드캐스팅\n",
    "print(A + B)\n",
    "\n",
    "\n",
    "print(\"A + C 형태:\", (A + C).shape)  # (3, 2) - C는 각 열에 브로드캐스팅\n",
    "print(A + C)"
   ]
  },
  {
   "cell_type": "code",
   "execution_count": 235,
   "id": "ee956fda",
   "metadata": {},
   "outputs": [
    {
     "name": "stdout",
     "output_type": "stream",
     "text": [
      "[1 2 3 4 5]\n",
      "[3 4]\n",
      "[  1   2 -17   4   5]\n",
      "[  1   2 -17   4   5] [100   2 -17   4   5]\n"
     ]
    }
   ],
   "source": [
    "# 뷰(원본 링크)와 복사본(아예 별개) 차이\n",
    "arr = np.arange(1, 6)\n",
    "print(arr)\n",
    "\n",
    "# 슬라이싱 -> 뷰 생성\n",
    "view = arr[2:4]\n",
    "# 참고로 파이썬 슬라이싱은 새로 만드는 거임.\n",
    "print(view) # 원본과 연결되어 있음.\n",
    "\n",
    "view[0] -= 20\n",
    "print(arr)\n",
    "\n",
    "# 복사본 만드는 법~\n",
    "copy = arr.copy() # copy는 매서드, 그렇다면 arr은 인스턴스\n",
    "copy[0] = 100\n",
    "print(arr, copy)"
   ]
  },
  {
   "cell_type": "code",
   "execution_count": 242,
   "id": "e37c934e",
   "metadata": {},
   "outputs": [
    {
     "name": "stdout",
     "output_type": "stream",
     "text": [
      "[2.5 4.5 6.5]\n",
      "[ 1.5  5.  10.5]\n",
      "[0.5 1.  1.5]\n",
      "[0 1 1]\n"
     ]
    }
   ],
   "source": [
    "# 연산 중 자동변환\n",
    "int_arr = np.array([1, 2, 3])\n",
    "float_arr = np.array([1.5, 2.5, 3.5])\n",
    "print(int_arr + float_arr)\n",
    "print(int_arr * float_arr)\n",
    "print(int_arr / 2) # 얘는 float\n",
    "print(int_arr // 2) # 얘는 int"
   ]
  },
  {
   "cell_type": "code",
   "execution_count": 274,
   "id": "6fc073a2",
   "metadata": {},
   "outputs": [
    {
     "name": "stdout",
     "output_type": "stream",
     "text": [
      "[ 64 144  36 100]\n",
      "[2.82842712 3.46410162 2.44948974 3.16227766] [2.82842712 3.46410162 2.44948974 3.16227766]\n",
      "[ 8 12 24 10]\n"
     ]
    }
   ],
   "source": [
    "arr1 = np.array([8, 12, 6, 10])\n",
    "arr2 = np.array([3, 4, 24, 2])\n",
    "print(arr1 ** 2)\n",
    "print(arr1 ** 0.5, np.sqrt(arr1)) # 둘 다 루트\n",
    "\n",
    "# 각 자리 최댓값만 모음\n",
    "print(np.maximum(arr1, arr2))"
   ]
  },
  {
   "cell_type": "code",
   "execution_count": 247,
   "id": "59d3f790",
   "metadata": {},
   "outputs": [
    {
     "name": "stdout",
     "output_type": "stream",
     "text": [
      "sin(x) = [0.00000000e+00 7.07106781e-01 1.00000000e+00 1.22464680e-16]\n",
      "cos(x) = [ 1.00000000e+00  7.07106781e-01  6.12323400e-17 -1.00000000e+00]\n",
      "tan(x) = [ 0.00000000e+00  1.00000000e+00  1.63312394e+16 -1.22464680e-16]\n",
      "arcsin(sin(x)) = [0.00000000e+00 7.85398163e-01 1.57079633e+00 1.22464680e-16]\n",
      "exp(y) = [ 2.71828183  7.3890561  20.08553692 54.59815003]\n",
      "log(y) = [0.         0.69314718 1.09861229 1.38629436]\n",
      "log10(y) = [0.         0.30103    0.47712125 0.60205999]\n",
      "log2(y) = [0.        1.        1.5849625 2.       ]\n",
      "sqrt(y) = [1.         1.41421356 1.73205081 2.        ]\n",
      "power(y, 2) = [ 1  4  9 16]\n",
      "abs(z) = [2 1 0 1 2]\n",
      "sign(z) = [-1 -1  0  1  1]\n",
      "floor(w) = [1. 2. 3. 4.]\n",
      "ceil(w) = [2. 3. 4. 5.]\n",
      "round(w) = [1. 3. 4. 5.]\n",
      "trunc(w) = [1. 2. 3. 4.]\n"
     ]
    }
   ],
   "source": [
    "# 테스트 배열\n",
    "x = np.array([0, np.pi/4, np.pi/2, np.pi])\n",
    "y = np.array([1, 2, 3, 4])\n",
    "\n",
    "# 삼각함수\n",
    "print(\"sin(x) =\", np.sin(x))  # [0., 0.70710678, 1., 0.]\n",
    "print(\"cos(x) =\", np.cos(x))  # [1., 0.70710678, 0., -1.]\n",
    "print(\"tan(x) =\", np.tan(x))  # [0., 1., 16331239353195370., 0.]\n",
    "\n",
    "# 역삼각함수\n",
    "print(\"arcsin(sin(x)) =\", np.arcsin(np.sin(x)))\n",
    "\n",
    "# 지수와 로그\n",
    "print(\"exp(y) =\", np.exp(y))  # [2.71828183, 7.3890561, 20.08553692, 54.59815003]\n",
    "print(\"log(y) =\", np.log(y))  # [0., 0.69314718, 1.09861229, 1.38629436]\n",
    "print(\"log10(y) =\", np.log10(y))  # [0., 0.30103, 0.47712125, 0.60205999]\n",
    "print(\"log2(y) =\", np.log2(y))  # [0., 1., 1.58496250, 2.]\n",
    "\n",
    "# 제곱근과 거듭제곱\n",
    "print(\"sqrt(y) =\", np.sqrt(y))  # [1., 1.41421356, 1.73205081, 2.]\n",
    "print(\"power(y, 2) =\", np.power(y, 2))  # [1, 4, 9, 16]\n",
    "\n",
    "# 절대값과 부호\n",
    "z = np.array([-2, -1, 0, 1, 2])\n",
    "print(\"abs(z) =\", np.abs(z))  # [2 1 0 1 2]\n",
    "print(\"sign(z) =\", np.sign(z))  # [-1 -1  0  1  1]\n",
    "\n",
    "# 소수점 처리\n",
    "w = np.array([1.2, 2.7, 3.5, 4.9])\n",
    "print(\"floor(w) =\", np.floor(w))  # [1. 2. 3. 4.] (내림)\n",
    "print(\"ceil(w) =\", np.ceil(w))   # [2. 3. 4. 5.] (올림)\n",
    "print(\"round(w) =\", np.round(w))  # [1. 3. 4. 5.] (반올림)\n",
    "print(\"trunc(w) =\", np.trunc(w))  # [1. 2. 3. 4.] (소수점 버림)"
   ]
  },
  {
   "cell_type": "code",
   "execution_count": 250,
   "id": "e227113b",
   "metadata": {},
   "outputs": [
    {
     "name": "stdout",
     "output_type": "stream",
     "text": [
      "합계: 45\n",
      "평균: 5.0\n",
      "최소값: 1\n",
      "최대값: 9\n",
      "표준편차: 2.581988897471611\n",
      "분산: 6.666666666666667\n",
      "행별 합계: [ 6 15 24]\n",
      "열별 합계: [12 15 18]\n",
      "행별 평균: [2. 5. 8.]\n",
      "열별 평균: [4. 5. 6.]\n",
      "행별 최소값: [1 4 7]\n",
      "열별 최소값: [1 2 3]\n"
     ]
    }
   ],
   "source": [
    "arr = np.array([\n",
    "    [1, 2, 3], \n",
    "    [4, 5, 6], \n",
    "    [7, 8, 9]\n",
    "])\n",
    "\n",
    "# 기본 집계\n",
    "print(\"합계:\", np.sum(arr))          # 45\n",
    "print(\"평균:\", np.mean(arr))         # 5.0\n",
    "print(\"최소값:\", np.min(arr))        # 1\n",
    "print(\"최대값:\", np.max(arr))        # 9\n",
    "print(\"표준편차:\", np.std(arr))      # 2.581988897471611\n",
    "print(\"분산:\", np.var(arr))          # 6.666666666666667\n",
    "\n",
    "# 축을 따라 집계\n",
    "print(\"행별 합계:\", np.sum(arr, axis=1))  # [ 6 15 24]\n",
    "print(\"열별 합계:\", np.sum(arr, axis=0))  # [12 15 18]\n",
    "print(\"행별 평균:\", np.mean(arr, axis=1))  # [2. 5. 8.] # (당연히) 평균은 float로 나온다.\n",
    "print(\"열별 평균:\", np.mean(arr, axis=0))  # [4. 5. 6.]\n",
    "print(\"행별 최소값:\", np.min(arr, axis=1))  # [1 4 7]\n",
    "print(\"열별 최소값:\", np.min(arr, axis=0))  # [1 2 3]"
   ]
  },
  {
   "cell_type": "code",
   "execution_count": 252,
   "id": "d82d1c9b",
   "metadata": {},
   "outputs": [
    {
     "name": "stdout",
     "output_type": "stream",
     "text": [
      "[[1 2 3]\n",
      " [4 5 6]\n",
      " [7 8 9]]\n",
      "누적 합계: [ 1  3  6 10 15 21 28 36 45]\n",
      "행별 누적 합계:\n",
      "[[ 1  3  6]\n",
      " [ 4  9 15]\n",
      " [ 7 15 24]]\n",
      "누적 곱: [     1      2      6     24    120    720   5040  40320 362880]\n",
      "중앙값: 5.0\n",
      "행별 중앙값: [2. 5. 8.]\n",
      "열별 중앙값: [4. 5. 6.]\n",
      "25% 백분위수: 3.0\n",
      "50% 백분위수: 5.0\n",
      "75% 백분위수: 7.0\n",
      "가중 평균: 6.5\n"
     ]
    }
   ],
   "source": [
    "print(arr)\n",
    "\n",
    "# 누적 합계 (cumulative sum)\n",
    "print(\"누적 합계:\", np.cumsum(arr))  # [ 1  3  6 10 15 21 28 36 45]\n",
    "print(\"행별 누적 합계:\")\n",
    "print(np.cumsum(arr, axis=1))\n",
    "# [[ 1  3  6]\n",
    "#  [ 4  9 15]\n",
    "#  [ 7 15 24]]\n",
    "\n",
    "# 누적 곱 (cumulative product) factorial!\n",
    "print(\"누적 곱:\", np.cumprod(arr))  # [1 2 6 24 120 720 5040 40320 362880]\n",
    "\n",
    "# 중앙값 (median)\n",
    "print(\"중앙값:\", np.median(arr))        # 5.0\n",
    "print(\"행별 중앙값:\", np.median(arr, axis=1))  # [2. 5. 8.]\n",
    "print(\"열별 중앙값:\", np.median(arr, axis=0))  # [4. 5. 6.]\n",
    "\n",
    "# 백분위수 (percentile)\n",
    "print(\"25% 백분위수:\", np.percentile(arr, 25))  # 3.0\n",
    "print(\"50% 백분위수:\", np.percentile(arr, 50))  # 5.0 (중앙값과 동일)\n",
    "print(\"75% 백분위수:\", np.percentile(arr, 75))  # 7.0\n",
    "\n",
    "# 가중 평균 (weighted average)\n",
    "weights = np.array([0.1, 0.3, 0.6])  # 가중치\n",
    "data = np.array([2, 5, 8])\n",
    "print(\"가중 평균:\", np.average(data, weights=weights))  # 6.1"
   ]
  },
  {
   "cell_type": "markdown",
   "id": "d4455b88",
   "metadata": {},
   "source": [
    "#### **배열분할**"
   ]
  },
  {
   "cell_type": "code",
   "execution_count": 254,
   "id": "b27fca5e",
   "metadata": {},
   "outputs": [
    {
     "name": "stdout",
     "output_type": "stream",
     "text": [
      "3개로 균등 분할:\n",
      "[array([0, 1, 2, 3]), array([4, 5, 6, 7]), array([ 8,  9, 10, 11])]\n",
      "위치 지정 분할 (인덱스 3, 8 기준):\n",
      "[array([0, 1, 2]), array([3, 4, 5, 6, 7]), array([ 8,  9, 10, 11])]\n",
      "2차원 배열:\n",
      "[[ 0  1  2  3]\n",
      " [ 4  5  6  7]\n",
      " [ 8  9 10 11]\n",
      " [12 13 14 15]]\n",
      "행 방향 분할:\n",
      "[array([[0, 1, 2, 3],\n",
      "       [4, 5, 6, 7]]), array([[ 8,  9, 10, 11],\n",
      "       [12, 13, 14, 15]])]\n",
      "[array([[0, 1, 2, 3],\n",
      "       [4, 5, 6, 7]]), array([[ 8,  9, 10, 11],\n",
      "       [12, 13, 14, 15]])]\n",
      "열 방향 분할:\n",
      "[array([[ 0,  1],\n",
      "       [ 4,  5],\n",
      "       [ 8,  9],\n",
      "       [12, 13]]), array([[ 2,  3],\n",
      "       [ 6,  7],\n",
      "       [10, 11],\n",
      "       [14, 15]])]\n",
      "[array([[ 0,  1],\n",
      "       [ 4,  5],\n",
      "       [ 8,  9],\n",
      "       [12, 13]]), array([[ 2,  3],\n",
      "       [ 6,  7],\n",
      "       [10, 11],\n",
      "       [14, 15]])]\n"
     ]
    }
   ],
   "source": [
    "# 샘플 배열\n",
    "arr = np.arange(12)  # [ 0  1  2  3  4  5  6  7  8  9 10 11]\n",
    "\n",
    "# 균등 분할\n",
    "print(\"3개로 균등 분할:\") # 딱 떨어지게 분할해야 함.\n",
    "print(np.split(arr, 3))  # [array([0, 1, 2, 3]), array([4, 5, 6, 7]), array([ 8,  9, 10, 11])]\n",
    "\n",
    "# 위치 지정 분할\n",
    "print(\"위치 지정 분할 (인덱스 3, 8 기준):\")\n",
    "print(np.split(arr, [3, 8]))  # [array([0, 1, 2]), array([3, 4, 5, 6, 7]), array([ 8,  9, 10, 11])]\n",
    "\n",
    "# 2차원 배열 분할\n",
    "arr_2d = np.arange(16).reshape(4, 4)\n",
    "print(\"2차원 배열:\")\n",
    "print(arr_2d)\n",
    "\n",
    "# 행 방향 분할\n",
    "print(\"행 방향 분할:\")\n",
    "print(np.split(arr_2d, 2, axis=0))  # 2개 배열로 (각 2x4)\n",
    "print(np.vsplit(arr_2d, 2))  # 동일한 결과\n",
    "\n",
    "# 열 방향 분할\n",
    "print(\"열 방향 분할:\")\n",
    "print(np.split(arr_2d, 2, axis=1))  # 2개 배열로 (각 4x2)\n",
    "print(np.hsplit(arr_2d, 2))  # 동일한 결과"
   ]
  },
  {
   "cell_type": "code",
   "execution_count": 266,
   "id": "f1750e26",
   "metadata": {},
   "outputs": [
    {
     "name": "stdout",
     "output_type": "stream",
     "text": [
      "[1 2 3 4]\n",
      "[[1 2 3 4]]\n",
      "[[1]\n",
      " [2]\n",
      " [3]\n",
      " [4]]\n",
      "[[1 2 3 4]]\n",
      "[[1]\n",
      " [2]\n",
      " [3]\n",
      " [4]]\n",
      "[[ 0  1  2  3]\n",
      " [ 4  5  6  7]\n",
      " [ 8  9 10 11]\n",
      " [12 13 14 15]]\n",
      "[[ 1  3  5  7]\n",
      " [ 5  7  9 11]\n",
      " [ 9 11 13 15]\n",
      " [13 15 17 19]]\n",
      "[[ 1  2  3  4]\n",
      " [ 6  7  8  9]\n",
      " [11 12 13 14]\n",
      " [16 17 18 19]]\n"
     ]
    }
   ],
   "source": [
    "arr = np.array([1, 2, 3, 4])\n",
    "print(arr)\n",
    "\n",
    "# row vector로 만들겠다. -> [[1, 2, 3, 4]]\n",
    "row_vector = np.expand_dims(arr, axis = 0)\n",
    "print(row_vector)\n",
    "# 이딴 짓을 굳이 하는 이유는??? Vector의 차원을 확장하는 것. 엣 그러면 차원 확장하게 되면 브로드캐스팅 안 되나? 해보자.\n",
    "\n",
    "# col_vector 만들기\n",
    "col_vector = np.expand_dims(arr, axis = 1)\n",
    "print(col_vector)\n",
    "# 이건 좀 쓸모 있겠다.\n",
    "\n",
    "# 구버전 row_vec 만들기\n",
    "row_vector2 = arr[np.newaxis, :]\n",
    "print(row_vector2)\n",
    "\n",
    "# 구버전 col_vec 만들기\n",
    "col_vector2 = arr[:, np.newaxis]\n",
    "print(col_vector2)\n",
    "\n",
    "# 엣 그러면 차원 확장하게 되면 브로드캐스팅 안 되나? 해보자.\n",
    "matrix = np.arange(16).reshape(4,4)\n",
    "print(matrix)\n",
    "print(matrix + row_vector)\n",
    "print(matrix + col_vector)"
   ]
  },
  {
   "cell_type": "markdown",
   "id": "a2ad3923",
   "metadata": {},
   "source": [
    "### **행렬의 차원축소**"
   ]
  },
  {
   "cell_type": "code",
   "execution_count": 273,
   "id": "628a62b2",
   "metadata": {},
   "outputs": [
    {
     "name": "stdout",
     "output_type": "stream",
     "text": [
      "[[[1]\n",
      "  [2]\n",
      "  [3]]] (1, 3, 1)\n",
      "[1 2 3] \n",
      " \n",
      "\n",
      "[[[1 2 3]]] (1, 1, 3)\n",
      "[[1 2 3]]\n"
     ]
    }
   ],
   "source": [
    "arr = np.array([[[1], [2], [3]]])   # 뭔 짓이야...\n",
    "print(arr, arr.shape)\n",
    "\n",
    "# 모든 단일차원(shape 안에서 1이 나오는 것들)을 제거.\n",
    "print(np.squeeze(arr), '\\n', '\\n')\n",
    "\n",
    "# 특정 축만 제거\n",
    "arr2 = np.array([[[1, 2, 3]]])\n",
    "print(arr2, arr2.shape) # 1 1 3\n",
    "print(np.squeeze(arr2, axis = 1)) # 1 (1) 3\n",
    "# axis에 할당된 차원을 지움."
   ]
  },
  {
   "cell_type": "markdown",
   "id": "72fa7f64",
   "metadata": {},
   "source": [
    "### **Broadcasting 관련**\n",
    "https://numpy.org/doc/stable/user/basics.broadcasting.html\n"
   ]
  }
 ],
 "metadata": {
  "kernelspec": {
   "display_name": "3.13.2",
   "language": "python",
   "name": "python3"
  },
  "language_info": {
   "codemirror_mode": {
    "name": "ipython",
    "version": 3
   },
   "file_extension": ".py",
   "mimetype": "text/x-python",
   "name": "python",
   "nbconvert_exporter": "python",
   "pygments_lexer": "ipython3",
   "version": "3.13.2"
  }
 },
 "nbformat": 4,
 "nbformat_minor": 5
}
