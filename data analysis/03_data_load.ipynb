{
 "cells": [
  {
   "cell_type": "markdown",
   "id": "e7bb1da6",
   "metadata": {},
   "source": [
    "# `03_data_load`"
   ]
  },
  {
   "cell_type": "markdown",
   "id": "cdc5f331",
   "metadata": {},
   "source": [
    "## CSV Load & Save"
   ]
  },
  {
   "cell_type": "code",
   "execution_count": 4,
   "id": "e8e526ec",
   "metadata": {},
   "outputs": [
    {
     "name": "stdout",
     "output_type": "stream",
     "text": [
      "번호,도서명,저자,출판사,발행년도,ISBN,세트 ISBN,부가기호,권,주제분류번호,도서권수,대출건수,등록일자,\n",
      "\n"
     ]
    }
   ],
   "source": [
    "# 파이썬으로 파일 불러오는 법\n",
    "with open('./namsan.csv', encoding='EUC KR') as f:\n",
    "    print(f.readline())\n",
    "# UnicodeDecodeError: 'utf-8' codec can't decode byte 0xb9 in position 0: invalid start byte\n",
    "# 원래 이렇게 인코딩 오류가 나는 게 기본임."
   ]
  },
  {
   "cell_type": "code",
   "execution_count": 10,
   "id": "056cb58b",
   "metadata": {},
   "outputs": [
    {
     "name": "stderr",
     "output_type": "stream",
     "text": [
      "/var/folders/tx/t7px7cn503bgk6zlg3m0b4740000gn/T/ipykernel_8454/412255860.py:6: DtypeWarning: Columns (9) have mixed types. Specify dtype option on import or set low_memory=False.\n",
      "  df = pd.read_csv('./namsan.csv', encoding='EUC KR', dtype={\n"
     ]
    }
   ],
   "source": [
    "# pandas로 csv -> dataframe으로 불러오기.\n",
    "import pandas as pd\n",
    "\n",
    "# 인코딩은 파일 불러올 떄 매우 중요함\n",
    "df = pd.read_csv('./namsan.csv', encoding='EUC KR', low_memory=False)\n",
    "df = pd.read_csv('./namsan.csv', encoding='EUC KR', dtype={\n",
    "    'ISBN': str,\n",
    "    '세트 ISBN': str,\n",
    "    '주제분류변호': str\n",
    "})"
   ]
  },
  {
   "cell_type": "code",
   "execution_count": 11,
   "id": "4d0a2ba1",
   "metadata": {},
   "outputs": [
    {
     "data": {
      "text/plain": [
       "번호               int64\n",
       "도서명             object\n",
       "저자              object\n",
       "출판사             object\n",
       "발행년도            object\n",
       "ISBN            object\n",
       "세트 ISBN         object\n",
       "부가기호            object\n",
       "권               object\n",
       "주제분류번호          object\n",
       "도서권수             int64\n",
       "대출건수             int64\n",
       "등록일자            object\n",
       "Unnamed: 13    float64\n",
       "dtype: object"
      ]
     },
     "execution_count": 11,
     "metadata": {},
     "output_type": "execute_result"
    }
   ],
   "source": [
    "df.dtypes"
   ]
  },
  {
   "cell_type": "code",
   "execution_count": 12,
   "id": "2fe52529",
   "metadata": {},
   "outputs": [
    {
     "data": {
      "text/html": [
       "<div>\n",
       "<style scoped>\n",
       "    .dataframe tbody tr th:only-of-type {\n",
       "        vertical-align: middle;\n",
       "    }\n",
       "\n",
       "    .dataframe tbody tr th {\n",
       "        vertical-align: top;\n",
       "    }\n",
       "\n",
       "    .dataframe thead th {\n",
       "        text-align: right;\n",
       "    }\n",
       "</style>\n",
       "<table border=\"1\" class=\"dataframe\">\n",
       "  <thead>\n",
       "    <tr style=\"text-align: right;\">\n",
       "      <th></th>\n",
       "      <th>번호</th>\n",
       "      <th>도서권수</th>\n",
       "      <th>대출건수</th>\n",
       "      <th>Unnamed: 13</th>\n",
       "    </tr>\n",
       "  </thead>\n",
       "  <tbody>\n",
       "    <tr>\n",
       "      <th>count</th>\n",
       "      <td>455556.000000</td>\n",
       "      <td>455556.000000</td>\n",
       "      <td>455556.000000</td>\n",
       "      <td>0.0</td>\n",
       "    </tr>\n",
       "    <tr>\n",
       "      <th>mean</th>\n",
       "      <td>227778.500000</td>\n",
       "      <td>1.127306</td>\n",
       "      <td>11.883617</td>\n",
       "      <td>NaN</td>\n",
       "    </tr>\n",
       "    <tr>\n",
       "      <th>std</th>\n",
       "      <td>131507.833953</td>\n",
       "      <td>0.455262</td>\n",
       "      <td>18.157195</td>\n",
       "      <td>NaN</td>\n",
       "    </tr>\n",
       "    <tr>\n",
       "      <th>min</th>\n",
       "      <td>1.000000</td>\n",
       "      <td>1.000000</td>\n",
       "      <td>0.000000</td>\n",
       "      <td>NaN</td>\n",
       "    </tr>\n",
       "    <tr>\n",
       "      <th>25%</th>\n",
       "      <td>113889.750000</td>\n",
       "      <td>1.000000</td>\n",
       "      <td>2.000000</td>\n",
       "      <td>NaN</td>\n",
       "    </tr>\n",
       "    <tr>\n",
       "      <th>50%</th>\n",
       "      <td>227778.500000</td>\n",
       "      <td>1.000000</td>\n",
       "      <td>6.000000</td>\n",
       "      <td>NaN</td>\n",
       "    </tr>\n",
       "    <tr>\n",
       "      <th>75%</th>\n",
       "      <td>341667.250000</td>\n",
       "      <td>1.000000</td>\n",
       "      <td>15.000000</td>\n",
       "      <td>NaN</td>\n",
       "    </tr>\n",
       "    <tr>\n",
       "      <th>max</th>\n",
       "      <td>455556.000000</td>\n",
       "      <td>40.000000</td>\n",
       "      <td>1909.000000</td>\n",
       "      <td>NaN</td>\n",
       "    </tr>\n",
       "  </tbody>\n",
       "</table>\n",
       "</div>"
      ],
      "text/plain": [
       "                  번호           도서권수           대출건수  Unnamed: 13\n",
       "count  455556.000000  455556.000000  455556.000000          0.0\n",
       "mean   227778.500000       1.127306      11.883617          NaN\n",
       "std    131507.833953       0.455262      18.157195          NaN\n",
       "min         1.000000       1.000000       0.000000          NaN\n",
       "25%    113889.750000       1.000000       2.000000          NaN\n",
       "50%    227778.500000       1.000000       6.000000          NaN\n",
       "75%    341667.250000       1.000000      15.000000          NaN\n",
       "max    455556.000000      40.000000    1909.000000          NaN"
      ]
     },
     "execution_count": 12,
     "metadata": {},
     "output_type": "execute_result"
    }
   ],
   "source": [
    "df.describe()\n",
    "# (이 파일은 아닌데) 일부 csv 파일에 column이 없는 경우가 있음.\n",
    "# 그럴 때는 헤더를 지정해줘야 함.\n",
    "\n",
    "# unnamed?: csv 마지막에 column이 있어서 그럼"
   ]
  },
  {
   "cell_type": "code",
   "execution_count": 16,
   "id": "c60da678",
   "metadata": {},
   "outputs": [],
   "source": [
    "df.to_csv('./test.csv', encoding='utf-8', index=False)\n",
    "# 이렇게 하면 index를 csv내에 같이 저장함."
   ]
  },
  {
   "cell_type": "markdown",
   "id": "b22ba4d1",
   "metadata": {},
   "source": [
    "# Web API Load"
   ]
  },
  {
   "cell_type": "code",
   "execution_count": null,
   "id": "f2d63b93",
   "metadata": {},
   "outputs": [
    {
     "name": "stdout",
     "output_type": "stream",
     "text": [
      "<class 'str'> <class 'dict'>\n"
     ]
    }
   ],
   "source": [
    "# Data Parsing (Parse) -> 해석 [json -> dict]\n",
    "json_data = '{\"a\":1, \"b\":2}'\n",
    "# json의 키값은 언제나 쌍따옴표여야 함.\n",
    "\n",
    "# json_data는 아직 doc로 파싱(해석/분석)되지 않았음.\n",
    "# json_data['a'] # Error\n",
    "\n",
    "import json\n",
    "dict_data = json.loads(json_data)\n",
    "\n",
    "print(type(json_data), type(dict_data))"
   ]
  },
  {
   "cell_type": "code",
   "execution_count": 24,
   "id": "a9ecda1c",
   "metadata": {},
   "outputs": [],
   "source": [
    "# Data Serializing -> 직렬화 [dict -> json]\n",
    "dict_data = {'a': 1,'b': 2}\n",
    "\n",
    "import json\n",
    "json_data = json.dumps(dict_data)"
   ]
  },
  {
   "cell_type": "code",
   "execution_count": null,
   "id": "e315e132",
   "metadata": {},
   "outputs": [],
   "source": [
    "# 인증키 : \t16ac69fd8f3ba2027af67b42bdc846e7dad464164277e2be8ea0ccdc456fe2f3"
   ]
  }
 ],
 "metadata": {
  "kernelspec": {
   "display_name": "3.13.2",
   "language": "python",
   "name": "python3"
  },
  "language_info": {
   "codemirror_mode": {
    "name": "ipython",
    "version": 3
   },
   "file_extension": ".py",
   "mimetype": "text/x-python",
   "name": "python",
   "nbconvert_exporter": "python",
   "pygments_lexer": "ipython3",
   "version": "3.13.2"
  }
 },
 "nbformat": 4,
 "nbformat_minor": 5
}
